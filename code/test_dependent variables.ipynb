{
 "cells": [
  {
   "cell_type": "code",
   "execution_count": 1,
   "metadata": {},
   "outputs": [],
   "source": [
    "# imports\n",
    "import numpy as np\n",
    "import pandas as pd\n",
    "import matplotlib.pyplot as plt\n",
    "import seaborn as sns\n",
    "\n",
    "# Import train_test_split. Crossval score. Gridsearch CV\n",
    "from sklearn.model_selection import train_test_split, cross_val_score, GridSearchCV, StratifiedKFold\n",
    "\n",
    "# Import metrics\n",
    "from sklearn import metrics\n",
    "\n",
    "# Import Pipeline\n",
    "from sklearn.pipeline import Pipeline\n",
    "\n",
    "# Import models\n",
    "\n",
    "from sklearn.ensemble import RandomForestClassifier, ExtraTreesClassifier\n",
    "from sklearn.naive_bayes import MultinomialNB\n",
    "from sklearn.metrics import confusion_matrix, plot_confusion_matrix\n",
    "from sklearn.tree import DecisionTreeClassifier\n",
    "from sklearn.ensemble import BaggingClassifier\n",
    "from sklearn.ensemble import AdaBoostClassifier, GradientBoostingClassifier, VotingClassifier\n",
    "\n",
    "\n",
    "# Import CountVectorizer and TFIDFVectorizer from feature_extraction.text.\n",
    "from sklearn.feature_extraction.text import CountVectorizer, TfidfVectorizer\n",
    "from sklearn.datasets import make_classification\n",
    "\n",
    "from sklearn.metrics import classification_report, accuracy_score\n",
    "\n",
    "from sklearn.svm import LinearSVC, SVC"
   ]
  },
  {
   "cell_type": "code",
   "execution_count": 2,
   "metadata": {},
   "outputs": [],
   "source": [
    "df = pd.read_csv('../data/clean_data_state_response.csv')\n",
    "df_text = pd.read_csv('../data/numeric_text_combined_state_response.csv')"
   ]
  },
  {
   "cell_type": "code",
   "execution_count": 3,
   "metadata": {
    "scrolled": true
   },
   "outputs": [
    {
     "data": {
      "text/html": [
       "<div>\n",
       "<style scoped>\n",
       "    .dataframe tbody tr th:only-of-type {\n",
       "        vertical-align: middle;\n",
       "    }\n",
       "\n",
       "    .dataframe tbody tr th {\n",
       "        vertical-align: top;\n",
       "    }\n",
       "\n",
       "    .dataframe thead th {\n",
       "        text-align: right;\n",
       "    }\n",
       "</style>\n",
       "<table border=\"1\" class=\"dataframe\">\n",
       "  <thead>\n",
       "    <tr style=\"text-align: right;\">\n",
       "      <th></th>\n",
       "      <th>protestnumber</th>\n",
       "      <th>protesterviolence</th>\n",
       "      <th>participants</th>\n",
       "      <th>notes</th>\n",
       "      <th>accomodation</th>\n",
       "      <th>arrests</th>\n",
       "      <th>beatings</th>\n",
       "      <th>crowd dispersal</th>\n",
       "      <th>ignore</th>\n",
       "      <th>killings</th>\n",
       "      <th>...</th>\n",
       "      <th>year_2017</th>\n",
       "      <th>year_2018</th>\n",
       "      <th>year_2019</th>\n",
       "      <th>region_Asia</th>\n",
       "      <th>region_Central America</th>\n",
       "      <th>region_Europe</th>\n",
       "      <th>region_MENA</th>\n",
       "      <th>region_North America</th>\n",
       "      <th>region_Oceania</th>\n",
       "      <th>region_South America</th>\n",
       "    </tr>\n",
       "  </thead>\n",
       "  <tbody>\n",
       "    <tr>\n",
       "      <th>0</th>\n",
       "      <td>1</td>\n",
       "      <td>0.0</td>\n",
       "      <td>3000</td>\n",
       "      <td>Canada s railway passenger system was finally...</td>\n",
       "      <td>0</td>\n",
       "      <td>0</td>\n",
       "      <td>0</td>\n",
       "      <td>0</td>\n",
       "      <td>1</td>\n",
       "      <td>0</td>\n",
       "      <td>...</td>\n",
       "      <td>0</td>\n",
       "      <td>0</td>\n",
       "      <td>0</td>\n",
       "      <td>0</td>\n",
       "      <td>0</td>\n",
       "      <td>0</td>\n",
       "      <td>0</td>\n",
       "      <td>1</td>\n",
       "      <td>0</td>\n",
       "      <td>0</td>\n",
       "    </tr>\n",
       "    <tr>\n",
       "      <th>1</th>\n",
       "      <td>2</td>\n",
       "      <td>0.0</td>\n",
       "      <td>1000</td>\n",
       "      <td>protestors were only identified as  young peop...</td>\n",
       "      <td>0</td>\n",
       "      <td>0</td>\n",
       "      <td>0</td>\n",
       "      <td>0</td>\n",
       "      <td>1</td>\n",
       "      <td>0</td>\n",
       "      <td>...</td>\n",
       "      <td>0</td>\n",
       "      <td>0</td>\n",
       "      <td>0</td>\n",
       "      <td>0</td>\n",
       "      <td>0</td>\n",
       "      <td>0</td>\n",
       "      <td>0</td>\n",
       "      <td>1</td>\n",
       "      <td>0</td>\n",
       "      <td>0</td>\n",
       "    </tr>\n",
       "    <tr>\n",
       "      <th>2</th>\n",
       "      <td>3</td>\n",
       "      <td>0.0</td>\n",
       "      <td>500</td>\n",
       "      <td>THE Queen, after calling on Canadians to rema...</td>\n",
       "      <td>0</td>\n",
       "      <td>0</td>\n",
       "      <td>0</td>\n",
       "      <td>0</td>\n",
       "      <td>1</td>\n",
       "      <td>0</td>\n",
       "      <td>...</td>\n",
       "      <td>0</td>\n",
       "      <td>0</td>\n",
       "      <td>0</td>\n",
       "      <td>0</td>\n",
       "      <td>0</td>\n",
       "      <td>0</td>\n",
       "      <td>0</td>\n",
       "      <td>1</td>\n",
       "      <td>0</td>\n",
       "      <td>0</td>\n",
       "    </tr>\n",
       "    <tr>\n",
       "      <th>3</th>\n",
       "      <td>4</td>\n",
       "      <td>1.0</td>\n",
       "      <td>300</td>\n",
       "      <td>Canada s federal government has agreed to acq...</td>\n",
       "      <td>1</td>\n",
       "      <td>0</td>\n",
       "      <td>0</td>\n",
       "      <td>0</td>\n",
       "      <td>0</td>\n",
       "      <td>0</td>\n",
       "      <td>...</td>\n",
       "      <td>0</td>\n",
       "      <td>0</td>\n",
       "      <td>0</td>\n",
       "      <td>0</td>\n",
       "      <td>0</td>\n",
       "      <td>0</td>\n",
       "      <td>0</td>\n",
       "      <td>1</td>\n",
       "      <td>0</td>\n",
       "      <td>0</td>\n",
       "    </tr>\n",
       "    <tr>\n",
       "      <th>4</th>\n",
       "      <td>5</td>\n",
       "      <td>1.0</td>\n",
       "      <td>950</td>\n",
       "      <td>Protests were directed against the state due t...</td>\n",
       "      <td>1</td>\n",
       "      <td>1</td>\n",
       "      <td>0</td>\n",
       "      <td>1</td>\n",
       "      <td>0</td>\n",
       "      <td>0</td>\n",
       "      <td>...</td>\n",
       "      <td>0</td>\n",
       "      <td>0</td>\n",
       "      <td>0</td>\n",
       "      <td>0</td>\n",
       "      <td>0</td>\n",
       "      <td>0</td>\n",
       "      <td>0</td>\n",
       "      <td>1</td>\n",
       "      <td>0</td>\n",
       "      <td>0</td>\n",
       "    </tr>\n",
       "  </tbody>\n",
       "</table>\n",
       "<p>5 rows × 222 columns</p>\n",
       "</div>"
      ],
      "text/plain": [
       "   protestnumber  protesterviolence  participants  \\\n",
       "0              1                0.0          3000   \n",
       "1              2                0.0          1000   \n",
       "2              3                0.0           500   \n",
       "3              4                1.0           300   \n",
       "4              5                1.0           950   \n",
       "\n",
       "                                               notes  accomodation  arrests  \\\n",
       "0   Canada s railway passenger system was finally...             0        0   \n",
       "1  protestors were only identified as  young peop...             0        0   \n",
       "2   THE Queen, after calling on Canadians to rema...             0        0   \n",
       "3   Canada s federal government has agreed to acq...             1        0   \n",
       "4  Protests were directed against the state due t...             1        1   \n",
       "\n",
       "   beatings  crowd dispersal  ignore  killings  ...  year_2017 year_2018  \\\n",
       "0         0                0       1         0  ...          0         0   \n",
       "1         0                0       1         0  ...          0         0   \n",
       "2         0                0       1         0  ...          0         0   \n",
       "3         0                0       0         0  ...          0         0   \n",
       "4         0                1       0         0  ...          0         0   \n",
       "\n",
       "   year_2019  region_Asia  region_Central America  region_Europe  region_MENA  \\\n",
       "0          0            0                       0              0            0   \n",
       "1          0            0                       0              0            0   \n",
       "2          0            0                       0              0            0   \n",
       "3          0            0                       0              0            0   \n",
       "4          0            0                       0              0            0   \n",
       "\n",
       "   region_North America  region_Oceania  region_South America  \n",
       "0                     1               0                     0  \n",
       "1                     1               0                     0  \n",
       "2                     1               0                     0  \n",
       "3                     1               0                     0  \n",
       "4                     1               0                     0  \n",
       "\n",
       "[5 rows x 222 columns]"
      ]
     },
     "execution_count": 3,
     "metadata": {},
     "output_type": "execute_result"
    }
   ],
   "source": [
    "df.head()"
   ]
  },
  {
   "cell_type": "code",
   "execution_count": 4,
   "metadata": {},
   "outputs": [
    {
     "data": {
      "text/plain": [
       "(14474, 222)"
      ]
     },
     "execution_count": 4,
     "metadata": {},
     "output_type": "execute_result"
    }
   ],
   "source": [
    "df.shape"
   ]
  },
  {
   "cell_type": "code",
   "execution_count": 5,
   "metadata": {},
   "outputs": [
    {
     "data": {
      "text/plain": [
       "Index(['protestnumber', 'protesterviolence', 'participants', 'notes',\n",
       "       'accomodation', 'arrests', 'beatings', 'crowd dispersal', 'ignore',\n",
       "       'killings', 'shootings', 'stateresponse', 'stateresponse_violence',\n",
       "       'labor wage dispute', 'land farm issue', 'police brutality',\n",
       "       'political behavior, process', 'price increases, tax policy',\n",
       "       'removal of politician', 'social restrictions', 'duration',\n",
       "       'country_Albania', 'country_Algeria', 'country_Angola',\n",
       "       'country_Argentina', 'country_Armenia', 'country_Austria',\n",
       "       'country_Azerbaijan', 'country_Bahrain', 'country_Bangladesh'],\n",
       "      dtype='object')"
      ]
     },
     "execution_count": 5,
     "metadata": {},
     "output_type": "execute_result"
    }
   ],
   "source": [
    "df.columns[:30]"
   ]
  },
  {
   "cell_type": "markdown",
   "metadata": {},
   "source": [
    "# Model Prep - NO TEXT"
   ]
  },
  {
   "cell_type": "markdown",
   "metadata": {},
   "source": [
    "Note: We're going to try two models.  One predicting 'protesterviolence' for that we'll only need to drop the 'stateresponse' variable (which was our original DV).\n",
    "\n",
    "The 2nd model we'll try to predict 'stateresponse_violence' and for that we'll need to drop the individual state responses.  We'll call those 'responses' below"
   ]
  },
  {
   "cell_type": "code",
   "execution_count": 6,
   "metadata": {},
   "outputs": [],
   "source": [
    "responses = ['accomodation', 'arrests', 'beatings', 'crowd dispersal', 'ignore', 'killings', 'shootings']"
   ]
  },
  {
   "cell_type": "code",
   "execution_count": 7,
   "metadata": {},
   "outputs": [],
   "source": [
    "df.drop(columns=['notes', 'stateresponse'], inplace=True)"
   ]
  },
  {
   "cell_type": "code",
   "execution_count": 8,
   "metadata": {},
   "outputs": [],
   "source": [
    "# Step 1: Split into training & testing sets\n",
    "X = df.drop(columns='protesterviolence')\n",
    "y = df['protesterviolence']\n",
    "X_train, X_test, y_train, y_test = train_test_split(X, y, stratify = y, random_state=42)"
   ]
  },
  {
   "cell_type": "code",
   "execution_count": 9,
   "metadata": {},
   "outputs": [
    {
     "data": {
      "text/plain": [
       "((14474, 219), (14474,))"
      ]
     },
     "execution_count": 9,
     "metadata": {},
     "output_type": "execute_result"
    }
   ],
   "source": [
    "X.shape, y.shape"
   ]
  },
  {
   "cell_type": "code",
   "execution_count": 10,
   "metadata": {
    "scrolled": false
   },
   "outputs": [
    {
     "data": {
      "text/plain": [
       "0.0    0.736944\n",
       "1.0    0.263056\n",
       "Name: protesterviolence, dtype: float64"
      ]
     },
     "execution_count": 10,
     "metadata": {},
     "output_type": "execute_result"
    }
   ],
   "source": [
    "# Get the baseline model performance\n",
    "y_test.value_counts(normalize = True)"
   ]
  },
  {
   "cell_type": "markdown",
   "metadata": {},
   "source": [
    "# Ada Boost"
   ]
  },
  {
   "cell_type": "code",
   "execution_count": 11,
   "metadata": {},
   "outputs": [
    {
     "name": "stdout",
     "output_type": "stream",
     "text": [
      "Fitting 4 folds for each of 12 candidates, totalling 48 fits\n"
     ]
    },
    {
     "name": "stderr",
     "output_type": "stream",
     "text": [
      "[Parallel(n_jobs=-1)]: Using backend LokyBackend with 16 concurrent workers.\n",
      "[Parallel(n_jobs=-1)]: Done   9 tasks      | elapsed:    7.1s\n",
      "[Parallel(n_jobs=-1)]: Done  42 out of  48 | elapsed:   17.2s remaining:    2.5s\n",
      "[Parallel(n_jobs=-1)]: Done  48 out of  48 | elapsed:   18.0s finished\n"
     ]
    },
    {
     "name": "stdout",
     "output_type": "stream",
     "text": [
      "GridSearchCV best score:  0.8187005455052653\n"
     ]
    },
    {
     "data": {
      "text/plain": [
       "{'base_estimator__max_depth': 3, 'learning_rate': 0.9, 'n_estimators': 50}"
      ]
     },
     "execution_count": 11,
     "metadata": {},
     "output_type": "execute_result"
    }
   ],
   "source": [
    "ada = AdaBoostClassifier(base_estimator=DecisionTreeClassifier())\n",
    "\n",
    "ada_params = {\n",
    "    'n_estimators': [50, 100],\n",
    "    'learning_rate': [.9, .1],\n",
    "    'base_estimator__max_depth': [1, 2, 3]\n",
    "}\n",
    "\n",
    "gs = GridSearchCV(ada, param_grid=ada_params, cv=4, verbose=2, n_jobs=-1)\n",
    "gs.fit(X_train, y_train)\n",
    "print('GridSearchCV best score: ', gs.best_score_)\n",
    "gs.best_params_"
   ]
  },
  {
   "cell_type": "code",
   "execution_count": 13,
   "metadata": {},
   "outputs": [
    {
     "name": "stdout",
     "output_type": "stream",
     "text": [
      "Train score:  0.8557346844771995\n",
      "Test score:  0.8109975131251727\n"
     ]
    }
   ],
   "source": [
    "print('Train score: ', gs.score(X_train, y_train))\n",
    "print('Test score: ', gs.score(X_test, y_test))"
   ]
  },
  {
   "cell_type": "code",
   "execution_count": 53,
   "metadata": {},
   "outputs": [],
   "source": [
    "# Get predictions\n",
    "preds = gs.predict(X_test)\n",
    "\n",
    "# Save confusion matrix values\n",
    "tn, fp, fn, tp = confusion_matrix(y_test, preds).ravel()\n"
   ]
  },
  {
   "cell_type": "code",
   "execution_count": 57,
   "metadata": {},
   "outputs": [
    {
     "data": {
      "text/plain": [
       "Text(0.5, 1.0, 'Confusion Matrix for Ada Boost Classifier')"
      ]
     },
     "execution_count": 57,
     "metadata": {},
     "output_type": "execute_result"
    },
    {
     "data": {
      "image/png": "[encoded data removed]",
      "text/plain": [
       "<Figure size 432x288 with 2 Axes>"
      ]
     },
     "metadata": {
      "needs_background": "light"
     },
     "output_type": "display_data"
    }
   ],
   "source": [
    "# View confusion matrix\n",
    "plot_confusion_matrix(gs, X_test, y_test, cmap='Reds', values_format='d')\n",
    "plt.title(\"Confusion Matrix for Ada Boost Classifier\")\n",
    "#plt.savefig(\"./figs/confusion_matrix.png\");"
   ]
  },
  {
   "cell_type": "code",
   "execution_count": null,
   "metadata": {},
   "outputs": [],
   "source": []
  },
  {
   "cell_type": "code",
   "execution_count": 14,
   "metadata": {
    "scrolled": true
   },
   "outputs": [
    {
     "data": {
      "text/plain": [
       "array([0.08018021, 0.07496619, 0.01594441, 0.02488459, 0.00611823,\n",
       "       0.05022997, 0.03572728, 0.01215278, 0.00747939, 0.02650247,\n",
       "       0.0204108 , 0.00404979, 0.01395966, 0.01758106, 0.01502315,\n",
       "       0.00971411, 0.00533451, 0.04424532, 0.00257689, 0.        ,\n",
       "       0.00333448, 0.00244698, 0.00232069, 0.        , 0.00249081,\n",
       "       0.00202597, 0.        , 0.00446467, 0.0028307 , 0.00217907,\n",
       "       0.00295146, 0.00386665, 0.00334668, 0.00231713, 0.00191497,\n",
       "       0.        , 0.00691976, 0.01651938, 0.00202234, 0.        ,\n",
       "       0.00222929, 0.        , 0.        , 0.        , 0.        ,\n",
       "       0.00480348, 0.00230475, 0.0030998 , 0.00409198, 0.        ,\n",
       "       0.        , 0.        , 0.00196559, 0.00380093, 0.        ,\n",
       "       0.        , 0.        , 0.        , 0.00323272, 0.00145106,\n",
       "       0.0042715 , 0.        , 0.        , 0.        , 0.00203106,\n",
       "       0.        , 0.        , 0.00697307, 0.        , 0.00300169,\n",
       "       0.00491253, 0.00909925, 0.00321994, 0.        , 0.        ,\n",
       "       0.00470567, 0.00308955, 0.        , 0.00341319, 0.00502554,\n",
       "       0.        , 0.00255458, 0.00354077, 0.00462444, 0.        ,\n",
       "       0.        , 0.        , 0.00666281, 0.00431053, 0.00222215,\n",
       "       0.00303662, 0.00224072, 0.        , 0.00376472, 0.00206841,\n",
       "       0.00276755, 0.        , 0.00413784, 0.00440105, 0.00358709,\n",
       "       0.00233763, 0.        , 0.00304007, 0.        , 0.        ,\n",
       "       0.        , 0.00433208, 0.        , 0.        , 0.00478892,\n",
       "       0.        , 0.00380125, 0.00446418, 0.00255522, 0.        ,\n",
       "       0.00449623, 0.        , 0.        , 0.00231794, 0.00487645,\n",
       "       0.0065893 , 0.00202572, 0.        , 0.0053552 , 0.0032162 ,\n",
       "       0.        , 0.        , 0.        , 0.00346852, 0.00509572,\n",
       "       0.0022    , 0.        , 0.0023282 , 0.        , 0.        ,\n",
       "       0.        , 0.        , 0.        , 0.        , 0.0046197 ,\n",
       "       0.        , 0.        , 0.        , 0.        , 0.        ,\n",
       "       0.        , 0.        , 0.00346593, 0.        , 0.00343694,\n",
       "       0.        , 0.00229721, 0.        , 0.00572375, 0.        ,\n",
       "       0.00233254, 0.        , 0.0049793 , 0.        , 0.        ,\n",
       "       0.        , 0.        , 0.        , 0.        , 0.0124479 ,\n",
       "       0.        , 0.00397838, 0.        , 0.        , 0.        ,\n",
       "       0.00247772, 0.        , 0.00782061, 0.        , 0.00561242,\n",
       "       0.00402516, 0.00360536, 0.00445859, 0.        , 0.00216566,\n",
       "       0.00521428, 0.        , 0.        , 0.01000958, 0.00526898,\n",
       "       0.        , 0.00399342, 0.00188749, 0.0059068 , 0.00325623,\n",
       "       0.        , 0.00046131, 0.00897851, 0.00707386, 0.00811209,\n",
       "       0.00378973, 0.00521062, 0.00287023, 0.01012736, 0.00641438,\n",
       "       0.00590873, 0.        , 0.        , 0.00165297, 0.        ,\n",
       "       0.        , 0.        , 0.01561936, 0.00497834, 0.01013128,\n",
       "       0.02188215, 0.00540639, 0.00142719, 0.        , 0.01419047,\n",
       "       0.00805566, 0.00897053, 0.        , 0.01679159])"
      ]
     },
     "execution_count": 14,
     "metadata": {},
     "output_type": "execute_result"
    }
   ],
   "source": [
    "# Best way of interpreting the results of a tree-based ensemble estimator - weighted gini score for each tree averaged\n",
    "gs.best_estimator_.feature_importances_"
   ]
  },
  {
   "cell_type": "code",
   "execution_count": 15,
   "metadata": {},
   "outputs": [],
   "source": [
    "# Get the most important features from adaboost\n",
    "imp_list = gs.best_estimator_.feature_importances_"
   ]
  },
  {
   "cell_type": "code",
   "execution_count": null,
   "metadata": {},
   "outputs": [],
   "source": []
  },
  {
   "cell_type": "code",
   "execution_count": 16,
   "metadata": {},
   "outputs": [],
   "source": [
    "# Get the column names from the training features\n",
    "col_names = X.columns"
   ]
  },
  {
   "cell_type": "code",
   "execution_count": 17,
   "metadata": {},
   "outputs": [],
   "source": [
    "# Get the importance scores\n",
    "imp = pd.DataFrame(imp_list, index=col_names, columns=['feat imp'])"
   ]
  },
  {
   "cell_type": "code",
   "execution_count": 52,
   "metadata": {},
   "outputs": [
    {
     "data": {
      "image/png": "[encoded data removed]",
      "text/plain": [
       "<Figure size 504x504 with 1 Axes>"
      ]
     },
     "metadata": {
      "needs_background": "light"
     },
     "output_type": "display_data"
    }
   ],
   "source": [
    "# Plot the importance scores for the most important features\n",
    "imp.sort_values('feat imp', ascending = False).head(25).plot(kind= 'barh', color = 'orangered', alpha = 0.7, figsize = (7,7))\n",
    "#plt.yticks(rotation = 70)\n",
    "plt.xlabel('Coefficient')\n",
    "plt.title('Words with Highest Importance Score from Ada Boost')\n",
    "plt.savefig(\"../figs/importance_scores.png\")"
   ]
  },
  {
   "cell_type": "code",
   "execution_count": 36,
   "metadata": {},
   "outputs": [
    {
     "data": {
      "text/html": [
       "<div>\n",
       "<style scoped>\n",
       "    .dataframe tbody tr th:only-of-type {\n",
       "        vertical-align: middle;\n",
       "    }\n",
       "\n",
       "    .dataframe tbody tr th {\n",
       "        vertical-align: top;\n",
       "    }\n",
       "\n",
       "    .dataframe thead th {\n",
       "        text-align: right;\n",
       "    }\n",
       "</style>\n",
       "<table border=\"1\" class=\"dataframe\">\n",
       "  <thead>\n",
       "    <tr style=\"text-align: right;\">\n",
       "      <th></th>\n",
       "      <th>feat imp</th>\n",
       "    </tr>\n",
       "  </thead>\n",
       "  <tbody>\n",
       "    <tr>\n",
       "      <th>protestnumber</th>\n",
       "      <td>0.080180</td>\n",
       "    </tr>\n",
       "    <tr>\n",
       "      <th>participants</th>\n",
       "      <td>0.074966</td>\n",
       "    </tr>\n",
       "    <tr>\n",
       "      <th>crowd dispersal</th>\n",
       "      <td>0.050230</td>\n",
       "    </tr>\n",
       "    <tr>\n",
       "      <th>duration</th>\n",
       "      <td>0.044245</td>\n",
       "    </tr>\n",
       "    <tr>\n",
       "      <th>ignore</th>\n",
       "      <td>0.035727</td>\n",
       "    </tr>\n",
       "    <tr>\n",
       "      <th>stateresponse_violence</th>\n",
       "      <td>0.026502</td>\n",
       "    </tr>\n",
       "    <tr>\n",
       "      <th>arrests</th>\n",
       "      <td>0.024885</td>\n",
       "    </tr>\n",
       "    <tr>\n",
       "      <th>year_2018</th>\n",
       "      <td>0.021882</td>\n",
       "    </tr>\n",
       "    <tr>\n",
       "      <th>labor wage dispute</th>\n",
       "      <td>0.020411</td>\n",
       "    </tr>\n",
       "    <tr>\n",
       "      <th>political behavior, process</th>\n",
       "      <td>0.017581</td>\n",
       "    </tr>\n",
       "    <tr>\n",
       "      <th>region_South America</th>\n",
       "      <td>0.016792</td>\n",
       "    </tr>\n",
       "    <tr>\n",
       "      <th>country_Burundi</th>\n",
       "      <td>0.016519</td>\n",
       "    </tr>\n",
       "    <tr>\n",
       "      <th>accomodation</th>\n",
       "      <td>0.015944</td>\n",
       "    </tr>\n",
       "    <tr>\n",
       "      <th>year_2015</th>\n",
       "      <td>0.015619</td>\n",
       "    </tr>\n",
       "    <tr>\n",
       "      <th>price increases, tax policy</th>\n",
       "      <td>0.015023</td>\n",
       "    </tr>\n",
       "    <tr>\n",
       "      <th>region_Europe</th>\n",
       "      <td>0.014190</td>\n",
       "    </tr>\n",
       "    <tr>\n",
       "      <th>police brutality</th>\n",
       "      <td>0.013960</td>\n",
       "    </tr>\n",
       "    <tr>\n",
       "      <th>country_Thailand</th>\n",
       "      <td>0.012448</td>\n",
       "    </tr>\n",
       "    <tr>\n",
       "      <th>killings</th>\n",
       "      <td>0.012153</td>\n",
       "    </tr>\n",
       "    <tr>\n",
       "      <th>year_2017</th>\n",
       "      <td>0.010131</td>\n",
       "    </tr>\n",
       "    <tr>\n",
       "      <th>year_2006</th>\n",
       "      <td>0.010127</td>\n",
       "    </tr>\n",
       "    <tr>\n",
       "      <th>year_1991</th>\n",
       "      <td>0.010010</td>\n",
       "    </tr>\n",
       "    <tr>\n",
       "      <th>removal of politician</th>\n",
       "      <td>0.009714</td>\n",
       "    </tr>\n",
       "    <tr>\n",
       "      <th>country_Germany</th>\n",
       "      <td>0.009099</td>\n",
       "    </tr>\n",
       "    <tr>\n",
       "      <th>year_2000</th>\n",
       "      <td>0.008979</td>\n",
       "    </tr>\n",
       "  </tbody>\n",
       "</table>\n",
       "</div>"
      ],
      "text/plain": [
       "                             feat imp\n",
       "protestnumber                0.080180\n",
       "participants                 0.074966\n",
       "crowd dispersal              0.050230\n",
       "duration                     0.044245\n",
       "ignore                       0.035727\n",
       "stateresponse_violence       0.026502\n",
       "arrests                      0.024885\n",
       "year_2018                    0.021882\n",
       "labor wage dispute           0.020411\n",
       "political behavior, process  0.017581\n",
       "region_South America         0.016792\n",
       "country_Burundi              0.016519\n",
       "accomodation                 0.015944\n",
       "year_2015                    0.015619\n",
       "price increases, tax policy  0.015023\n",
       "region_Europe                0.014190\n",
       "police brutality             0.013960\n",
       "country_Thailand             0.012448\n",
       "killings                     0.012153\n",
       "year_2017                    0.010131\n",
       "year_2006                    0.010127\n",
       "year_1991                    0.010010\n",
       "removal of politician        0.009714\n",
       "country_Germany              0.009099\n",
       "year_2000                    0.008979"
      ]
     },
     "execution_count": 36,
     "metadata": {},
     "output_type": "execute_result"
    }
   ],
   "source": [
    "imp_cor = imp.sort_values('feat imp', ascending = False).head(25)\n",
    "imp_cor"
   ]
  },
  {
   "cell_type": "code",
   "execution_count": 43,
   "metadata": {},
   "outputs": [
    {
     "data": {
      "image/png": "[encoded data removed]",
      "text/plain": [
       "<Figure size 864x864 with 2 Axes>"
      ]
     },
     "metadata": {
      "needs_background": "light"
     },
     "output_type": "display_data"
    }
   ],
   "source": [
    "imp_features = list(imp.sort_values('feat imp', ascending = False).head(25).index)\n",
    "imp_features.append('protesterviolence')\n",
    "imp_features\n",
    "imp_df = df[imp_features]\n",
    "corr = imp_df.corr()\n",
    "corr_sort = corr.sort_values(by = ['protesterviolence'], axis = 0, ascending = False)\n",
    "plt.figure(figsize = (12, 12))\n",
    "sns.heatmap(corr_sort[['protesterviolence']], annot=True, vmin = -1, vmax=1)\n",
    "plt.title('Correlation between Protester Violence and Important Features from Ada Boost')\n",
    "plt.subplots_adjust(left=0.3)\n",
    "\n",
    "#plt.savefig(\"../figs/poly_corr_heatmap.png\");\n",
    "\n",
    "\n",
    "\n"
   ]
  },
  {
   "cell_type": "code",
   "execution_count": 38,
   "metadata": {},
   "outputs": [
    {
     "data": {
      "text/html": [
       "<div>\n",
       "<style scoped>\n",
       "    .dataframe tbody tr th:only-of-type {\n",
       "        vertical-align: middle;\n",
       "    }\n",
       "\n",
       "    .dataframe tbody tr th {\n",
       "        vertical-align: top;\n",
       "    }\n",
       "\n",
       "    .dataframe thead th {\n",
       "        text-align: right;\n",
       "    }\n",
       "</style>\n",
       "<table border=\"1\" class=\"dataframe\">\n",
       "  <thead>\n",
       "    <tr style=\"text-align: right;\">\n",
       "      <th></th>\n",
       "      <th>feat imp</th>\n",
       "      <th>protesterviolence</th>\n",
       "    </tr>\n",
       "  </thead>\n",
       "  <tbody>\n",
       "    <tr>\n",
       "      <th>protestnumber</th>\n",
       "      <td>0.080180</td>\n",
       "      <td>-0.044196</td>\n",
       "    </tr>\n",
       "    <tr>\n",
       "      <th>participants</th>\n",
       "      <td>0.074966</td>\n",
       "      <td>-0.021297</td>\n",
       "    </tr>\n",
       "    <tr>\n",
       "      <th>crowd dispersal</th>\n",
       "      <td>0.050230</td>\n",
       "      <td>0.488529</td>\n",
       "    </tr>\n",
       "    <tr>\n",
       "      <th>duration</th>\n",
       "      <td>0.044245</td>\n",
       "      <td>0.034371</td>\n",
       "    </tr>\n",
       "    <tr>\n",
       "      <th>ignore</th>\n",
       "      <td>0.035727</td>\n",
       "      <td>-0.481545</td>\n",
       "    </tr>\n",
       "    <tr>\n",
       "      <th>stateresponse_violence</th>\n",
       "      <td>0.026502</td>\n",
       "      <td>0.394900</td>\n",
       "    </tr>\n",
       "    <tr>\n",
       "      <th>arrests</th>\n",
       "      <td>0.024885</td>\n",
       "      <td>0.256490</td>\n",
       "    </tr>\n",
       "    <tr>\n",
       "      <th>year_2018</th>\n",
       "      <td>0.021882</td>\n",
       "      <td>-0.035727</td>\n",
       "    </tr>\n",
       "    <tr>\n",
       "      <th>labor wage dispute</th>\n",
       "      <td>0.020411</td>\n",
       "      <td>-0.032597</td>\n",
       "    </tr>\n",
       "    <tr>\n",
       "      <th>political behavior, process</th>\n",
       "      <td>0.017581</td>\n",
       "      <td>-0.013243</td>\n",
       "    </tr>\n",
       "    <tr>\n",
       "      <th>region_South America</th>\n",
       "      <td>0.016792</td>\n",
       "      <td>-0.047818</td>\n",
       "    </tr>\n",
       "    <tr>\n",
       "      <th>country_Burundi</th>\n",
       "      <td>0.016519</td>\n",
       "      <td>0.017665</td>\n",
       "    </tr>\n",
       "    <tr>\n",
       "      <th>accomodation</th>\n",
       "      <td>0.015944</td>\n",
       "      <td>0.011186</td>\n",
       "    </tr>\n",
       "    <tr>\n",
       "      <th>year_2015</th>\n",
       "      <td>0.015619</td>\n",
       "      <td>-0.014198</td>\n",
       "    </tr>\n",
       "    <tr>\n",
       "      <th>price increases, tax policy</th>\n",
       "      <td>0.015023</td>\n",
       "      <td>0.046665</td>\n",
       "    </tr>\n",
       "    <tr>\n",
       "      <th>region_Europe</th>\n",
       "      <td>0.014190</td>\n",
       "      <td>-0.129710</td>\n",
       "    </tr>\n",
       "    <tr>\n",
       "      <th>police brutality</th>\n",
       "      <td>0.013960</td>\n",
       "      <td>0.094296</td>\n",
       "    </tr>\n",
       "    <tr>\n",
       "      <th>country_Thailand</th>\n",
       "      <td>0.012448</td>\n",
       "      <td>-0.040901</td>\n",
       "    </tr>\n",
       "    <tr>\n",
       "      <th>killings</th>\n",
       "      <td>0.012153</td>\n",
       "      <td>0.240511</td>\n",
       "    </tr>\n",
       "    <tr>\n",
       "      <th>year_2017</th>\n",
       "      <td>0.010131</td>\n",
       "      <td>-0.033948</td>\n",
       "    </tr>\n",
       "    <tr>\n",
       "      <th>year_2006</th>\n",
       "      <td>0.010127</td>\n",
       "      <td>0.008906</td>\n",
       "    </tr>\n",
       "    <tr>\n",
       "      <th>year_1991</th>\n",
       "      <td>0.010010</td>\n",
       "      <td>0.014624</td>\n",
       "    </tr>\n",
       "    <tr>\n",
       "      <th>removal of politician</th>\n",
       "      <td>0.009714</td>\n",
       "      <td>0.005313</td>\n",
       "    </tr>\n",
       "    <tr>\n",
       "      <th>country_Germany</th>\n",
       "      <td>0.009099</td>\n",
       "      <td>-0.042993</td>\n",
       "    </tr>\n",
       "    <tr>\n",
       "      <th>year_2000</th>\n",
       "      <td>0.008979</td>\n",
       "      <td>-0.004403</td>\n",
       "    </tr>\n",
       "  </tbody>\n",
       "</table>\n",
       "</div>"
      ],
      "text/plain": [
       "                             feat imp  protesterviolence\n",
       "protestnumber                0.080180          -0.044196\n",
       "participants                 0.074966          -0.021297\n",
       "crowd dispersal              0.050230           0.488529\n",
       "duration                     0.044245           0.034371\n",
       "ignore                       0.035727          -0.481545\n",
       "stateresponse_violence       0.026502           0.394900\n",
       "arrests                      0.024885           0.256490\n",
       "year_2018                    0.021882          -0.035727\n",
       "labor wage dispute           0.020411          -0.032597\n",
       "political behavior, process  0.017581          -0.013243\n",
       "region_South America         0.016792          -0.047818\n",
       "country_Burundi              0.016519           0.017665\n",
       "accomodation                 0.015944           0.011186\n",
       "year_2015                    0.015619          -0.014198\n",
       "price increases, tax policy  0.015023           0.046665\n",
       "region_Europe                0.014190          -0.129710\n",
       "police brutality             0.013960           0.094296\n",
       "country_Thailand             0.012448          -0.040901\n",
       "killings                     0.012153           0.240511\n",
       "year_2017                    0.010131          -0.033948\n",
       "year_2006                    0.010127           0.008906\n",
       "year_1991                    0.010010           0.014624\n",
       "removal of politician        0.009714           0.005313\n",
       "country_Germany              0.009099          -0.042993\n",
       "year_2000                    0.008979          -0.004403"
      ]
     },
     "execution_count": 38,
     "metadata": {},
     "output_type": "execute_result"
    }
   ],
   "source": [
    "corr = corr[['protesterviolence']].drop('protesterviolence', axis =0)\n",
    "corr\n",
    "imp_cor = pd.concat([imp_cor, corr], axis = 1)\n",
    "imp_cor"
   ]
  },
  {
   "cell_type": "markdown",
   "metadata": {},
   "source": [
    "### Model does pretty well without much fuss and these results are pretty interesting!  Some of our state responses showed up!!  It would be interesting to attach some correlation coefficients to these to determine direction."
   ]
  },
  {
   "cell_type": "markdown",
   "metadata": {},
   "source": [
    "### Now let's try to predict state response"
   ]
  },
  {
   "cell_type": "code",
   "execution_count": 37,
   "metadata": {},
   "outputs": [],
   "source": [
    "df.drop(columns=responses, inplace=True)"
   ]
  },
  {
   "cell_type": "code",
   "execution_count": 38,
   "metadata": {},
   "outputs": [],
   "source": [
    "# Step 1: Split into training & testing sets\n",
    "X = df.drop(columns='stateresponse_violence')\n",
    "y = df['stateresponse_violence']\n",
    "X_train, X_test, y_train, y_test = train_test_split(X, y, stratify = y, random_state=42)"
   ]
  },
  {
   "cell_type": "code",
   "execution_count": 39,
   "metadata": {},
   "outputs": [
    {
     "data": {
      "text/plain": [
       "((14474, 212), (14474,))"
      ]
     },
     "execution_count": 39,
     "metadata": {},
     "output_type": "execute_result"
    }
   ],
   "source": [
    "X.shape, y.shape"
   ]
  },
  {
   "cell_type": "code",
   "execution_count": 40,
   "metadata": {
    "scrolled": false
   },
   "outputs": [
    {
     "data": {
      "text/plain": [
       "0    0.7748\n",
       "1    0.2252\n",
       "Name: stateresponse_violence, dtype: float64"
      ]
     },
     "execution_count": 40,
     "metadata": {},
     "output_type": "execute_result"
    }
   ],
   "source": [
    "# Get the baseline model performance\n",
    "y_test.value_counts(normalize = True)"
   ]
  },
  {
   "cell_type": "code",
   "execution_count": 51,
   "metadata": {},
   "outputs": [
    {
     "ename": "KeyError",
     "evalue": "'country'",
     "output_type": "error",
     "traceback": [
      "\u001b[0;31m---------------------------------------------------------------------------\u001b[0m",
      "\u001b[0;31mKeyError\u001b[0m                                  Traceback (most recent call last)",
      "\u001b[0;32m<ipython-input-51-d1697acfd951>\u001b[0m in \u001b[0;36m<module>\u001b[0;34m\u001b[0m\n\u001b[0;32m----> 1\u001b[0;31m \u001b[0mdf\u001b[0m\u001b[0;34m.\u001b[0m\u001b[0mgroupby\u001b[0m\u001b[0;34m(\u001b[0m\u001b[0;34m'country'\u001b[0m\u001b[0;34m)\u001b[0m\u001b[0;34m.\u001b[0m\u001b[0mmean\u001b[0m\u001b[0;34m(\u001b[0m\u001b[0;34m)\u001b[0m\u001b[0;34m\u001b[0m\u001b[0;34m\u001b[0m\u001b[0m\n\u001b[0m",
      "\u001b[0;32m~/Dev/virtualenvs/py3/lib/python3.8/site-packages/pandas/core/frame.py\u001b[0m in \u001b[0;36mgroupby\u001b[0;34m(self, by, axis, level, as_index, sort, group_keys, squeeze, observed)\u001b[0m\n\u001b[1;32m   5799\u001b[0m         \u001b[0maxis\u001b[0m \u001b[0;34m=\u001b[0m \u001b[0mself\u001b[0m\u001b[0;34m.\u001b[0m\u001b[0m_get_axis_number\u001b[0m\u001b[0;34m(\u001b[0m\u001b[0maxis\u001b[0m\u001b[0;34m)\u001b[0m\u001b[0;34m\u001b[0m\u001b[0;34m\u001b[0m\u001b[0m\n\u001b[1;32m   5800\u001b[0m \u001b[0;34m\u001b[0m\u001b[0m\n\u001b[0;32m-> 5801\u001b[0;31m         return groupby_generic.DataFrameGroupBy(\n\u001b[0m\u001b[1;32m   5802\u001b[0m             \u001b[0mobj\u001b[0m\u001b[0;34m=\u001b[0m\u001b[0mself\u001b[0m\u001b[0;34m,\u001b[0m\u001b[0;34m\u001b[0m\u001b[0;34m\u001b[0m\u001b[0m\n\u001b[1;32m   5803\u001b[0m             \u001b[0mkeys\u001b[0m\u001b[0;34m=\u001b[0m\u001b[0mby\u001b[0m\u001b[0;34m,\u001b[0m\u001b[0;34m\u001b[0m\u001b[0;34m\u001b[0m\u001b[0m\n",
      "\u001b[0;32m~/Dev/virtualenvs/py3/lib/python3.8/site-packages/pandas/core/groupby/groupby.py\u001b[0m in \u001b[0;36m__init__\u001b[0;34m(self, obj, keys, axis, level, grouper, exclusions, selection, as_index, sort, group_keys, squeeze, observed, mutated)\u001b[0m\n\u001b[1;32m    401\u001b[0m             \u001b[0;32mfrom\u001b[0m \u001b[0mpandas\u001b[0m\u001b[0;34m.\u001b[0m\u001b[0mcore\u001b[0m\u001b[0;34m.\u001b[0m\u001b[0mgroupby\u001b[0m\u001b[0;34m.\u001b[0m\u001b[0mgrouper\u001b[0m \u001b[0;32mimport\u001b[0m \u001b[0mget_grouper\u001b[0m\u001b[0;34m\u001b[0m\u001b[0;34m\u001b[0m\u001b[0m\n\u001b[1;32m    402\u001b[0m \u001b[0;34m\u001b[0m\u001b[0m\n\u001b[0;32m--> 403\u001b[0;31m             grouper, exclusions, obj = get_grouper(\n\u001b[0m\u001b[1;32m    404\u001b[0m                 \u001b[0mobj\u001b[0m\u001b[0;34m,\u001b[0m\u001b[0;34m\u001b[0m\u001b[0;34m\u001b[0m\u001b[0m\n\u001b[1;32m    405\u001b[0m                 \u001b[0mkeys\u001b[0m\u001b[0;34m,\u001b[0m\u001b[0;34m\u001b[0m\u001b[0;34m\u001b[0m\u001b[0m\n",
      "\u001b[0;32m~/Dev/virtualenvs/py3/lib/python3.8/site-packages/pandas/core/groupby/grouper.py\u001b[0m in \u001b[0;36mget_grouper\u001b[0;34m(obj, key, axis, level, sort, observed, mutated, validate)\u001b[0m\n\u001b[1;32m    598\u001b[0m                 \u001b[0min_axis\u001b[0m\u001b[0;34m,\u001b[0m \u001b[0mname\u001b[0m\u001b[0;34m,\u001b[0m \u001b[0mlevel\u001b[0m\u001b[0;34m,\u001b[0m \u001b[0mgpr\u001b[0m \u001b[0;34m=\u001b[0m \u001b[0;32mFalse\u001b[0m\u001b[0;34m,\u001b[0m \u001b[0;32mNone\u001b[0m\u001b[0;34m,\u001b[0m \u001b[0mgpr\u001b[0m\u001b[0;34m,\u001b[0m \u001b[0;32mNone\u001b[0m\u001b[0;34m\u001b[0m\u001b[0;34m\u001b[0m\u001b[0m\n\u001b[1;32m    599\u001b[0m             \u001b[0;32melse\u001b[0m\u001b[0;34m:\u001b[0m\u001b[0;34m\u001b[0m\u001b[0;34m\u001b[0m\u001b[0m\n\u001b[0;32m--> 600\u001b[0;31m                 \u001b[0;32mraise\u001b[0m \u001b[0mKeyError\u001b[0m\u001b[0;34m(\u001b[0m\u001b[0mgpr\u001b[0m\u001b[0;34m)\u001b[0m\u001b[0;34m\u001b[0m\u001b[0;34m\u001b[0m\u001b[0m\n\u001b[0m\u001b[1;32m    601\u001b[0m         \u001b[0;32melif\u001b[0m \u001b[0misinstance\u001b[0m\u001b[0;34m(\u001b[0m\u001b[0mgpr\u001b[0m\u001b[0;34m,\u001b[0m \u001b[0mGrouper\u001b[0m\u001b[0;34m)\u001b[0m \u001b[0;32mand\u001b[0m \u001b[0mgpr\u001b[0m\u001b[0;34m.\u001b[0m\u001b[0mkey\u001b[0m \u001b[0;32mis\u001b[0m \u001b[0;32mnot\u001b[0m \u001b[0;32mNone\u001b[0m\u001b[0;34m:\u001b[0m\u001b[0;34m\u001b[0m\u001b[0;34m\u001b[0m\u001b[0m\n\u001b[1;32m    602\u001b[0m             \u001b[0;31m# Add key to exclusions\u001b[0m\u001b[0;34m\u001b[0m\u001b[0;34m\u001b[0m\u001b[0;34m\u001b[0m\u001b[0m\n",
      "\u001b[0;31mKeyError\u001b[0m: 'country'"
     ]
    }
   ],
   "source": [
    "df.groupby('country').mean()"
   ]
  },
  {
   "cell_type": "markdown",
   "metadata": {},
   "source": [
    "# Ada Boost"
   ]
  },
  {
   "cell_type": "code",
   "execution_count": 41,
   "metadata": {},
   "outputs": [
    {
     "name": "stdout",
     "output_type": "stream",
     "text": [
      "Fitting 4 folds for each of 12 candidates, totalling 48 fits\n"
     ]
    },
    {
     "name": "stderr",
     "output_type": "stream",
     "text": [
      "[Parallel(n_jobs=-1)]: Using backend LokyBackend with 16 concurrent workers.\n",
      "[Parallel(n_jobs=-1)]: Done   9 tasks      | elapsed:    7.0s\n",
      "[Parallel(n_jobs=-1)]: Done  42 out of  48 | elapsed:   16.2s remaining:    2.3s\n",
      "[Parallel(n_jobs=-1)]: Done  48 out of  48 | elapsed:   16.8s finished\n"
     ]
    },
    {
     "name": "stdout",
     "output_type": "stream",
     "text": [
      "GridSearchCV best score:  0.805619236618579\n"
     ]
    },
    {
     "data": {
      "text/plain": [
       "{'base_estimator__max_depth': 2, 'learning_rate': 0.9, 'n_estimators': 100}"
      ]
     },
     "execution_count": 41,
     "metadata": {},
     "output_type": "execute_result"
    }
   ],
   "source": [
    "ada = AdaBoostClassifier(base_estimator=DecisionTreeClassifier())\n",
    "\n",
    "ada_params = {\n",
    "    'n_estimators': [50, 100],\n",
    "    'learning_rate': [.9, .1],\n",
    "    'base_estimator__max_depth': [1, 2, 3]\n",
    "}\n",
    "\n",
    "gs = GridSearchCV(ada, param_grid=ada_params, cv=4, verbose=2, n_jobs=-1)\n",
    "gs.fit(X_train, y_train)\n",
    "print('GridSearchCV best score: ', gs.best_score_)\n",
    "gs.best_params_"
   ]
  },
  {
   "cell_type": "code",
   "execution_count": 42,
   "metadata": {},
   "outputs": [
    {
     "name": "stdout",
     "output_type": "stream",
     "text": [
      "Train score:  0.8291110087517273\n",
      "Test score:  0.7969052224371374\n"
     ]
    }
   ],
   "source": [
    "print('Train score: ', gs.score(X_train, y_train))\n",
    "print('Test score: ', gs.score(X_test, y_test))"
   ]
  },
  {
   "cell_type": "code",
   "execution_count": 43,
   "metadata": {
    "scrolled": true
   },
   "outputs": [
    {
     "data": {
      "text/plain": [
       "array([0.1182795 , 0.07108594, 0.11006349, 0.0104561 , 0.00107151,\n",
       "       0.01750509, 0.0140795 , 0.01622273, 0.02881447, 0.00061996,\n",
       "       0.03328861, 0.00382883, 0.00311875, 0.00303395, 0.        ,\n",
       "       0.00759983, 0.        , 0.012901  , 0.        , 0.00406406,\n",
       "       0.00936312, 0.        , 0.00211729, 0.        , 0.00207405,\n",
       "       0.0027812 , 0.00359471, 0.        , 0.00274299, 0.        ,\n",
       "       0.        , 0.0020852 , 0.00393387, 0.        , 0.00209701,\n",
       "       0.        , 0.00384279, 0.00661244, 0.00259027, 0.        ,\n",
       "       0.        , 0.        , 0.00461975, 0.        , 0.00491989,\n",
       "       0.00464722, 0.00272267, 0.00508011, 0.00208086, 0.0047264 ,\n",
       "       0.00373376, 0.        , 0.00196656, 0.00337223, 0.00300075,\n",
       "       0.00232931, 0.00232263, 0.00249774, 0.00346485, 0.        ,\n",
       "       0.00433324, 0.00373249, 0.00115753, 0.0039908 , 0.0073273 ,\n",
       "       0.00499968, 0.00240073, 0.00415182, 0.00216452, 0.00332389,\n",
       "       0.00459316, 0.        , 0.        , 0.00130446, 0.00404757,\n",
       "       0.        , 0.        , 0.00435224, 0.00376535, 0.00158012,\n",
       "       0.00252173, 0.        , 0.        , 0.00173301, 0.00265715,\n",
       "       0.00465364, 0.00148502, 0.        , 0.00273879, 0.00230894,\n",
       "       0.0030541 , 0.00502028, 0.00266296, 0.00142054, 0.        ,\n",
       "       0.        , 0.        , 0.00327202, 0.        , 0.00286524,\n",
       "       0.        , 0.00173889, 0.00549143, 0.00160251, 0.        ,\n",
       "       0.        , 0.00444988, 0.        , 0.00440833, 0.00222242,\n",
       "       0.        , 0.00227323, 0.00254411, 0.00659844, 0.00555517,\n",
       "       0.00152151, 0.        , 0.00171064, 0.00500078, 0.0023308 ,\n",
       "       0.        , 0.00499922, 0.00219514, 0.00417947, 0.00398507,\n",
       "       0.        , 0.        , 0.00520901, 0.00320692, 0.        ,\n",
       "       0.        , 0.00200374, 0.01240741, 0.00429824, 0.00257393,\n",
       "       0.        , 0.00277461, 0.        , 0.        , 0.        ,\n",
       "       0.        , 0.        , 0.00212717, 0.00239919, 0.00078275,\n",
       "       0.00225519, 0.00295297, 0.00355701, 0.0037254 , 0.0048383 ,\n",
       "       0.00924861, 0.00235857, 0.00171716, 0.        , 0.00286074,\n",
       "       0.00240214, 0.00378262, 0.00354627, 0.        , 0.00183974,\n",
       "       0.        , 0.00192179, 0.00146279, 0.        , 0.00368323,\n",
       "       0.        , 0.        , 0.00592092, 0.00470977, 0.        ,\n",
       "       0.0027174 , 0.        , 0.00322905, 0.00292015, 0.00497972,\n",
       "       0.00354141, 0.00479569, 0.00366901, 0.00232838, 0.00868519,\n",
       "       0.00043561, 0.        , 0.00435356, 0.0113705 , 0.00711222,\n",
       "       0.01005767, 0.        , 0.013854  , 0.00175648, 0.        ,\n",
       "       0.0025282 , 0.00869503, 0.        , 0.00999761, 0.00160474,\n",
       "       0.0019677 , 0.00737917, 0.00526855, 0.01053695, 0.00914144,\n",
       "       0.00383877, 0.01612447, 0.00180654, 0.00846415, 0.00220669,\n",
       "       0.        , 0.        , 0.00518972, 0.00419755, 0.        ,\n",
       "       0.        , 0.00690211])"
      ]
     },
     "execution_count": 43,
     "metadata": {},
     "output_type": "execute_result"
    }
   ],
   "source": [
    "# Best way of interpreting the results of a tree-based ensemble estimator - weighted gini score for each tree averaged\n",
    "gs.best_estimator_.feature_importances_"
   ]
  },
  {
   "cell_type": "code",
   "execution_count": 44,
   "metadata": {},
   "outputs": [],
   "source": [
    "# Get the most important features from adaboost\n",
    "imp_list = gs.best_estimator_.feature_importances_"
   ]
  },
  {
   "cell_type": "code",
   "execution_count": 45,
   "metadata": {},
   "outputs": [],
   "source": [
    "# Get the column names from the training features\n",
    "col_names = X.columns"
   ]
  },
  {
   "cell_type": "code",
   "execution_count": 46,
   "metadata": {},
   "outputs": [],
   "source": [
    "# Get the importance scores\n",
    "imp = pd.DataFrame(imp_list, index=col_names, columns=['feat imp'])"
   ]
  },
  {
   "cell_type": "code",
   "execution_count": 47,
   "metadata": {},
   "outputs": [
    {
     "data": {
      "image/png": "[encoded data removed]",
      "text/plain": [
       "<Figure size 504x504 with 1 Axes>"
      ]
     },
     "metadata": {
      "needs_background": "light"
     },
     "output_type": "display_data"
    }
   ],
   "source": [
    "# Plot the importance scores for the most important features\n",
    "imp.sort_values('feat imp', ascending = False).head(25).plot(kind= 'barh', color = 'red', alpha = 0.7, figsize = (7,7))\n",
    "#plt.yticks(rotation = 70)\n",
    "plt.xlabel('Coefficient')\n",
    "plt.title('Words with Highest Importance Score from Ada Boost')\n",
    "plt.savefig(\"../figs/importance_scores.png\")"
   ]
  },
  {
   "cell_type": "markdown",
   "metadata": {},
   "source": [
    "### This model performs comparably well.    There are more years and countries at the top here.  Maybe less actionable information overall?"
   ]
  },
  {
   "cell_type": "code",
   "execution_count": null,
   "metadata": {},
   "outputs": [],
   "source": []
  }
 ],
 "metadata": {
  "kernelspec": {
   "display_name": "Python 3",
   "language": "python",
   "name": "python3"
  },
  "language_info": {
   "codemirror_mode": {
    "name": "ipython",
    "version": 3
   },
   "file_extension": ".py",
   "mimetype": "text/x-python",
   "name": "python",
   "nbconvert_exporter": "python",
   "pygments_lexer": "ipython3",
   "version": "3.8.5"
  }
 },
 "nbformat": 4,
 "nbformat_minor": 4
}
