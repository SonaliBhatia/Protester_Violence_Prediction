{
 "cells": [
  {
   "cell_type": "code",
   "execution_count": 93,
   "metadata": {},
   "outputs": [],
   "source": [
    "import pandas as pd\n",
    "import numpy as np\n",
    "import matplotlib.pyplot as plt\n",
    "import seaborn as sns"
   ]
  },
  {
   "cell_type": "code",
   "execution_count": 94,
   "metadata": {},
   "outputs": [],
   "source": [
    "#\n",
    "df = pd.read_csv('../data/mmALL_073119_csv.csv')"
   ]
  },
  {
   "cell_type": "code",
   "execution_count": 95,
   "metadata": {},
   "outputs": [
    {
     "data": {
      "text/html": [
       "<div>\n",
       "<style scoped>\n",
       "    .dataframe tbody tr th:only-of-type {\n",
       "        vertical-align: middle;\n",
       "    }\n",
       "\n",
       "    .dataframe tbody tr th {\n",
       "        vertical-align: top;\n",
       "    }\n",
       "\n",
       "    .dataframe thead th {\n",
       "        text-align: right;\n",
       "    }\n",
       "</style>\n",
       "<table border=\"1\" class=\"dataframe\">\n",
       "  <thead>\n",
       "    <tr style=\"text-align: right;\">\n",
       "      <th></th>\n",
       "      <th>id</th>\n",
       "      <th>country</th>\n",
       "      <th>ccode</th>\n",
       "      <th>year</th>\n",
       "      <th>region</th>\n",
       "      <th>protest</th>\n",
       "      <th>protestnumber</th>\n",
       "      <th>startday</th>\n",
       "      <th>startmonth</th>\n",
       "      <th>startyear</th>\n",
       "      <th>...</th>\n",
       "      <th>protesterdemand4</th>\n",
       "      <th>stateresponse1</th>\n",
       "      <th>stateresponse2</th>\n",
       "      <th>stateresponse3</th>\n",
       "      <th>stateresponse4</th>\n",
       "      <th>stateresponse5</th>\n",
       "      <th>stateresponse6</th>\n",
       "      <th>stateresponse7</th>\n",
       "      <th>sources</th>\n",
       "      <th>notes</th>\n",
       "    </tr>\n",
       "  </thead>\n",
       "  <tbody>\n",
       "    <tr>\n",
       "      <th>0</th>\n",
       "      <td>201990001</td>\n",
       "      <td>Canada</td>\n",
       "      <td>20</td>\n",
       "      <td>1990</td>\n",
       "      <td>North America</td>\n",
       "      <td>1</td>\n",
       "      <td>1</td>\n",
       "      <td>15.0</td>\n",
       "      <td>1.0</td>\n",
       "      <td>1990.0</td>\n",
       "      <td>...</td>\n",
       "      <td>NaN</td>\n",
       "      <td>ignore</td>\n",
       "      <td>NaN</td>\n",
       "      <td>NaN</td>\n",
       "      <td>NaN</td>\n",
       "      <td>NaN</td>\n",
       "      <td>NaN</td>\n",
       "      <td>NaN</td>\n",
       "      <td>1. Great Canadian train journeys into history;...</td>\n",
       "      <td>Canada s railway passenger system was finally...</td>\n",
       "    </tr>\n",
       "    <tr>\n",
       "      <th>1</th>\n",
       "      <td>201990002</td>\n",
       "      <td>Canada</td>\n",
       "      <td>20</td>\n",
       "      <td>1990</td>\n",
       "      <td>North America</td>\n",
       "      <td>1</td>\n",
       "      <td>2</td>\n",
       "      <td>25.0</td>\n",
       "      <td>6.0</td>\n",
       "      <td>1990.0</td>\n",
       "      <td>...</td>\n",
       "      <td>NaN</td>\n",
       "      <td>ignore</td>\n",
       "      <td>NaN</td>\n",
       "      <td>NaN</td>\n",
       "      <td>NaN</td>\n",
       "      <td>NaN</td>\n",
       "      <td>NaN</td>\n",
       "      <td>NaN</td>\n",
       "      <td>1. Autonomy s Cry Revived in Quebec The New Yo...</td>\n",
       "      <td>protestors were only identified as  young peop...</td>\n",
       "    </tr>\n",
       "    <tr>\n",
       "      <th>2</th>\n",
       "      <td>201990003</td>\n",
       "      <td>Canada</td>\n",
       "      <td>20</td>\n",
       "      <td>1990</td>\n",
       "      <td>North America</td>\n",
       "      <td>1</td>\n",
       "      <td>3</td>\n",
       "      <td>1.0</td>\n",
       "      <td>7.0</td>\n",
       "      <td>1990.0</td>\n",
       "      <td>...</td>\n",
       "      <td>NaN</td>\n",
       "      <td>ignore</td>\n",
       "      <td>NaN</td>\n",
       "      <td>NaN</td>\n",
       "      <td>NaN</td>\n",
       "      <td>NaN</td>\n",
       "      <td>NaN</td>\n",
       "      <td>NaN</td>\n",
       "      <td>1. Quebec protest after Queen calls for unity ...</td>\n",
       "      <td>THE Queen, after calling on Canadians to rema...</td>\n",
       "    </tr>\n",
       "    <tr>\n",
       "      <th>3</th>\n",
       "      <td>201990004</td>\n",
       "      <td>Canada</td>\n",
       "      <td>20</td>\n",
       "      <td>1990</td>\n",
       "      <td>North America</td>\n",
       "      <td>1</td>\n",
       "      <td>4</td>\n",
       "      <td>12.0</td>\n",
       "      <td>7.0</td>\n",
       "      <td>1990.0</td>\n",
       "      <td>...</td>\n",
       "      <td>NaN</td>\n",
       "      <td>accomodation</td>\n",
       "      <td>NaN</td>\n",
       "      <td>NaN</td>\n",
       "      <td>NaN</td>\n",
       "      <td>NaN</td>\n",
       "      <td>NaN</td>\n",
       "      <td>NaN</td>\n",
       "      <td>1. Indians Gather as Siege Intensifies; Armed ...</td>\n",
       "      <td>Canada s federal government has agreed to acq...</td>\n",
       "    </tr>\n",
       "    <tr>\n",
       "      <th>4</th>\n",
       "      <td>201990005</td>\n",
       "      <td>Canada</td>\n",
       "      <td>20</td>\n",
       "      <td>1990</td>\n",
       "      <td>North America</td>\n",
       "      <td>1</td>\n",
       "      <td>5</td>\n",
       "      <td>14.0</td>\n",
       "      <td>8.0</td>\n",
       "      <td>1990.0</td>\n",
       "      <td>...</td>\n",
       "      <td>NaN</td>\n",
       "      <td>crowd dispersal</td>\n",
       "      <td>arrests</td>\n",
       "      <td>accomodation</td>\n",
       "      <td>NaN</td>\n",
       "      <td>NaN</td>\n",
       "      <td>NaN</td>\n",
       "      <td>NaN</td>\n",
       "      <td>1. Dozens hurt in Mohawk blockade protest The ...</td>\n",
       "      <td>Protests were directed against the state due t...</td>\n",
       "    </tr>\n",
       "  </tbody>\n",
       "</table>\n",
       "<p>5 rows × 31 columns</p>\n",
       "</div>"
      ],
      "text/plain": [
       "          id country  ccode  year         region  protest  protestnumber  \\\n",
       "0  201990001  Canada     20  1990  North America        1              1   \n",
       "1  201990002  Canada     20  1990  North America        1              2   \n",
       "2  201990003  Canada     20  1990  North America        1              3   \n",
       "3  201990004  Canada     20  1990  North America        1              4   \n",
       "4  201990005  Canada     20  1990  North America        1              5   \n",
       "\n",
       "   startday  startmonth  startyear  ...  protesterdemand4   stateresponse1  \\\n",
       "0      15.0         1.0     1990.0  ...               NaN           ignore   \n",
       "1      25.0         6.0     1990.0  ...               NaN           ignore   \n",
       "2       1.0         7.0     1990.0  ...               NaN           ignore   \n",
       "3      12.0         7.0     1990.0  ...               NaN     accomodation   \n",
       "4      14.0         8.0     1990.0  ...               NaN  crowd dispersal   \n",
       "\n",
       "   stateresponse2  stateresponse3 stateresponse4 stateresponse5  \\\n",
       "0             NaN             NaN            NaN            NaN   \n",
       "1             NaN             NaN            NaN            NaN   \n",
       "2             NaN             NaN            NaN            NaN   \n",
       "3             NaN             NaN            NaN            NaN   \n",
       "4         arrests    accomodation            NaN            NaN   \n",
       "\n",
       "  stateresponse6 stateresponse7  \\\n",
       "0            NaN            NaN   \n",
       "1            NaN            NaN   \n",
       "2            NaN            NaN   \n",
       "3            NaN            NaN   \n",
       "4            NaN            NaN   \n",
       "\n",
       "                                             sources  \\\n",
       "0  1. Great Canadian train journeys into history;...   \n",
       "1  1. Autonomy s Cry Revived in Quebec The New Yo...   \n",
       "2  1. Quebec protest after Queen calls for unity ...   \n",
       "3  1. Indians Gather as Siege Intensifies; Armed ...   \n",
       "4  1. Dozens hurt in Mohawk blockade protest The ...   \n",
       "\n",
       "                                               notes  \n",
       "0   Canada s railway passenger system was finally...  \n",
       "1  protestors were only identified as  young peop...  \n",
       "2   THE Queen, after calling on Canadians to rema...  \n",
       "3   Canada s federal government has agreed to acq...  \n",
       "4  Protests were directed against the state due t...  \n",
       "\n",
       "[5 rows x 31 columns]"
      ]
     },
     "execution_count": 95,
     "metadata": {},
     "output_type": "execute_result"
    }
   ],
   "source": [
    "df.head()"
   ]
  },
  {
   "cell_type": "code",
   "execution_count": 96,
   "metadata": {},
   "outputs": [
    {
     "name": "stdout",
     "output_type": "stream",
     "text": [
      "<class 'pandas.core.frame.DataFrame'>\n",
      "RangeIndex: 16363 entries, 0 to 16362\n",
      "Data columns (total 31 columns):\n",
      " #   Column                 Non-Null Count  Dtype  \n",
      "---  ------                 --------------  -----  \n",
      " 0   id                     16363 non-null  int64  \n",
      " 1   country                16363 non-null  object \n",
      " 2   ccode                  16363 non-null  int64  \n",
      " 3   year                   16363 non-null  int64  \n",
      " 4   region                 16363 non-null  object \n",
      " 5   protest                16363 non-null  int64  \n",
      " 6   protestnumber          16363 non-null  int64  \n",
      " 7   startday               14514 non-null  float64\n",
      " 8   startmonth             14514 non-null  float64\n",
      " 9   startyear              14514 non-null  float64\n",
      " 10  endday                 14514 non-null  float64\n",
      " 11  endmonth               14514 non-null  float64\n",
      " 12  endyear                14514 non-null  float64\n",
      " 13  protesterviolence      15033 non-null  float64\n",
      " 14  location               14493 non-null  object \n",
      " 15  participants_category  9160 non-null   object \n",
      " 16  participants           15021 non-null  object \n",
      " 17  protesteridentity      13959 non-null  object \n",
      " 18  protesterdemand1       14503 non-null  object \n",
      " 19  protesterdemand2       2676 non-null   object \n",
      " 20  protesterdemand3       316 non-null    object \n",
      " 21  protesterdemand4       896 non-null    object \n",
      " 22  stateresponse1         14483 non-null  object \n",
      " 23  stateresponse2         2716 non-null   object \n",
      " 24  stateresponse3         850 non-null    object \n",
      " 25  stateresponse4         230 non-null    object \n",
      " 26  stateresponse5         926 non-null    object \n",
      " 27  stateresponse6         16 non-null     object \n",
      " 28  stateresponse7         920 non-null    object \n",
      " 29  sources                14510 non-null  object \n",
      " 30  notes                  14468 non-null  object \n",
      "dtypes: float64(7), int64(5), object(19)\n",
      "memory usage: 3.9+ MB\n"
     ]
    }
   ],
   "source": [
    "df.info()"
   ]
  },
  {
   "cell_type": "code",
   "execution_count": 97,
   "metadata": {},
   "outputs": [
    {
     "data": {
      "text/plain": [
       "(16363, 31)"
      ]
     },
     "execution_count": 97,
     "metadata": {},
     "output_type": "execute_result"
    }
   ],
   "source": [
    "df.shape"
   ]
  },
  {
   "cell_type": "code",
   "execution_count": 98,
   "metadata": {},
   "outputs": [],
   "source": [
    "# Filter out non-protests\n",
    "df = df[df['protest'] == 1]\n",
    "df = df[df['stateresponse1'].notna()]"
   ]
  },
  {
   "cell_type": "code",
   "execution_count": 99,
   "metadata": {},
   "outputs": [
    {
     "data": {
      "text/plain": [
       "(14483, 31)"
      ]
     },
     "execution_count": 99,
     "metadata": {},
     "output_type": "execute_result"
    }
   ],
   "source": [
    "df.shape"
   ]
  },
  {
   "cell_type": "code",
   "execution_count": 100,
   "metadata": {},
   "outputs": [],
   "source": [
    "df.drop(columns=['id', 'ccode', 'protest', 'location', 'participants_category', 'protesteridentity', 'sources'], inplace=True)"
   ]
  },
  {
   "cell_type": "code",
   "execution_count": 101,
   "metadata": {},
   "outputs": [
    {
     "name": "stdout",
     "output_type": "stream",
     "text": [
      "<class 'pandas.core.frame.DataFrame'>\n",
      "Int64Index: 14483 entries, 0 to 16360\n",
      "Data columns (total 24 columns):\n",
      " #   Column             Non-Null Count  Dtype  \n",
      "---  ------             --------------  -----  \n",
      " 0   country            14483 non-null  object \n",
      " 1   year               14483 non-null  int64  \n",
      " 2   region             14483 non-null  object \n",
      " 3   protestnumber      14483 non-null  int64  \n",
      " 4   startday           14483 non-null  float64\n",
      " 5   startmonth         14483 non-null  float64\n",
      " 6   startyear          14483 non-null  float64\n",
      " 7   endday             14483 non-null  float64\n",
      " 8   endmonth           14483 non-null  float64\n",
      " 9   endyear            14483 non-null  float64\n",
      " 10  protesterviolence  14483 non-null  float64\n",
      " 11  participants       14471 non-null  object \n",
      " 12  protesterdemand1   14474 non-null  object \n",
      " 13  protesterdemand2   2665 non-null   object \n",
      " 14  protesterdemand3   315 non-null    object \n",
      " 15  protesterdemand4   766 non-null    object \n",
      " 16  stateresponse1     14483 non-null  object \n",
      " 17  stateresponse2     2714 non-null   object \n",
      " 18  stateresponse3     850 non-null    object \n",
      " 19  stateresponse4     230 non-null    object \n",
      " 20  stateresponse5     796 non-null    object \n",
      " 21  stateresponse6     16 non-null     object \n",
      " 22  stateresponse7     857 non-null    object \n",
      " 23  notes              14437 non-null  object \n",
      "dtypes: float64(7), int64(2), object(15)\n",
      "memory usage: 2.8+ MB\n"
     ]
    }
   ],
   "source": [
    "df.info()"
   ]
  },
  {
   "cell_type": "markdown",
   "metadata": {},
   "source": [
    "# Clean State Response"
   ]
  },
  {
   "cell_type": "markdown",
   "metadata": {},
   "source": [
    "### Fill Empty Columns with Null Values for StateResponses"
   ]
  },
  {
   "cell_type": "code",
   "execution_count": 102,
   "metadata": {},
   "outputs": [],
   "source": [
    "df['stateresponse2'].fillna(value = 0, inplace = True)"
   ]
  },
  {
   "cell_type": "code",
   "execution_count": 103,
   "metadata": {},
   "outputs": [
    {
     "data": {
      "text/plain": [
       "0                  11769\n",
       "arrests              692\n",
       "crowd dispersal      567\n",
       "accomodation         382\n",
       "beatings             369\n",
       "shootings            360\n",
       "killings             311\n",
       "ignore                33\n",
       "Name: stateresponse2, dtype: int64"
      ]
     },
     "execution_count": 103,
     "metadata": {},
     "output_type": "execute_result"
    }
   ],
   "source": [
    "df['stateresponse2'].value_counts()"
   ]
  },
  {
   "cell_type": "code",
   "execution_count": 104,
   "metadata": {},
   "outputs": [],
   "source": [
    "df['stateresponse3'].fillna(value = 0, inplace = True)"
   ]
  },
  {
   "cell_type": "code",
   "execution_count": 105,
   "metadata": {},
   "outputs": [],
   "source": [
    "df['stateresponse4'].fillna(value = 0, inplace = True)"
   ]
  },
  {
   "cell_type": "code",
   "execution_count": 106,
   "metadata": {},
   "outputs": [],
   "source": [
    "df['stateresponse4'].fillna(value = 0, inplace = True)"
   ]
  },
  {
   "cell_type": "code",
   "execution_count": 107,
   "metadata": {},
   "outputs": [],
   "source": [
    "df['stateresponse5'].fillna(value = 0, inplace = True)"
   ]
  },
  {
   "cell_type": "code",
   "execution_count": 108,
   "metadata": {},
   "outputs": [],
   "source": [
    "df['stateresponse6'].fillna(value = 0, inplace = True)"
   ]
  },
  {
   "cell_type": "code",
   "execution_count": 109,
   "metadata": {},
   "outputs": [],
   "source": [
    "df['stateresponse7'].fillna(value = 0, inplace = True)"
   ]
  },
  {
   "cell_type": "markdown",
   "metadata": {},
   "source": [
    "### Weighted Ranks\n",
    "\n",
    "- ignore: 1\n",
    "\n",
    "- accomodation: 2\n",
    "\n",
    "- crowd dispersal: 3\n",
    " \n",
    "- arrests: 4 \n",
    "\n",
    "- beatings: 5\n",
    "\n",
    "- shootings: 6\n",
    "\n",
    "- killings: 7"
   ]
  },
  {
   "cell_type": "code",
   "execution_count": 110,
   "metadata": {},
   "outputs": [],
   "source": [
    "df['stateresponse1_weight'] = df['stateresponse1'].map({'accomodation': 2, 'ignore': 1, 'crowd dispersal': 3,\n",
    "                                                       'arrests': 4, 'beatings': 5, 'shootings': 6, 'killings': 7})"
   ]
  },
  {
   "cell_type": "code",
   "execution_count": 111,
   "metadata": {},
   "outputs": [
    {
     "data": {
      "text/plain": [
       "1    7934\n",
       "3    3612\n",
       "4    1049\n",
       "2     937\n",
       "6     415\n",
       "5     300\n",
       "7     236\n",
       "Name: stateresponse1_weight, dtype: int64"
      ]
     },
     "execution_count": 111,
     "metadata": {},
     "output_type": "execute_result"
    }
   ],
   "source": [
    "df['stateresponse1_weight'].value_counts()"
   ]
  },
  {
   "cell_type": "code",
   "execution_count": 112,
   "metadata": {},
   "outputs": [],
   "source": [
    "df['stateresponse2_weight'] = df['stateresponse2'].map({'accomodation': 2, 'ignore': 1, 'crowd dispersal': 3,\n",
    "                                                       'arrests': 4, 'beatings': 5, 'shootings': 6, 'killings': 7})"
   ]
  },
  {
   "cell_type": "code",
   "execution_count": 113,
   "metadata": {},
   "outputs": [],
   "source": [
    "df['stateresponse2_weight'].fillna(value = 0, inplace = True)"
   ]
  },
  {
   "cell_type": "code",
   "execution_count": 114,
   "metadata": {},
   "outputs": [
    {
     "data": {
      "text/plain": [
       "0.0    11769\n",
       "4.0      692\n",
       "3.0      567\n",
       "2.0      382\n",
       "5.0      369\n",
       "6.0      360\n",
       "7.0      311\n",
       "1.0       33\n",
       "Name: stateresponse2_weight, dtype: int64"
      ]
     },
     "execution_count": 114,
     "metadata": {},
     "output_type": "execute_result"
    }
   ],
   "source": [
    "df['stateresponse2_weight'].value_counts()"
   ]
  },
  {
   "cell_type": "code",
   "execution_count": 115,
   "metadata": {},
   "outputs": [],
   "source": [
    "df['stateresponse3_weight'] = df['stateresponse3'].map({'accomodation': 2, 'ignore': 1, 'crowd dispersal': 3,\n",
    "                                                       'arrests': 4, 'beatings': 5, 'shootings': 6, 'killings': 7})"
   ]
  },
  {
   "cell_type": "code",
   "execution_count": 116,
   "metadata": {},
   "outputs": [],
   "source": [
    "df['stateresponse3_weight'].fillna(value = 0, inplace = True)"
   ]
  },
  {
   "cell_type": "code",
   "execution_count": 117,
   "metadata": {},
   "outputs": [
    {
     "data": {
      "text/plain": [
       "0.0    13633\n",
       "4.0      214\n",
       "3.0      207\n",
       "7.0      175\n",
       "2.0       92\n",
       "5.0       80\n",
       "6.0       72\n",
       "1.0       10\n",
       "Name: stateresponse3_weight, dtype: int64"
      ]
     },
     "execution_count": 117,
     "metadata": {},
     "output_type": "execute_result"
    }
   ],
   "source": [
    "df['stateresponse3_weight'].value_counts()"
   ]
  },
  {
   "cell_type": "code",
   "execution_count": 118,
   "metadata": {},
   "outputs": [],
   "source": [
    "df['stateresponse4_weight'] = df['stateresponse4'].map({'accomodation': 2, 'ignore': 1, 'crowd dispersal': 3,\n",
    "                                                       'arrests': 4, 'beatings': 5, 'shootings': 6, 'killings': 7})"
   ]
  },
  {
   "cell_type": "code",
   "execution_count": 119,
   "metadata": {},
   "outputs": [],
   "source": [
    "df['stateresponse4_weight'].fillna(value = 0, inplace = True)"
   ]
  },
  {
   "cell_type": "code",
   "execution_count": 120,
   "metadata": {},
   "outputs": [],
   "source": [
    "df['stateresponse5_weight'] = df['stateresponse5'].map({'accomodation': 2, 'ignore': 1, 'crowd dispersal': 3,\n",
    "                                                       'arrests': 4, 'beatings': 5, 'shootings': 6, 'killings': 7})"
   ]
  },
  {
   "cell_type": "code",
   "execution_count": 121,
   "metadata": {},
   "outputs": [],
   "source": [
    "df['stateresponse5_weight'].fillna(value = 0, inplace = True)"
   ]
  },
  {
   "cell_type": "code",
   "execution_count": 122,
   "metadata": {},
   "outputs": [],
   "source": [
    "df['stateresponse6_weight'] = df['stateresponse6'].map({'accomodation': 2, 'ignore': 1, 'crowd dispersal': 3,\n",
    "                                                       'arrests': 4, 'beatings': 5, 'shootings': 6, 'killings': 7})"
   ]
  },
  {
   "cell_type": "code",
   "execution_count": 123,
   "metadata": {},
   "outputs": [],
   "source": [
    "df['stateresponse6_weight'].fillna(value = 0, inplace = True)"
   ]
  },
  {
   "cell_type": "code",
   "execution_count": 124,
   "metadata": {},
   "outputs": [],
   "source": [
    "df['stateresponse7_weight'] = df['stateresponse7'].map({'accomodation': 2, 'ignore': 1, 'crowd dispersal': 3,\n",
    "                                                       'arrests': 4, 'beatings': 5, 'shootings': 6, 'killings': 7})"
   ]
  },
  {
   "cell_type": "code",
   "execution_count": 125,
   "metadata": {},
   "outputs": [],
   "source": [
    "df['stateresponse7_weight'].fillna(value = 0, inplace = True)"
   ]
  },
  {
   "cell_type": "code",
   "execution_count": 126,
   "metadata": {},
   "outputs": [
    {
     "data": {
      "text/plain": [
       "(14483, 31)"
      ]
     },
     "execution_count": 126,
     "metadata": {},
     "output_type": "execute_result"
    }
   ],
   "source": [
    "df.shape"
   ]
  },
  {
   "cell_type": "code",
   "execution_count": 127,
   "metadata": {},
   "outputs": [
    {
     "data": {
      "text/html": [
       "<div>\n",
       "<style scoped>\n",
       "    .dataframe tbody tr th:only-of-type {\n",
       "        vertical-align: middle;\n",
       "    }\n",
       "\n",
       "    .dataframe tbody tr th {\n",
       "        vertical-align: top;\n",
       "    }\n",
       "\n",
       "    .dataframe thead th {\n",
       "        text-align: right;\n",
       "    }\n",
       "</style>\n",
       "<table border=\"1\" class=\"dataframe\">\n",
       "  <thead>\n",
       "    <tr style=\"text-align: right;\">\n",
       "      <th></th>\n",
       "      <th>country</th>\n",
       "      <th>year</th>\n",
       "      <th>region</th>\n",
       "      <th>protestnumber</th>\n",
       "      <th>startday</th>\n",
       "      <th>startmonth</th>\n",
       "      <th>startyear</th>\n",
       "      <th>endday</th>\n",
       "      <th>endmonth</th>\n",
       "      <th>endyear</th>\n",
       "      <th>...</th>\n",
       "      <th>stateresponse6</th>\n",
       "      <th>stateresponse7</th>\n",
       "      <th>notes</th>\n",
       "      <th>stateresponse1_weight</th>\n",
       "      <th>stateresponse2_weight</th>\n",
       "      <th>stateresponse3_weight</th>\n",
       "      <th>stateresponse4_weight</th>\n",
       "      <th>stateresponse5_weight</th>\n",
       "      <th>stateresponse6_weight</th>\n",
       "      <th>stateresponse7_weight</th>\n",
       "    </tr>\n",
       "  </thead>\n",
       "  <tbody>\n",
       "    <tr>\n",
       "      <th>0</th>\n",
       "      <td>Canada</td>\n",
       "      <td>1990</td>\n",
       "      <td>North America</td>\n",
       "      <td>1</td>\n",
       "      <td>15.0</td>\n",
       "      <td>1.0</td>\n",
       "      <td>1990.0</td>\n",
       "      <td>15.0</td>\n",
       "      <td>1.0</td>\n",
       "      <td>1990.0</td>\n",
       "      <td>...</td>\n",
       "      <td>0</td>\n",
       "      <td>0</td>\n",
       "      <td>Canada s railway passenger system was finally...</td>\n",
       "      <td>1</td>\n",
       "      <td>0.0</td>\n",
       "      <td>0.0</td>\n",
       "      <td>0.0</td>\n",
       "      <td>0.0</td>\n",
       "      <td>0.0</td>\n",
       "      <td>0.0</td>\n",
       "    </tr>\n",
       "    <tr>\n",
       "      <th>1</th>\n",
       "      <td>Canada</td>\n",
       "      <td>1990</td>\n",
       "      <td>North America</td>\n",
       "      <td>2</td>\n",
       "      <td>25.0</td>\n",
       "      <td>6.0</td>\n",
       "      <td>1990.0</td>\n",
       "      <td>25.0</td>\n",
       "      <td>6.0</td>\n",
       "      <td>1990.0</td>\n",
       "      <td>...</td>\n",
       "      <td>0</td>\n",
       "      <td>0</td>\n",
       "      <td>protestors were only identified as  young peop...</td>\n",
       "      <td>1</td>\n",
       "      <td>0.0</td>\n",
       "      <td>0.0</td>\n",
       "      <td>0.0</td>\n",
       "      <td>0.0</td>\n",
       "      <td>0.0</td>\n",
       "      <td>0.0</td>\n",
       "    </tr>\n",
       "    <tr>\n",
       "      <th>2</th>\n",
       "      <td>Canada</td>\n",
       "      <td>1990</td>\n",
       "      <td>North America</td>\n",
       "      <td>3</td>\n",
       "      <td>1.0</td>\n",
       "      <td>7.0</td>\n",
       "      <td>1990.0</td>\n",
       "      <td>1.0</td>\n",
       "      <td>7.0</td>\n",
       "      <td>1990.0</td>\n",
       "      <td>...</td>\n",
       "      <td>0</td>\n",
       "      <td>0</td>\n",
       "      <td>THE Queen, after calling on Canadians to rema...</td>\n",
       "      <td>1</td>\n",
       "      <td>0.0</td>\n",
       "      <td>0.0</td>\n",
       "      <td>0.0</td>\n",
       "      <td>0.0</td>\n",
       "      <td>0.0</td>\n",
       "      <td>0.0</td>\n",
       "    </tr>\n",
       "    <tr>\n",
       "      <th>3</th>\n",
       "      <td>Canada</td>\n",
       "      <td>1990</td>\n",
       "      <td>North America</td>\n",
       "      <td>4</td>\n",
       "      <td>12.0</td>\n",
       "      <td>7.0</td>\n",
       "      <td>1990.0</td>\n",
       "      <td>6.0</td>\n",
       "      <td>9.0</td>\n",
       "      <td>1990.0</td>\n",
       "      <td>...</td>\n",
       "      <td>0</td>\n",
       "      <td>0</td>\n",
       "      <td>Canada s federal government has agreed to acq...</td>\n",
       "      <td>2</td>\n",
       "      <td>0.0</td>\n",
       "      <td>0.0</td>\n",
       "      <td>0.0</td>\n",
       "      <td>0.0</td>\n",
       "      <td>0.0</td>\n",
       "      <td>0.0</td>\n",
       "    </tr>\n",
       "    <tr>\n",
       "      <th>4</th>\n",
       "      <td>Canada</td>\n",
       "      <td>1990</td>\n",
       "      <td>North America</td>\n",
       "      <td>5</td>\n",
       "      <td>14.0</td>\n",
       "      <td>8.0</td>\n",
       "      <td>1990.0</td>\n",
       "      <td>15.0</td>\n",
       "      <td>8.0</td>\n",
       "      <td>1990.0</td>\n",
       "      <td>...</td>\n",
       "      <td>0</td>\n",
       "      <td>0</td>\n",
       "      <td>Protests were directed against the state due t...</td>\n",
       "      <td>3</td>\n",
       "      <td>4.0</td>\n",
       "      <td>2.0</td>\n",
       "      <td>0.0</td>\n",
       "      <td>0.0</td>\n",
       "      <td>0.0</td>\n",
       "      <td>0.0</td>\n",
       "    </tr>\n",
       "  </tbody>\n",
       "</table>\n",
       "<p>5 rows × 31 columns</p>\n",
       "</div>"
      ],
      "text/plain": [
       "  country  year         region  protestnumber  startday  startmonth  \\\n",
       "0  Canada  1990  North America              1      15.0         1.0   \n",
       "1  Canada  1990  North America              2      25.0         6.0   \n",
       "2  Canada  1990  North America              3       1.0         7.0   \n",
       "3  Canada  1990  North America              4      12.0         7.0   \n",
       "4  Canada  1990  North America              5      14.0         8.0   \n",
       "\n",
       "   startyear  endday  endmonth  endyear  ...  stateresponse6 stateresponse7  \\\n",
       "0     1990.0    15.0       1.0   1990.0  ...               0              0   \n",
       "1     1990.0    25.0       6.0   1990.0  ...               0              0   \n",
       "2     1990.0     1.0       7.0   1990.0  ...               0              0   \n",
       "3     1990.0     6.0       9.0   1990.0  ...               0              0   \n",
       "4     1990.0    15.0       8.0   1990.0  ...               0              0   \n",
       "\n",
       "                                               notes stateresponse1_weight  \\\n",
       "0   Canada s railway passenger system was finally...                     1   \n",
       "1  protestors were only identified as  young peop...                     1   \n",
       "2   THE Queen, after calling on Canadians to rema...                     1   \n",
       "3   Canada s federal government has agreed to acq...                     2   \n",
       "4  Protests were directed against the state due t...                     3   \n",
       "\n",
       "  stateresponse2_weight stateresponse3_weight stateresponse4_weight  \\\n",
       "0                   0.0                   0.0                   0.0   \n",
       "1                   0.0                   0.0                   0.0   \n",
       "2                   0.0                   0.0                   0.0   \n",
       "3                   0.0                   0.0                   0.0   \n",
       "4                   4.0                   2.0                   0.0   \n",
       "\n",
       "  stateresponse5_weight stateresponse6_weight stateresponse7_weight  \n",
       "0                   0.0                   0.0                   0.0  \n",
       "1                   0.0                   0.0                   0.0  \n",
       "2                   0.0                   0.0                   0.0  \n",
       "3                   0.0                   0.0                   0.0  \n",
       "4                   0.0                   0.0                   0.0  \n",
       "\n",
       "[5 rows x 31 columns]"
      ]
     },
     "execution_count": 127,
     "metadata": {},
     "output_type": "execute_result"
    }
   ],
   "source": [
    "df.head()"
   ]
  },
  {
   "cell_type": "code",
   "execution_count": 128,
   "metadata": {},
   "outputs": [
    {
     "data": {
      "text/html": [
       "<div>\n",
       "<style scoped>\n",
       "    .dataframe tbody tr th:only-of-type {\n",
       "        vertical-align: middle;\n",
       "    }\n",
       "\n",
       "    .dataframe tbody tr th {\n",
       "        vertical-align: top;\n",
       "    }\n",
       "\n",
       "    .dataframe thead th {\n",
       "        text-align: right;\n",
       "    }\n",
       "</style>\n",
       "<table border=\"1\" class=\"dataframe\">\n",
       "  <thead>\n",
       "    <tr style=\"text-align: right;\">\n",
       "      <th></th>\n",
       "      <th>stateresponse1_weight</th>\n",
       "      <th>stateresponse2_weight</th>\n",
       "      <th>stateresponse3_weight</th>\n",
       "      <th>stateresponse4_weight</th>\n",
       "      <th>stateresponse5_weight</th>\n",
       "      <th>stateresponse6_weight</th>\n",
       "      <th>stateresponse7_weight</th>\n",
       "    </tr>\n",
       "  </thead>\n",
       "  <tbody>\n",
       "    <tr>\n",
       "      <th>0</th>\n",
       "      <td>1</td>\n",
       "      <td>0.0</td>\n",
       "      <td>0.0</td>\n",
       "      <td>0.0</td>\n",
       "      <td>0.0</td>\n",
       "      <td>0.0</td>\n",
       "      <td>0.0</td>\n",
       "    </tr>\n",
       "    <tr>\n",
       "      <th>1</th>\n",
       "      <td>1</td>\n",
       "      <td>0.0</td>\n",
       "      <td>0.0</td>\n",
       "      <td>0.0</td>\n",
       "      <td>0.0</td>\n",
       "      <td>0.0</td>\n",
       "      <td>0.0</td>\n",
       "    </tr>\n",
       "    <tr>\n",
       "      <th>2</th>\n",
       "      <td>1</td>\n",
       "      <td>0.0</td>\n",
       "      <td>0.0</td>\n",
       "      <td>0.0</td>\n",
       "      <td>0.0</td>\n",
       "      <td>0.0</td>\n",
       "      <td>0.0</td>\n",
       "    </tr>\n",
       "    <tr>\n",
       "      <th>3</th>\n",
       "      <td>2</td>\n",
       "      <td>0.0</td>\n",
       "      <td>0.0</td>\n",
       "      <td>0.0</td>\n",
       "      <td>0.0</td>\n",
       "      <td>0.0</td>\n",
       "      <td>0.0</td>\n",
       "    </tr>\n",
       "    <tr>\n",
       "      <th>4</th>\n",
       "      <td>3</td>\n",
       "      <td>4.0</td>\n",
       "      <td>2.0</td>\n",
       "      <td>0.0</td>\n",
       "      <td>0.0</td>\n",
       "      <td>0.0</td>\n",
       "      <td>0.0</td>\n",
       "    </tr>\n",
       "    <tr>\n",
       "      <th>...</th>\n",
       "      <td>...</td>\n",
       "      <td>...</td>\n",
       "      <td>...</td>\n",
       "      <td>...</td>\n",
       "      <td>...</td>\n",
       "      <td>...</td>\n",
       "      <td>...</td>\n",
       "    </tr>\n",
       "    <tr>\n",
       "      <th>16355</th>\n",
       "      <td>3</td>\n",
       "      <td>6.0</td>\n",
       "      <td>0.0</td>\n",
       "      <td>0.0</td>\n",
       "      <td>0.0</td>\n",
       "      <td>0.0</td>\n",
       "      <td>0.0</td>\n",
       "    </tr>\n",
       "    <tr>\n",
       "      <th>16357</th>\n",
       "      <td>6</td>\n",
       "      <td>7.0</td>\n",
       "      <td>3.0</td>\n",
       "      <td>0.0</td>\n",
       "      <td>0.0</td>\n",
       "      <td>0.0</td>\n",
       "      <td>0.0</td>\n",
       "    </tr>\n",
       "    <tr>\n",
       "      <th>16358</th>\n",
       "      <td>2</td>\n",
       "      <td>0.0</td>\n",
       "      <td>0.0</td>\n",
       "      <td>0.0</td>\n",
       "      <td>0.0</td>\n",
       "      <td>0.0</td>\n",
       "      <td>0.0</td>\n",
       "    </tr>\n",
       "    <tr>\n",
       "      <th>16359</th>\n",
       "      <td>3</td>\n",
       "      <td>0.0</td>\n",
       "      <td>0.0</td>\n",
       "      <td>0.0</td>\n",
       "      <td>0.0</td>\n",
       "      <td>0.0</td>\n",
       "      <td>0.0</td>\n",
       "    </tr>\n",
       "    <tr>\n",
       "      <th>16360</th>\n",
       "      <td>1</td>\n",
       "      <td>0.0</td>\n",
       "      <td>0.0</td>\n",
       "      <td>0.0</td>\n",
       "      <td>0.0</td>\n",
       "      <td>0.0</td>\n",
       "      <td>0.0</td>\n",
       "    </tr>\n",
       "  </tbody>\n",
       "</table>\n",
       "<p>14483 rows × 7 columns</p>\n",
       "</div>"
      ],
      "text/plain": [
       "       stateresponse1_weight  stateresponse2_weight  stateresponse3_weight  \\\n",
       "0                          1                    0.0                    0.0   \n",
       "1                          1                    0.0                    0.0   \n",
       "2                          1                    0.0                    0.0   \n",
       "3                          2                    0.0                    0.0   \n",
       "4                          3                    4.0                    2.0   \n",
       "...                      ...                    ...                    ...   \n",
       "16355                      3                    6.0                    0.0   \n",
       "16357                      6                    7.0                    3.0   \n",
       "16358                      2                    0.0                    0.0   \n",
       "16359                      3                    0.0                    0.0   \n",
       "16360                      1                    0.0                    0.0   \n",
       "\n",
       "       stateresponse4_weight  stateresponse5_weight  stateresponse6_weight  \\\n",
       "0                        0.0                    0.0                    0.0   \n",
       "1                        0.0                    0.0                    0.0   \n",
       "2                        0.0                    0.0                    0.0   \n",
       "3                        0.0                    0.0                    0.0   \n",
       "4                        0.0                    0.0                    0.0   \n",
       "...                      ...                    ...                    ...   \n",
       "16355                    0.0                    0.0                    0.0   \n",
       "16357                    0.0                    0.0                    0.0   \n",
       "16358                    0.0                    0.0                    0.0   \n",
       "16359                    0.0                    0.0                    0.0   \n",
       "16360                    0.0                    0.0                    0.0   \n",
       "\n",
       "       stateresponse7_weight  \n",
       "0                        0.0  \n",
       "1                        0.0  \n",
       "2                        0.0  \n",
       "3                        0.0  \n",
       "4                        0.0  \n",
       "...                      ...  \n",
       "16355                    0.0  \n",
       "16357                    0.0  \n",
       "16358                    0.0  \n",
       "16359                    0.0  \n",
       "16360                    0.0  \n",
       "\n",
       "[14483 rows x 7 columns]"
      ]
     },
     "execution_count": 128,
     "metadata": {},
     "output_type": "execute_result"
    }
   ],
   "source": [
    "df.iloc[:,-7:]"
   ]
  },
  {
   "cell_type": "markdown",
   "metadata": {},
   "source": [
    "##### Weighted Rank Max"
   ]
  },
  {
   "cell_type": "code",
   "execution_count": 135,
   "metadata": {},
   "outputs": [],
   "source": [
    "df['stateresponse']= df[['stateresponse1_weight', 'stateresponse2_weight', 'stateresponse3_weight',\n",
    "                             'stateresponse4_weight', 'stateresponse5_weight', 'stateresponse6_weight',\n",
    "                             'stateresponse7_weight']].max(axis=1)"
   ]
  },
  {
   "cell_type": "code",
   "execution_count": 136,
   "metadata": {},
   "outputs": [],
   "source": [
    "df['stateresponse'] = df['stateresponse'].map({ 2.0 :'accomodation', 1.0:'ignore', 3:'crowd dispersal',\n",
    "                                                       4:'arrests', 5:'beatings', 6:'shootings', 7:'killings'})"
   ]
  },
  {
   "cell_type": "code",
   "execution_count": 137,
   "metadata": {},
   "outputs": [
    {
     "data": {
      "text/plain": [
       "ignore             7688\n",
       "crowd dispersal    2520\n",
       "arrests            1467\n",
       "accomodation       1012\n",
       "killings            768\n",
       "beatings            616\n",
       "shootings           412\n",
       "Name: stateresponse, dtype: int64"
      ]
     },
     "execution_count": 137,
     "metadata": {},
     "output_type": "execute_result"
    }
   ],
   "source": [
    "df['stateresponse'].value_counts()"
   ]
  },
  {
   "cell_type": "code",
   "execution_count": 138,
   "metadata": {},
   "outputs": [
    {
     "data": {
      "text/plain": [
       "<AxesSubplot:>"
      ]
     },
     "execution_count": 138,
     "metadata": {},
     "output_type": "execute_result"
    },
    {
     "data": {
      "image/png": "[encoded data removed]",
      "text/plain": [
       "<Figure size 432x288 with 1 Axes>"
      ]
     },
     "metadata": {
      "needs_background": "light"
     },
     "output_type": "display_data"
    }
   ],
   "source": [
    "df['stateresponse'].value_counts().plot(kind = 'bar')"
   ]
  },
  {
   "cell_type": "code",
   "execution_count": 139,
   "metadata": {},
   "outputs": [],
   "source": [
    "X = df['stateresponse'].value_counts()\n",
    "#y = ['Ignore', 'Crowd Dispersal', 'Arrests', 'Accomodation', 'Killings', 'Beatings', 'Shootings']"
   ]
  },
  {
   "cell_type": "code",
   "execution_count": 140,
   "metadata": {},
   "outputs": [
    {
     "data": {
      "image/png": "[encoded data removed]",
      "text/plain": [
       "<Figure size 432x288 with 1 Axes>"
      ]
     },
     "metadata": {
      "needs_background": "light"
     },
     "output_type": "display_data"
    }
   ],
   "source": [
    "sns.barplot(x = y, y = X)\n",
    "plt.xticks(rotation = 45);"
   ]
  },
  {
   "cell_type": "code",
   "execution_count": 142,
   "metadata": {},
   "outputs": [],
   "source": [
    "df.drop(columns=['stateresponse1',\n",
    "       'stateresponse2', 'stateresponse3', 'stateresponse4', 'stateresponse5',\n",
    "       'stateresponse6', 'stateresponse7', 'stateresponse1_weight',\n",
    "       'stateresponse2_weight', 'stateresponse3_weight',\n",
    "       'stateresponse4_weight', 'stateresponse5_weight',\n",
    "       'stateresponse6_weight', 'stateresponse7_weight'], inplace=True)"
   ]
  },
  {
   "cell_type": "code",
   "execution_count": 143,
   "metadata": {},
   "outputs": [
    {
     "data": {
      "text/plain": [
       "Index(['country', 'year', 'region', 'protestnumber', 'startday', 'startmonth',\n",
       "       'startyear', 'endday', 'endmonth', 'endyear', 'protesterviolence',\n",
       "       'participants', 'protesterdemand1', 'protesterdemand2',\n",
       "       'protesterdemand3', 'protesterdemand4', 'notes', 'stateresponse'],\n",
       "      dtype='object')"
      ]
     },
     "execution_count": 143,
     "metadata": {},
     "output_type": "execute_result"
    }
   ],
   "source": [
    "df.columns"
   ]
  },
  {
   "cell_type": "code",
   "execution_count": 144,
   "metadata": {},
   "outputs": [
    {
     "name": "stdout",
     "output_type": "stream",
     "text": [
      "<class 'pandas.core.frame.DataFrame'>\n",
      "Int64Index: 14483 entries, 0 to 16360\n",
      "Data columns (total 18 columns):\n",
      " #   Column             Non-Null Count  Dtype  \n",
      "---  ------             --------------  -----  \n",
      " 0   country            14483 non-null  object \n",
      " 1   year               14483 non-null  int64  \n",
      " 2   region             14483 non-null  object \n",
      " 3   protestnumber      14483 non-null  int64  \n",
      " 4   startday           14483 non-null  float64\n",
      " 5   startmonth         14483 non-null  float64\n",
      " 6   startyear          14483 non-null  float64\n",
      " 7   endday             14483 non-null  float64\n",
      " 8   endmonth           14483 non-null  float64\n",
      " 9   endyear            14483 non-null  float64\n",
      " 10  protesterviolence  14483 non-null  float64\n",
      " 11  participants       14471 non-null  object \n",
      " 12  protesterdemand1   14474 non-null  object \n",
      " 13  protesterdemand2   2665 non-null   object \n",
      " 14  protesterdemand3   315 non-null    object \n",
      " 15  protesterdemand4   766 non-null    object \n",
      " 16  notes              14437 non-null  object \n",
      " 17  stateresponse      14483 non-null  object \n",
      "dtypes: float64(7), int64(2), object(9)\n",
      "memory usage: 2.1+ MB\n"
     ]
    }
   ],
   "source": [
    "df.info()"
   ]
  },
  {
   "cell_type": "markdown",
   "metadata": {},
   "source": [
    "# Clean Protester Demands"
   ]
  },
  {
   "cell_type": "code",
   "execution_count": 145,
   "metadata": {},
   "outputs": [
    {
     "data": {
      "text/plain": [
       "political behavior, process    9167\n",
       "labor wage dispute             1661\n",
       "price increases, tax policy    1056\n",
       "removal of politician           949\n",
       "police brutality                782\n",
       "land farm issue                 447\n",
       "social restrictions             412\n",
       "Name: protesterdemand1, dtype: int64"
      ]
     },
     "execution_count": 145,
     "metadata": {},
     "output_type": "execute_result"
    }
   ],
   "source": [
    "df['protesterdemand1'].value_counts()"
   ]
  },
  {
   "cell_type": "code",
   "execution_count": 146,
   "metadata": {},
   "outputs": [
    {
     "data": {
      "text/plain": [
       "(14483, 18)"
      ]
     },
     "execution_count": 146,
     "metadata": {},
     "output_type": "execute_result"
    }
   ],
   "source": [
    "df.shape"
   ]
  },
  {
   "cell_type": "code",
   "execution_count": 147,
   "metadata": {},
   "outputs": [],
   "source": [
    "df = df[df['protesterdemand1'].notnull()]"
   ]
  },
  {
   "cell_type": "code",
   "execution_count": 148,
   "metadata": {},
   "outputs": [
    {
     "data": {
      "text/plain": [
       "(14474, 18)"
      ]
     },
     "execution_count": 148,
     "metadata": {},
     "output_type": "execute_result"
    }
   ],
   "source": [
    "df.shape"
   ]
  },
  {
   "cell_type": "code",
   "execution_count": 149,
   "metadata": {},
   "outputs": [
    {
     "data": {
      "text/plain": [
       "political behavior, process    970\n",
       "removal of politician          602\n",
       "labor wage dispute             413\n",
       "price increases, tax policy    201\n",
       "social restrictions            200\n",
       "police brutality               179\n",
       "land farm issue                100\n",
       "Name: protesterdemand2, dtype: int64"
      ]
     },
     "execution_count": 149,
     "metadata": {},
     "output_type": "execute_result"
    }
   ],
   "source": [
    "df['protesterdemand2'].value_counts()"
   ]
  },
  {
   "cell_type": "code",
   "execution_count": 150,
   "metadata": {},
   "outputs": [
    {
     "data": {
      "text/plain": [
       "price increases, tax policy    110\n",
       "labor wage dispute              60\n",
       "removal of politician           56\n",
       "political behavior, process     35\n",
       "police brutality                28\n",
       "social restrictions             14\n",
       "land farm issue                 12\n",
       "Name: protesterdemand3, dtype: int64"
      ]
     },
     "execution_count": 150,
     "metadata": {},
     "output_type": "execute_result"
    }
   ],
   "source": [
    "df['protesterdemand3'].value_counts()"
   ]
  },
  {
   "cell_type": "code",
   "execution_count": 151,
   "metadata": {},
   "outputs": [
    {
     "data": {
      "text/plain": [
       ".                              744\n",
       "police brutality                 7\n",
       "removal of politician            5\n",
       "political behavior, process      3\n",
       "land farm issue                  3\n",
       "labor wage dispute               2\n",
       "price increases, tax policy      2\n",
       "Name: protesterdemand4, dtype: int64"
      ]
     },
     "execution_count": 151,
     "metadata": {},
     "output_type": "execute_result"
    }
   ],
   "source": [
    "df['protesterdemand4'].value_counts()"
   ]
  },
  {
   "cell_type": "code",
   "execution_count": 152,
   "metadata": {},
   "outputs": [],
   "source": [
    "# Create a list of all the demand columns\n",
    "demands = ['protesterdemand1', 'protesterdemand2', 'protesterdemand3', 'protesterdemand4']"
   ]
  },
  {
   "cell_type": "code",
   "execution_count": 153,
   "metadata": {},
   "outputs": [
    {
     "name": "stderr",
     "output_type": "stream",
     "text": [
      "<ipython-input-153-4dc47588d956>:2: SettingWithCopyWarning: \n",
      "A value is trying to be set on a copy of a slice from a DataFrame.\n",
      "Try using .loc[row_indexer,col_indexer] = value instead\n",
      "\n",
      "See the caveats in the documentation: https://pandas.pydata.org/pandas-docs/stable/user_guide/indexing.html#returning-a-view-versus-a-copy\n",
      "  df['protesterdemands'] = df[demands].values.tolist()\n"
     ]
    }
   ],
   "source": [
    "# Combine the different protester demand columns into a list inside a single column\n",
    "df['protesterdemands'] = df[demands].values.tolist()\n",
    "\n",
    "# Source: https://stackoverflow.com/questions/43898035/pandas-combine-column-values-into-a-list-in-a-new-column"
   ]
  },
  {
   "cell_type": "code",
   "execution_count": 154,
   "metadata": {},
   "outputs": [],
   "source": [
    "# Turn the list of protester demands into dummy columns\n",
    "demand_dummy = pd.get_dummies(df['protesterdemands'].apply(pd.Series).stack(), drop_first=True).sum(level=0)\n",
    "\n",
    "# Source: https://stackoverflow.com/questions/29034928/pandas-convert-a-column-of-list-to-dummies"
   ]
  },
  {
   "cell_type": "code",
   "execution_count": 155,
   "metadata": {},
   "outputs": [
    {
     "data": {
      "text/html": [
       "<div>\n",
       "<style scoped>\n",
       "    .dataframe tbody tr th:only-of-type {\n",
       "        vertical-align: middle;\n",
       "    }\n",
       "\n",
       "    .dataframe tbody tr th {\n",
       "        vertical-align: top;\n",
       "    }\n",
       "\n",
       "    .dataframe thead th {\n",
       "        text-align: right;\n",
       "    }\n",
       "</style>\n",
       "<table border=\"1\" class=\"dataframe\">\n",
       "  <thead>\n",
       "    <tr style=\"text-align: right;\">\n",
       "      <th></th>\n",
       "      <th>labor wage dispute</th>\n",
       "      <th>land farm issue</th>\n",
       "      <th>police brutality</th>\n",
       "      <th>political behavior, process</th>\n",
       "      <th>price increases, tax policy</th>\n",
       "      <th>removal of politician</th>\n",
       "      <th>social restrictions</th>\n",
       "    </tr>\n",
       "  </thead>\n",
       "  <tbody>\n",
       "    <tr>\n",
       "      <th>0</th>\n",
       "      <td>1</td>\n",
       "      <td>0</td>\n",
       "      <td>0</td>\n",
       "      <td>1</td>\n",
       "      <td>0</td>\n",
       "      <td>0</td>\n",
       "      <td>0</td>\n",
       "    </tr>\n",
       "    <tr>\n",
       "      <th>1</th>\n",
       "      <td>0</td>\n",
       "      <td>0</td>\n",
       "      <td>0</td>\n",
       "      <td>1</td>\n",
       "      <td>0</td>\n",
       "      <td>0</td>\n",
       "      <td>0</td>\n",
       "    </tr>\n",
       "    <tr>\n",
       "      <th>2</th>\n",
       "      <td>0</td>\n",
       "      <td>0</td>\n",
       "      <td>0</td>\n",
       "      <td>1</td>\n",
       "      <td>0</td>\n",
       "      <td>0</td>\n",
       "      <td>0</td>\n",
       "    </tr>\n",
       "    <tr>\n",
       "      <th>3</th>\n",
       "      <td>0</td>\n",
       "      <td>1</td>\n",
       "      <td>0</td>\n",
       "      <td>0</td>\n",
       "      <td>0</td>\n",
       "      <td>0</td>\n",
       "      <td>0</td>\n",
       "    </tr>\n",
       "    <tr>\n",
       "      <th>4</th>\n",
       "      <td>0</td>\n",
       "      <td>0</td>\n",
       "      <td>0</td>\n",
       "      <td>1</td>\n",
       "      <td>0</td>\n",
       "      <td>0</td>\n",
       "      <td>0</td>\n",
       "    </tr>\n",
       "  </tbody>\n",
       "</table>\n",
       "</div>"
      ],
      "text/plain": [
       "   labor wage dispute  land farm issue  police brutality  \\\n",
       "0                   1                0                 0   \n",
       "1                   0                0                 0   \n",
       "2                   0                0                 0   \n",
       "3                   0                1                 0   \n",
       "4                   0                0                 0   \n",
       "\n",
       "   political behavior, process  price increases, tax policy  \\\n",
       "0                            1                            0   \n",
       "1                            1                            0   \n",
       "2                            1                            0   \n",
       "3                            0                            0   \n",
       "4                            1                            0   \n",
       "\n",
       "   removal of politician  social restrictions  \n",
       "0                      0                    0  \n",
       "1                      0                    0  \n",
       "2                      0                    0  \n",
       "3                      0                    0  \n",
       "4                      0                    0  "
      ]
     },
     "execution_count": 155,
     "metadata": {},
     "output_type": "execute_result"
    }
   ],
   "source": [
    "demand_dummy.head()"
   ]
  },
  {
   "cell_type": "code",
   "execution_count": 156,
   "metadata": {},
   "outputs": [],
   "source": [
    "# Add the dummy columns back into the original data frame\n",
    "df = pd.concat([df, demand_dummy], axis =1)"
   ]
  },
  {
   "cell_type": "code",
   "execution_count": 157,
   "metadata": {},
   "outputs": [
    {
     "data": {
      "text/html": [
       "<div>\n",
       "<style scoped>\n",
       "    .dataframe tbody tr th:only-of-type {\n",
       "        vertical-align: middle;\n",
       "    }\n",
       "\n",
       "    .dataframe tbody tr th {\n",
       "        vertical-align: top;\n",
       "    }\n",
       "\n",
       "    .dataframe thead th {\n",
       "        text-align: right;\n",
       "    }\n",
       "</style>\n",
       "<table border=\"1\" class=\"dataframe\">\n",
       "  <thead>\n",
       "    <tr style=\"text-align: right;\">\n",
       "      <th></th>\n",
       "      <th>country</th>\n",
       "      <th>year</th>\n",
       "      <th>region</th>\n",
       "      <th>protestnumber</th>\n",
       "      <th>startday</th>\n",
       "      <th>startmonth</th>\n",
       "      <th>startyear</th>\n",
       "      <th>endday</th>\n",
       "      <th>endmonth</th>\n",
       "      <th>endyear</th>\n",
       "      <th>...</th>\n",
       "      <th>notes</th>\n",
       "      <th>stateresponse</th>\n",
       "      <th>protesterdemands</th>\n",
       "      <th>labor wage dispute</th>\n",
       "      <th>land farm issue</th>\n",
       "      <th>police brutality</th>\n",
       "      <th>political behavior, process</th>\n",
       "      <th>price increases, tax policy</th>\n",
       "      <th>removal of politician</th>\n",
       "      <th>social restrictions</th>\n",
       "    </tr>\n",
       "  </thead>\n",
       "  <tbody>\n",
       "    <tr>\n",
       "      <th>0</th>\n",
       "      <td>Canada</td>\n",
       "      <td>1990</td>\n",
       "      <td>North America</td>\n",
       "      <td>1</td>\n",
       "      <td>15.0</td>\n",
       "      <td>1.0</td>\n",
       "      <td>1990.0</td>\n",
       "      <td>15.0</td>\n",
       "      <td>1.0</td>\n",
       "      <td>1990.0</td>\n",
       "      <td>...</td>\n",
       "      <td>Canada s railway passenger system was finally...</td>\n",
       "      <td>ignore</td>\n",
       "      <td>[political behavior, process, labor wage dispu...</td>\n",
       "      <td>1</td>\n",
       "      <td>0</td>\n",
       "      <td>0</td>\n",
       "      <td>1</td>\n",
       "      <td>0</td>\n",
       "      <td>0</td>\n",
       "      <td>0</td>\n",
       "    </tr>\n",
       "    <tr>\n",
       "      <th>1</th>\n",
       "      <td>Canada</td>\n",
       "      <td>1990</td>\n",
       "      <td>North America</td>\n",
       "      <td>2</td>\n",
       "      <td>25.0</td>\n",
       "      <td>6.0</td>\n",
       "      <td>1990.0</td>\n",
       "      <td>25.0</td>\n",
       "      <td>6.0</td>\n",
       "      <td>1990.0</td>\n",
       "      <td>...</td>\n",
       "      <td>protestors were only identified as  young peop...</td>\n",
       "      <td>ignore</td>\n",
       "      <td>[political behavior, process, nan, nan, nan]</td>\n",
       "      <td>0</td>\n",
       "      <td>0</td>\n",
       "      <td>0</td>\n",
       "      <td>1</td>\n",
       "      <td>0</td>\n",
       "      <td>0</td>\n",
       "      <td>0</td>\n",
       "    </tr>\n",
       "    <tr>\n",
       "      <th>2</th>\n",
       "      <td>Canada</td>\n",
       "      <td>1990</td>\n",
       "      <td>North America</td>\n",
       "      <td>3</td>\n",
       "      <td>1.0</td>\n",
       "      <td>7.0</td>\n",
       "      <td>1990.0</td>\n",
       "      <td>1.0</td>\n",
       "      <td>7.0</td>\n",
       "      <td>1990.0</td>\n",
       "      <td>...</td>\n",
       "      <td>THE Queen, after calling on Canadians to rema...</td>\n",
       "      <td>ignore</td>\n",
       "      <td>[political behavior, process, nan, nan, nan]</td>\n",
       "      <td>0</td>\n",
       "      <td>0</td>\n",
       "      <td>0</td>\n",
       "      <td>1</td>\n",
       "      <td>0</td>\n",
       "      <td>0</td>\n",
       "      <td>0</td>\n",
       "    </tr>\n",
       "    <tr>\n",
       "      <th>3</th>\n",
       "      <td>Canada</td>\n",
       "      <td>1990</td>\n",
       "      <td>North America</td>\n",
       "      <td>4</td>\n",
       "      <td>12.0</td>\n",
       "      <td>7.0</td>\n",
       "      <td>1990.0</td>\n",
       "      <td>6.0</td>\n",
       "      <td>9.0</td>\n",
       "      <td>1990.0</td>\n",
       "      <td>...</td>\n",
       "      <td>Canada s federal government has agreed to acq...</td>\n",
       "      <td>accomodation</td>\n",
       "      <td>[land farm issue, nan, nan, nan]</td>\n",
       "      <td>0</td>\n",
       "      <td>1</td>\n",
       "      <td>0</td>\n",
       "      <td>0</td>\n",
       "      <td>0</td>\n",
       "      <td>0</td>\n",
       "      <td>0</td>\n",
       "    </tr>\n",
       "    <tr>\n",
       "      <th>4</th>\n",
       "      <td>Canada</td>\n",
       "      <td>1990</td>\n",
       "      <td>North America</td>\n",
       "      <td>5</td>\n",
       "      <td>14.0</td>\n",
       "      <td>8.0</td>\n",
       "      <td>1990.0</td>\n",
       "      <td>15.0</td>\n",
       "      <td>8.0</td>\n",
       "      <td>1990.0</td>\n",
       "      <td>...</td>\n",
       "      <td>Protests were directed against the state due t...</td>\n",
       "      <td>arrests</td>\n",
       "      <td>[political behavior, process, nan, nan, nan]</td>\n",
       "      <td>0</td>\n",
       "      <td>0</td>\n",
       "      <td>0</td>\n",
       "      <td>1</td>\n",
       "      <td>0</td>\n",
       "      <td>0</td>\n",
       "      <td>0</td>\n",
       "    </tr>\n",
       "  </tbody>\n",
       "</table>\n",
       "<p>5 rows × 26 columns</p>\n",
       "</div>"
      ],
      "text/plain": [
       "  country  year         region  protestnumber  startday  startmonth  \\\n",
       "0  Canada  1990  North America              1      15.0         1.0   \n",
       "1  Canada  1990  North America              2      25.0         6.0   \n",
       "2  Canada  1990  North America              3       1.0         7.0   \n",
       "3  Canada  1990  North America              4      12.0         7.0   \n",
       "4  Canada  1990  North America              5      14.0         8.0   \n",
       "\n",
       "   startyear  endday  endmonth  endyear  ...  \\\n",
       "0     1990.0    15.0       1.0   1990.0  ...   \n",
       "1     1990.0    25.0       6.0   1990.0  ...   \n",
       "2     1990.0     1.0       7.0   1990.0  ...   \n",
       "3     1990.0     6.0       9.0   1990.0  ...   \n",
       "4     1990.0    15.0       8.0   1990.0  ...   \n",
       "\n",
       "                                               notes stateresponse  \\\n",
       "0   Canada s railway passenger system was finally...        ignore   \n",
       "1  protestors were only identified as  young peop...        ignore   \n",
       "2   THE Queen, after calling on Canadians to rema...        ignore   \n",
       "3   Canada s federal government has agreed to acq...  accomodation   \n",
       "4  Protests were directed against the state due t...       arrests   \n",
       "\n",
       "                                    protesterdemands labor wage dispute  \\\n",
       "0  [political behavior, process, labor wage dispu...                  1   \n",
       "1       [political behavior, process, nan, nan, nan]                  0   \n",
       "2       [political behavior, process, nan, nan, nan]                  0   \n",
       "3                   [land farm issue, nan, nan, nan]                  0   \n",
       "4       [political behavior, process, nan, nan, nan]                  0   \n",
       "\n",
       "  land farm issue police brutality political behavior, process  \\\n",
       "0               0                0                           1   \n",
       "1               0                0                           1   \n",
       "2               0                0                           1   \n",
       "3               1                0                           0   \n",
       "4               0                0                           1   \n",
       "\n",
       "  price increases, tax policy removal of politician  social restrictions  \n",
       "0                           0                     0                    0  \n",
       "1                           0                     0                    0  \n",
       "2                           0                     0                    0  \n",
       "3                           0                     0                    0  \n",
       "4                           0                     0                    0  \n",
       "\n",
       "[5 rows x 26 columns]"
      ]
     },
     "execution_count": 157,
     "metadata": {},
     "output_type": "execute_result"
    }
   ],
   "source": [
    "df.head()"
   ]
  },
  {
   "cell_type": "code",
   "execution_count": 158,
   "metadata": {},
   "outputs": [],
   "source": [
    "# Drop old columns\n",
    "df.drop(columns=['protesterdemand1','protesterdemand2', 'protesterdemand3', 'protesterdemand4', 'protesterdemands'], inplace=True)"
   ]
  },
  {
   "cell_type": "code",
   "execution_count": 168,
   "metadata": {},
   "outputs": [],
   "source": [
    "# Recode the 2 in 'removal of politician' column to 1\n",
    "df['removal of politician'] = df['removal of politician'].replace([2],1)\n"
   ]
  },
  {
   "cell_type": "markdown",
   "metadata": {},
   "source": [
    "### Some EDA on protester demands"
   ]
  },
  {
   "cell_type": "code",
   "execution_count": 169,
   "metadata": {},
   "outputs": [
    {
     "data": {
      "text/plain": [
       "0    12338\n",
       "1     2136\n",
       "Name: labor wage dispute, dtype: int64"
      ]
     },
     "execution_count": 169,
     "metadata": {},
     "output_type": "execute_result"
    }
   ],
   "source": [
    "df['labor wage dispute'].value_counts()"
   ]
  },
  {
   "cell_type": "code",
   "execution_count": 170,
   "metadata": {},
   "outputs": [
    {
     "data": {
      "text/plain": [
       "2136"
      ]
     },
     "execution_count": 170,
     "metadata": {},
     "output_type": "execute_result"
    }
   ],
   "source": [
    "# ^ same as the sum of the count of labor wage dispute for the 4 demand columns\n",
    "1661 + 413 + 60 + 2"
   ]
  },
  {
   "cell_type": "code",
   "execution_count": 171,
   "metadata": {},
   "outputs": [
    {
     "data": {
      "text/plain": [
       "0    13912\n",
       "1      562\n",
       "Name: land farm issue, dtype: int64"
      ]
     },
     "execution_count": 171,
     "metadata": {},
     "output_type": "execute_result"
    }
   ],
   "source": [
    "df['land farm issue'].value_counts()"
   ]
  },
  {
   "cell_type": "code",
   "execution_count": 172,
   "metadata": {},
   "outputs": [
    {
     "data": {
      "text/plain": [
       "0    13478\n",
       "1      996\n",
       "Name: police brutality, dtype: int64"
      ]
     },
     "execution_count": 172,
     "metadata": {},
     "output_type": "execute_result"
    }
   ],
   "source": [
    "df['police brutality'].value_counts()"
   ]
  },
  {
   "cell_type": "code",
   "execution_count": 173,
   "metadata": {},
   "outputs": [
    {
     "data": {
      "text/plain": [
       "1    10175\n",
       "0     4299\n",
       "Name: political behavior, process, dtype: int64"
      ]
     },
     "execution_count": 173,
     "metadata": {},
     "output_type": "execute_result"
    }
   ],
   "source": [
    "df['political behavior, process'].value_counts()"
   ]
  },
  {
   "cell_type": "code",
   "execution_count": 174,
   "metadata": {},
   "outputs": [
    {
     "data": {
      "text/plain": [
       "0    13105\n",
       "1     1369\n",
       "Name: price increases, tax policy, dtype: int64"
      ]
     },
     "execution_count": 174,
     "metadata": {},
     "output_type": "execute_result"
    }
   ],
   "source": [
    "df['price increases, tax policy'].value_counts()"
   ]
  },
  {
   "cell_type": "code",
   "execution_count": 175,
   "metadata": {},
   "outputs": [
    {
     "data": {
      "text/plain": [
       "0    12864\n",
       "1     1610\n",
       "Name: removal of politician, dtype: int64"
      ]
     },
     "execution_count": 175,
     "metadata": {},
     "output_type": "execute_result"
    }
   ],
   "source": [
    "df['removal of politician'].value_counts()"
   ]
  },
  {
   "cell_type": "code",
   "execution_count": 176,
   "metadata": {},
   "outputs": [
    {
     "data": {
      "text/plain": [
       "0    13848\n",
       "1      626\n",
       "Name: social restrictions, dtype: int64"
      ]
     },
     "execution_count": 176,
     "metadata": {},
     "output_type": "execute_result"
    }
   ],
   "source": [
    "df['social restrictions'].value_counts()"
   ]
  },
  {
   "cell_type": "code",
   "execution_count": 177,
   "metadata": {},
   "outputs": [
    {
     "data": {
      "text/plain": [
       "Index(['country', 'year', 'region', 'protestnumber', 'startday', 'startmonth',\n",
       "       'startyear', 'endday', 'endmonth', 'endyear', 'protesterviolence',\n",
       "       'participants', 'notes', 'stateresponse', 'labor wage dispute',\n",
       "       'land farm issue', 'police brutality', 'political behavior, process',\n",
       "       'price increases, tax policy', 'removal of politician',\n",
       "       'social restrictions'],\n",
       "      dtype='object')"
      ]
     },
     "execution_count": 177,
     "metadata": {},
     "output_type": "execute_result"
    }
   ],
   "source": [
    "df.columns"
   ]
  },
  {
   "cell_type": "code",
   "execution_count": 178,
   "metadata": {},
   "outputs": [],
   "source": [
    "demands_list = ['labor wage dispute', 'land farm issue', 'police brutality', 'political behavior, process',\n",
    "       'price increases, tax policy', 'removal of politician', 'social restrictions']"
   ]
  },
  {
   "cell_type": "code",
   "execution_count": null,
   "metadata": {},
   "outputs": [],
   "source": []
  },
  {
   "cell_type": "code",
   "execution_count": 179,
   "metadata": {},
   "outputs": [
    {
     "data": {
      "image/png": "[encoded data removed]",
      "text/plain": [
       "<Figure size 432x432 with 1 Axes>"
      ]
     },
     "metadata": {
      "needs_background": "light"
     },
     "output_type": "display_data"
    }
   ],
   "source": [
    "plt.figure(figsize = (6,6))\n",
    "demands_fig = df[demands_list].sum().sort_values(ascending=False)\n",
    "plt.title('Most Common Protest Demands')\n",
    "plt.bar(demands_fig.index, demands_fig)\n",
    "plt.xticks(rotation = 70);\n",
    "\n",
    "    \n"
   ]
  },
  {
   "cell_type": "code",
   "execution_count": 180,
   "metadata": {},
   "outputs": [
    {
     "name": "stdout",
     "output_type": "stream",
     "text": [
      "<class 'pandas.core.frame.DataFrame'>\n",
      "Int64Index: 14474 entries, 0 to 16360\n",
      "Data columns (total 21 columns):\n",
      " #   Column                       Non-Null Count  Dtype  \n",
      "---  ------                       --------------  -----  \n",
      " 0   country                      14474 non-null  object \n",
      " 1   year                         14474 non-null  int64  \n",
      " 2   region                       14474 non-null  object \n",
      " 3   protestnumber                14474 non-null  int64  \n",
      " 4   startday                     14474 non-null  float64\n",
      " 5   startmonth                   14474 non-null  float64\n",
      " 6   startyear                    14474 non-null  float64\n",
      " 7   endday                       14474 non-null  float64\n",
      " 8   endmonth                     14474 non-null  float64\n",
      " 9   endyear                      14474 non-null  float64\n",
      " 10  protesterviolence            14474 non-null  float64\n",
      " 11  participants                 14462 non-null  object \n",
      " 12  notes                        14428 non-null  object \n",
      " 13  stateresponse                14474 non-null  object \n",
      " 14  labor wage dispute           14474 non-null  uint8  \n",
      " 15  land farm issue              14474 non-null  uint8  \n",
      " 16  police brutality             14474 non-null  uint8  \n",
      " 17  political behavior, process  14474 non-null  uint8  \n",
      " 18  price increases, tax policy  14474 non-null  uint8  \n",
      " 19  removal of politician        14474 non-null  uint8  \n",
      " 20  social restrictions          14474 non-null  uint8  \n",
      "dtypes: float64(7), int64(2), object(5), uint8(7)\n",
      "memory usage: 2.4+ MB\n"
     ]
    }
   ],
   "source": [
    "df.info()"
   ]
  },
  {
   "cell_type": "markdown",
   "metadata": {},
   "source": [
    "# Clean Participants"
   ]
  },
  {
   "cell_type": "code",
   "execution_count": 183,
   "metadata": {},
   "outputs": [
    {
     "data": {
      "text/plain": [
       "0"
      ]
     },
     "execution_count": 183,
     "metadata": {},
     "output_type": "execute_result"
    }
   ],
   "source": [
    "df['participants'].isnull().sum()"
   ]
  },
  {
   "cell_type": "code",
   "execution_count": 182,
   "metadata": {},
   "outputs": [],
   "source": [
    "df.fillna(50, inplace=True)"
   ]
  },
  {
   "cell_type": "code",
   "execution_count": 184,
   "metadata": {},
   "outputs": [],
   "source": [
    "#10s\n",
    "df['participants'] = df['participants'].replace(['50+', '>50', '.', 'dozens', '> 50', '10s', '51+', \n",
    "                                                '57 former estate workers', 'scores (>50)', 'About 50 activists', \n",
    "                                                '50_', '50s', 'dozens arrested', 'About 50 protesters', \n",
    "                                                'Some 50 members', 'around 50', '<50', 'more than a dozen schools', \n",
    "                                                '> 50', 'teachers and pupils', 'Demonstrators', 'Civilians; a crowd', \n",
    "                                                'About 50', 'Volunteers and a line formed of people participating to cook beef and share it with strangers in the streets', \n",
    "                                                '50 people', 'several dozen', 'several dozens', 'Crowds', 'a group', \n",
    "                                                'a few dozen', 'few dozen', 'Dozens', 'scores', 'dozens arrested ',\n",
    "                                                 '> 50 '], 50)\n",
    "\n",
    "df['participants'] = df['participants'].replace(['>55'], 55)\n",
    "\n",
    "df['participants'] = df['participants'].replace(['>56'], 56)\n",
    "\n",
    "df['participants'] = df['participants'].replace(['50-60', '>60', '60+'], 60)\n",
    "\n",
    "df['participants'] = df['participants'].replace(['64+'], 64)\n",
    "\n",
    "df['participants'] = df['participants'].replace(['Nearly 70 parents', '> 70', '>70', '70+', '60-70'], 70)\n",
    "\n",
    "df['participants'] = df['participants'].replace(['About 80', '80+', '>80'], 80)"
   ]
  },
  {
   "cell_type": "code",
   "execution_count": 185,
   "metadata": {},
   "outputs": [],
   "source": [
    "#100s\n",
    "df['participants'] = df['participants'].replace(['>100', '100+', 'About 100', 'more than 100', 'About 100 villagers', \n",
    "                                                '80-100', 'At least 100', 'About 100 activists, including 39 suspects who were summoned, and 66 more suspects who would be summoned to face charges later', \n",
    "                                                'about 100', 'Over 100', '50-100', '> 50 < 100', '50-99', 'Some 100 residents', \n",
    "                                                '90+', 'About 100 taxis', '97 public organisations', 'More than 100 people', \n",
    "                                                'About 100 people', '<100', '> 100', 'About a hundred protesters',\n",
    "                                                 '> 50 < 100 ', 'Some 100 demonstrators'], 100)\n",
    "\n",
    "df['participants'] = df['participants'].replace(['>115'], 115)\n",
    "\n",
    "df['participants'] = df['participants'].replace(['About 120'], 120)\n",
    "\n",
    "df['participants'] = df['participants'].replace(['130+', 'ABOUT 130 members', '>130'], 130)\n",
    "\n",
    "df['participants'] = df['participants'].replace(['132+'], 132)\n",
    "\n",
    "df['participants'] = df['participants'].replace(['140+'], 140)\n",
    "\n",
    "df['participants'] = df['participants'].replace(['about 150', 'About 150 protesters', '150+', '>150'], 150)\n",
    "\n",
    "df['participants'] = df['participants'].replace(['>170'], 170)\n",
    "\n",
    "df['participants'] = df['participants'].replace(['200+', '>200', 'More than 200 campaigners', '150-200', 'Almost 200', \n",
    "                                                'Around 200 protesters', 'Over 200 local protesters', 'About 200 people', \n",
    "                                                '<200', 'About 200', 'more than 200', '> 200'], 200)\n",
    "\n",
    "df['participants'] = df['participants'].replace(['>213'], 213)\n",
    "\n",
    "df['participants'] = df['participants'].replace(['>222'], 222)\n",
    "\n",
    "df['participants'] = df['participants'].replace(['>224'], 224)\n",
    "\n",
    "df['participants'] = df['participants'].replace(['250+', 'Some 250 residents', '>250'], 250)\n",
    "\n",
    "df['participants'] = df['participants'].replace(['>280'], 280)\n",
    "\n",
    "df['participants'] = df['participants'].replace(['100s', '>50-100s', 'hundreds', 'Hundreds', \n",
    "                                                 'several hundred', 'Hundreds of student protesters', \n",
    "                                                 '>300', '>250-300', '> 300', 'a few hundred', 'busloads', \n",
    "                                                 '28 LGBT groups', '150-300', '<300', 'Several hundred demonstrators', \n",
    "                                                 'A few hundred people', 'About 300 people', 'Hundreds of residents',\n",
    "                                                 '300s', 'Protesters on whom the government security forces used water cannons, rubber bullets and batons', \n",
    "                                                 'Up to 300 people', '12 arrested', 'Hundreds of Venezuelans', \n",
    "                                                 'More than 300 people', 'A general strike that paralysed Venezuela', \n",
    "                                                 'Hundreds of college students', 'Hundreds of youths', \n",
    "                                                 'Several hundred', 'increasingly large gatherings', \n",
    "                                                 'Around 300 local people', 'Hundreds of villagers', \n",
    "                                                 'about 300', '250-300', 'About 300', 'About 300 protesters', \n",
    "                                                 'Hundreds of workers', '100S', '100s+', 'hundreds', 'Hundreds of people',\n",
    "                                                 'hundreds', 'A few hundred', 'several hundreds', '200-300',\n",
    "                                                 '300+', 'hundreds ', 'hundreds  '], 300)\n",
    "\n",
    "df['participants'] = df['participants'].replace(['>340'], 340)\n",
    "\n",
    "df['participants'] = df['participants'].replace(['350+', '300-350', '>350'], 350)\n",
    "\n",
    "df['participants'] = df['participants'].replace(['>370'], 370)\n",
    "\n",
    "df['participants'] = df['participants'].replace(['300-400', 'About 400', '200-400', '350-400',\n",
    "                                                 '> 400', '>400', '400+'], 400)\n",
    "\n",
    "df['participants'] = df['participants'].replace(['>440', '> 450'], 450)\n",
    "\n",
    "df['participants'] = df['participants'].replace(['500+', '20 arrested', '<500', '230 families', 'more than 500',\n",
    "                                                 'at least 500', 'Nearly 500 supporters', '500+', 'About 500 people',\n",
    "                                                 'Nearly 500', 'Some 500 people', 'About 500 demonstrators',\n",
    "                                                 '>459', '260-500', '100s-500', '500 people', '300-500', \n",
    "                                                 '400-500', 'About 500', '> 500', '>500', '500+ '], 500)\n",
    "\n",
    "df['participants'] = df['participants'].replace(['520+'], 520)\n",
    "\n",
    "df['participants'] = df['participants'].replace(['567+'], 567)\n",
    "\n",
    "df['participants'] = df['participants'].replace(['In northern Chiang Mai province, 200 kamnans and village heads; in Phetchaburi, about 400 kamnans and village heads',\n",
    "                                                 '500-600', '400-600+', 'several dozen arrests', '>600', '600+',\n",
    "                                                 'dozens arrested'], 600)\n",
    "\n",
    "df['participants'] = df['participants'].replace(['25 protesters injured'], 625)\n",
    "\n",
    "df['participants'] = df['participants'].replace(['500-700', '> 700', '600-700', '>700', '700+'], 700)\n",
    "\n",
    "df['participants'] = df['participants'].replace(['30 arrested'], 750)\n",
    "\n",
    "df['participants'] = df['participants'].replace(['>800', '> 800', '800+'], 800)\n",
    "\n",
    "df['participants'] = df['participants'].replace(['800-900', '<900'], 900)\n",
    "\n",
    "#https://datatofish.com/replace-values-pandas-dataframe/"
   ]
  },
  {
   "cell_type": "code",
   "execution_count": 186,
   "metadata": {},
   "outputs": [],
   "source": [
    "#1,000s\n",
    "\n",
    "df['participants'] = df['participants'].replace(['>1000', '1000+', 'More than 1,000', '>50-1000',\n",
    "                                                 '100 wounded', '700 - >1000', '300-1000s',\n",
    "                                                 'several 1000s', 'More than 1,000 teachers',\n",
    "                                                 '500-1000', 'more than 1000', '100s-1000', 'About 1000',\n",
    "                                                 '>1,000', '<1000', '> 1000', '100s-1000s'], 1000)\n",
    "\n",
    "df['participants'] = df['participants'].replace(['>1100'], 1100)\n",
    "\n",
    "df['participants'] = df['participants'].replace(['>1200', '500-1200'], 1200)\n",
    "\n",
    "df['participants'] = df['participants'].replace(['50 arrested'], 1250)\n",
    "\n",
    "df['participants'] = df['participants'].replace(['1300+', '> 1300'], 1300)\n",
    "\n",
    "df['participants'] = df['participants'].replace(['1365+'], 1365)\n",
    "\n",
    "df['participants'] = df['participants'].replace(['> 1500', '100-1500+', '< 1500', '>1500',\n",
    "                                                 '1500+'], 1500)\n",
    "\n",
    "df['participants'] = df['participants'].replace(['>1600', '1600+', '16 killed'], 1600)\n",
    "\n",
    "df['participants'] = df['participants'].replace(['1,800 participants', '1800+'], 1800)\n",
    "\n",
    "df['participants'] = df['participants'].replace(['Over 2,000 construction workers', 'more than 2000',\n",
    "                                                 'about 2000', '1300-2000', 'About 2,000', '500-2000',\n",
    "                                                 'March organiser and legal-sector lawmaker Dennis Kwok, said more than 2,000 people joined the protest. Police put the turnout at 1,700.',\n",
    "                                                 'About 2,000 people', '<2000', '1500-2000',\n",
    "                                                 'About 2,000 ', '>2000', '2000+', '> 2000',\n",
    "                                                 '200-2000+'], 2000)\n",
    "\n",
    "df['participants'] = df['participants'].replace(['2200+'], 2200)\n",
    "\n",
    "df['participants'] = df['participants'].replace(['2400+'], 2400)\n",
    "\n",
    "df['participants'] = df['participants'].replace(['over 100 arrested', '2500+', '>2500'], 2500)\n",
    "\n",
    "df['participants'] = df['participants'].replace(['>2600'], 2600)\n",
    "\n",
    "df['participants'] = df['participants'].replace(['>2900'], 2900)\n",
    "\n",
    "df['participants'] = df['participants'].replace(['1000s', 'thousands', 'Thousands', \n",
    "                                                'Thousands of Indians, including Bollywood actors', \n",
    "                                                'Thousands ', 'several thousand', '>3000', '200-3000',\n",
    "                                                 'a few thousand', '2000-3000', 'about 3000', '600-3000',\n",
    "                                                 'Large demonstrations', 'SOME 3,000 people', '2000 to 3000',\n",
    "                                                'couple thousands', 'Over 3,000', 'very low thousands',\n",
    "                                                 '>3,000', '2,000 to 3,000', 'several thousand', '>3,000',\n",
    "                                                 'Thousands of miners', 'Several thousand protesters',\n",
    "                                                 'The organisers said more than 3,000 people; police said the turnout was 830 at its peak',\n",
    "                                                 'few thousand', 'Thousands of people', '1000S', 'About 3,000',\n",
    "                                                 'a few thousand', 'Several thousand', '> 3000', '3000+',\n",
    "                                                 'a few thousand ', '>3,000 ', 'several thousand '], 3000)\n",
    "\n",
    "df['participants'] = df['participants'].replace(['>3100'], 3100)\n",
    "\n",
    "df['participants'] = df['participants'].replace(['3200+'], 3200)\n",
    "\n",
    "df['participants'] = df['participants'].replace(['> 3500', '3500+'], 3500)\n",
    "\n",
    "df['participants'] = df['participants'].replace(['About 4,000 people', 'About 4000', '3000-4000',\n",
    "                                                 '2,000 to 4,000 people', 'More than 4,000 people', '4000+',\n",
    "                                                 '>4000'], 4000)\n",
    "\n",
    "df['participants'] = df['participants'].replace(['164 arrested'], 4100)\n",
    "\n",
    "df['participants'] = df['participants'].replace(['3000-4500'], 4500)\n",
    "\n",
    "df['participants'] = df['participants'].replace(['4700+'], 4700)\n",
    "\n",
    "df['participants'] = df['participants'].replace(['5000+', '>5000', '200 arrested', 'Around 5,000',\n",
    "                                                 '3000-5000', 'About 5,000 people', '3000 to 5000',\n",
    "                                                 'Some 5,000 members', '>5,000', '3500-5000', '<5000',\n",
    "                                                 '> 5000'], 5000)\n",
    "\n",
    "df['participants'] = df['participants'].replace(['>5100'], 5100)\n",
    "\n",
    "df['participants'] = df['participants'].replace(['5600+'], 5600)\n",
    "\n",
    "df['participants'] = df['participants'].replace(['About 6,000 people', '3000-6000', 'Estimated 6,000 drivers',\n",
    "                                                 '>6000', '6000+'], 6000)\n",
    "\n",
    "df['participants'] = df['participants'].replace(['<6700'], 6700)\n",
    "\n",
    "df['participants'] = df['participants'].replace(['6000-7000', 'About 7,000', '7000+', '>7000'], 7000)\n",
    "\n",
    "df['participants'] = df['participants'].replace(['300 arrested'], 7500)\n",
    "\n",
    "df['participants'] = df['participants'].replace(['6000 to 8000', '6000-8000', 'about 8000', '>8000'], 8000)\n",
    "\n",
    "df['participants'] = df['participants'].replace(['8000-9000', '>9000', '> 9000', '7000-9000', '9000+'], 9000)\n",
    "\n"
   ]
  },
  {
   "cell_type": "code",
   "execution_count": 187,
   "metadata": {},
   "outputs": [],
   "source": [
    "#10,000s\n",
    "\n",
    "df['participants'] = df['participants'].replace(['>10000', '10000+', '1500-10000', '100s-10000',\n",
    "                                                 'Estimated number of protesters at 10,000',\n",
    "                                                 'About 10000', 'More than 10,000 protesters',\n",
    "                                                 'More than 10,000 citizens', '1000-10000',\n",
    "                                                 'nearly 10000', '3000-10000', 'At least 10,000 people',\n",
    "                                                 '1100-10000s', '5000-10000', 'At least 10,000',\n",
    "                                                 '1000s-10000', '1000s-10000s', '10,000', '<10000',\n",
    "                                                 '100s-10000s', '> 10000', 'more than 400 arrested'], 10000)\n",
    "\n",
    "df['participants'] = df['participants'].replace(['About 12,000 protesters', '4000-12000', '12000+'], 12000)\n",
    "\n",
    "df['participants'] = df['participants'].replace(['13,000 people', '13000+'], 13000)\n",
    "\n",
    "df['participants'] = df['participants'].replace(['7000-15000', '<15000', '>15,000', '15,000', '> 15000',\n",
    "                                                 '15000+', '>15000'], 15000)\n",
    "\n",
    "df['participants'] = df['participants'].replace(['Estimated to be 15,500'], 15500)\n",
    "\n",
    "df['participants'] = df['participants'].replace(['>16000'], 16000)\n",
    "\n",
    "df['participants'] = df['participants'].replace(['17000+'], 17000)\n",
    "\n",
    "df['participants'] = df['participants'].replace(['>18000'], 18000)\n",
    "\n",
    "df['participants'] = df['participants'].replace(['<20000', '20000s', '> 20000', '>20000', '20000+'], 20000)\n",
    "\n",
    "df['participants'] = df['participants'].replace(['20700+'], 20700)\n",
    "\n",
    "df['participants'] = df['participants'].replace(['> 23000', '23000+', '1000s-23000'], 23000)\n",
    "\n",
    "df['participants'] = df['participants'].replace(['24000+'], 24000)\n",
    "\n",
    "df['participants'] = df['participants'].replace(['As many as 25,000 protesters', 'between 7500-25000', 'more than 25000',\n",
    "                                                 '> 25000', '25000+'], 25000)\n",
    "\n",
    "df['participants'] = df['participants'].replace(['25100+'], 25100)\n",
    "\n",
    "df['participants'] = df['participants'].replace(['10000s', 'Tens of thousands', 'tens of thousands', \n",
    "                                                'Mass demonstrations', 'Widespread protests throughout the valley',\n",
    "                                                 'About 30,000', 'widespread', '10000s', '\"Rocked by protests\"', \n",
    "                                                 'btw. 20000 & 30000', 'More than 30,000', '20000-30000',\n",
    "                                                 'Tens of thousands of people', '> 30000', '30000+', '>30000',\n",
    "                                                 '10000s '], 30000)\n",
    "\n",
    "df['participants'] = df['participants'].replace(['>32200'], 32200)\n",
    "\n",
    "df['participants'] = df['participants'].replace(['> 35000', '>35000'], 35000)\n",
    "\n",
    "df['participants'] = df['participants'].replace(['>37000'], 37000)\n",
    "\n",
    "df['participants'] = df['participants'].replace(['more than 1500 detained'], 37500)\n",
    "\n",
    "df['participants'] = df['participants'].replace(['30000-40000', '1000s-40000', '> 40000', '20000-40000', '>40000'], 40000)\n",
    "\n",
    "df['participants'] = df['participants'].replace(['> 42000'], 42000)\n",
    "\n",
    "df['participants'] = df['participants'].replace(['Between 11000 and 45000'], 45000)\n",
    "\n",
    "df['participants'] = df['participants'].replace(['between 35,000 and 50,000', '> 50000', '5000-50000', '50000+',\n",
    "                                                 'more than 50000', '>50000'], 50000)\n",
    "\n",
    "df['participants'] = df['participants'].replace(['51000+'], 51000)\n",
    "\n",
    "df['participants'] = df['participants'].replace(['56000+'], 56000)\n",
    "\n",
    "df['participants'] = df['participants'].replace(['58000+'], 58000)\n",
    "\n",
    "df['participants'] = df['participants'].replace(['20000-60000', '> 60000'], 60000)\n",
    "\n",
    "df['participants'] = df['participants'].replace(['>60900'], 60900)\n",
    "\n",
    "df['participants'] = df['participants'].replace(['65,000 people'], 65000)\n",
    "\n",
    "df['participants'] = df['participants'].replace(['>70000', '35000 - 70000', '70000+', '> 70000', '<70000',\n",
    "                                                 '50000-70000'], 70000)\n",
    "\n",
    "df['participants'] = df['participants'].replace(['> 80000', '40000-80000', '50000-80000', '>80000'], 80000)\n",
    "\n",
    "df['participants'] = df['participants'].replace(['90000+'], 90000)\n"
   ]
  },
  {
   "cell_type": "code",
   "execution_count": 188,
   "metadata": {},
   "outputs": [],
   "source": [
    "#100,000\n",
    "\n",
    "df['participants'] = df['participants'].replace(['100000+', 'Protests across India', '> 100000', '>100000',  \n",
    "                                                '50000-100000', 'Up to 100,000', '< 100000', '100,000',\n",
    "                                                 '< 100000 '], 100000)\n",
    "\n",
    "df['participants'] = df['participants'].replace(['The Civil Human Rights Front said 110,000 people; The Hong Kong police said about 20,000'], 110000)\n",
    "\n",
    "df['participants'] = df['participants'].replace(['50000-120000'], 120000)\n",
    "\n",
    "df['participants'] = df['participants'].replace(['> 150000', '>150000'], 150000)\n",
    "\n",
    "df['participants'] = df['participants'].replace(['at least 160000'], 160000)\n",
    "\n",
    "df['participants'] = df['participants'].replace(['75000-170000'], 170000)\n",
    "\n",
    "df['participants'] = df['participants'].replace(['> 200000', '2000-200000', '100000-200000', '>200000', '25000-200000',\n",
    "                                                 '<200000', '200,000', '200000+'], 200000)\n",
    "\n",
    "df['participants'] = df['participants'].replace(['100000s', 'hundreds of thousands', '100,000s', \n",
    "                                                'between 100000 & 300000', 'Mass protests',\n",
    "                                                 'HUNDREDS OF thousands of Venezuelans', 'Huge protests',\n",
    "                                                 '300000+', 'several hundred thousands', 'Hundreds of thousands',\n",
    "                                                 '> 300000', '>300000', 'hundreds of thousands',\n",
    "                                                 'hundreds of thousands '], 300000)\n",
    "\n",
    "df['participants'] = df['participants'].replace(['Almost 350,000', '250000-350000'], 350000)\n",
    "\n",
    "df['participants'] = df['participants'].replace(['<375000'], 375000)\n",
    "\n",
    "df['participants'] = df['participants'].replace(['<400000', '200000-400000', '> 400000', '>400000'], 400000)\n",
    "\n",
    "df['participants'] = df['participants'].replace(['430000+'], 430000)\n",
    "\n",
    "df['participants'] = df['participants'].replace(['More than 500,000 people', '> 500000', '500,000', '500000+',\n",
    "                                                 '>500000'], 500000)\n",
    "\n",
    "df['participants'] = df['participants'].replace(['500000-700000', 'Nearly 700,000'], 700000)\n"
   ]
  },
  {
   "cell_type": "code",
   "execution_count": 189,
   "metadata": {},
   "outputs": [],
   "source": [
    "#1,000,000\n",
    "\n",
    "df['participants'] = df['participants'].replace(['over a million', '<1000000', '1 million', '> 1000000',\n",
    "                                                 '1,000,000', '>1000000'], 1000000)\n",
    "df['participants'] = df['participants'].replace(['hundreds of thousands to 1.4 million'], 1400000)\n",
    "df['participants'] = df['participants'].replace(['up to two million', '>2000000'], 2000000)\n",
    "df['participants'] = df['participants'].replace(['100000s-3000000', '1,000,000s', 'Millions', 'millions',\n",
    "                                                 '1000000s'], 3000000)\n",
    "df['participants'] = df['participants'].replace(['5,000,000'], 5000000)\n",
    "df['participants'] = df['participants'].replace(['More than seven million people'], 7000000)"
   ]
  },
  {
   "cell_type": "code",
   "execution_count": 190,
   "metadata": {
    "scrolled": true
   },
   "outputs": [
    {
     "data": {
      "text/plain": [
       "50         2213\n",
       "300        1582\n",
       "3000       1556\n",
       "50          983\n",
       "1000        965\n",
       "100         821\n",
       "100         404\n",
       "10000       400\n",
       "200         388\n",
       "30000       386\n",
       "2000        340\n",
       "300         278\n",
       "500         270\n",
       "5000        247\n",
       "3000        228\n",
       "20000       171\n",
       "1000        160\n",
       "150         130\n",
       "4000        127\n",
       "400         120\n",
       "100000      113\n",
       "10000       100\n",
       "15000        96\n",
       "30000        95\n",
       "50000        86\n",
       "1500         83\n",
       "6000         77\n",
       "300000       72\n",
       "7000         65\n",
       "8000         61\n",
       "60           59\n",
       "700          57\n",
       "5000         56\n",
       "200          56\n",
       "2000         56\n",
       "500          55\n",
       "250          53\n",
       "600          50\n",
       "40000        47\n",
       "25000        46\n",
       "800          45\n",
       "200000       39\n",
       "70           38\n",
       "100000       38\n",
       "2500         37\n",
       "60000        27\n",
       "80           25\n",
       "1000000      25\n",
       "12000        24\n",
       "80000        24\n",
       "Name: participants, dtype: int64"
      ]
     },
     "execution_count": 190,
     "metadata": {},
     "output_type": "execute_result"
    }
   ],
   "source": [
    "df.participants.value_counts().head(50)"
   ]
  },
  {
   "cell_type": "code",
   "execution_count": 191,
   "metadata": {},
   "outputs": [],
   "source": [
    "df['participants'] = pd.to_numeric(df['participants'])"
   ]
  },
  {
   "cell_type": "code",
   "execution_count": 192,
   "metadata": {},
   "outputs": [
    {
     "data": {
      "text/plain": [
       "country                         object\n",
       "year                             int64\n",
       "region                          object\n",
       "protestnumber                    int64\n",
       "startday                       float64\n",
       "startmonth                     float64\n",
       "startyear                      float64\n",
       "endday                         float64\n",
       "endmonth                       float64\n",
       "endyear                        float64\n",
       "protesterviolence              float64\n",
       "participants                     int64\n",
       "notes                           object\n",
       "stateresponse                   object\n",
       "labor wage dispute               uint8\n",
       "land farm issue                  uint8\n",
       "police brutality                 uint8\n",
       "political behavior, process      uint8\n",
       "price increases, tax policy      uint8\n",
       "removal of politician            uint8\n",
       "social restrictions              uint8\n",
       "dtype: object"
      ]
     },
     "execution_count": 192,
     "metadata": {},
     "output_type": "execute_result"
    }
   ],
   "source": [
    "df.dtypes"
   ]
  },
  {
   "cell_type": "markdown",
   "metadata": {},
   "source": [
    "# Clean Dates"
   ]
  },
  {
   "cell_type": "code",
   "execution_count": 193,
   "metadata": {},
   "outputs": [],
   "source": [
    "cols = ['startmonth', 'startday', 'startyear']\n",
    "df['startdate'] = df[cols].apply(lambda row: '-'.join(row.values.astype(str)), axis=1)"
   ]
  },
  {
   "cell_type": "code",
   "execution_count": 194,
   "metadata": {},
   "outputs": [
    {
     "data": {
      "text/html": [
       "<div>\n",
       "<style scoped>\n",
       "    .dataframe tbody tr th:only-of-type {\n",
       "        vertical-align: middle;\n",
       "    }\n",
       "\n",
       "    .dataframe tbody tr th {\n",
       "        vertical-align: top;\n",
       "    }\n",
       "\n",
       "    .dataframe thead th {\n",
       "        text-align: right;\n",
       "    }\n",
       "</style>\n",
       "<table border=\"1\" class=\"dataframe\">\n",
       "  <thead>\n",
       "    <tr style=\"text-align: right;\">\n",
       "      <th></th>\n",
       "      <th>country</th>\n",
       "      <th>year</th>\n",
       "      <th>region</th>\n",
       "      <th>protestnumber</th>\n",
       "      <th>startday</th>\n",
       "      <th>startmonth</th>\n",
       "      <th>startyear</th>\n",
       "      <th>endday</th>\n",
       "      <th>endmonth</th>\n",
       "      <th>endyear</th>\n",
       "      <th>...</th>\n",
       "      <th>notes</th>\n",
       "      <th>stateresponse</th>\n",
       "      <th>labor wage dispute</th>\n",
       "      <th>land farm issue</th>\n",
       "      <th>police brutality</th>\n",
       "      <th>political behavior, process</th>\n",
       "      <th>price increases, tax policy</th>\n",
       "      <th>removal of politician</th>\n",
       "      <th>social restrictions</th>\n",
       "      <th>startdate</th>\n",
       "    </tr>\n",
       "  </thead>\n",
       "  <tbody>\n",
       "    <tr>\n",
       "      <th>0</th>\n",
       "      <td>Canada</td>\n",
       "      <td>1990</td>\n",
       "      <td>North America</td>\n",
       "      <td>1</td>\n",
       "      <td>15.0</td>\n",
       "      <td>1.0</td>\n",
       "      <td>1990.0</td>\n",
       "      <td>15.0</td>\n",
       "      <td>1.0</td>\n",
       "      <td>1990.0</td>\n",
       "      <td>...</td>\n",
       "      <td>Canada s railway passenger system was finally...</td>\n",
       "      <td>ignore</td>\n",
       "      <td>1</td>\n",
       "      <td>0</td>\n",
       "      <td>0</td>\n",
       "      <td>1</td>\n",
       "      <td>0</td>\n",
       "      <td>0</td>\n",
       "      <td>0</td>\n",
       "      <td>1.0-15.0-1990.0</td>\n",
       "    </tr>\n",
       "    <tr>\n",
       "      <th>1</th>\n",
       "      <td>Canada</td>\n",
       "      <td>1990</td>\n",
       "      <td>North America</td>\n",
       "      <td>2</td>\n",
       "      <td>25.0</td>\n",
       "      <td>6.0</td>\n",
       "      <td>1990.0</td>\n",
       "      <td>25.0</td>\n",
       "      <td>6.0</td>\n",
       "      <td>1990.0</td>\n",
       "      <td>...</td>\n",
       "      <td>protestors were only identified as  young peop...</td>\n",
       "      <td>ignore</td>\n",
       "      <td>0</td>\n",
       "      <td>0</td>\n",
       "      <td>0</td>\n",
       "      <td>1</td>\n",
       "      <td>0</td>\n",
       "      <td>0</td>\n",
       "      <td>0</td>\n",
       "      <td>6.0-25.0-1990.0</td>\n",
       "    </tr>\n",
       "    <tr>\n",
       "      <th>2</th>\n",
       "      <td>Canada</td>\n",
       "      <td>1990</td>\n",
       "      <td>North America</td>\n",
       "      <td>3</td>\n",
       "      <td>1.0</td>\n",
       "      <td>7.0</td>\n",
       "      <td>1990.0</td>\n",
       "      <td>1.0</td>\n",
       "      <td>7.0</td>\n",
       "      <td>1990.0</td>\n",
       "      <td>...</td>\n",
       "      <td>THE Queen, after calling on Canadians to rema...</td>\n",
       "      <td>ignore</td>\n",
       "      <td>0</td>\n",
       "      <td>0</td>\n",
       "      <td>0</td>\n",
       "      <td>1</td>\n",
       "      <td>0</td>\n",
       "      <td>0</td>\n",
       "      <td>0</td>\n",
       "      <td>7.0-1.0-1990.0</td>\n",
       "    </tr>\n",
       "    <tr>\n",
       "      <th>3</th>\n",
       "      <td>Canada</td>\n",
       "      <td>1990</td>\n",
       "      <td>North America</td>\n",
       "      <td>4</td>\n",
       "      <td>12.0</td>\n",
       "      <td>7.0</td>\n",
       "      <td>1990.0</td>\n",
       "      <td>6.0</td>\n",
       "      <td>9.0</td>\n",
       "      <td>1990.0</td>\n",
       "      <td>...</td>\n",
       "      <td>Canada s federal government has agreed to acq...</td>\n",
       "      <td>accomodation</td>\n",
       "      <td>0</td>\n",
       "      <td>1</td>\n",
       "      <td>0</td>\n",
       "      <td>0</td>\n",
       "      <td>0</td>\n",
       "      <td>0</td>\n",
       "      <td>0</td>\n",
       "      <td>7.0-12.0-1990.0</td>\n",
       "    </tr>\n",
       "    <tr>\n",
       "      <th>4</th>\n",
       "      <td>Canada</td>\n",
       "      <td>1990</td>\n",
       "      <td>North America</td>\n",
       "      <td>5</td>\n",
       "      <td>14.0</td>\n",
       "      <td>8.0</td>\n",
       "      <td>1990.0</td>\n",
       "      <td>15.0</td>\n",
       "      <td>8.0</td>\n",
       "      <td>1990.0</td>\n",
       "      <td>...</td>\n",
       "      <td>Protests were directed against the state due t...</td>\n",
       "      <td>arrests</td>\n",
       "      <td>0</td>\n",
       "      <td>0</td>\n",
       "      <td>0</td>\n",
       "      <td>1</td>\n",
       "      <td>0</td>\n",
       "      <td>0</td>\n",
       "      <td>0</td>\n",
       "      <td>8.0-14.0-1990.0</td>\n",
       "    </tr>\n",
       "  </tbody>\n",
       "</table>\n",
       "<p>5 rows × 22 columns</p>\n",
       "</div>"
      ],
      "text/plain": [
       "  country  year         region  protestnumber  startday  startmonth  \\\n",
       "0  Canada  1990  North America              1      15.0         1.0   \n",
       "1  Canada  1990  North America              2      25.0         6.0   \n",
       "2  Canada  1990  North America              3       1.0         7.0   \n",
       "3  Canada  1990  North America              4      12.0         7.0   \n",
       "4  Canada  1990  North America              5      14.0         8.0   \n",
       "\n",
       "   startyear  endday  endmonth  endyear  ...  \\\n",
       "0     1990.0    15.0       1.0   1990.0  ...   \n",
       "1     1990.0    25.0       6.0   1990.0  ...   \n",
       "2     1990.0     1.0       7.0   1990.0  ...   \n",
       "3     1990.0     6.0       9.0   1990.0  ...   \n",
       "4     1990.0    15.0       8.0   1990.0  ...   \n",
       "\n",
       "                                               notes  stateresponse  \\\n",
       "0   Canada s railway passenger system was finally...         ignore   \n",
       "1  protestors were only identified as  young peop...         ignore   \n",
       "2   THE Queen, after calling on Canadians to rema...         ignore   \n",
       "3   Canada s federal government has agreed to acq...   accomodation   \n",
       "4  Protests were directed against the state due t...        arrests   \n",
       "\n",
       "  labor wage dispute land farm issue  police brutality  \\\n",
       "0                  1               0                 0   \n",
       "1                  0               0                 0   \n",
       "2                  0               0                 0   \n",
       "3                  0               1                 0   \n",
       "4                  0               0                 0   \n",
       "\n",
       "   political behavior, process  price increases, tax policy  \\\n",
       "0                            1                            0   \n",
       "1                            1                            0   \n",
       "2                            1                            0   \n",
       "3                            0                            0   \n",
       "4                            1                            0   \n",
       "\n",
       "   removal of politician  social restrictions        startdate  \n",
       "0                      0                    0  1.0-15.0-1990.0  \n",
       "1                      0                    0  6.0-25.0-1990.0  \n",
       "2                      0                    0   7.0-1.0-1990.0  \n",
       "3                      0                    0  7.0-12.0-1990.0  \n",
       "4                      0                    0  8.0-14.0-1990.0  \n",
       "\n",
       "[5 rows x 22 columns]"
      ]
     },
     "execution_count": 194,
     "metadata": {},
     "output_type": "execute_result"
    }
   ],
   "source": [
    "df.head()"
   ]
  },
  {
   "cell_type": "code",
   "execution_count": 195,
   "metadata": {},
   "outputs": [],
   "source": [
    "df['startdate']=df['startdate'].str.replace('\\.0','')"
   ]
  },
  {
   "cell_type": "code",
   "execution_count": 196,
   "metadata": {},
   "outputs": [
    {
     "data": {
      "text/plain": [
       "0         1-15-1990\n",
       "1         6-25-1990\n",
       "2          7-1-1990\n",
       "3         7-12-1990\n",
       "4         8-14-1990\n",
       "            ...    \n",
       "16355     2-16-2014\n",
       "16357     5-15-2016\n",
       "16358     6-15-2017\n",
       "16359     7-15-2017\n",
       "16360    10-31-2017\n",
       "Name: startdate, Length: 14474, dtype: object"
      ]
     },
     "execution_count": 196,
     "metadata": {},
     "output_type": "execute_result"
    }
   ],
   "source": [
    "df['startdate']"
   ]
  },
  {
   "cell_type": "code",
   "execution_count": 197,
   "metadata": {},
   "outputs": [
    {
     "data": {
      "text/html": [
       "<div>\n",
       "<style scoped>\n",
       "    .dataframe tbody tr th:only-of-type {\n",
       "        vertical-align: middle;\n",
       "    }\n",
       "\n",
       "    .dataframe tbody tr th {\n",
       "        vertical-align: top;\n",
       "    }\n",
       "\n",
       "    .dataframe thead th {\n",
       "        text-align: right;\n",
       "    }\n",
       "</style>\n",
       "<table border=\"1\" class=\"dataframe\">\n",
       "  <thead>\n",
       "    <tr style=\"text-align: right;\">\n",
       "      <th></th>\n",
       "      <th>country</th>\n",
       "      <th>year</th>\n",
       "      <th>region</th>\n",
       "      <th>protestnumber</th>\n",
       "      <th>startday</th>\n",
       "      <th>startmonth</th>\n",
       "      <th>startyear</th>\n",
       "      <th>endday</th>\n",
       "      <th>endmonth</th>\n",
       "      <th>endyear</th>\n",
       "      <th>...</th>\n",
       "      <th>notes</th>\n",
       "      <th>stateresponse</th>\n",
       "      <th>labor wage dispute</th>\n",
       "      <th>land farm issue</th>\n",
       "      <th>police brutality</th>\n",
       "      <th>political behavior, process</th>\n",
       "      <th>price increases, tax policy</th>\n",
       "      <th>removal of politician</th>\n",
       "      <th>social restrictions</th>\n",
       "      <th>startdate</th>\n",
       "    </tr>\n",
       "  </thead>\n",
       "  <tbody>\n",
       "    <tr>\n",
       "      <th>16355</th>\n",
       "      <td>Papua New Guinea</td>\n",
       "      <td>2014</td>\n",
       "      <td>Oceania</td>\n",
       "      <td>1</td>\n",
       "      <td>16.0</td>\n",
       "      <td>2.0</td>\n",
       "      <td>2014.0</td>\n",
       "      <td>18.0</td>\n",
       "      <td>2.0</td>\n",
       "      <td>2014.0</td>\n",
       "      <td>...</td>\n",
       "      <td>?  A government inquiry will be launched as se...</td>\n",
       "      <td>shootings</td>\n",
       "      <td>0</td>\n",
       "      <td>0</td>\n",
       "      <td>0</td>\n",
       "      <td>1</td>\n",
       "      <td>0</td>\n",
       "      <td>0</td>\n",
       "      <td>0</td>\n",
       "      <td>2-16-2014</td>\n",
       "    </tr>\n",
       "    <tr>\n",
       "      <th>16357</th>\n",
       "      <td>Papua New Guinea</td>\n",
       "      <td>2016</td>\n",
       "      <td>Oceania</td>\n",
       "      <td>1</td>\n",
       "      <td>15.0</td>\n",
       "      <td>5.0</td>\n",
       "      <td>2016.0</td>\n",
       "      <td>9.0</td>\n",
       "      <td>6.0</td>\n",
       "      <td>2016.0</td>\n",
       "      <td>...</td>\n",
       "      <td>Police in Papua New Guinea fired gunshots Wedn...</td>\n",
       "      <td>killings</td>\n",
       "      <td>0</td>\n",
       "      <td>0</td>\n",
       "      <td>0</td>\n",
       "      <td>0</td>\n",
       "      <td>0</td>\n",
       "      <td>1</td>\n",
       "      <td>0</td>\n",
       "      <td>5-15-2016</td>\n",
       "    </tr>\n",
       "    <tr>\n",
       "      <th>16358</th>\n",
       "      <td>Papua New Guinea</td>\n",
       "      <td>2017</td>\n",
       "      <td>Oceania</td>\n",
       "      <td>1</td>\n",
       "      <td>15.0</td>\n",
       "      <td>6.0</td>\n",
       "      <td>2017.0</td>\n",
       "      <td>15.0</td>\n",
       "      <td>6.0</td>\n",
       "      <td>2017.0</td>\n",
       "      <td>...</td>\n",
       "      <td>The Bougainville government has enacted an ind...</td>\n",
       "      <td>accomodation</td>\n",
       "      <td>0</td>\n",
       "      <td>1</td>\n",
       "      <td>0</td>\n",
       "      <td>1</td>\n",
       "      <td>0</td>\n",
       "      <td>0</td>\n",
       "      <td>0</td>\n",
       "      <td>6-15-2017</td>\n",
       "    </tr>\n",
       "    <tr>\n",
       "      <th>16359</th>\n",
       "      <td>Papua New Guinea</td>\n",
       "      <td>2017</td>\n",
       "      <td>Oceania</td>\n",
       "      <td>2</td>\n",
       "      <td>15.0</td>\n",
       "      <td>7.0</td>\n",
       "      <td>2017.0</td>\n",
       "      <td>15.0</td>\n",
       "      <td>7.0</td>\n",
       "      <td>2017.0</td>\n",
       "      <td>...</td>\n",
       "      <td>Peter O Neill has been reappointed as prime mi...</td>\n",
       "      <td>crowd dispersal</td>\n",
       "      <td>0</td>\n",
       "      <td>0</td>\n",
       "      <td>0</td>\n",
       "      <td>1</td>\n",
       "      <td>0</td>\n",
       "      <td>0</td>\n",
       "      <td>0</td>\n",
       "      <td>7-15-2017</td>\n",
       "    </tr>\n",
       "    <tr>\n",
       "      <th>16360</th>\n",
       "      <td>Papua New Guinea</td>\n",
       "      <td>2017</td>\n",
       "      <td>Oceania</td>\n",
       "      <td>3</td>\n",
       "      <td>31.0</td>\n",
       "      <td>10.0</td>\n",
       "      <td>2017.0</td>\n",
       "      <td>31.0</td>\n",
       "      <td>10.0</td>\n",
       "      <td>2017.0</td>\n",
       "      <td>...</td>\n",
       "      <td>Refugees on Manus Island were braced for poten...</td>\n",
       "      <td>ignore</td>\n",
       "      <td>0</td>\n",
       "      <td>0</td>\n",
       "      <td>0</td>\n",
       "      <td>1</td>\n",
       "      <td>0</td>\n",
       "      <td>0</td>\n",
       "      <td>0</td>\n",
       "      <td>10-31-2017</td>\n",
       "    </tr>\n",
       "  </tbody>\n",
       "</table>\n",
       "<p>5 rows × 22 columns</p>\n",
       "</div>"
      ],
      "text/plain": [
       "                country  year   region  protestnumber  startday  startmonth  \\\n",
       "16355  Papua New Guinea  2014  Oceania              1      16.0         2.0   \n",
       "16357  Papua New Guinea  2016  Oceania              1      15.0         5.0   \n",
       "16358  Papua New Guinea  2017  Oceania              1      15.0         6.0   \n",
       "16359  Papua New Guinea  2017  Oceania              2      15.0         7.0   \n",
       "16360  Papua New Guinea  2017  Oceania              3      31.0        10.0   \n",
       "\n",
       "       startyear  endday  endmonth  endyear  ...  \\\n",
       "16355     2014.0    18.0       2.0   2014.0  ...   \n",
       "16357     2016.0     9.0       6.0   2016.0  ...   \n",
       "16358     2017.0    15.0       6.0   2017.0  ...   \n",
       "16359     2017.0    15.0       7.0   2017.0  ...   \n",
       "16360     2017.0    31.0      10.0   2017.0  ...   \n",
       "\n",
       "                                                   notes    stateresponse  \\\n",
       "16355  ?  A government inquiry will be launched as se...        shootings   \n",
       "16357  Police in Papua New Guinea fired gunshots Wedn...         killings   \n",
       "16358  The Bougainville government has enacted an ind...     accomodation   \n",
       "16359  Peter O Neill has been reappointed as prime mi...  crowd dispersal   \n",
       "16360  Refugees on Manus Island were braced for poten...           ignore   \n",
       "\n",
       "      labor wage dispute land farm issue  police brutality  \\\n",
       "16355                  0               0                 0   \n",
       "16357                  0               0                 0   \n",
       "16358                  0               1                 0   \n",
       "16359                  0               0                 0   \n",
       "16360                  0               0                 0   \n",
       "\n",
       "       political behavior, process  price increases, tax policy  \\\n",
       "16355                            1                            0   \n",
       "16357                            0                            0   \n",
       "16358                            1                            0   \n",
       "16359                            1                            0   \n",
       "16360                            1                            0   \n",
       "\n",
       "       removal of politician  social restrictions   startdate  \n",
       "16355                      0                    0   2-16-2014  \n",
       "16357                      1                    0   5-15-2016  \n",
       "16358                      0                    0   6-15-2017  \n",
       "16359                      0                    0   7-15-2017  \n",
       "16360                      0                    0  10-31-2017  \n",
       "\n",
       "[5 rows x 22 columns]"
      ]
     },
     "execution_count": 197,
     "metadata": {},
     "output_type": "execute_result"
    }
   ],
   "source": [
    "df.tail(5)"
   ]
  },
  {
   "cell_type": "code",
   "execution_count": 144,
   "metadata": {},
   "outputs": [],
   "source": [
    "#df=df[df['startdate']!='nan-nan-nan']"
   ]
  },
  {
   "cell_type": "code",
   "execution_count": 199,
   "metadata": {},
   "outputs": [
    {
     "data": {
      "text/plain": [
       "0         1-15-1990\n",
       "1         6-25-1990\n",
       "2          7-1-1990\n",
       "3         7-12-1990\n",
       "4         8-14-1990\n",
       "            ...    \n",
       "16355     2-16-2014\n",
       "16357     5-15-2016\n",
       "16358     6-15-2017\n",
       "16359     7-15-2017\n",
       "16360    10-31-2017\n",
       "Name: startdate, Length: 14474, dtype: object"
      ]
     },
     "execution_count": 199,
     "metadata": {},
     "output_type": "execute_result"
    }
   ],
   "source": [
    "df['startdate']"
   ]
  },
  {
   "cell_type": "code",
   "execution_count": 200,
   "metadata": {},
   "outputs": [],
   "source": [
    "df['startdate']=pd.to_datetime(df['startdate'])"
   ]
  },
  {
   "cell_type": "code",
   "execution_count": 201,
   "metadata": {},
   "outputs": [
    {
     "data": {
      "text/plain": [
       "0       1990-01-15\n",
       "1       1990-06-25\n",
       "2       1990-07-01\n",
       "3       1990-07-12\n",
       "4       1990-08-14\n",
       "           ...    \n",
       "16355   2014-02-16\n",
       "16357   2016-05-15\n",
       "16358   2017-06-15\n",
       "16359   2017-07-15\n",
       "16360   2017-10-31\n",
       "Name: startdate, Length: 14474, dtype: datetime64[ns]"
      ]
     },
     "execution_count": 201,
     "metadata": {},
     "output_type": "execute_result"
    }
   ],
   "source": [
    "df['startdate']"
   ]
  },
  {
   "cell_type": "code",
   "execution_count": 202,
   "metadata": {},
   "outputs": [],
   "source": [
    "cols=['endmonth','endday','endyear']\n",
    "df['enddate'] = df[cols].apply(lambda row: '-'.join(row.values.astype(str)), axis=1)"
   ]
  },
  {
   "cell_type": "code",
   "execution_count": 203,
   "metadata": {},
   "outputs": [
    {
     "data": {
      "text/plain": [
       "0         1.0-15.0-1990.0\n",
       "1         6.0-25.0-1990.0\n",
       "2          7.0-1.0-1990.0\n",
       "3          9.0-6.0-1990.0\n",
       "4         8.0-15.0-1990.0\n",
       "               ...       \n",
       "16355     2.0-18.0-2014.0\n",
       "16357      6.0-9.0-2016.0\n",
       "16358     6.0-15.0-2017.0\n",
       "16359     7.0-15.0-2017.0\n",
       "16360    10.0-31.0-2017.0\n",
       "Name: enddate, Length: 14474, dtype: object"
      ]
     },
     "execution_count": 203,
     "metadata": {},
     "output_type": "execute_result"
    }
   ],
   "source": [
    "df['enddate']"
   ]
  },
  {
   "cell_type": "code",
   "execution_count": 204,
   "metadata": {},
   "outputs": [],
   "source": [
    "df['enddate']=df['enddate'].str.replace('\\.0','')"
   ]
  },
  {
   "cell_type": "code",
   "execution_count": 205,
   "metadata": {},
   "outputs": [
    {
     "data": {
      "text/plain": [
       "0         1-15-1990\n",
       "1         6-25-1990\n",
       "2          7-1-1990\n",
       "3          9-6-1990\n",
       "4         8-15-1990\n",
       "            ...    \n",
       "16355     2-18-2014\n",
       "16357      6-9-2016\n",
       "16358     6-15-2017\n",
       "16359     7-15-2017\n",
       "16360    10-31-2017\n",
       "Name: enddate, Length: 14474, dtype: object"
      ]
     },
     "execution_count": 205,
     "metadata": {},
     "output_type": "execute_result"
    }
   ],
   "source": [
    "df['enddate']"
   ]
  },
  {
   "cell_type": "code",
   "execution_count": 206,
   "metadata": {},
   "outputs": [],
   "source": [
    "df['enddate']=pd.to_datetime(df['enddate'])"
   ]
  },
  {
   "cell_type": "code",
   "execution_count": 207,
   "metadata": {},
   "outputs": [
    {
     "data": {
      "text/plain": [
       "0       1990-01-15\n",
       "1       1990-06-25\n",
       "2       1990-07-01\n",
       "3       1990-09-06\n",
       "4       1990-08-15\n",
       "           ...    \n",
       "16355   2014-02-18\n",
       "16357   2016-06-09\n",
       "16358   2017-06-15\n",
       "16359   2017-07-15\n",
       "16360   2017-10-31\n",
       "Name: enddate, Length: 14474, dtype: datetime64[ns]"
      ]
     },
     "execution_count": 207,
     "metadata": {},
     "output_type": "execute_result"
    }
   ],
   "source": [
    "df['enddate']"
   ]
  },
  {
   "cell_type": "code",
   "execution_count": 208,
   "metadata": {},
   "outputs": [],
   "source": [
    "df['duration']=df['enddate']-df['startdate']"
   ]
  },
  {
   "cell_type": "code",
   "execution_count": 209,
   "metadata": {},
   "outputs": [
    {
     "data": {
      "text/plain": [
       "11631   938 days\n",
       "14531   731 days\n",
       "6150    658 days\n",
       "12431   626 days\n",
       "2488    367 days\n",
       "          ...   \n",
       "10122     0 days\n",
       "10121     0 days\n",
       "10120     0 days\n",
       "10119     0 days\n",
       "0         0 days\n",
       "Name: duration, Length: 14474, dtype: timedelta64[ns]"
      ]
     },
     "execution_count": 209,
     "metadata": {},
     "output_type": "execute_result"
    }
   ],
   "source": [
    "df['duration'].sort_values(ascending=False)"
   ]
  },
  {
   "cell_type": "code",
   "execution_count": 156,
   "metadata": {},
   "outputs": [
    {
     "data": {
      "text/plain": [
       "Index(['id', 'country', 'ccode', 'year', 'region', 'protest', 'protestnumber',\n",
       "       'startday', 'startmonth', 'startyear', 'endday', 'endmonth', 'endyear',\n",
       "       'protesterviolence', 'location', 'participants_category',\n",
       "       'participants', 'protesteridentity', 'protesterdemand1',\n",
       "       'protesterdemand2', 'protesterdemand3', 'protesterdemand4',\n",
       "       'stateresponse1', 'stateresponse2', 'stateresponse3', 'stateresponse4',\n",
       "       'stateresponse5', 'stateresponse6', 'stateresponse7', 'sources',\n",
       "       'notes', 'startdate', 'enddate', 'duration'],\n",
       "      dtype='object')"
      ]
     },
     "execution_count": 156,
     "metadata": {},
     "output_type": "execute_result"
    }
   ],
   "source": [
    "df.columns"
   ]
  },
  {
   "cell_type": "markdown",
   "metadata": {},
   "source": [
    "# EDA"
   ]
  },
  {
   "cell_type": "code",
   "execution_count": 210,
   "metadata": {},
   "outputs": [
    {
     "data": {
      "text/plain": [
       "<AxesSubplot:title={'center':'No of protests by year'}>"
      ]
     },
     "execution_count": 210,
     "metadata": {},
     "output_type": "execute_result"
    },
    {
     "data": {
      "image/png": "[encoded data removed]",
      "text/plain": [
       "<Figure size 1080x1080 with 1 Axes>"
      ]
     },
     "metadata": {
      "needs_background": "light"
     },
     "output_type": "display_data"
    }
   ],
   "source": [
    "df['startyear'].value_counts().plot(kind='bar',figsize=(15,15),title='No of protests by year')"
   ]
  },
  {
   "cell_type": "code",
   "execution_count": 211,
   "metadata": {},
   "outputs": [],
   "source": [
    "duplicates=df.duplicated()"
   ]
  },
  {
   "cell_type": "code",
   "execution_count": 212,
   "metadata": {},
   "outputs": [
    {
     "name": "stdout",
     "output_type": "stream",
     "text": [
      "0\n"
     ]
    },
    {
     "data": {
      "text/html": [
       "<div>\n",
       "<style scoped>\n",
       "    .dataframe tbody tr th:only-of-type {\n",
       "        vertical-align: middle;\n",
       "    }\n",
       "\n",
       "    .dataframe tbody tr th {\n",
       "        vertical-align: top;\n",
       "    }\n",
       "\n",
       "    .dataframe thead th {\n",
       "        text-align: right;\n",
       "    }\n",
       "</style>\n",
       "<table border=\"1\" class=\"dataframe\">\n",
       "  <thead>\n",
       "    <tr style=\"text-align: right;\">\n",
       "      <th></th>\n",
       "      <th>country</th>\n",
       "      <th>year</th>\n",
       "      <th>region</th>\n",
       "      <th>protestnumber</th>\n",
       "      <th>startday</th>\n",
       "      <th>startmonth</th>\n",
       "      <th>startyear</th>\n",
       "      <th>endday</th>\n",
       "      <th>endmonth</th>\n",
       "      <th>endyear</th>\n",
       "      <th>...</th>\n",
       "      <th>labor wage dispute</th>\n",
       "      <th>land farm issue</th>\n",
       "      <th>police brutality</th>\n",
       "      <th>political behavior, process</th>\n",
       "      <th>price increases, tax policy</th>\n",
       "      <th>removal of politician</th>\n",
       "      <th>social restrictions</th>\n",
       "      <th>startdate</th>\n",
       "      <th>enddate</th>\n",
       "      <th>duration</th>\n",
       "    </tr>\n",
       "  </thead>\n",
       "  <tbody>\n",
       "  </tbody>\n",
       "</table>\n",
       "<p>0 rows × 24 columns</p>\n",
       "</div>"
      ],
      "text/plain": [
       "Empty DataFrame\n",
       "Columns: [country, year, region, protestnumber, startday, startmonth, startyear, endday, endmonth, endyear, protesterviolence, participants, notes, stateresponse, labor wage dispute, land farm issue, police brutality, political behavior, process, price increases, tax policy, removal of politician, social restrictions, startdate, enddate, duration]\n",
       "Index: []\n",
       "\n",
       "[0 rows x 24 columns]"
      ]
     },
     "execution_count": 212,
     "metadata": {},
     "output_type": "execute_result"
    }
   ],
   "source": [
    "print(duplicates.sum())\n",
    "df[duplicates]"
   ]
  },
  {
   "cell_type": "code",
   "execution_count": 179,
   "metadata": {
    "scrolled": true
   },
   "outputs": [
    {
     "data": {
      "text/plain": [
       "<matplotlib.axes._subplots.AxesSubplot at 0x7f9e61aac6d0>"
      ]
     },
     "execution_count": 179,
     "metadata": {},
     "output_type": "execute_result"
    },
    {
     "data": {
      "image/png": "[encoded data removed]",
      "text/plain": [
       "<Figure size 1800x1440 with 1 Axes>"
      ]
     },
     "metadata": {
      "needs_background": "light"
     },
     "output_type": "display_data"
    }
   ],
   "source": [
    "df['country'].value_counts().plot(kind='bar',figsize=(25 , 20),title='No of protests by country')"
   ]
  },
  {
   "cell_type": "code",
   "execution_count": 215,
   "metadata": {
    "scrolled": true
   },
   "outputs": [
    {
     "data": {
      "image/png": "[encoded data removed]",
      "text/plain": [
       "<Figure size 1080x720 with 1 Axes>"
      ]
     },
     "metadata": {
      "needs_background": "light"
     },
     "output_type": "display_data"
    }
   ],
   "source": [
    "df['stateresponse'].value_counts().plot(kind='barh',figsize=(15,10),title='Counts per state response');"
   ]
  },
  {
   "cell_type": "code",
   "execution_count": null,
   "metadata": {},
   "outputs": [],
   "source": []
  },
  {
   "cell_type": "code",
   "execution_count": 219,
   "metadata": {},
   "outputs": [
    {
     "name": "stdout",
     "output_type": "stream",
     "text": [
      "<class 'pandas.core.frame.DataFrame'>\n",
      "Int64Index: 14474 entries, 0 to 16360\n",
      "Data columns (total 24 columns):\n",
      " #   Column                       Non-Null Count  Dtype          \n",
      "---  ------                       --------------  -----          \n",
      " 0   country                      14474 non-null  object         \n",
      " 1   year                         14474 non-null  int64          \n",
      " 2   region                       14474 non-null  object         \n",
      " 3   protestnumber                14474 non-null  int64          \n",
      " 4   startday                     14474 non-null  float64        \n",
      " 5   startmonth                   14474 non-null  float64        \n",
      " 6   startyear                    14474 non-null  float64        \n",
      " 7   endday                       14474 non-null  float64        \n",
      " 8   endmonth                     14474 non-null  float64        \n",
      " 9   endyear                      14474 non-null  float64        \n",
      " 10  protesterviolence            14474 non-null  float64        \n",
      " 11  participants                 14474 non-null  int64          \n",
      " 12  notes                        14474 non-null  object         \n",
      " 13  stateresponse                14474 non-null  object         \n",
      " 14  labor wage dispute           14474 non-null  uint8          \n",
      " 15  land farm issue              14474 non-null  uint8          \n",
      " 16  police brutality             14474 non-null  uint8          \n",
      " 17  political behavior, process  14474 non-null  uint8          \n",
      " 18  price increases, tax policy  14474 non-null  uint8          \n",
      " 19  removal of politician        14474 non-null  uint8          \n",
      " 20  social restrictions          14474 non-null  uint8          \n",
      " 21  startdate                    14474 non-null  datetime64[ns] \n",
      " 22  enddate                      14474 non-null  datetime64[ns] \n",
      " 23  duration                     14474 non-null  timedelta64[ns]\n",
      "dtypes: datetime64[ns](2), float64(7), int64(3), object(4), timedelta64[ns](1), uint8(7)\n",
      "memory usage: 2.7+ MB\n"
     ]
    }
   ],
   "source": [
    "df.info()"
   ]
  },
  {
   "cell_type": "markdown",
   "metadata": {},
   "source": [
    "# Write clean data to CSV"
   ]
  },
  {
   "cell_type": "code",
   "execution_count": 220,
   "metadata": {},
   "outputs": [],
   "source": [
    "df.to_csv('../data/clean_data.csv')"
   ]
  },
  {
   "cell_type": "code",
   "execution_count": null,
   "metadata": {},
   "outputs": [],
   "source": []
  }
 ],
 "metadata": {
  "kernelspec": {
   "display_name": "Python 3",
   "language": "python",
   "name": "python3"
  },
  "language_info": {
   "codemirror_mode": {
    "name": "ipython",
    "version": 3
   },
   "file_extension": ".py",
   "mimetype": "text/x-python",
   "name": "python",
   "nbconvert_exporter": "python",
   "pygments_lexer": "ipython3",
   "version": "3.8.5"
  }
 },
 "nbformat": 4,
 "nbformat_minor": 4
}
