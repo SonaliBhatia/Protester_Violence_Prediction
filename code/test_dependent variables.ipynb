{
 "cells": [
  {
   "cell_type": "code",
   "execution_count": 19,
   "metadata": {},
   "outputs": [],
   "source": [
    "# imports\n",
    "import numpy as np\n",
    "import pandas as pd\n",
    "import matplotlib.pyplot as plt\n",
    "import seaborn as sns\n",
    "\n",
    "# Import train_test_split. Crossval score. Gridsearch CV\n",
    "from sklearn.model_selection import train_test_split, cross_val_score, GridSearchCV, StratifiedKFold\n",
    "\n",
    "# Import metrics\n",
    "from sklearn import metrics\n",
    "\n",
    "# Import Pipeline\n",
    "from sklearn.pipeline import Pipeline\n",
    "\n",
    "# Import models\n",
    "\n",
    "from sklearn.ensemble import RandomForestClassifier, ExtraTreesClassifier\n",
    "from sklearn.naive_bayes import MultinomialNB\n",
    "from sklearn.metrics import confusion_matrix, plot_confusion_matrix\n",
    "from sklearn.tree import DecisionTreeClassifier\n",
    "from sklearn.ensemble import BaggingClassifier\n",
    "from sklearn.ensemble import AdaBoostClassifier, GradientBoostingClassifier, VotingClassifier\n",
    "\n",
    "\n",
    "# Import CountVectorizer and TFIDFVectorizer from feature_extraction.text.\n",
    "from sklearn.feature_extraction.text import CountVectorizer, TfidfVectorizer\n",
    "from sklearn.datasets import make_classification\n",
    "\n",
    "from sklearn.metrics import classification_report, accuracy_score\n",
    "\n",
    "from sklearn.svm import LinearSVC, SVC"
   ]
  },
  {
   "cell_type": "code",
   "execution_count": 20,
   "metadata": {},
   "outputs": [],
   "source": [
    "df = pd.read_csv('../data/clean_data_state_response.csv')\n",
    "df_text = pd.read_csv('../data/numeric_text_combined_state_response.csv')"
   ]
  },
  {
   "cell_type": "code",
   "execution_count": 21,
   "metadata": {
    "scrolled": true
   },
   "outputs": [
    {
     "data": {
      "text/html": [
       "<div>\n",
       "<style scoped>\n",
       "    .dataframe tbody tr th:only-of-type {\n",
       "        vertical-align: middle;\n",
       "    }\n",
       "\n",
       "    .dataframe tbody tr th {\n",
       "        vertical-align: top;\n",
       "    }\n",
       "\n",
       "    .dataframe thead th {\n",
       "        text-align: right;\n",
       "    }\n",
       "</style>\n",
       "<table border=\"1\" class=\"dataframe\">\n",
       "  <thead>\n",
       "    <tr style=\"text-align: right;\">\n",
       "      <th></th>\n",
       "      <th>protestnumber</th>\n",
       "      <th>protesterviolence</th>\n",
       "      <th>participants</th>\n",
       "      <th>notes</th>\n",
       "      <th>accomodation</th>\n",
       "      <th>arrests</th>\n",
       "      <th>beatings</th>\n",
       "      <th>crowd dispersal</th>\n",
       "      <th>ignore</th>\n",
       "      <th>killings</th>\n",
       "      <th>...</th>\n",
       "      <th>year_2017</th>\n",
       "      <th>year_2018</th>\n",
       "      <th>year_2019</th>\n",
       "      <th>region_Asia</th>\n",
       "      <th>region_Central America</th>\n",
       "      <th>region_Europe</th>\n",
       "      <th>region_MENA</th>\n",
       "      <th>region_North America</th>\n",
       "      <th>region_Oceania</th>\n",
       "      <th>region_South America</th>\n",
       "    </tr>\n",
       "  </thead>\n",
       "  <tbody>\n",
       "    <tr>\n",
       "      <th>0</th>\n",
       "      <td>1</td>\n",
       "      <td>0.0</td>\n",
       "      <td>3000</td>\n",
       "      <td>Canada s railway passenger system was finally...</td>\n",
       "      <td>0</td>\n",
       "      <td>0</td>\n",
       "      <td>0</td>\n",
       "      <td>0</td>\n",
       "      <td>1</td>\n",
       "      <td>0</td>\n",
       "      <td>...</td>\n",
       "      <td>0</td>\n",
       "      <td>0</td>\n",
       "      <td>0</td>\n",
       "      <td>0</td>\n",
       "      <td>0</td>\n",
       "      <td>0</td>\n",
       "      <td>0</td>\n",
       "      <td>1</td>\n",
       "      <td>0</td>\n",
       "      <td>0</td>\n",
       "    </tr>\n",
       "    <tr>\n",
       "      <th>1</th>\n",
       "      <td>2</td>\n",
       "      <td>0.0</td>\n",
       "      <td>1000</td>\n",
       "      <td>protestors were only identified as  young peop...</td>\n",
       "      <td>0</td>\n",
       "      <td>0</td>\n",
       "      <td>0</td>\n",
       "      <td>0</td>\n",
       "      <td>1</td>\n",
       "      <td>0</td>\n",
       "      <td>...</td>\n",
       "      <td>0</td>\n",
       "      <td>0</td>\n",
       "      <td>0</td>\n",
       "      <td>0</td>\n",
       "      <td>0</td>\n",
       "      <td>0</td>\n",
       "      <td>0</td>\n",
       "      <td>1</td>\n",
       "      <td>0</td>\n",
       "      <td>0</td>\n",
       "    </tr>\n",
       "    <tr>\n",
       "      <th>2</th>\n",
       "      <td>3</td>\n",
       "      <td>0.0</td>\n",
       "      <td>500</td>\n",
       "      <td>THE Queen, after calling on Canadians to rema...</td>\n",
       "      <td>0</td>\n",
       "      <td>0</td>\n",
       "      <td>0</td>\n",
       "      <td>0</td>\n",
       "      <td>1</td>\n",
       "      <td>0</td>\n",
       "      <td>...</td>\n",
       "      <td>0</td>\n",
       "      <td>0</td>\n",
       "      <td>0</td>\n",
       "      <td>0</td>\n",
       "      <td>0</td>\n",
       "      <td>0</td>\n",
       "      <td>0</td>\n",
       "      <td>1</td>\n",
       "      <td>0</td>\n",
       "      <td>0</td>\n",
       "    </tr>\n",
       "    <tr>\n",
       "      <th>3</th>\n",
       "      <td>4</td>\n",
       "      <td>1.0</td>\n",
       "      <td>300</td>\n",
       "      <td>Canada s federal government has agreed to acq...</td>\n",
       "      <td>1</td>\n",
       "      <td>0</td>\n",
       "      <td>0</td>\n",
       "      <td>0</td>\n",
       "      <td>0</td>\n",
       "      <td>0</td>\n",
       "      <td>...</td>\n",
       "      <td>0</td>\n",
       "      <td>0</td>\n",
       "      <td>0</td>\n",
       "      <td>0</td>\n",
       "      <td>0</td>\n",
       "      <td>0</td>\n",
       "      <td>0</td>\n",
       "      <td>1</td>\n",
       "      <td>0</td>\n",
       "      <td>0</td>\n",
       "    </tr>\n",
       "    <tr>\n",
       "      <th>4</th>\n",
       "      <td>5</td>\n",
       "      <td>1.0</td>\n",
       "      <td>950</td>\n",
       "      <td>Protests were directed against the state due t...</td>\n",
       "      <td>1</td>\n",
       "      <td>1</td>\n",
       "      <td>0</td>\n",
       "      <td>1</td>\n",
       "      <td>0</td>\n",
       "      <td>0</td>\n",
       "      <td>...</td>\n",
       "      <td>0</td>\n",
       "      <td>0</td>\n",
       "      <td>0</td>\n",
       "      <td>0</td>\n",
       "      <td>0</td>\n",
       "      <td>0</td>\n",
       "      <td>0</td>\n",
       "      <td>1</td>\n",
       "      <td>0</td>\n",
       "      <td>0</td>\n",
       "    </tr>\n",
       "  </tbody>\n",
       "</table>\n",
       "<p>5 rows × 222 columns</p>\n",
       "</div>"
      ],
      "text/plain": [
       "   protestnumber  protesterviolence  participants  \\\n",
       "0              1                0.0          3000   \n",
       "1              2                0.0          1000   \n",
       "2              3                0.0           500   \n",
       "3              4                1.0           300   \n",
       "4              5                1.0           950   \n",
       "\n",
       "                                               notes  accomodation  arrests  \\\n",
       "0   Canada s railway passenger system was finally...             0        0   \n",
       "1  protestors were only identified as  young peop...             0        0   \n",
       "2   THE Queen, after calling on Canadians to rema...             0        0   \n",
       "3   Canada s federal government has agreed to acq...             1        0   \n",
       "4  Protests were directed against the state due t...             1        1   \n",
       "\n",
       "   beatings  crowd dispersal  ignore  killings  ...  year_2017 year_2018  \\\n",
       "0         0                0       1         0  ...          0         0   \n",
       "1         0                0       1         0  ...          0         0   \n",
       "2         0                0       1         0  ...          0         0   \n",
       "3         0                0       0         0  ...          0         0   \n",
       "4         0                1       0         0  ...          0         0   \n",
       "\n",
       "   year_2019  region_Asia  region_Central America  region_Europe  region_MENA  \\\n",
       "0          0            0                       0              0            0   \n",
       "1          0            0                       0              0            0   \n",
       "2          0            0                       0              0            0   \n",
       "3          0            0                       0              0            0   \n",
       "4          0            0                       0              0            0   \n",
       "\n",
       "   region_North America  region_Oceania  region_South America  \n",
       "0                     1               0                     0  \n",
       "1                     1               0                     0  \n",
       "2                     1               0                     0  \n",
       "3                     1               0                     0  \n",
       "4                     1               0                     0  \n",
       "\n",
       "[5 rows x 222 columns]"
      ]
     },
     "execution_count": 21,
     "metadata": {},
     "output_type": "execute_result"
    }
   ],
   "source": [
    "df.head()"
   ]
  },
  {
   "cell_type": "code",
   "execution_count": 22,
   "metadata": {},
   "outputs": [
    {
     "data": {
      "text/plain": [
       "(14474, 222)"
      ]
     },
     "execution_count": 22,
     "metadata": {},
     "output_type": "execute_result"
    }
   ],
   "source": [
    "df.shape"
   ]
  },
  {
   "cell_type": "code",
   "execution_count": 23,
   "metadata": {},
   "outputs": [
    {
     "data": {
      "text/plain": [
       "Index(['protestnumber', 'protesterviolence', 'participants', 'notes',\n",
       "       'accomodation', 'arrests', 'beatings', 'crowd dispersal', 'ignore',\n",
       "       'killings', 'shootings', 'stateresponse', 'stateresponse_violence',\n",
       "       'labor wage dispute', 'land farm issue', 'police brutality',\n",
       "       'political behavior, process', 'price increases, tax policy',\n",
       "       'removal of politician', 'social restrictions', 'duration',\n",
       "       'country_Albania', 'country_Algeria', 'country_Angola',\n",
       "       'country_Argentina', 'country_Armenia', 'country_Austria',\n",
       "       'country_Azerbaijan', 'country_Bahrain', 'country_Bangladesh'],\n",
       "      dtype='object')"
      ]
     },
     "execution_count": 23,
     "metadata": {},
     "output_type": "execute_result"
    }
   ],
   "source": [
    "df.columns[:30]"
   ]
  },
  {
   "cell_type": "markdown",
   "metadata": {},
   "source": [
    "# Model Prep - NO TEXT"
   ]
  },
  {
   "cell_type": "markdown",
   "metadata": {},
   "source": [
    "Note: We're going to try two models.  One predicting 'protesterviolence' for that we'll only need to drop the 'stateresponse' variable (which was our original DV).\n",
    "\n",
    "The 2nd model we'll try to predict 'stateresponse_violence' and for that we'll need to drop the individual state responses.  We'll call those 'responses' below"
   ]
  },
  {
   "cell_type": "code",
   "execution_count": 24,
   "metadata": {},
   "outputs": [],
   "source": [
    "responses = ['accomodation', 'arrests', 'beatings', 'crowd dispersal', 'ignore', 'killings', 'shootings']"
   ]
  },
  {
   "cell_type": "code",
   "execution_count": 25,
   "metadata": {},
   "outputs": [],
   "source": [
    "df.drop(columns=['notes', 'stateresponse'], inplace=True)"
   ]
  },
  {
   "cell_type": "code",
   "execution_count": 26,
   "metadata": {},
   "outputs": [],
   "source": [
    "# Step 1: Split into training & testing sets\n",
    "X = df.drop(columns='protesterviolence')\n",
    "y = df['protesterviolence']\n",
    "X_train, X_test, y_train, y_test = train_test_split(X, y, stratify = y, random_state=42)"
   ]
  },
  {
   "cell_type": "code",
   "execution_count": 27,
   "metadata": {},
   "outputs": [
    {
     "data": {
      "text/plain": [
       "((14474, 219), (14474,))"
      ]
     },
     "execution_count": 27,
     "metadata": {},
     "output_type": "execute_result"
    }
   ],
   "source": [
    "X.shape, y.shape"
   ]
  },
  {
   "cell_type": "code",
   "execution_count": 28,
   "metadata": {
    "scrolled": false
   },
   "outputs": [
    {
     "data": {
      "text/plain": [
       "0.0    0.736944\n",
       "1.0    0.263056\n",
       "Name: protesterviolence, dtype: float64"
      ]
     },
     "execution_count": 28,
     "metadata": {},
     "output_type": "execute_result"
    }
   ],
   "source": [
    "# Get the baseline model performance\n",
    "y_test.value_counts(normalize = True)"
   ]
  },
  {
   "cell_type": "markdown",
   "metadata": {},
   "source": [
    "# Ada Boost"
   ]
  },
  {
   "cell_type": "code",
   "execution_count": 29,
   "metadata": {},
   "outputs": [
    {
     "name": "stdout",
     "output_type": "stream",
     "text": [
      "Fitting 4 folds for each of 12 candidates, totalling 48 fits\n"
     ]
    },
    {
     "name": "stderr",
     "output_type": "stream",
     "text": [
      "[Parallel(n_jobs=-1)]: Using backend LokyBackend with 16 concurrent workers.\n",
      "[Parallel(n_jobs=-1)]: Done   9 tasks      | elapsed:    5.8s\n",
      "[Parallel(n_jobs=-1)]: Done  42 out of  48 | elapsed:   15.1s remaining:    2.2s\n",
      "[Parallel(n_jobs=-1)]: Done  48 out of  48 | elapsed:   15.8s finished\n"
     ]
    },
    {
     "name": "stdout",
     "output_type": "stream",
     "text": [
      "GridSearchCV best score:  0.8184242006268571\n"
     ]
    },
    {
     "data": {
      "text/plain": [
       "{'base_estimator__max_depth': 3, 'learning_rate': 0.9, 'n_estimators': 50}"
      ]
     },
     "execution_count": 29,
     "metadata": {},
     "output_type": "execute_result"
    }
   ],
   "source": [
    "ada = AdaBoostClassifier(base_estimator=DecisionTreeClassifier())\n",
    "\n",
    "ada_params = {\n",
    "    'n_estimators': [50, 100],\n",
    "    'learning_rate': [.9, .1],\n",
    "    'base_estimator__max_depth': [1, 2, 3]\n",
    "}\n",
    "\n",
    "gs = GridSearchCV(ada, param_grid=ada_params, cv=4, verbose=2, n_jobs=-1)\n",
    "gs.fit(X_train, y_train)\n",
    "print('GridSearchCV best score: ', gs.best_score_)\n",
    "gs.best_params_"
   ]
  },
  {
   "cell_type": "code",
   "execution_count": 30,
   "metadata": {},
   "outputs": [
    {
     "name": "stdout",
     "output_type": "stream",
     "text": [
      "Train score:  0.8557346844771995\n",
      "Test score:  0.8109975131251727\n"
     ]
    }
   ],
   "source": [
    "print('Train score: ', gs.score(X_train, y_train))\n",
    "print('Test score: ', gs.score(X_test, y_test))"
   ]
  },
  {
   "cell_type": "code",
   "execution_count": 32,
   "metadata": {
    "scrolled": true
   },
   "outputs": [
    {
     "data": {
      "text/plain": [
       "array([8.22838528e-02, 8.27427635e-02, 1.76830649e-02, 1.92429673e-02,\n",
       "       6.11823107e-03, 4.85836029e-02, 3.39886309e-02, 1.24169433e-02,\n",
       "       5.96091196e-03, 3.21440946e-02, 2.04108019e-02, 4.04979270e-03,\n",
       "       1.39596626e-02, 1.75810622e-02, 1.50231542e-02, 9.71410876e-03,\n",
       "       5.33450750e-03, 4.36315115e-02, 2.57688906e-03, 0.00000000e+00,\n",
       "       3.33448255e-03, 2.44698158e-03, 2.32069360e-03, 0.00000000e+00,\n",
       "       2.49080959e-03, 2.02597369e-03, 0.00000000e+00, 4.46467379e-03,\n",
       "       2.83069971e-03, 2.17907095e-03, 2.95145894e-03, 3.86664949e-03,\n",
       "       3.34668443e-03, 2.31712759e-03, 1.91496663e-03, 0.00000000e+00,\n",
       "       6.91975990e-03, 1.65193834e-02, 2.02233695e-03, 0.00000000e+00,\n",
       "       2.22928608e-03, 0.00000000e+00, 0.00000000e+00, 0.00000000e+00,\n",
       "       0.00000000e+00, 4.80347666e-03, 2.30474717e-03, 3.09980191e-03,\n",
       "       4.09197884e-03, 0.00000000e+00, 0.00000000e+00, 0.00000000e+00,\n",
       "       1.96559367e-03, 3.80092946e-03, 0.00000000e+00, 0.00000000e+00,\n",
       "       0.00000000e+00, 0.00000000e+00, 3.23272331e-03, 1.45105885e-03,\n",
       "       4.27149918e-03, 0.00000000e+00, 0.00000000e+00, 0.00000000e+00,\n",
       "       2.03106355e-03, 0.00000000e+00, 0.00000000e+00, 6.97307432e-03,\n",
       "       0.00000000e+00, 3.00169154e-03, 4.91253120e-03, 9.09924507e-03,\n",
       "       3.21993582e-03, 0.00000000e+00, 0.00000000e+00, 4.70567356e-03,\n",
       "       3.08955102e-03, 0.00000000e+00, 3.41318888e-03, 5.02554144e-03,\n",
       "       0.00000000e+00, 2.55458306e-03, 3.54077465e-03, 4.62443650e-03,\n",
       "       0.00000000e+00, 0.00000000e+00, 0.00000000e+00, 6.66280542e-03,\n",
       "       4.31053226e-03, 2.22215265e-03, 3.03661547e-03, 2.24072296e-03,\n",
       "       0.00000000e+00, 3.76472467e-03, 2.06841303e-03, 2.76755383e-03,\n",
       "       0.00000000e+00, 4.13784328e-03, 4.40105269e-03, 3.58708909e-03,\n",
       "       2.33763385e-03, 0.00000000e+00, 3.04006789e-03, 0.00000000e+00,\n",
       "       0.00000000e+00, 0.00000000e+00, 4.33207842e-03, 0.00000000e+00,\n",
       "       0.00000000e+00, 4.78892470e-03, 0.00000000e+00, 3.80125201e-03,\n",
       "       4.46418321e-03, 2.55522237e-03, 0.00000000e+00, 4.49622774e-03,\n",
       "       0.00000000e+00, 0.00000000e+00, 2.31793798e-03, 4.87645458e-03,\n",
       "       6.58929800e-03, 2.02571933e-03, 0.00000000e+00, 5.35520040e-03,\n",
       "       3.21620087e-03, 0.00000000e+00, 0.00000000e+00, 0.00000000e+00,\n",
       "       3.46852162e-03, 5.09571831e-03, 2.20000008e-03, 0.00000000e+00,\n",
       "       2.32819556e-03, 0.00000000e+00, 0.00000000e+00, 0.00000000e+00,\n",
       "       0.00000000e+00, 0.00000000e+00, 0.00000000e+00, 4.61970391e-03,\n",
       "       0.00000000e+00, 0.00000000e+00, 0.00000000e+00, 0.00000000e+00,\n",
       "       0.00000000e+00, 0.00000000e+00, 0.00000000e+00, 3.46592697e-03,\n",
       "       0.00000000e+00, 3.43693584e-03, 0.00000000e+00, 2.29720863e-03,\n",
       "       0.00000000e+00, 5.72374564e-03, 0.00000000e+00, 2.33254002e-03,\n",
       "       0.00000000e+00, 4.97930363e-03, 0.00000000e+00, 0.00000000e+00,\n",
       "       0.00000000e+00, 0.00000000e+00, 0.00000000e+00, 0.00000000e+00,\n",
       "       1.24478963e-02, 0.00000000e+00, 3.97837952e-03, 0.00000000e+00,\n",
       "       0.00000000e+00, 0.00000000e+00, 2.47771506e-03, 0.00000000e+00,\n",
       "       7.82061104e-03, 0.00000000e+00, 5.06337304e-03, 4.02516012e-03,\n",
       "       3.60536285e-03, 4.45859220e-03, 0.00000000e+00, 2.16566397e-03,\n",
       "       5.21427525e-03, 0.00000000e+00, 0.00000000e+00, 1.00095814e-02,\n",
       "       5.26897886e-03, 0.00000000e+00, 3.99341568e-03, 1.88749081e-03,\n",
       "       5.90680281e-03, 3.25623265e-03, 0.00000000e+00, 4.61308930e-04,\n",
       "       8.97850829e-03, 7.07386488e-03, 8.11209220e-03, 3.78973127e-03,\n",
       "       5.21061985e-03, 2.87023356e-03, 1.01273557e-02, 6.41437777e-03,\n",
       "       5.90872748e-03, 0.00000000e+00, 0.00000000e+00, 1.65296614e-03,\n",
       "       0.00000000e+00, 1.67598171e-17, 0.00000000e+00, 9.80268428e-03,\n",
       "       4.97833684e-03, 1.01312785e-02, 2.18821481e-02, 5.40638680e-03,\n",
       "       1.42719099e-03, 0.00000000e+00, 1.41904747e-02, 8.05566288e-03,\n",
       "       8.97052589e-03, 0.00000000e+00, 1.67915943e-02])"
      ]
     },
     "execution_count": 32,
     "metadata": {},
     "output_type": "execute_result"
    }
   ],
   "source": [
    "# Best way of interpreting the results of a tree-based ensemble estimator - weighted gini score for each tree averaged\n",
    "gs.best_estimator_.feature_importances_"
   ]
  },
  {
   "cell_type": "code",
   "execution_count": 33,
   "metadata": {},
   "outputs": [],
   "source": [
    "# Get the most important features from adaboost\n",
    "imp_list = gs.best_estimator_.feature_importances_"
   ]
  },
  {
   "cell_type": "code",
   "execution_count": 34,
   "metadata": {},
   "outputs": [],
   "source": [
    "# Get the column names from the training features\n",
    "col_names = X.columns"
   ]
  },
  {
   "cell_type": "code",
   "execution_count": 35,
   "metadata": {},
   "outputs": [],
   "source": [
    "# Get the importance scores\n",
    "imp = pd.DataFrame(imp_list, index=col_names, columns=['feat imp'])"
   ]
  },
  {
   "cell_type": "code",
   "execution_count": 36,
   "metadata": {},
   "outputs": [
    {
     "data": {
      "image/png": "[encoded data removed]",
      "text/plain": [
       "<Figure size 504x504 with 1 Axes>"
      ]
     },
     "metadata": {
      "needs_background": "light"
     },
     "output_type": "display_data"
    }
   ],
   "source": [
    "# Plot the importance scores for the most important features\n",
    "imp.sort_values('feat imp', ascending = False).head(25).plot(kind= 'barh', color = 'red', alpha = 0.7, figsize = (7,7))\n",
    "#plt.yticks(rotation = 70)\n",
    "plt.xlabel('Coefficient')\n",
    "plt.title('Words with Highest Importance Score from Ada Boost')\n",
    "plt.savefig(\"../figs/importance_scores.png\")"
   ]
  },
  {
   "cell_type": "markdown",
   "metadata": {},
   "source": [
    "### Model does pretty well without much fuss and these results are pretty interesting!  Some of our state responses showed up!!  It would be interesting to attach some correlation coefficients to these to determine direction."
   ]
  },
  {
   "cell_type": "markdown",
   "metadata": {},
   "source": [
    "### Now let's try to predict state response"
   ]
  },
  {
   "cell_type": "code",
   "execution_count": 37,
   "metadata": {},
   "outputs": [],
   "source": [
    "df.drop(columns=responses, inplace=True)"
   ]
  },
  {
   "cell_type": "code",
   "execution_count": 38,
   "metadata": {},
   "outputs": [],
   "source": [
    "# Step 1: Split into training & testing sets\n",
    "X = df.drop(columns='stateresponse_violence')\n",
    "y = df['stateresponse_violence']\n",
    "X_train, X_test, y_train, y_test = train_test_split(X, y, stratify = y, random_state=42)"
   ]
  },
  {
   "cell_type": "code",
   "execution_count": 39,
   "metadata": {},
   "outputs": [
    {
     "data": {
      "text/plain": [
       "((14474, 212), (14474,))"
      ]
     },
     "execution_count": 39,
     "metadata": {},
     "output_type": "execute_result"
    }
   ],
   "source": [
    "X.shape, y.shape"
   ]
  },
  {
   "cell_type": "code",
   "execution_count": 40,
   "metadata": {
    "scrolled": false
   },
   "outputs": [
    {
     "data": {
      "text/plain": [
       "0    0.7748\n",
       "1    0.2252\n",
       "Name: stateresponse_violence, dtype: float64"
      ]
     },
     "execution_count": 40,
     "metadata": {},
     "output_type": "execute_result"
    }
   ],
   "source": [
    "# Get the baseline model performance\n",
    "y_test.value_counts(normalize = True)"
   ]
  },
  {
   "cell_type": "markdown",
   "metadata": {},
   "source": [
    "# Ada Boost"
   ]
  },
  {
   "cell_type": "code",
   "execution_count": 41,
   "metadata": {},
   "outputs": [
    {
     "name": "stdout",
     "output_type": "stream",
     "text": [
      "Fitting 4 folds for each of 12 candidates, totalling 48 fits\n"
     ]
    },
    {
     "name": "stderr",
     "output_type": "stream",
     "text": [
      "[Parallel(n_jobs=-1)]: Using backend LokyBackend with 16 concurrent workers.\n",
      "[Parallel(n_jobs=-1)]: Done   9 tasks      | elapsed:    7.0s\n",
      "[Parallel(n_jobs=-1)]: Done  42 out of  48 | elapsed:   16.2s remaining:    2.3s\n",
      "[Parallel(n_jobs=-1)]: Done  48 out of  48 | elapsed:   16.8s finished\n"
     ]
    },
    {
     "name": "stdout",
     "output_type": "stream",
     "text": [
      "GridSearchCV best score:  0.805619236618579\n"
     ]
    },
    {
     "data": {
      "text/plain": [
       "{'base_estimator__max_depth': 2, 'learning_rate': 0.9, 'n_estimators': 100}"
      ]
     },
     "execution_count": 41,
     "metadata": {},
     "output_type": "execute_result"
    }
   ],
   "source": [
    "ada = AdaBoostClassifier(base_estimator=DecisionTreeClassifier())\n",
    "\n",
    "ada_params = {\n",
    "    'n_estimators': [50, 100],\n",
    "    'learning_rate': [.9, .1],\n",
    "    'base_estimator__max_depth': [1, 2, 3]\n",
    "}\n",
    "\n",
    "gs = GridSearchCV(ada, param_grid=ada_params, cv=4, verbose=2, n_jobs=-1)\n",
    "gs.fit(X_train, y_train)\n",
    "print('GridSearchCV best score: ', gs.best_score_)\n",
    "gs.best_params_"
   ]
  },
  {
   "cell_type": "code",
   "execution_count": 42,
   "metadata": {},
   "outputs": [
    {
     "name": "stdout",
     "output_type": "stream",
     "text": [
      "Train score:  0.8291110087517273\n",
      "Test score:  0.7969052224371374\n"
     ]
    }
   ],
   "source": [
    "print('Train score: ', gs.score(X_train, y_train))\n",
    "print('Test score: ', gs.score(X_test, y_test))"
   ]
  },
  {
   "cell_type": "code",
   "execution_count": 43,
   "metadata": {
    "scrolled": true
   },
   "outputs": [
    {
     "data": {
      "text/plain": [
       "array([0.1182795 , 0.07108594, 0.11006349, 0.0104561 , 0.00107151,\n",
       "       0.01750509, 0.0140795 , 0.01622273, 0.02881447, 0.00061996,\n",
       "       0.03328861, 0.00382883, 0.00311875, 0.00303395, 0.        ,\n",
       "       0.00759983, 0.        , 0.012901  , 0.        , 0.00406406,\n",
       "       0.00936312, 0.        , 0.00211729, 0.        , 0.00207405,\n",
       "       0.0027812 , 0.00359471, 0.        , 0.00274299, 0.        ,\n",
       "       0.        , 0.0020852 , 0.00393387, 0.        , 0.00209701,\n",
       "       0.        , 0.00384279, 0.00661244, 0.00259027, 0.        ,\n",
       "       0.        , 0.        , 0.00461975, 0.        , 0.00491989,\n",
       "       0.00464722, 0.00272267, 0.00508011, 0.00208086, 0.0047264 ,\n",
       "       0.00373376, 0.        , 0.00196656, 0.00337223, 0.00300075,\n",
       "       0.00232931, 0.00232263, 0.00249774, 0.00346485, 0.        ,\n",
       "       0.00433324, 0.00373249, 0.00115753, 0.0039908 , 0.0073273 ,\n",
       "       0.00499968, 0.00240073, 0.00415182, 0.00216452, 0.00332389,\n",
       "       0.00459316, 0.        , 0.        , 0.00130446, 0.00404757,\n",
       "       0.        , 0.        , 0.00435224, 0.00376535, 0.00158012,\n",
       "       0.00252173, 0.        , 0.        , 0.00173301, 0.00265715,\n",
       "       0.00465364, 0.00148502, 0.        , 0.00273879, 0.00230894,\n",
       "       0.0030541 , 0.00502028, 0.00266296, 0.00142054, 0.        ,\n",
       "       0.        , 0.        , 0.00327202, 0.        , 0.00286524,\n",
       "       0.        , 0.00173889, 0.00549143, 0.00160251, 0.        ,\n",
       "       0.        , 0.00444988, 0.        , 0.00440833, 0.00222242,\n",
       "       0.        , 0.00227323, 0.00254411, 0.00659844, 0.00555517,\n",
       "       0.00152151, 0.        , 0.00171064, 0.00500078, 0.0023308 ,\n",
       "       0.        , 0.00499922, 0.00219514, 0.00417947, 0.00398507,\n",
       "       0.        , 0.        , 0.00520901, 0.00320692, 0.        ,\n",
       "       0.        , 0.00200374, 0.01240741, 0.00429824, 0.00257393,\n",
       "       0.        , 0.00277461, 0.        , 0.        , 0.        ,\n",
       "       0.        , 0.        , 0.00212717, 0.00239919, 0.00078275,\n",
       "       0.00225519, 0.00295297, 0.00355701, 0.0037254 , 0.0048383 ,\n",
       "       0.00924861, 0.00235857, 0.00171716, 0.        , 0.00286074,\n",
       "       0.00240214, 0.00378262, 0.00354627, 0.        , 0.00183974,\n",
       "       0.        , 0.00192179, 0.00146279, 0.        , 0.00368323,\n",
       "       0.        , 0.        , 0.00592092, 0.00470977, 0.        ,\n",
       "       0.0027174 , 0.        , 0.00322905, 0.00292015, 0.00497972,\n",
       "       0.00354141, 0.00479569, 0.00366901, 0.00232838, 0.00868519,\n",
       "       0.00043561, 0.        , 0.00435356, 0.0113705 , 0.00711222,\n",
       "       0.01005767, 0.        , 0.013854  , 0.00175648, 0.        ,\n",
       "       0.0025282 , 0.00869503, 0.        , 0.00999761, 0.00160474,\n",
       "       0.0019677 , 0.00737917, 0.00526855, 0.01053695, 0.00914144,\n",
       "       0.00383877, 0.01612447, 0.00180654, 0.00846415, 0.00220669,\n",
       "       0.        , 0.        , 0.00518972, 0.00419755, 0.        ,\n",
       "       0.        , 0.00690211])"
      ]
     },
     "execution_count": 43,
     "metadata": {},
     "output_type": "execute_result"
    }
   ],
   "source": [
    "# Best way of interpreting the results of a tree-based ensemble estimator - weighted gini score for each tree averaged\n",
    "gs.best_estimator_.feature_importances_"
   ]
  },
  {
   "cell_type": "code",
   "execution_count": 44,
   "metadata": {},
   "outputs": [],
   "source": [
    "# Get the most important features from adaboost\n",
    "imp_list = gs.best_estimator_.feature_importances_"
   ]
  },
  {
   "cell_type": "code",
   "execution_count": 45,
   "metadata": {},
   "outputs": [],
   "source": [
    "# Get the column names from the training features\n",
    "col_names = X.columns"
   ]
  },
  {
   "cell_type": "code",
   "execution_count": 46,
   "metadata": {},
   "outputs": [],
   "source": [
    "# Get the importance scores\n",
    "imp = pd.DataFrame(imp_list, index=col_names, columns=['feat imp'])"
   ]
  },
  {
   "cell_type": "code",
   "execution_count": 47,
   "metadata": {},
   "outputs": [
    {
     "data": {
      "image/png": "[encoded data removed]",
      "text/plain": [
       "<Figure size 504x504 with 1 Axes>"
      ]
     },
     "metadata": {
      "needs_background": "light"
     },
     "output_type": "display_data"
    }
   ],
   "source": [
    "# Plot the importance scores for the most important features\n",
    "imp.sort_values('feat imp', ascending = False).head(25).plot(kind= 'barh', color = 'red', alpha = 0.7, figsize = (7,7))\n",
    "#plt.yticks(rotation = 70)\n",
    "plt.xlabel('Coefficient')\n",
    "plt.title('Words with Highest Importance Score from Ada Boost')\n",
    "plt.savefig(\"../figs/importance_scores.png\")"
   ]
  },
  {
   "cell_type": "markdown",
   "metadata": {},
   "source": [
    "### This model performs comparably well.    There are more years and countries at the top here.  Maybe less actionable information overall?"
   ]
  },
  {
   "cell_type": "code",
   "execution_count": null,
   "metadata": {},
   "outputs": [],
   "source": []
  }
 ],
 "metadata": {
  "kernelspec": {
   "display_name": "Python 3",
   "language": "python",
   "name": "python3"
  },
  "language_info": {
   "codemirror_mode": {
    "name": "ipython",
    "version": 3
   },
   "file_extension": ".py",
   "mimetype": "text/x-python",
   "name": "python",
   "nbconvert_exporter": "python",
   "pygments_lexer": "ipython3",
   "version": "3.8.5"
  }
 },
 "nbformat": 4,
 "nbformat_minor": 4
}
