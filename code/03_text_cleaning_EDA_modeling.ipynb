{
 "cells": [
  {
   "cell_type": "code",
   "execution_count": 107,
   "metadata": {},
   "outputs": [],
   "source": [
    "import pandas as pd\n",
    "import numpy as np\n",
    "from sklearn.feature_extraction.text import CountVectorizer, TfidfVectorizer\n",
    "from sklearn.model_selection import train_test_split , cross_val_score, GridSearchCV, StratifiedKFold\n",
    "import time\n",
    "from nltk.sentiment.vader import SentimentIntensityAnalyzer\n",
    "\n",
    "#Import metrics\n",
    "from sklearn import metrics\n",
    "\n",
    "# Import Pipeline\n",
    "from sklearn.pipeline import Pipeline\n",
    "\n",
    "# Import pre[rocessing transformer\n",
    "from sklearn.preprocessing import StandardScaler\n",
    "\n",
    "\n",
    "\n",
    "# Import models\n",
    "\n",
    "\n",
    "from sklearn.metrics import confusion_matrix, plot_confusion_matrix\n",
    "from sklearn.tree import DecisionTreeClassifier\n",
    "from sklearn.ensemble import AdaBoostClassifier, GradientBoostingClassifier, VotingClassifier\n",
    "# Import models\n",
    "\n",
    "from sklearn.svm import LinearSVC, SVC\n",
    "from sklearn.metrics import confusion_matrix, plot_confusion_matrix\n"
   ]
  },
  {
   "cell_type": "code",
   "execution_count": 42,
   "metadata": {},
   "outputs": [],
   "source": [
    "df = pd.read_csv('../data/clean_data_dates_dummies.csv')"
   ]
  },
  {
   "cell_type": "code",
   "execution_count": 43,
   "metadata": {},
   "outputs": [
    {
     "data": {
      "text/html": [
       "<div>\n",
       "<style scoped>\n",
       "    .dataframe tbody tr th:only-of-type {\n",
       "        vertical-align: middle;\n",
       "    }\n",
       "\n",
       "    .dataframe tbody tr th {\n",
       "        vertical-align: top;\n",
       "    }\n",
       "\n",
       "    .dataframe thead th {\n",
       "        text-align: right;\n",
       "    }\n",
       "</style>\n",
       "<table border=\"1\" class=\"dataframe\">\n",
       "  <thead>\n",
       "    <tr style=\"text-align: right;\">\n",
       "      <th></th>\n",
       "      <th>protestnumber</th>\n",
       "      <th>protesterviolence</th>\n",
       "      <th>participants</th>\n",
       "      <th>notes</th>\n",
       "      <th>stateresponse</th>\n",
       "      <th>labor wage dispute</th>\n",
       "      <th>land farm issue</th>\n",
       "      <th>police brutality</th>\n",
       "      <th>political behavior, process</th>\n",
       "      <th>price increases, tax policy</th>\n",
       "      <th>...</th>\n",
       "      <th>year_2017</th>\n",
       "      <th>year_2018</th>\n",
       "      <th>year_2019</th>\n",
       "      <th>region_Asia</th>\n",
       "      <th>region_Central America</th>\n",
       "      <th>region_Europe</th>\n",
       "      <th>region_MENA</th>\n",
       "      <th>region_North America</th>\n",
       "      <th>region_Oceania</th>\n",
       "      <th>region_South America</th>\n",
       "    </tr>\n",
       "  </thead>\n",
       "  <tbody>\n",
       "    <tr>\n",
       "      <th>0</th>\n",
       "      <td>1</td>\n",
       "      <td>0.0</td>\n",
       "      <td>3000</td>\n",
       "      <td>Canada s railway passenger system was finally...</td>\n",
       "      <td>ignore</td>\n",
       "      <td>1</td>\n",
       "      <td>0</td>\n",
       "      <td>0</td>\n",
       "      <td>1</td>\n",
       "      <td>0</td>\n",
       "      <td>...</td>\n",
       "      <td>0</td>\n",
       "      <td>0</td>\n",
       "      <td>0</td>\n",
       "      <td>0</td>\n",
       "      <td>0</td>\n",
       "      <td>0</td>\n",
       "      <td>0</td>\n",
       "      <td>1</td>\n",
       "      <td>0</td>\n",
       "      <td>0</td>\n",
       "    </tr>\n",
       "    <tr>\n",
       "      <th>1</th>\n",
       "      <td>2</td>\n",
       "      <td>0.0</td>\n",
       "      <td>1000</td>\n",
       "      <td>protestors were only identified as  young peop...</td>\n",
       "      <td>ignore</td>\n",
       "      <td>0</td>\n",
       "      <td>0</td>\n",
       "      <td>0</td>\n",
       "      <td>1</td>\n",
       "      <td>0</td>\n",
       "      <td>...</td>\n",
       "      <td>0</td>\n",
       "      <td>0</td>\n",
       "      <td>0</td>\n",
       "      <td>0</td>\n",
       "      <td>0</td>\n",
       "      <td>0</td>\n",
       "      <td>0</td>\n",
       "      <td>1</td>\n",
       "      <td>0</td>\n",
       "      <td>0</td>\n",
       "    </tr>\n",
       "    <tr>\n",
       "      <th>2</th>\n",
       "      <td>3</td>\n",
       "      <td>0.0</td>\n",
       "      <td>500</td>\n",
       "      <td>THE Queen, after calling on Canadians to rema...</td>\n",
       "      <td>ignore</td>\n",
       "      <td>0</td>\n",
       "      <td>0</td>\n",
       "      <td>0</td>\n",
       "      <td>1</td>\n",
       "      <td>0</td>\n",
       "      <td>...</td>\n",
       "      <td>0</td>\n",
       "      <td>0</td>\n",
       "      <td>0</td>\n",
       "      <td>0</td>\n",
       "      <td>0</td>\n",
       "      <td>0</td>\n",
       "      <td>0</td>\n",
       "      <td>1</td>\n",
       "      <td>0</td>\n",
       "      <td>0</td>\n",
       "    </tr>\n",
       "    <tr>\n",
       "      <th>3</th>\n",
       "      <td>4</td>\n",
       "      <td>1.0</td>\n",
       "      <td>300</td>\n",
       "      <td>Canada s federal government has agreed to acq...</td>\n",
       "      <td>accomodation</td>\n",
       "      <td>0</td>\n",
       "      <td>1</td>\n",
       "      <td>0</td>\n",
       "      <td>0</td>\n",
       "      <td>0</td>\n",
       "      <td>...</td>\n",
       "      <td>0</td>\n",
       "      <td>0</td>\n",
       "      <td>0</td>\n",
       "      <td>0</td>\n",
       "      <td>0</td>\n",
       "      <td>0</td>\n",
       "      <td>0</td>\n",
       "      <td>1</td>\n",
       "      <td>0</td>\n",
       "      <td>0</td>\n",
       "    </tr>\n",
       "    <tr>\n",
       "      <th>4</th>\n",
       "      <td>5</td>\n",
       "      <td>1.0</td>\n",
       "      <td>950</td>\n",
       "      <td>Protests were directed against the state due t...</td>\n",
       "      <td>arrests</td>\n",
       "      <td>0</td>\n",
       "      <td>0</td>\n",
       "      <td>0</td>\n",
       "      <td>1</td>\n",
       "      <td>0</td>\n",
       "      <td>...</td>\n",
       "      <td>0</td>\n",
       "      <td>0</td>\n",
       "      <td>0</td>\n",
       "      <td>0</td>\n",
       "      <td>0</td>\n",
       "      <td>0</td>\n",
       "      <td>0</td>\n",
       "      <td>1</td>\n",
       "      <td>0</td>\n",
       "      <td>0</td>\n",
       "    </tr>\n",
       "  </tbody>\n",
       "</table>\n",
       "<p>5 rows × 215 columns</p>\n",
       "</div>"
      ],
      "text/plain": [
       "   protestnumber  protesterviolence  participants  \\\n",
       "0              1                0.0          3000   \n",
       "1              2                0.0          1000   \n",
       "2              3                0.0           500   \n",
       "3              4                1.0           300   \n",
       "4              5                1.0           950   \n",
       "\n",
       "                                               notes stateresponse  \\\n",
       "0   Canada s railway passenger system was finally...        ignore   \n",
       "1  protestors were only identified as  young peop...        ignore   \n",
       "2   THE Queen, after calling on Canadians to rema...        ignore   \n",
       "3   Canada s federal government has agreed to acq...  accomodation   \n",
       "4  Protests were directed against the state due t...       arrests   \n",
       "\n",
       "   labor wage dispute  land farm issue  police brutality  \\\n",
       "0                   1                0                 0   \n",
       "1                   0                0                 0   \n",
       "2                   0                0                 0   \n",
       "3                   0                1                 0   \n",
       "4                   0                0                 0   \n",
       "\n",
       "   political behavior, process  price increases, tax policy  ...  year_2017  \\\n",
       "0                            1                            0  ...          0   \n",
       "1                            1                            0  ...          0   \n",
       "2                            1                            0  ...          0   \n",
       "3                            0                            0  ...          0   \n",
       "4                            1                            0  ...          0   \n",
       "\n",
       "   year_2018  year_2019  region_Asia  region_Central America  region_Europe  \\\n",
       "0          0          0            0                       0              0   \n",
       "1          0          0            0                       0              0   \n",
       "2          0          0            0                       0              0   \n",
       "3          0          0            0                       0              0   \n",
       "4          0          0            0                       0              0   \n",
       "\n",
       "   region_MENA  region_North America  region_Oceania  region_South America  \n",
       "0            0                     1               0                     0  \n",
       "1            0                     1               0                     0  \n",
       "2            0                     1               0                     0  \n",
       "3            0                     1               0                     0  \n",
       "4            0                     1               0                     0  \n",
       "\n",
       "[5 rows x 215 columns]"
      ]
     },
     "execution_count": 43,
     "metadata": {},
     "output_type": "execute_result"
    }
   ],
   "source": [
    "df.head()"
   ]
  },
  {
   "cell_type": "markdown",
   "metadata": {},
   "source": [
    "# Sentiment analyzer with VADER "
   ]
  },
  {
   "cell_type": "code",
   "execution_count": 45,
   "metadata": {},
   "outputs": [
    {
     "data": {
      "text/plain": [
       "14474"
      ]
     },
     "execution_count": 45,
     "metadata": {},
     "output_type": "execute_result"
    }
   ],
   "source": [
    "corpus=list(df['notes'])\n",
    "len(corpus)"
   ]
  },
  {
   "cell_type": "code",
   "execution_count": 46,
   "metadata": {},
   "outputs": [
    {
     "data": {
      "text/plain": [
       "{'neg': 0.083, 'neu': 0.917, 'pos': 0.0, 'compound': -0.8176}"
      ]
     },
     "execution_count": 46,
     "metadata": {},
     "output_type": "execute_result"
    }
   ],
   "source": [
    "#instantiate SIA\n",
    "sia=SentimentIntensityAnalyzer()\n",
    "\n",
    "#Get polarity scores for the first title\n",
    "sia.polarity_scores(corpus[0])"
   ]
  },
  {
   "cell_type": "code",
   "execution_count": 47,
   "metadata": {},
   "outputs": [
    {
     "data": {
      "text/html": [
       "<div>\n",
       "<style scoped>\n",
       "    .dataframe tbody tr th:only-of-type {\n",
       "        vertical-align: middle;\n",
       "    }\n",
       "\n",
       "    .dataframe tbody tr th {\n",
       "        vertical-align: top;\n",
       "    }\n",
       "\n",
       "    .dataframe thead th {\n",
       "        text-align: right;\n",
       "    }\n",
       "</style>\n",
       "<table border=\"1\" class=\"dataframe\">\n",
       "  <thead>\n",
       "    <tr style=\"text-align: right;\">\n",
       "      <th></th>\n",
       "      <th>neg</th>\n",
       "      <th>neu</th>\n",
       "      <th>pos</th>\n",
       "      <th>compound</th>\n",
       "      <th>text</th>\n",
       "    </tr>\n",
       "  </thead>\n",
       "  <tbody>\n",
       "    <tr>\n",
       "      <th>0</th>\n",
       "      <td>0.083</td>\n",
       "      <td>0.917</td>\n",
       "      <td>0.000</td>\n",
       "      <td>-0.8176</td>\n",
       "      <td>Canada s railway passenger system was finally...</td>\n",
       "    </tr>\n",
       "    <tr>\n",
       "      <th>1</th>\n",
       "      <td>0.000</td>\n",
       "      <td>1.000</td>\n",
       "      <td>0.000</td>\n",
       "      <td>0.0000</td>\n",
       "      <td>protestors were only identified as  young peop...</td>\n",
       "    </tr>\n",
       "    <tr>\n",
       "      <th>2</th>\n",
       "      <td>0.059</td>\n",
       "      <td>0.833</td>\n",
       "      <td>0.107</td>\n",
       "      <td>0.7003</td>\n",
       "      <td>THE Queen, after calling on Canadians to rema...</td>\n",
       "    </tr>\n",
       "    <tr>\n",
       "      <th>3</th>\n",
       "      <td>0.132</td>\n",
       "      <td>0.823</td>\n",
       "      <td>0.045</td>\n",
       "      <td>-0.9711</td>\n",
       "      <td>Canada s federal government has agreed to acq...</td>\n",
       "    </tr>\n",
       "    <tr>\n",
       "      <th>4</th>\n",
       "      <td>0.226</td>\n",
       "      <td>0.677</td>\n",
       "      <td>0.098</td>\n",
       "      <td>-0.5267</td>\n",
       "      <td>Protests were directed against the state due t...</td>\n",
       "    </tr>\n",
       "  </tbody>\n",
       "</table>\n",
       "</div>"
      ],
      "text/plain": [
       "     neg    neu    pos  compound  \\\n",
       "0  0.083  0.917  0.000   -0.8176   \n",
       "1  0.000  1.000  0.000    0.0000   \n",
       "2  0.059  0.833  0.107    0.7003   \n",
       "3  0.132  0.823  0.045   -0.9711   \n",
       "4  0.226  0.677  0.098   -0.5267   \n",
       "\n",
       "                                                text  \n",
       "0   Canada s railway passenger system was finally...  \n",
       "1  protestors were only identified as  young peop...  \n",
       "2   THE Queen, after calling on Canadians to rema...  \n",
       "3   Canada s federal government has agreed to acq...  \n",
       "4  Protests were directed against the state due t...  "
      ]
     },
     "execution_count": 47,
     "metadata": {},
     "output_type": "execute_result"
    }
   ],
   "source": [
    "dicts = []    \n",
    "\n",
    "for text in corpus:\n",
    "    scores = sia.polarity_scores(text)\n",
    "    scores['text'] = text\n",
    "    dicts.append(scores)\n",
    "\n",
    "df_new = pd.DataFrame(dicts)\n",
    "df_new.head()"
   ]
  },
  {
   "cell_type": "code",
   "execution_count": 48,
   "metadata": {},
   "outputs": [],
   "source": [
    "df_new['protesterviolence']=df['protesterviolence']"
   ]
  },
  {
   "cell_type": "code",
   "execution_count": 49,
   "metadata": {},
   "outputs": [],
   "source": [
    "df_new['stateresponse']=df['stateresponse']"
   ]
  },
  {
   "cell_type": "code",
   "execution_count": 50,
   "metadata": {
    "scrolled": true
   },
   "outputs": [
    {
     "data": {
      "text/html": [
       "<div>\n",
       "<style scoped>\n",
       "    .dataframe tbody tr th:only-of-type {\n",
       "        vertical-align: middle;\n",
       "    }\n",
       "\n",
       "    .dataframe tbody tr th {\n",
       "        vertical-align: top;\n",
       "    }\n",
       "\n",
       "    .dataframe thead th {\n",
       "        text-align: right;\n",
       "    }\n",
       "</style>\n",
       "<table border=\"1\" class=\"dataframe\">\n",
       "  <thead>\n",
       "    <tr style=\"text-align: right;\">\n",
       "      <th></th>\n",
       "      <th>neg</th>\n",
       "      <th>neu</th>\n",
       "      <th>pos</th>\n",
       "      <th>compound</th>\n",
       "      <th>text</th>\n",
       "      <th>protesterviolence</th>\n",
       "      <th>stateresponse</th>\n",
       "    </tr>\n",
       "  </thead>\n",
       "  <tbody>\n",
       "    <tr>\n",
       "      <th>13817</th>\n",
       "      <td>0.0</td>\n",
       "      <td>0.133</td>\n",
       "      <td>0.867</td>\n",
       "      <td>0.7579</td>\n",
       "      <td>free trade agreement</td>\n",
       "      <td>0.0</td>\n",
       "      <td>ignore</td>\n",
       "    </tr>\n",
       "    <tr>\n",
       "      <th>7262</th>\n",
       "      <td>0.0</td>\n",
       "      <td>0.192</td>\n",
       "      <td>0.808</td>\n",
       "      <td>0.6369</td>\n",
       "      <td>Press Freedom</td>\n",
       "      <td>0.0</td>\n",
       "      <td>arrests</td>\n",
       "    </tr>\n",
       "    <tr>\n",
       "      <th>12910</th>\n",
       "      <td>0.0</td>\n",
       "      <td>0.192</td>\n",
       "      <td>0.808</td>\n",
       "      <td>0.6369</td>\n",
       "      <td>press freedom</td>\n",
       "      <td>0.0</td>\n",
       "      <td>ignore</td>\n",
       "    </tr>\n",
       "    <tr>\n",
       "      <th>1287</th>\n",
       "      <td>0.0</td>\n",
       "      <td>0.192</td>\n",
       "      <td>0.808</td>\n",
       "      <td>0.6369</td>\n",
       "      <td>press freedom</td>\n",
       "      <td>0.0</td>\n",
       "      <td>ignore</td>\n",
       "    </tr>\n",
       "    <tr>\n",
       "      <th>1289</th>\n",
       "      <td>0.0</td>\n",
       "      <td>0.192</td>\n",
       "      <td>0.808</td>\n",
       "      <td>0.6369</td>\n",
       "      <td>press freedom</td>\n",
       "      <td>0.0</td>\n",
       "      <td>ignore</td>\n",
       "    </tr>\n",
       "    <tr>\n",
       "      <th>12556</th>\n",
       "      <td>0.0</td>\n",
       "      <td>0.233</td>\n",
       "      <td>0.767</td>\n",
       "      <td>0.5106</td>\n",
       "      <td>free trade</td>\n",
       "      <td>0.0</td>\n",
       "      <td>crowd dispersal</td>\n",
       "    </tr>\n",
       "    <tr>\n",
       "      <th>12547</th>\n",
       "      <td>0.0</td>\n",
       "      <td>0.233</td>\n",
       "      <td>0.767</td>\n",
       "      <td>0.5106</td>\n",
       "      <td>free trade</td>\n",
       "      <td>1.0</td>\n",
       "      <td>crowd dispersal</td>\n",
       "    </tr>\n",
       "    <tr>\n",
       "      <th>12562</th>\n",
       "      <td>0.0</td>\n",
       "      <td>0.233</td>\n",
       "      <td>0.767</td>\n",
       "      <td>0.5106</td>\n",
       "      <td>free trade</td>\n",
       "      <td>0.0</td>\n",
       "      <td>ignore</td>\n",
       "    </tr>\n",
       "    <tr>\n",
       "      <th>14222</th>\n",
       "      <td>0.0</td>\n",
       "      <td>0.256</td>\n",
       "      <td>0.744</td>\n",
       "      <td>0.4404</td>\n",
       "      <td>supporting bases</td>\n",
       "      <td>0.0</td>\n",
       "      <td>ignore</td>\n",
       "    </tr>\n",
       "    <tr>\n",
       "      <th>13866</th>\n",
       "      <td>0.0</td>\n",
       "      <td>0.256</td>\n",
       "      <td>0.744</td>\n",
       "      <td>0.4404</td>\n",
       "      <td>government supporters</td>\n",
       "      <td>0.0</td>\n",
       "      <td>ignore</td>\n",
       "    </tr>\n",
       "  </tbody>\n",
       "</table>\n",
       "</div>"
      ],
      "text/plain": [
       "       neg    neu    pos  compound                   text  protesterviolence  \\\n",
       "13817  0.0  0.133  0.867    0.7579   free trade agreement                0.0   \n",
       "7262   0.0  0.192  0.808    0.6369          Press Freedom                0.0   \n",
       "12910  0.0  0.192  0.808    0.6369          press freedom                0.0   \n",
       "1287   0.0  0.192  0.808    0.6369          press freedom                0.0   \n",
       "1289   0.0  0.192  0.808    0.6369          press freedom                0.0   \n",
       "12556  0.0  0.233  0.767    0.5106             free trade                0.0   \n",
       "12547  0.0  0.233  0.767    0.5106             free trade                1.0   \n",
       "12562  0.0  0.233  0.767    0.5106             free trade                0.0   \n",
       "14222  0.0  0.256  0.744    0.4404       supporting bases                0.0   \n",
       "13866  0.0  0.256  0.744    0.4404  government supporters                0.0   \n",
       "\n",
       "         stateresponse  \n",
       "13817           ignore  \n",
       "7262           arrests  \n",
       "12910           ignore  \n",
       "1287            ignore  \n",
       "1289            ignore  \n",
       "12556  crowd dispersal  \n",
       "12547  crowd dispersal  \n",
       "12562           ignore  \n",
       "14222           ignore  \n",
       "13866           ignore  "
      ]
     },
     "execution_count": 50,
     "metadata": {},
     "output_type": "execute_result"
    }
   ],
   "source": [
    "df_new.sort_values(by='pos', ascending=False).head(10)"
   ]
  },
  {
   "cell_type": "code",
   "execution_count": 51,
   "metadata": {
    "scrolled": false
   },
   "outputs": [
    {
     "data": {
      "text/html": [
       "<div>\n",
       "<style scoped>\n",
       "    .dataframe tbody tr th:only-of-type {\n",
       "        vertical-align: middle;\n",
       "    }\n",
       "\n",
       "    .dataframe tbody tr th {\n",
       "        vertical-align: top;\n",
       "    }\n",
       "\n",
       "    .dataframe thead th {\n",
       "        text-align: right;\n",
       "    }\n",
       "</style>\n",
       "<table border=\"1\" class=\"dataframe\">\n",
       "  <thead>\n",
       "    <tr style=\"text-align: right;\">\n",
       "      <th></th>\n",
       "      <th>neg</th>\n",
       "      <th>neu</th>\n",
       "      <th>pos</th>\n",
       "      <th>compound</th>\n",
       "      <th>text</th>\n",
       "      <th>protesterviolence</th>\n",
       "      <th>stateresponse</th>\n",
       "    </tr>\n",
       "  </thead>\n",
       "  <tbody>\n",
       "    <tr>\n",
       "      <th>1416</th>\n",
       "      <td>1.0</td>\n",
       "      <td>0.0</td>\n",
       "      <td>0.0</td>\n",
       "      <td>-0.1280</td>\n",
       "      <td>strike</td>\n",
       "      <td>0.0</td>\n",
       "      <td>ignore</td>\n",
       "    </tr>\n",
       "    <tr>\n",
       "      <th>2206</th>\n",
       "      <td>1.0</td>\n",
       "      <td>0.0</td>\n",
       "      <td>0.0</td>\n",
       "      <td>-0.1280</td>\n",
       "      <td>strike</td>\n",
       "      <td>0.0</td>\n",
       "      <td>ignore</td>\n",
       "    </tr>\n",
       "    <tr>\n",
       "      <th>2209</th>\n",
       "      <td>1.0</td>\n",
       "      <td>0.0</td>\n",
       "      <td>0.0</td>\n",
       "      <td>-0.1280</td>\n",
       "      <td>strike</td>\n",
       "      <td>0.0</td>\n",
       "      <td>ignore</td>\n",
       "    </tr>\n",
       "    <tr>\n",
       "      <th>14226</th>\n",
       "      <td>1.0</td>\n",
       "      <td>0.0</td>\n",
       "      <td>0.0</td>\n",
       "      <td>-0.7003</td>\n",
       "      <td>anti crime</td>\n",
       "      <td>0.0</td>\n",
       "      <td>ignore</td>\n",
       "    </tr>\n",
       "    <tr>\n",
       "      <th>1876</th>\n",
       "      <td>1.0</td>\n",
       "      <td>0.0</td>\n",
       "      <td>0.0</td>\n",
       "      <td>-0.1280</td>\n",
       "      <td>strike</td>\n",
       "      <td>0.0</td>\n",
       "      <td>ignore</td>\n",
       "    </tr>\n",
       "    <tr>\n",
       "      <th>2015</th>\n",
       "      <td>1.0</td>\n",
       "      <td>0.0</td>\n",
       "      <td>0.0</td>\n",
       "      <td>-0.3612</td>\n",
       "      <td>hunger strike</td>\n",
       "      <td>0.0</td>\n",
       "      <td>ignore</td>\n",
       "    </tr>\n",
       "    <tr>\n",
       "      <th>2211</th>\n",
       "      <td>1.0</td>\n",
       "      <td>0.0</td>\n",
       "      <td>0.0</td>\n",
       "      <td>-0.1280</td>\n",
       "      <td>strike</td>\n",
       "      <td>0.0</td>\n",
       "      <td>ignore</td>\n",
       "    </tr>\n",
       "    <tr>\n",
       "      <th>12458</th>\n",
       "      <td>1.0</td>\n",
       "      <td>0.0</td>\n",
       "      <td>0.0</td>\n",
       "      <td>-0.3612</td>\n",
       "      <td>hunger strike</td>\n",
       "      <td>0.0</td>\n",
       "      <td>ignore</td>\n",
       "    </tr>\n",
       "    <tr>\n",
       "      <th>14286</th>\n",
       "      <td>1.0</td>\n",
       "      <td>0.0</td>\n",
       "      <td>0.0</td>\n",
       "      <td>-0.1280</td>\n",
       "      <td>strike</td>\n",
       "      <td>0.0</td>\n",
       "      <td>ignore</td>\n",
       "    </tr>\n",
       "    <tr>\n",
       "      <th>1295</th>\n",
       "      <td>1.0</td>\n",
       "      <td>0.0</td>\n",
       "      <td>0.0</td>\n",
       "      <td>-0.3612</td>\n",
       "      <td>hunger strike</td>\n",
       "      <td>0.0</td>\n",
       "      <td>ignore</td>\n",
       "    </tr>\n",
       "  </tbody>\n",
       "</table>\n",
       "</div>"
      ],
      "text/plain": [
       "       neg  neu  pos  compound           text  protesterviolence stateresponse\n",
       "1416   1.0  0.0  0.0   -0.1280         strike                0.0        ignore\n",
       "2206   1.0  0.0  0.0   -0.1280         strike                0.0        ignore\n",
       "2209   1.0  0.0  0.0   -0.1280         strike                0.0        ignore\n",
       "14226  1.0  0.0  0.0   -0.7003     anti crime                0.0        ignore\n",
       "1876   1.0  0.0  0.0   -0.1280         strike                0.0        ignore\n",
       "2015   1.0  0.0  0.0   -0.3612  hunger strike                0.0        ignore\n",
       "2211   1.0  0.0  0.0   -0.1280         strike                0.0        ignore\n",
       "12458  1.0  0.0  0.0   -0.3612  hunger strike                0.0        ignore\n",
       "14286  1.0  0.0  0.0   -0.1280         strike                0.0        ignore\n",
       "1295   1.0  0.0  0.0   -0.3612  hunger strike                0.0        ignore"
      ]
     },
     "execution_count": 51,
     "metadata": {},
     "output_type": "execute_result"
    }
   ],
   "source": [
    "df_new.sort_values(by='neg', ascending=False).head(10)"
   ]
  },
  {
   "cell_type": "code",
   "execution_count": 100,
   "metadata": {
    "scrolled": true
   },
   "outputs": [
    {
     "data": {
      "text/plain": [
       "<matplotlib.axes._subplots.AxesSubplot at 0x7f9c388cc100>"
      ]
     },
     "execution_count": 100,
     "metadata": {},
     "output_type": "execute_result"
    },
    {
     "data": {
      "image/png": "[encoded data removed]",
      "text/plain": [
       "<Figure size 1080x720 with 1 Axes>"
      ]
     },
     "metadata": {
      "needs_background": "light"
     },
     "output_type": "display_data"
    }
   ],
   "source": [
    "df_new.groupby('protesterviolence').mean()[['pos', 'neg', 'compound']].plot(kind='barh',title='Average Positive, Negative & Compound Scores for Protester Violence',figsize=(15,10),color=(['blue','orange','red']))"
   ]
  },
  {
   "cell_type": "code",
   "execution_count": 101,
   "metadata": {},
   "outputs": [
    {
     "data": {
      "text/plain": [
       "<matplotlib.axes._subplots.AxesSubplot at 0x7f9c36f8d910>"
      ]
     },
     "execution_count": 101,
     "metadata": {},
     "output_type": "execute_result"
    },
    {
     "data": {
      "image/png": "[encoded data removed]",
      "text/plain": [
       "<Figure size 1080x720 with 1 Axes>"
      ]
     },
     "metadata": {
      "needs_background": "light"
     },
     "output_type": "display_data"
    }
   ],
   "source": [
    "df_new.groupby('stateresponse').mean()[['pos', 'neg', 'compound']].plot(kind='barh',title='Average Positive, Negative & Compound Scores for State response',figsize=(15,10),color=(['blue','orange','red']))"
   ]
  },
  {
   "cell_type": "code",
   "execution_count": 54,
   "metadata": {},
   "outputs": [
    {
     "name": "stdout",
     "output_type": "stream",
     "text": [
      "<class 'pandas.core.frame.DataFrame'>\n",
      "RangeIndex: 14474 entries, 0 to 14473\n",
      "Data columns (total 7 columns):\n",
      " #   Column             Non-Null Count  Dtype  \n",
      "---  ------             --------------  -----  \n",
      " 0   neg                14474 non-null  float64\n",
      " 1   neu                14474 non-null  float64\n",
      " 2   pos                14474 non-null  float64\n",
      " 3   compound           14474 non-null  float64\n",
      " 4   text               14474 non-null  object \n",
      " 5   protesterviolence  14474 non-null  float64\n",
      " 6   stateresponse      14474 non-null  object \n",
      "dtypes: float64(5), object(2)\n",
      "memory usage: 791.7+ KB\n"
     ]
    }
   ],
   "source": [
    "df_new.info()"
   ]
  },
  {
   "cell_type": "code",
   "execution_count": 55,
   "metadata": {
    "scrolled": false
   },
   "outputs": [
    {
     "name": "stdout",
     "output_type": "stream",
     "text": [
      "<class 'pandas.core.frame.DataFrame'>\n",
      "RangeIndex: 14474 entries, 0 to 14473\n",
      "Columns: 215 entries, protestnumber to region_South America\n",
      "dtypes: float64(1), int64(212), object(2)\n",
      "memory usage: 23.7+ MB\n"
     ]
    }
   ],
   "source": [
    "df.info()"
   ]
  },
  {
   "cell_type": "markdown",
   "metadata": {},
   "source": [
    "# Text Cleaning"
   ]
  },
  {
   "cell_type": "code",
   "execution_count": 56,
   "metadata": {},
   "outputs": [],
   "source": [
    "import nltk\n",
    "from nltk.stem import WordNetLemmatizer\n",
    "import string\n",
    "\n",
    "def tokenize(text):\n",
    "    text = ''.join([ch for ch in text if ch not in string.punctuation])\n",
    "    tokens = nltk.word_tokenize(text)\n",
    "    lemmatizer = WordNetLemmatizer()\n",
    "    return [lemmatizer.lemmatize(token) for token in tokens]\n",
    "                                "
   ]
  },
  {
   "cell_type": "code",
   "execution_count": 57,
   "metadata": {},
   "outputs": [],
   "source": [
    "tf_vectorizer = TfidfVectorizer(tokenizer=tokenize,\n",
    "                                stop_words = 'english', \n",
    "                                lowercase = True,\n",
    "                                ngram_range = (1,2),\n",
    "                                max_df = 0.5, \n",
    "                                min_df = 10,\n",
    "                                max_features=5000) \n",
    "\n"
   ]
  },
  {
   "cell_type": "code",
   "execution_count": 58,
   "metadata": {},
   "outputs": [],
   "source": [
    "df['notes'] = df['notes'].str.replace(r'(\\b\\w{1,2}\\b)', '') # for words removing 1 or 2 letter words\n",
    " \n"
   ]
  },
  {
   "cell_type": "code",
   "execution_count": 59,
   "metadata": {},
   "outputs": [],
   "source": [
    "#Combine dataframes here before splitting\n",
    "combined_df = pd.concat([df, df_new], axis =1)\n"
   ]
  },
  {
   "cell_type": "code",
   "execution_count": 60,
   "metadata": {},
   "outputs": [],
   "source": [
    "# Drop the original notes column\n",
    "combined_df.drop(columns = ['notes'], inplace=True)"
   ]
  },
  {
   "cell_type": "code",
   "execution_count": 61,
   "metadata": {},
   "outputs": [
    {
     "data": {
      "text/plain": [
       "(14474, 221)"
      ]
     },
     "execution_count": 61,
     "metadata": {},
     "output_type": "execute_result"
    }
   ],
   "source": [
    "combined_df.shape"
   ]
  },
  {
   "cell_type": "code",
   "execution_count": 62,
   "metadata": {},
   "outputs": [
    {
     "data": {
      "text/html": [
       "<div>\n",
       "<style scoped>\n",
       "    .dataframe tbody tr th:only-of-type {\n",
       "        vertical-align: middle;\n",
       "    }\n",
       "\n",
       "    .dataframe tbody tr th {\n",
       "        vertical-align: top;\n",
       "    }\n",
       "\n",
       "    .dataframe thead th {\n",
       "        text-align: right;\n",
       "    }\n",
       "</style>\n",
       "<table border=\"1\" class=\"dataframe\">\n",
       "  <thead>\n",
       "    <tr style=\"text-align: right;\">\n",
       "      <th></th>\n",
       "      <th>protestnumber</th>\n",
       "      <th>protesterviolence</th>\n",
       "      <th>participants</th>\n",
       "      <th>stateresponse</th>\n",
       "      <th>labor wage dispute</th>\n",
       "      <th>land farm issue</th>\n",
       "      <th>police brutality</th>\n",
       "      <th>political behavior, process</th>\n",
       "      <th>price increases, tax policy</th>\n",
       "      <th>removal of politician</th>\n",
       "      <th>...</th>\n",
       "      <th>region_North America</th>\n",
       "      <th>region_Oceania</th>\n",
       "      <th>region_South America</th>\n",
       "      <th>neg</th>\n",
       "      <th>neu</th>\n",
       "      <th>pos</th>\n",
       "      <th>compound</th>\n",
       "      <th>text</th>\n",
       "      <th>protesterviolence</th>\n",
       "      <th>stateresponse</th>\n",
       "    </tr>\n",
       "  </thead>\n",
       "  <tbody>\n",
       "    <tr>\n",
       "      <th>0</th>\n",
       "      <td>1</td>\n",
       "      <td>0.0</td>\n",
       "      <td>3000</td>\n",
       "      <td>ignore</td>\n",
       "      <td>1</td>\n",
       "      <td>0</td>\n",
       "      <td>0</td>\n",
       "      <td>1</td>\n",
       "      <td>0</td>\n",
       "      <td>0</td>\n",
       "      <td>...</td>\n",
       "      <td>1</td>\n",
       "      <td>0</td>\n",
       "      <td>0</td>\n",
       "      <td>0.083</td>\n",
       "      <td>0.917</td>\n",
       "      <td>0.000</td>\n",
       "      <td>-0.8176</td>\n",
       "      <td>Canada s railway passenger system was finally...</td>\n",
       "      <td>0.0</td>\n",
       "      <td>ignore</td>\n",
       "    </tr>\n",
       "    <tr>\n",
       "      <th>1</th>\n",
       "      <td>2</td>\n",
       "      <td>0.0</td>\n",
       "      <td>1000</td>\n",
       "      <td>ignore</td>\n",
       "      <td>0</td>\n",
       "      <td>0</td>\n",
       "      <td>0</td>\n",
       "      <td>1</td>\n",
       "      <td>0</td>\n",
       "      <td>0</td>\n",
       "      <td>...</td>\n",
       "      <td>1</td>\n",
       "      <td>0</td>\n",
       "      <td>0</td>\n",
       "      <td>0.000</td>\n",
       "      <td>1.000</td>\n",
       "      <td>0.000</td>\n",
       "      <td>0.0000</td>\n",
       "      <td>protestors were only identified as  young peop...</td>\n",
       "      <td>0.0</td>\n",
       "      <td>ignore</td>\n",
       "    </tr>\n",
       "    <tr>\n",
       "      <th>2</th>\n",
       "      <td>3</td>\n",
       "      <td>0.0</td>\n",
       "      <td>500</td>\n",
       "      <td>ignore</td>\n",
       "      <td>0</td>\n",
       "      <td>0</td>\n",
       "      <td>0</td>\n",
       "      <td>1</td>\n",
       "      <td>0</td>\n",
       "      <td>0</td>\n",
       "      <td>...</td>\n",
       "      <td>1</td>\n",
       "      <td>0</td>\n",
       "      <td>0</td>\n",
       "      <td>0.059</td>\n",
       "      <td>0.833</td>\n",
       "      <td>0.107</td>\n",
       "      <td>0.7003</td>\n",
       "      <td>THE Queen, after calling on Canadians to rema...</td>\n",
       "      <td>0.0</td>\n",
       "      <td>ignore</td>\n",
       "    </tr>\n",
       "    <tr>\n",
       "      <th>3</th>\n",
       "      <td>4</td>\n",
       "      <td>1.0</td>\n",
       "      <td>300</td>\n",
       "      <td>accomodation</td>\n",
       "      <td>0</td>\n",
       "      <td>1</td>\n",
       "      <td>0</td>\n",
       "      <td>0</td>\n",
       "      <td>0</td>\n",
       "      <td>0</td>\n",
       "      <td>...</td>\n",
       "      <td>1</td>\n",
       "      <td>0</td>\n",
       "      <td>0</td>\n",
       "      <td>0.132</td>\n",
       "      <td>0.823</td>\n",
       "      <td>0.045</td>\n",
       "      <td>-0.9711</td>\n",
       "      <td>Canada s federal government has agreed to acq...</td>\n",
       "      <td>1.0</td>\n",
       "      <td>accomodation</td>\n",
       "    </tr>\n",
       "    <tr>\n",
       "      <th>4</th>\n",
       "      <td>5</td>\n",
       "      <td>1.0</td>\n",
       "      <td>950</td>\n",
       "      <td>arrests</td>\n",
       "      <td>0</td>\n",
       "      <td>0</td>\n",
       "      <td>0</td>\n",
       "      <td>1</td>\n",
       "      <td>0</td>\n",
       "      <td>0</td>\n",
       "      <td>...</td>\n",
       "      <td>1</td>\n",
       "      <td>0</td>\n",
       "      <td>0</td>\n",
       "      <td>0.226</td>\n",
       "      <td>0.677</td>\n",
       "      <td>0.098</td>\n",
       "      <td>-0.5267</td>\n",
       "      <td>Protests were directed against the state due t...</td>\n",
       "      <td>1.0</td>\n",
       "      <td>arrests</td>\n",
       "    </tr>\n",
       "  </tbody>\n",
       "</table>\n",
       "<p>5 rows × 221 columns</p>\n",
       "</div>"
      ],
      "text/plain": [
       "   protestnumber  protesterviolence  participants  stateresponse  \\\n",
       "0              1                0.0          3000         ignore   \n",
       "1              2                0.0          1000         ignore   \n",
       "2              3                0.0           500         ignore   \n",
       "3              4                1.0           300   accomodation   \n",
       "4              5                1.0           950        arrests   \n",
       "\n",
       "   labor wage dispute  land farm issue  police brutality  \\\n",
       "0                   1                0                 0   \n",
       "1                   0                0                 0   \n",
       "2                   0                0                 0   \n",
       "3                   0                1                 0   \n",
       "4                   0                0                 0   \n",
       "\n",
       "   political behavior, process  price increases, tax policy  \\\n",
       "0                            1                            0   \n",
       "1                            1                            0   \n",
       "2                            1                            0   \n",
       "3                            0                            0   \n",
       "4                            1                            0   \n",
       "\n",
       "   removal of politician  ...  region_North America  region_Oceania  \\\n",
       "0                      0  ...                     1               0   \n",
       "1                      0  ...                     1               0   \n",
       "2                      0  ...                     1               0   \n",
       "3                      0  ...                     1               0   \n",
       "4                      0  ...                     1               0   \n",
       "\n",
       "   region_South America    neg    neu    pos  compound  \\\n",
       "0                     0  0.083  0.917  0.000   -0.8176   \n",
       "1                     0  0.000  1.000  0.000    0.0000   \n",
       "2                     0  0.059  0.833  0.107    0.7003   \n",
       "3                     0  0.132  0.823  0.045   -0.9711   \n",
       "4                     0  0.226  0.677  0.098   -0.5267   \n",
       "\n",
       "                                                text  protesterviolence  \\\n",
       "0   Canada s railway passenger system was finally...                0.0   \n",
       "1  protestors were only identified as  young peop...                0.0   \n",
       "2   THE Queen, after calling on Canadians to rema...                0.0   \n",
       "3   Canada s federal government has agreed to acq...                1.0   \n",
       "4  Protests were directed against the state due t...                1.0   \n",
       "\n",
       "   stateresponse  \n",
       "0         ignore  \n",
       "1         ignore  \n",
       "2         ignore  \n",
       "3   accomodation  \n",
       "4        arrests  \n",
       "\n",
       "[5 rows x 221 columns]"
      ]
     },
     "execution_count": 62,
     "metadata": {},
     "output_type": "execute_result"
    }
   ],
   "source": [
    "combined_df.head()"
   ]
  },
  {
   "cell_type": "code",
   "execution_count": 63,
   "metadata": {},
   "outputs": [],
   "source": [
    "X=combined_df.drop(columns=['protesterviolence' , 'stateresponse'])\n",
    "y=df_new['protesterviolence']"
   ]
  },
  {
   "cell_type": "code",
   "execution_count": 64,
   "metadata": {},
   "outputs": [
    {
     "data": {
      "text/plain": [
       "0.0    0.737046\n",
       "1.0    0.262954\n",
       "Name: protesterviolence, dtype: float64"
      ]
     },
     "execution_count": 64,
     "metadata": {},
     "output_type": "execute_result"
    }
   ],
   "source": [
    "y.value_counts(normalize=True)"
   ]
  },
  {
   "cell_type": "code",
   "execution_count": 65,
   "metadata": {},
   "outputs": [],
   "source": [
    "X_train , X_test , y_train , y_test = train_test_split(X,y,random_state=42 ,stratify=y)\n"
   ]
  },
  {
   "cell_type": "code",
   "execution_count": 66,
   "metadata": {},
   "outputs": [
    {
     "data": {
      "text/plain": [
       "(0.26292031321971443, 0.26305609284332687)"
      ]
     },
     "execution_count": 66,
     "metadata": {},
     "output_type": "execute_result"
    }
   ],
   "source": [
    "y_train.mean() , y_test.mean()"
   ]
  },
  {
   "cell_type": "markdown",
   "metadata": {},
   "source": [
    "# Applying TFiDF Vectorizer and to text"
   ]
  },
  {
   "cell_type": "code",
   "execution_count": 67,
   "metadata": {
    "scrolled": true
   },
   "outputs": [
    {
     "name": "stderr",
     "output_type": "stream",
     "text": [
      "/Users/sonalibhatia/opt/anaconda3/lib/python3.8/site-packages/sklearn/feature_extraction/text.py:383: UserWarning: Your stop_words may be inconsistent with your preprocessing. Tokenizing the stop words generated tokens ['ha', 'le', 'u', 'wa'] not in stop_words.\n",
      "  warnings.warn('Your stop_words may be inconsistent with '\n"
     ]
    }
   ],
   "source": [
    "X_train_tf=tf_vectorizer.fit_transform(X_train['text'])\n",
    "X_test_tf = tf_vectorizer.transform(X_test['text'])"
   ]
  },
  {
   "cell_type": "code",
   "execution_count": 68,
   "metadata": {},
   "outputs": [
    {
     "data": {
      "text/plain": [
       "['000',\n",
       " '1',\n",
       " '1 thousand',\n",
       " '10',\n",
       " '10 2016',\n",
       " '100',\n",
       " '100 people',\n",
       " '100 protester',\n",
       " '1000',\n",
       " '1000 demonstrator',\n",
       " '1000 individual',\n",
       " '1000 people',\n",
       " '1000 protester',\n",
       " '1000 student',\n",
       " '10000',\n",
       " '10000 people',\n",
       " '100000',\n",
       " '100000 people',\n",
       " '11',\n",
       " '12',\n",
       " '12 2015',\n",
       " '120',\n",
       " '1200',\n",
       " '12000',\n",
       " '13',\n",
       " '13 square',\n",
       " '130',\n",
       " '13th',\n",
       " '14',\n",
       " '15',\n",
       " '150',\n",
       " '1500',\n",
       " '15000',\n",
       " '15000 people',\n",
       " '150000',\n",
       " '15th',\n",
       " '16',\n",
       " '16 year',\n",
       " '160',\n",
       " '17',\n",
       " '18',\n",
       " '180',\n",
       " '19',\n",
       " '1980',\n",
       " '1980s',\n",
       " '1989',\n",
       " '1990',\n",
       " '1991',\n",
       " '1992',\n",
       " '1994',\n",
       " '1995',\n",
       " '1996',\n",
       " '1st',\n",
       " '2',\n",
       " '2 12',\n",
       " '2 thousand',\n",
       " '20',\n",
       " '20 people',\n",
       " '20 year',\n",
       " '200',\n",
       " '200 demonstrator',\n",
       " '200 people',\n",
       " '200 protester',\n",
       " '2000',\n",
       " '2000 people',\n",
       " '2000 protester',\n",
       " '20000',\n",
       " '20000 people',\n",
       " '20000 supporter',\n",
       " '200000',\n",
       " '2003',\n",
       " '2003 time',\n",
       " '2008',\n",
       " '2009',\n",
       " '2010',\n",
       " '2011',\n",
       " '2011 ha',\n",
       " '2012',\n",
       " '2013',\n",
       " '2014',\n",
       " '2014 3',\n",
       " '2014 information',\n",
       " '2015',\n",
       " '2015 year',\n",
       " '2016',\n",
       " '2016 celebration',\n",
       " '2016 dresden',\n",
       " '2017',\n",
       " '2021',\n",
       " '21',\n",
       " '21 resident',\n",
       " '22',\n",
       " '23',\n",
       " '24',\n",
       " '24 hour',\n",
       " '25',\n",
       " '250',\n",
       " '2500',\n",
       " '25000',\n",
       " '26',\n",
       " '26 4',\n",
       " '26 responded',\n",
       " '26 year',\n",
       " '27',\n",
       " '27th',\n",
       " '28',\n",
       " '29',\n",
       " '3',\n",
       " '3 10',\n",
       " '30',\n",
       " '30 people',\n",
       " '300',\n",
       " '300 people',\n",
       " '3000',\n",
       " '3000 people',\n",
       " '30000',\n",
       " '300000',\n",
       " '31',\n",
       " '32',\n",
       " '34',\n",
       " '35',\n",
       " '350',\n",
       " '36',\n",
       " '38',\n",
       " '4',\n",
       " '4 2016',\n",
       " '40',\n",
       " '40 people',\n",
       " '400',\n",
       " '4000',\n",
       " '40000',\n",
       " '400000',\n",
       " '406th',\n",
       " '406th protest',\n",
       " '43',\n",
       " '45',\n",
       " '47',\n",
       " '48',\n",
       " '48 hour',\n",
       " '5',\n",
       " '50',\n",
       " '50 participant',\n",
       " '50 people',\n",
       " '50 protester',\n",
       " '500',\n",
       " '500 people',\n",
       " '5000',\n",
       " '5000 people',\n",
       " '50000',\n",
       " '50000 people',\n",
       " '500000',\n",
       " '53',\n",
       " '55',\n",
       " '5th',\n",
       " '5th emerged',\n",
       " '6',\n",
       " '60',\n",
       " '600',\n",
       " '6000',\n",
       " '60000',\n",
       " '65',\n",
       " '7',\n",
       " '70',\n",
       " '700',\n",
       " '7000',\n",
       " '70000',\n",
       " '75',\n",
       " '8',\n",
       " '80',\n",
       " '800',\n",
       " '8000',\n",
       " '80000',\n",
       " '9',\n",
       " '90',\n",
       " '9000',\n",
       " '95',\n",
       " 'abandon',\n",
       " 'abandoned',\n",
       " 'abdallah',\n",
       " 'abdullah',\n",
       " 'abidjan',\n",
       " 'ablaze',\n",
       " 'able',\n",
       " 'abortion',\n",
       " 'abroad',\n",
       " 'abuja',\n",
       " 'abuse',\n",
       " 'academic',\n",
       " 'accept',\n",
       " 'accepted',\n",
       " 'access',\n",
       " 'accident',\n",
       " 'accommodation',\n",
       " 'accompanied',\n",
       " 'accord',\n",
       " 'according',\n",
       " 'according local',\n",
       " 'according police',\n",
       " 'account',\n",
       " 'accra']"
      ]
     },
     "execution_count": 68,
     "metadata": {},
     "output_type": "execute_result"
    }
   ],
   "source": [
    "tf_vectorizer.get_feature_names()[:200]"
   ]
  },
  {
   "cell_type": "code",
   "execution_count": 69,
   "metadata": {},
   "outputs": [],
   "source": [
    "df_X_train = pd.DataFrame(X_train_tf.todense(), columns=tf_vectorizer.get_feature_names())\n",
    "\n",
    "df_X_test = pd.DataFrame(X_test_tf.todense(), columns = tf_vectorizer.get_feature_names())"
   ]
  },
  {
   "cell_type": "code",
   "execution_count": 70,
   "metadata": {},
   "outputs": [],
   "source": [
    "df_X_train.reset_index(drop=True, inplace=True)\n",
    "\n",
    "X_train.reset_index(drop=True, inplace=True)\n",
    "\n",
    "df_X_test.reset_index(drop=True, inplace = True)\n",
    "\n",
    "X_test.reset_index(drop=True, inplace=True)"
   ]
  },
  {
   "cell_type": "code",
   "execution_count": 71,
   "metadata": {},
   "outputs": [
    {
     "data": {
      "text/html": [
       "<div>\n",
       "<style scoped>\n",
       "    .dataframe tbody tr th:only-of-type {\n",
       "        vertical-align: middle;\n",
       "    }\n",
       "\n",
       "    .dataframe tbody tr th {\n",
       "        vertical-align: top;\n",
       "    }\n",
       "\n",
       "    .dataframe thead th {\n",
       "        text-align: right;\n",
       "    }\n",
       "</style>\n",
       "<table border=\"1\" class=\"dataframe\">\n",
       "  <thead>\n",
       "    <tr style=\"text-align: right;\">\n",
       "      <th></th>\n",
       "      <th>000</th>\n",
       "      <th>1</th>\n",
       "      <th>1 thousand</th>\n",
       "      <th>10</th>\n",
       "      <th>10 2016</th>\n",
       "      <th>100</th>\n",
       "      <th>100 people</th>\n",
       "      <th>100 protester</th>\n",
       "      <th>1000</th>\n",
       "      <th>1000 demonstrator</th>\n",
       "      <th>...</th>\n",
       "      <th>region_Europe</th>\n",
       "      <th>region_MENA</th>\n",
       "      <th>region_North America</th>\n",
       "      <th>region_Oceania</th>\n",
       "      <th>region_South America</th>\n",
       "      <th>neg</th>\n",
       "      <th>neu</th>\n",
       "      <th>pos</th>\n",
       "      <th>compound</th>\n",
       "      <th>text</th>\n",
       "    </tr>\n",
       "  </thead>\n",
       "  <tbody>\n",
       "    <tr>\n",
       "      <th>0</th>\n",
       "      <td>0.0</td>\n",
       "      <td>0.000000</td>\n",
       "      <td>0.0</td>\n",
       "      <td>0.0</td>\n",
       "      <td>0.0</td>\n",
       "      <td>0.0</td>\n",
       "      <td>0.0</td>\n",
       "      <td>0.0</td>\n",
       "      <td>0.0</td>\n",
       "      <td>0.0</td>\n",
       "      <td>...</td>\n",
       "      <td>1</td>\n",
       "      <td>0</td>\n",
       "      <td>0</td>\n",
       "      <td>0</td>\n",
       "      <td>0</td>\n",
       "      <td>0.000</td>\n",
       "      <td>0.867</td>\n",
       "      <td>0.133</td>\n",
       "      <td>0.6705</td>\n",
       "      <td>While President Ter Petrosyan was absent on a ...</td>\n",
       "    </tr>\n",
       "    <tr>\n",
       "      <th>1</th>\n",
       "      <td>0.0</td>\n",
       "      <td>0.157694</td>\n",
       "      <td>0.0</td>\n",
       "      <td>0.0</td>\n",
       "      <td>0.0</td>\n",
       "      <td>0.0</td>\n",
       "      <td>0.0</td>\n",
       "      <td>0.0</td>\n",
       "      <td>0.0</td>\n",
       "      <td>0.0</td>\n",
       "      <td>...</td>\n",
       "      <td>1</td>\n",
       "      <td>0</td>\n",
       "      <td>0</td>\n",
       "      <td>0</td>\n",
       "      <td>0</td>\n",
       "      <td>0.103</td>\n",
       "      <td>0.897</td>\n",
       "      <td>0.000</td>\n",
       "      <td>-0.1280</td>\n",
       "      <td>Protest organizers estimated participation at ...</td>\n",
       "    </tr>\n",
       "    <tr>\n",
       "      <th>2</th>\n",
       "      <td>0.0</td>\n",
       "      <td>0.000000</td>\n",
       "      <td>0.0</td>\n",
       "      <td>0.0</td>\n",
       "      <td>0.0</td>\n",
       "      <td>0.0</td>\n",
       "      <td>0.0</td>\n",
       "      <td>0.0</td>\n",
       "      <td>0.0</td>\n",
       "      <td>0.0</td>\n",
       "      <td>...</td>\n",
       "      <td>0</td>\n",
       "      <td>0</td>\n",
       "      <td>0</td>\n",
       "      <td>0</td>\n",
       "      <td>0</td>\n",
       "      <td>0.155</td>\n",
       "      <td>0.708</td>\n",
       "      <td>0.137</td>\n",
       "      <td>-0.2960</td>\n",
       "      <td>In the Comoran capital Moroni, meanwhile, most...</td>\n",
       "    </tr>\n",
       "    <tr>\n",
       "      <th>3</th>\n",
       "      <td>0.0</td>\n",
       "      <td>0.000000</td>\n",
       "      <td>0.0</td>\n",
       "      <td>0.0</td>\n",
       "      <td>0.0</td>\n",
       "      <td>0.0</td>\n",
       "      <td>0.0</td>\n",
       "      <td>0.0</td>\n",
       "      <td>0.0</td>\n",
       "      <td>0.0</td>\n",
       "      <td>...</td>\n",
       "      <td>0</td>\n",
       "      <td>0</td>\n",
       "      <td>0</td>\n",
       "      <td>0</td>\n",
       "      <td>0</td>\n",
       "      <td>0.107</td>\n",
       "      <td>0.893</td>\n",
       "      <td>0.000</td>\n",
       "      <td>-0.7717</td>\n",
       "      <td>In January, the island s independent media reg...</td>\n",
       "    </tr>\n",
       "    <tr>\n",
       "      <th>4</th>\n",
       "      <td>0.0</td>\n",
       "      <td>0.000000</td>\n",
       "      <td>0.0</td>\n",
       "      <td>0.0</td>\n",
       "      <td>0.0</td>\n",
       "      <td>0.0</td>\n",
       "      <td>0.0</td>\n",
       "      <td>0.0</td>\n",
       "      <td>0.0</td>\n",
       "      <td>0.0</td>\n",
       "      <td>...</td>\n",
       "      <td>0</td>\n",
       "      <td>0</td>\n",
       "      <td>0</td>\n",
       "      <td>0</td>\n",
       "      <td>1</td>\n",
       "      <td>0.333</td>\n",
       "      <td>0.667</td>\n",
       "      <td>0.000</td>\n",
       "      <td>-0.1280</td>\n",
       "      <td>general strike and demonstrations</td>\n",
       "    </tr>\n",
       "  </tbody>\n",
       "</table>\n",
       "<p>5 rows × 5217 columns</p>\n",
       "</div>"
      ],
      "text/plain": [
       "   000         1  1 thousand   10  10 2016  100  100 people  100 protester  \\\n",
       "0  0.0  0.000000         0.0  0.0      0.0  0.0         0.0            0.0   \n",
       "1  0.0  0.157694         0.0  0.0      0.0  0.0         0.0            0.0   \n",
       "2  0.0  0.000000         0.0  0.0      0.0  0.0         0.0            0.0   \n",
       "3  0.0  0.000000         0.0  0.0      0.0  0.0         0.0            0.0   \n",
       "4  0.0  0.000000         0.0  0.0      0.0  0.0         0.0            0.0   \n",
       "\n",
       "   1000  1000 demonstrator  ...  region_Europe  region_MENA  \\\n",
       "0   0.0                0.0  ...              1            0   \n",
       "1   0.0                0.0  ...              1            0   \n",
       "2   0.0                0.0  ...              0            0   \n",
       "3   0.0                0.0  ...              0            0   \n",
       "4   0.0                0.0  ...              0            0   \n",
       "\n",
       "   region_North America  region_Oceania  region_South America    neg    neu  \\\n",
       "0                     0               0                     0  0.000  0.867   \n",
       "1                     0               0                     0  0.103  0.897   \n",
       "2                     0               0                     0  0.155  0.708   \n",
       "3                     0               0                     0  0.107  0.893   \n",
       "4                     0               0                     1  0.333  0.667   \n",
       "\n",
       "     pos  compound                                               text  \n",
       "0  0.133    0.6705  While President Ter Petrosyan was absent on a ...  \n",
       "1  0.000   -0.1280  Protest organizers estimated participation at ...  \n",
       "2  0.137   -0.2960  In the Comoran capital Moroni, meanwhile, most...  \n",
       "3  0.000   -0.7717  In January, the island s independent media reg...  \n",
       "4  0.000   -0.1280                 general strike and demonstrations   \n",
       "\n",
       "[5 rows x 5217 columns]"
      ]
     },
     "execution_count": 71,
     "metadata": {},
     "output_type": "execute_result"
    }
   ],
   "source": [
    "combined_X_train = pd.concat([df_X_train , X_train],axis=1)\n",
    "combined_X_train.head()"
   ]
  },
  {
   "cell_type": "code",
   "execution_count": 72,
   "metadata": {},
   "outputs": [
    {
     "data": {
      "text/html": [
       "<div>\n",
       "<style scoped>\n",
       "    .dataframe tbody tr th:only-of-type {\n",
       "        vertical-align: middle;\n",
       "    }\n",
       "\n",
       "    .dataframe tbody tr th {\n",
       "        vertical-align: top;\n",
       "    }\n",
       "\n",
       "    .dataframe thead th {\n",
       "        text-align: right;\n",
       "    }\n",
       "</style>\n",
       "<table border=\"1\" class=\"dataframe\">\n",
       "  <thead>\n",
       "    <tr style=\"text-align: right;\">\n",
       "      <th></th>\n",
       "      <th>000</th>\n",
       "      <th>1</th>\n",
       "      <th>1 thousand</th>\n",
       "      <th>10</th>\n",
       "      <th>10 2016</th>\n",
       "      <th>100</th>\n",
       "      <th>100 people</th>\n",
       "      <th>100 protester</th>\n",
       "      <th>1000</th>\n",
       "      <th>1000 demonstrator</th>\n",
       "      <th>...</th>\n",
       "      <th>region_Europe</th>\n",
       "      <th>region_MENA</th>\n",
       "      <th>region_North America</th>\n",
       "      <th>region_Oceania</th>\n",
       "      <th>region_South America</th>\n",
       "      <th>neg</th>\n",
       "      <th>neu</th>\n",
       "      <th>pos</th>\n",
       "      <th>compound</th>\n",
       "      <th>text</th>\n",
       "    </tr>\n",
       "  </thead>\n",
       "  <tbody>\n",
       "    <tr>\n",
       "      <th>0</th>\n",
       "      <td>0.0</td>\n",
       "      <td>0.0</td>\n",
       "      <td>0.0</td>\n",
       "      <td>0.0</td>\n",
       "      <td>0.0</td>\n",
       "      <td>0.0</td>\n",
       "      <td>0.0</td>\n",
       "      <td>0.0</td>\n",
       "      <td>0.00000</td>\n",
       "      <td>0.0</td>\n",
       "      <td>...</td>\n",
       "      <td>1</td>\n",
       "      <td>0</td>\n",
       "      <td>0</td>\n",
       "      <td>0</td>\n",
       "      <td>0</td>\n",
       "      <td>0.122</td>\n",
       "      <td>0.795</td>\n",
       "      <td>0.083</td>\n",
       "      <td>-0.6249</td>\n",
       "      <td>In Italy rallies passed off peacefully, with ...</td>\n",
       "    </tr>\n",
       "    <tr>\n",
       "      <th>1</th>\n",
       "      <td>0.0</td>\n",
       "      <td>0.0</td>\n",
       "      <td>0.0</td>\n",
       "      <td>0.0</td>\n",
       "      <td>0.0</td>\n",
       "      <td>0.0</td>\n",
       "      <td>0.0</td>\n",
       "      <td>0.0</td>\n",
       "      <td>0.10918</td>\n",
       "      <td>0.0</td>\n",
       "      <td>...</td>\n",
       "      <td>0</td>\n",
       "      <td>0</td>\n",
       "      <td>0</td>\n",
       "      <td>0</td>\n",
       "      <td>0</td>\n",
       "      <td>0.213</td>\n",
       "      <td>0.697</td>\n",
       "      <td>0.090</td>\n",
       "      <td>-0.9260</td>\n",
       "      <td>Guatemala s government reached out for intern...</td>\n",
       "    </tr>\n",
       "    <tr>\n",
       "      <th>2</th>\n",
       "      <td>0.0</td>\n",
       "      <td>0.0</td>\n",
       "      <td>0.0</td>\n",
       "      <td>0.0</td>\n",
       "      <td>0.0</td>\n",
       "      <td>0.0</td>\n",
       "      <td>0.0</td>\n",
       "      <td>0.0</td>\n",
       "      <td>0.00000</td>\n",
       "      <td>0.0</td>\n",
       "      <td>...</td>\n",
       "      <td>0</td>\n",
       "      <td>0</td>\n",
       "      <td>0</td>\n",
       "      <td>0</td>\n",
       "      <td>0</td>\n",
       "      <td>0.233</td>\n",
       "      <td>0.730</td>\n",
       "      <td>0.037</td>\n",
       "      <td>-0.9770</td>\n",
       "      <td>Women who said they were wives of missing mine...</td>\n",
       "    </tr>\n",
       "    <tr>\n",
       "      <th>3</th>\n",
       "      <td>0.0</td>\n",
       "      <td>0.0</td>\n",
       "      <td>0.0</td>\n",
       "      <td>0.0</td>\n",
       "      <td>0.0</td>\n",
       "      <td>0.0</td>\n",
       "      <td>0.0</td>\n",
       "      <td>0.0</td>\n",
       "      <td>0.00000</td>\n",
       "      <td>0.0</td>\n",
       "      <td>...</td>\n",
       "      <td>0</td>\n",
       "      <td>0</td>\n",
       "      <td>0</td>\n",
       "      <td>0</td>\n",
       "      <td>0</td>\n",
       "      <td>0.016</td>\n",
       "      <td>0.881</td>\n",
       "      <td>0.103</td>\n",
       "      <td>0.8316</td>\n",
       "      <td>KyrTAg reported on 9 October, quoting an offi...</td>\n",
       "    </tr>\n",
       "    <tr>\n",
       "      <th>4</th>\n",
       "      <td>0.0</td>\n",
       "      <td>0.0</td>\n",
       "      <td>0.0</td>\n",
       "      <td>0.0</td>\n",
       "      <td>0.0</td>\n",
       "      <td>0.0</td>\n",
       "      <td>0.0</td>\n",
       "      <td>0.0</td>\n",
       "      <td>0.00000</td>\n",
       "      <td>0.0</td>\n",
       "      <td>...</td>\n",
       "      <td>0</td>\n",
       "      <td>0</td>\n",
       "      <td>0</td>\n",
       "      <td>0</td>\n",
       "      <td>0</td>\n",
       "      <td>0.220</td>\n",
       "      <td>0.587</td>\n",
       "      <td>0.193</td>\n",
       "      <td>-0.2732</td>\n",
       "      <td>Zambian journalists marched peacefully to prot...</td>\n",
       "    </tr>\n",
       "  </tbody>\n",
       "</table>\n",
       "<p>5 rows × 5217 columns</p>\n",
       "</div>"
      ],
      "text/plain": [
       "   000    1  1 thousand   10  10 2016  100  100 people  100 protester  \\\n",
       "0  0.0  0.0         0.0  0.0      0.0  0.0         0.0            0.0   \n",
       "1  0.0  0.0         0.0  0.0      0.0  0.0         0.0            0.0   \n",
       "2  0.0  0.0         0.0  0.0      0.0  0.0         0.0            0.0   \n",
       "3  0.0  0.0         0.0  0.0      0.0  0.0         0.0            0.0   \n",
       "4  0.0  0.0         0.0  0.0      0.0  0.0         0.0            0.0   \n",
       "\n",
       "      1000  1000 demonstrator  ...  region_Europe  region_MENA  \\\n",
       "0  0.00000                0.0  ...              1            0   \n",
       "1  0.10918                0.0  ...              0            0   \n",
       "2  0.00000                0.0  ...              0            0   \n",
       "3  0.00000                0.0  ...              0            0   \n",
       "4  0.00000                0.0  ...              0            0   \n",
       "\n",
       "   region_North America  region_Oceania  region_South America    neg    neu  \\\n",
       "0                     0               0                     0  0.122  0.795   \n",
       "1                     0               0                     0  0.213  0.697   \n",
       "2                     0               0                     0  0.233  0.730   \n",
       "3                     0               0                     0  0.016  0.881   \n",
       "4                     0               0                     0  0.220  0.587   \n",
       "\n",
       "     pos  compound                                               text  \n",
       "0  0.083   -0.6249   In Italy rallies passed off peacefully, with ...  \n",
       "1  0.090   -0.9260   Guatemala s government reached out for intern...  \n",
       "2  0.037   -0.9770  Women who said they were wives of missing mine...  \n",
       "3  0.103    0.8316   KyrTAg reported on 9 October, quoting an offi...  \n",
       "4  0.193   -0.2732  Zambian journalists marched peacefully to prot...  \n",
       "\n",
       "[5 rows x 5217 columns]"
      ]
     },
     "execution_count": 72,
     "metadata": {},
     "output_type": "execute_result"
    }
   ],
   "source": [
    "combined_X_test=pd.concat([df_X_test , X_test], axis=1)\n",
    "combined_X_test.head()"
   ]
  },
  {
   "cell_type": "code",
   "execution_count": 73,
   "metadata": {},
   "outputs": [],
   "source": [
    "combined_X_train.drop(columns = 'text', inplace=True)\n",
    "\n",
    "combined_X_test.drop(columns = 'text', inplace = True)"
   ]
  },
  {
   "cell_type": "code",
   "execution_count": 74,
   "metadata": {},
   "outputs": [
    {
     "data": {
      "text/plain": [
       "((10855, 5216), (3619, 5216))"
      ]
     },
     "execution_count": 74,
     "metadata": {},
     "output_type": "execute_result"
    }
   ],
   "source": [
    "combined_X_train.shape, combined_X_test.shape"
   ]
  },
  {
   "cell_type": "code",
   "execution_count": 75,
   "metadata": {},
   "outputs": [
    {
     "data": {
      "text/plain": [
       "((10855,), (3619,))"
      ]
     },
     "execution_count": 75,
     "metadata": {},
     "output_type": "execute_result"
    }
   ],
   "source": [
    "y_train.shape, y_test.shape"
   ]
  },
  {
   "cell_type": "markdown",
   "metadata": {},
   "source": [
    "# Modeling using Adaboost classifier"
   ]
  },
  {
   "cell_type": "code",
   "execution_count": 76,
   "metadata": {},
   "outputs": [
    {
     "name": "stdout",
     "output_type": "stream",
     "text": [
      "GS Best score: 0.8460622535508907\n"
     ]
    },
    {
     "data": {
      "text/plain": [
       "{'base_estimator__max_depth': 1, 'learning_rate': 0.9, 'n_estimators': 100}"
      ]
     },
     "execution_count": 76,
     "metadata": {},
     "output_type": "execute_result"
    }
   ],
   "source": [
    "ada = AdaBoostClassifier(DecisionTreeClassifier())\n",
    "ada_params = {\n",
    "    'n_estimators': [50, 100],\n",
    "    'learning_rate':[.9, .1],\n",
    "    'base_estimator__max_depth':[1,2,3]\n",
    "}\n",
    "gs = GridSearchCV(ada , param_grid=ada_params, cv=4)\n",
    "gs.fit(combined_X_train , y_train)\n",
    "\n",
    "print('GS Best score:',gs.best_score_)\n",
    "gs.best_params_"
   ]
  },
  {
   "cell_type": "code",
   "execution_count": 85,
   "metadata": {},
   "outputs": [
    {
     "data": {
      "text/plain": [
       "(0.869737448180562, 0.8386294556507322)"
      ]
     },
     "execution_count": 85,
     "metadata": {},
     "output_type": "execute_result"
    }
   ],
   "source": [
    "gs.score(combined_X_train,y_train) , gs.score(combined_X_test,y_test)"
   ]
  },
  {
   "cell_type": "code",
   "execution_count": 87,
   "metadata": {},
   "outputs": [],
   "source": [
    "y_pred = gs.predict(combined_X_test)"
   ]
  },
  {
   "cell_type": "code",
   "execution_count": 88,
   "metadata": {},
   "outputs": [],
   "source": [
    "tn, fp, fn, tp = confusion_matrix(y_test , y_pred).ravel()"
   ]
  },
  {
   "cell_type": "code",
   "execution_count": 92,
   "metadata": {},
   "outputs": [
    {
     "data": {
      "image/png": "[encoded data removed]",
      "text/plain": [
       "<Figure size 432x288 with 2 Axes>"
      ]
     },
     "metadata": {
      "needs_background": "light"
     },
     "output_type": "display_data"
    }
   ],
   "source": [
    "# View confusion matrix\n",
    "disp=plot_confusion_matrix(gs, combined_X_test, y_test, cmap='Reds', values_format='d');"
   ]
  },
  {
   "cell_type": "code",
   "execution_count": 93,
   "metadata": {},
   "outputs": [
    {
     "data": {
      "text/plain": [
       "0.9235095613048369"
      ]
     },
     "execution_count": 93,
     "metadata": {},
     "output_type": "execute_result"
    }
   ],
   "source": [
    "#Specificity :\n",
    "tn/(tn+fp)"
   ]
  },
  {
   "cell_type": "code",
   "execution_count": 94,
   "metadata": {},
   "outputs": [
    {
     "data": {
      "text/plain": [
       "0.6008403361344538"
      ]
     },
     "execution_count": 94,
     "metadata": {},
     "output_type": "execute_result"
    }
   ],
   "source": [
    "#Sensitivity\n",
    "tp / (tp+fn)"
   ]
  },
  {
   "cell_type": "code",
   "execution_count": 95,
   "metadata": {},
   "outputs": [
    {
     "data": {
      "text/plain": [
       "0.7371134020618557"
      ]
     },
     "execution_count": 95,
     "metadata": {},
     "output_type": "execute_result"
    }
   ],
   "source": [
    "#precision :\n",
    "tp / (tp+fp)"
   ]
  },
  {
   "cell_type": "code",
   "execution_count": 96,
   "metadata": {},
   "outputs": [
    {
     "data": {
      "text/plain": [
       "0.662037037037037"
      ]
     },
     "execution_count": 96,
     "metadata": {},
     "output_type": "execute_result"
    }
   ],
   "source": [
    "from sklearn.metrics import f1_score\n",
    "f1_score(y_test, y_pred)"
   ]
  },
  {
   "cell_type": "markdown",
   "metadata": {},
   "source": [
    "# Modeling using SVM "
   ]
  },
  {
   "cell_type": "code",
   "execution_count": 105,
   "metadata": {},
   "outputs": [],
   "source": [
    "ss = StandardScaler()\n",
    "X_train_sc=ss.fit_transform(combined_X_train)\n",
    "X_test_sc=ss.transform(combined_X_test)"
   ]
  },
  {
   "cell_type": "code",
   "execution_count": 108,
   "metadata": {
    "scrolled": true
   },
   "outputs": [],
   "source": [
    "# C values to GridSearch over\n",
    "pgrid = {\"C\": np.linspace(0.0001, 1, 20)}"
   ]
  },
  {
   "cell_type": "code",
   "execution_count": 109,
   "metadata": {},
   "outputs": [
    {
     "name": "stdout",
     "output_type": "stream",
     "text": [
      "Fitting 5 folds for each of 20 candidates, totalling 100 fits\n"
     ]
    },
    {
     "name": "stderr",
     "output_type": "stream",
     "text": [
      "[Parallel(n_jobs=-1)]: Using backend LokyBackend with 8 concurrent workers.\n",
      "[Parallel(n_jobs=-1)]: Done  25 tasks      | elapsed: 20.2min\n",
      "[Parallel(n_jobs=-1)]: Done 100 out of 100 | elapsed: 77.3min finished\n"
     ]
    },
    {
     "data": {
      "text/plain": [
       "GridSearchCV(cv=StratifiedKFold(n_splits=5, random_state=42, shuffle=True),\n",
       "             estimator=LinearSVC(), n_jobs=-1,\n",
       "             param_grid={'C': array([1.00000000e-04, 5.27263158e-02, 1.05352632e-01, 1.57978947e-01,\n",
       "       2.10605263e-01, 2.63231579e-01, 3.15857895e-01, 3.68484211e-01,\n",
       "       4.21110526e-01, 4.73736842e-01, 5.26363158e-01, 5.78989474e-01,\n",
       "       6.31615789e-01, 6.84242105e-01, 7.36868421e-01, 7.89494737e-01,\n",
       "       8.42121053e-01, 8.94747368e-01, 9.47373684e-01, 1.00000000e+00])},\n",
       "             verbose=2)"
      ]
     },
     "execution_count": 109,
     "metadata": {},
     "output_type": "execute_result"
    }
   ],
   "source": [
    "svc=LinearSVC()\n",
    "\n",
    "cv_folds=StratifiedKFold(shuffle=True , random_state=42)\n",
    "\n",
    "\n",
    "gs=GridSearchCV(svc , pgrid, cv=cv_folds , verbose=2, n_jobs=-1)\n",
    "\n",
    "gs.fit(X_train_sc,y_train)"
   ]
  },
  {
   "cell_type": "code",
   "execution_count": 110,
   "metadata": {},
   "outputs": [
    {
     "data": {
      "text/plain": [
       "(0.9415016121602948, 0.8378004973749654)"
      ]
     },
     "execution_count": 110,
     "metadata": {},
     "output_type": "execute_result"
    }
   ],
   "source": [
    "gs.score(X_train_sc,y_train) , gs.score(X_test_sc,y_test)"
   ]
  },
  {
   "cell_type": "code",
   "execution_count": 111,
   "metadata": {},
   "outputs": [
    {
     "data": {
      "text/plain": [
       "{'C': 0.0001}"
      ]
     },
     "execution_count": 111,
     "metadata": {},
     "output_type": "execute_result"
    }
   ],
   "source": [
    "gs.best_params_"
   ]
  },
  {
   "cell_type": "code",
   "execution_count": 112,
   "metadata": {
    "scrolled": false
   },
   "outputs": [
    {
     "data": {
      "text/plain": [
       "0.8382312298479964"
      ]
     },
     "execution_count": 112,
     "metadata": {},
     "output_type": "execute_result"
    }
   ],
   "source": [
    "gs.best_score_"
   ]
  },
  {
   "cell_type": "code",
   "execution_count": 113,
   "metadata": {},
   "outputs": [],
   "source": [
    "y_pred = gs.predict(X_test_sc)"
   ]
  },
  {
   "cell_type": "code",
   "execution_count": 114,
   "metadata": {},
   "outputs": [],
   "source": [
    "tn, fp, fn, tp = confusion_matrix(y_test , y_pred).ravel()"
   ]
  },
  {
   "cell_type": "code",
   "execution_count": 119,
   "metadata": {},
   "outputs": [
    {
     "data": {
      "image/png": "[encoded data removed]",
      "text/plain": [
       "<Figure size 432x288 with 2 Axes>"
      ]
     },
     "metadata": {
      "needs_background": "light"
     },
     "output_type": "display_data"
    }
   ],
   "source": [
    "# View confusion matrix\n",
    "disp=plot_confusion_matrix(gs, X_test_sc, y_test, cmap='Reds', values_format='d');"
   ]
  },
  {
   "cell_type": "code",
   "execution_count": 120,
   "metadata": {},
   "outputs": [
    {
     "data": {
      "text/plain": [
       "0.8942632170978627"
      ]
     },
     "execution_count": 120,
     "metadata": {},
     "output_type": "execute_result"
    }
   ],
   "source": [
    "#Specificity :\n",
    "tn/(tn+fp)"
   ]
  },
  {
   "cell_type": "code",
   "execution_count": 121,
   "metadata": {},
   "outputs": [
    {
     "data": {
      "text/plain": [
       "0.6796218487394958"
      ]
     },
     "execution_count": 121,
     "metadata": {},
     "output_type": "execute_result"
    }
   ],
   "source": [
    "#Sensitivity\n",
    "tp / (tp+fn)"
   ]
  },
  {
   "cell_type": "code",
   "execution_count": 122,
   "metadata": {},
   "outputs": [
    {
     "data": {
      "text/plain": [
       "0.6964477933261571"
      ]
     },
     "execution_count": 122,
     "metadata": {},
     "output_type": "execute_result"
    }
   ],
   "source": [
    "#precision :\n",
    "tp / (tp+fp)"
   ]
  },
  {
   "cell_type": "code",
   "execution_count": 123,
   "metadata": {},
   "outputs": [
    {
     "data": {
      "text/plain": [
       "0.687931951089846"
      ]
     },
     "execution_count": 123,
     "metadata": {},
     "output_type": "execute_result"
    }
   ],
   "source": [
    "f1_score(y_test, y_pred)"
   ]
  },
  {
   "cell_type": "code",
   "execution_count": null,
   "metadata": {},
   "outputs": [],
   "source": []
  }
 ],
 "metadata": {
  "kernelspec": {
   "display_name": "Python 3",
   "language": "python",
   "name": "python3"
  },
  "language_info": {
   "codemirror_mode": {
    "name": "ipython",
    "version": 3
   },
   "file_extension": ".py",
   "mimetype": "text/x-python",
   "name": "python",
   "nbconvert_exporter": "python",
   "pygments_lexer": "ipython3",
   "version": "3.8.3"
  }
 },
 "nbformat": 4,
 "nbformat_minor": 4
}
