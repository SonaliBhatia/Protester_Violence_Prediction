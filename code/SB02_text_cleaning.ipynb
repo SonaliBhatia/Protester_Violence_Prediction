{
 "cells": [
  {
   "cell_type": "code",
   "execution_count": 20,
   "metadata": {},
   "outputs": [],
   "source": [
    "import pandas as pd\n",
    "from sklearn.feature_extraction.text import CountVectorizer, TfidfVectorizer\n",
    "from sklearn.model_selection import train_test_split\n",
    "import time\n"
   ]
  },
  {
   "cell_type": "code",
   "execution_count": 21,
   "metadata": {},
   "outputs": [],
   "source": [
    "df = pd.read_csv('../data/clean_data.csv')"
   ]
  },
  {
   "cell_type": "code",
   "execution_count": 22,
   "metadata": {},
   "outputs": [
    {
     "data": {
      "text/html": [
       "<div>\n",
       "<style scoped>\n",
       "    .dataframe tbody tr th:only-of-type {\n",
       "        vertical-align: middle;\n",
       "    }\n",
       "\n",
       "    .dataframe tbody tr th {\n",
       "        vertical-align: top;\n",
       "    }\n",
       "\n",
       "    .dataframe thead th {\n",
       "        text-align: right;\n",
       "    }\n",
       "</style>\n",
       "<table border=\"1\" class=\"dataframe\">\n",
       "  <thead>\n",
       "    <tr style=\"text-align: right;\">\n",
       "      <th></th>\n",
       "      <th>country</th>\n",
       "      <th>year</th>\n",
       "      <th>region</th>\n",
       "      <th>protestnumber</th>\n",
       "      <th>startday</th>\n",
       "      <th>startmonth</th>\n",
       "      <th>startyear</th>\n",
       "      <th>endday</th>\n",
       "      <th>endmonth</th>\n",
       "      <th>endyear</th>\n",
       "      <th>...</th>\n",
       "      <th>labor wage dispute</th>\n",
       "      <th>land farm issue</th>\n",
       "      <th>police brutality</th>\n",
       "      <th>political behavior, process</th>\n",
       "      <th>price increases, tax policy</th>\n",
       "      <th>removal of politician</th>\n",
       "      <th>social restrictions</th>\n",
       "      <th>startdate</th>\n",
       "      <th>enddate</th>\n",
       "      <th>duration</th>\n",
       "    </tr>\n",
       "  </thead>\n",
       "  <tbody>\n",
       "    <tr>\n",
       "      <th>0</th>\n",
       "      <td>Canada</td>\n",
       "      <td>1990</td>\n",
       "      <td>North America</td>\n",
       "      <td>1</td>\n",
       "      <td>15.0</td>\n",
       "      <td>1.0</td>\n",
       "      <td>1990.0</td>\n",
       "      <td>15.0</td>\n",
       "      <td>1.0</td>\n",
       "      <td>1990.0</td>\n",
       "      <td>...</td>\n",
       "      <td>1</td>\n",
       "      <td>0</td>\n",
       "      <td>0</td>\n",
       "      <td>1</td>\n",
       "      <td>0</td>\n",
       "      <td>0</td>\n",
       "      <td>0</td>\n",
       "      <td>1990-01-15</td>\n",
       "      <td>1990-01-15</td>\n",
       "      <td>0 days 00:00:00.000000000</td>\n",
       "    </tr>\n",
       "    <tr>\n",
       "      <th>1</th>\n",
       "      <td>Canada</td>\n",
       "      <td>1990</td>\n",
       "      <td>North America</td>\n",
       "      <td>2</td>\n",
       "      <td>25.0</td>\n",
       "      <td>6.0</td>\n",
       "      <td>1990.0</td>\n",
       "      <td>25.0</td>\n",
       "      <td>6.0</td>\n",
       "      <td>1990.0</td>\n",
       "      <td>...</td>\n",
       "      <td>0</td>\n",
       "      <td>0</td>\n",
       "      <td>0</td>\n",
       "      <td>1</td>\n",
       "      <td>0</td>\n",
       "      <td>0</td>\n",
       "      <td>0</td>\n",
       "      <td>1990-06-25</td>\n",
       "      <td>1990-06-25</td>\n",
       "      <td>0 days 00:00:00.000000000</td>\n",
       "    </tr>\n",
       "    <tr>\n",
       "      <th>2</th>\n",
       "      <td>Canada</td>\n",
       "      <td>1990</td>\n",
       "      <td>North America</td>\n",
       "      <td>3</td>\n",
       "      <td>1.0</td>\n",
       "      <td>7.0</td>\n",
       "      <td>1990.0</td>\n",
       "      <td>1.0</td>\n",
       "      <td>7.0</td>\n",
       "      <td>1990.0</td>\n",
       "      <td>...</td>\n",
       "      <td>0</td>\n",
       "      <td>0</td>\n",
       "      <td>0</td>\n",
       "      <td>1</td>\n",
       "      <td>0</td>\n",
       "      <td>0</td>\n",
       "      <td>0</td>\n",
       "      <td>1990-07-01</td>\n",
       "      <td>1990-07-01</td>\n",
       "      <td>0 days 00:00:00.000000000</td>\n",
       "    </tr>\n",
       "    <tr>\n",
       "      <th>3</th>\n",
       "      <td>Canada</td>\n",
       "      <td>1990</td>\n",
       "      <td>North America</td>\n",
       "      <td>4</td>\n",
       "      <td>12.0</td>\n",
       "      <td>7.0</td>\n",
       "      <td>1990.0</td>\n",
       "      <td>6.0</td>\n",
       "      <td>9.0</td>\n",
       "      <td>1990.0</td>\n",
       "      <td>...</td>\n",
       "      <td>0</td>\n",
       "      <td>1</td>\n",
       "      <td>0</td>\n",
       "      <td>0</td>\n",
       "      <td>0</td>\n",
       "      <td>0</td>\n",
       "      <td>0</td>\n",
       "      <td>1990-07-12</td>\n",
       "      <td>1990-09-06</td>\n",
       "      <td>56 days 00:00:00.000000000</td>\n",
       "    </tr>\n",
       "    <tr>\n",
       "      <th>4</th>\n",
       "      <td>Canada</td>\n",
       "      <td>1990</td>\n",
       "      <td>North America</td>\n",
       "      <td>5</td>\n",
       "      <td>14.0</td>\n",
       "      <td>8.0</td>\n",
       "      <td>1990.0</td>\n",
       "      <td>15.0</td>\n",
       "      <td>8.0</td>\n",
       "      <td>1990.0</td>\n",
       "      <td>...</td>\n",
       "      <td>0</td>\n",
       "      <td>0</td>\n",
       "      <td>0</td>\n",
       "      <td>1</td>\n",
       "      <td>0</td>\n",
       "      <td>0</td>\n",
       "      <td>0</td>\n",
       "      <td>1990-08-14</td>\n",
       "      <td>1990-08-15</td>\n",
       "      <td>1 days 00:00:00.000000000</td>\n",
       "    </tr>\n",
       "  </tbody>\n",
       "</table>\n",
       "<p>5 rows × 24 columns</p>\n",
       "</div>"
      ],
      "text/plain": [
       "  country  year         region  protestnumber  startday  startmonth  \\\n",
       "0  Canada  1990  North America              1      15.0         1.0   \n",
       "1  Canada  1990  North America              2      25.0         6.0   \n",
       "2  Canada  1990  North America              3       1.0         7.0   \n",
       "3  Canada  1990  North America              4      12.0         7.0   \n",
       "4  Canada  1990  North America              5      14.0         8.0   \n",
       "\n",
       "   startyear  endday  endmonth  endyear  ...  labor wage dispute  \\\n",
       "0     1990.0    15.0       1.0   1990.0  ...                   1   \n",
       "1     1990.0    25.0       6.0   1990.0  ...                   0   \n",
       "2     1990.0     1.0       7.0   1990.0  ...                   0   \n",
       "3     1990.0     6.0       9.0   1990.0  ...                   0   \n",
       "4     1990.0    15.0       8.0   1990.0  ...                   0   \n",
       "\n",
       "   land farm issue police brutality political behavior, process  \\\n",
       "0                0                0                           1   \n",
       "1                0                0                           1   \n",
       "2                0                0                           1   \n",
       "3                1                0                           0   \n",
       "4                0                0                           1   \n",
       "\n",
       "   price increases, tax policy  removal of politician  social restrictions  \\\n",
       "0                            0                      0                    0   \n",
       "1                            0                      0                    0   \n",
       "2                            0                      0                    0   \n",
       "3                            0                      0                    0   \n",
       "4                            0                      0                    0   \n",
       "\n",
       "    startdate     enddate                    duration  \n",
       "0  1990-01-15  1990-01-15   0 days 00:00:00.000000000  \n",
       "1  1990-06-25  1990-06-25   0 days 00:00:00.000000000  \n",
       "2  1990-07-01  1990-07-01   0 days 00:00:00.000000000  \n",
       "3  1990-07-12  1990-09-06  56 days 00:00:00.000000000  \n",
       "4  1990-08-14  1990-08-15   1 days 00:00:00.000000000  \n",
       "\n",
       "[5 rows x 24 columns]"
      ]
     },
     "execution_count": 22,
     "metadata": {},
     "output_type": "execute_result"
    }
   ],
   "source": [
    "df.head()"
   ]
  },
  {
   "cell_type": "code",
   "execution_count": 25,
   "metadata": {},
   "outputs": [],
   "source": [
    "import time\n",
    "import datetime\n",
    "def datetime_to_int(dt):\n",
    "    return int(dt.strftime(\"%Y%m%d%H%M%S\"))"
   ]
  },
  {
   "cell_type": "code",
   "execution_count": 4,
   "metadata": {},
   "outputs": [
    {
     "name": "stdout",
     "output_type": "stream",
     "text": [
      "<class 'pandas.core.frame.DataFrame'>\n",
      "RangeIndex: 14474 entries, 0 to 14473\n",
      "Data columns (total 24 columns):\n",
      " #   Column                       Non-Null Count  Dtype  \n",
      "---  ------                       --------------  -----  \n",
      " 0   country                      14474 non-null  object \n",
      " 1   year                         14474 non-null  int64  \n",
      " 2   region                       14474 non-null  object \n",
      " 3   protestnumber                14474 non-null  int64  \n",
      " 4   startday                     14474 non-null  float64\n",
      " 5   startmonth                   14474 non-null  float64\n",
      " 6   startyear                    14474 non-null  float64\n",
      " 7   endday                       14474 non-null  float64\n",
      " 8   endmonth                     14474 non-null  float64\n",
      " 9   endyear                      14474 non-null  float64\n",
      " 10  protesterviolence            14474 non-null  float64\n",
      " 11  participants                 14474 non-null  int64  \n",
      " 12  notes                        14474 non-null  object \n",
      " 13  stateresponse                14474 non-null  object \n",
      " 14  labor wage dispute           14474 non-null  int64  \n",
      " 15  land farm issue              14474 non-null  int64  \n",
      " 16  police brutality             14474 non-null  int64  \n",
      " 17  political behavior, process  14474 non-null  int64  \n",
      " 18  price increases, tax policy  14474 non-null  int64  \n",
      " 19  removal of politician        14474 non-null  int64  \n",
      " 20  social restrictions          14474 non-null  int64  \n",
      " 21  startdate                    14474 non-null  object \n",
      " 22  enddate                      14474 non-null  object \n",
      " 23  duration                     14474 non-null  object \n",
      "dtypes: float64(7), int64(10), object(7)\n",
      "memory usage: 2.7+ MB\n"
     ]
    }
   ],
   "source": [
    "df.info()"
   ]
  },
  {
   "cell_type": "markdown",
   "metadata": {},
   "source": [
    "# Text Cleaning"
   ]
  },
  {
   "cell_type": "code",
   "execution_count": 39,
   "metadata": {},
   "outputs": [],
   "source": [
    "import nltk\n",
    "from nltk.stem import WordNetLemmatizer\n",
    "import string\n",
    "\n",
    "def tokenize(text):\n",
    "    text = ''.join([ch for ch in text if ch not in string.punctuation])\n",
    "    tokens = nltk.word_tokenize(text)\n",
    "    lemmatizer = WordNetLemmatizer()\n",
    "    return [lemmatizer.lemmatize(token) for token in tokens]\n",
    "                                "
   ]
  },
  {
   "cell_type": "code",
   "execution_count": 40,
   "metadata": {},
   "outputs": [],
   "source": [
    "tf_vectorizer = TfidfVectorizer(tokenizer=tokenize,\n",
    "                                stop_words = 'english', \n",
    "                                lowercase = True,\n",
    "                                ngram_range = (1,2),\n",
    "                                max_df = 0.5, \n",
    "                                min_df = 10) \n",
    "\n"
   ]
  },
  {
   "cell_type": "code",
   "execution_count": 41,
   "metadata": {},
   "outputs": [],
   "source": [
    "df['notes'] = df['notes'].str.replace(r'(\\b\\w{1,2}\\b)', '') # for words removing 1 or 2 letter words\n",
    " \n"
   ]
  },
  {
   "cell_type": "code",
   "execution_count": 42,
   "metadata": {},
   "outputs": [],
   "source": [
    "X=df['notes']\n"
   ]
  },
  {
   "cell_type": "code",
   "execution_count": 43,
   "metadata": {},
   "outputs": [
    {
     "name": "stderr",
     "output_type": "stream",
     "text": [
      "/Users/sonalibhatia/opt/anaconda3/lib/python3.8/site-packages/sklearn/feature_extraction/text.py:484: UserWarning: The parameter 'token_pattern' will not be used since 'tokenizer' is not None'\n",
      "  warnings.warn(\"The parameter 'token_pattern' will not be used\"\n",
      "/Users/sonalibhatia/opt/anaconda3/lib/python3.8/site-packages/sklearn/feature_extraction/text.py:383: UserWarning: Your stop_words may be inconsistent with your preprocessing. Tokenizing the stop words generated tokens ['ha', 'le', 'u', 'wa'] not in stop_words.\n",
      "  warnings.warn('Your stop_words may be inconsistent with '\n"
     ]
    },
    {
     "data": {
      "text/plain": [
       "TfidfVectorizer(max_df=0.5, min_df=10, ngram_range=(1, 2), stop_words='english',\n",
       "                tokenizer=<function tokenize at 0x7fe61123eca0>)"
      ]
     },
     "execution_count": 43,
     "metadata": {},
     "output_type": "execute_result"
    }
   ],
   "source": [
    "tf_vectorizer.fit(X)"
   ]
  },
  {
   "cell_type": "code",
   "execution_count": 44,
   "metadata": {},
   "outputs": [],
   "source": [
    "X_vc=tf_vectorizer.transform(X)"
   ]
  },
  {
   "cell_type": "code",
   "execution_count": 45,
   "metadata": {},
   "outputs": [
    {
     "data": {
      "text/plain": [
       "['000',\n",
       " '000 000',\n",
       " '000 according',\n",
       " '000 activist',\n",
       " '000 angry',\n",
       " '000 anti',\n",
       " '000 class',\n",
       " '000 demonstrator',\n",
       " '000 doctor',\n",
       " '000 ethnic',\n",
       " '000 farmer',\n",
       " '000 gathered',\n",
       " '000 interior',\n",
       " '000 job',\n",
       " '000 marched',\n",
       " '000 marcher',\n",
       " '000 member',\n",
       " '000 officer',\n",
       " '000 opposition',\n",
       " '000 paris',\n",
       " '000 participant',\n",
       " '000 people',\n",
       " '000 police',\n",
       " '000 pro',\n",
       " '000 protest',\n",
       " '000 protester',\n",
       " '000 protestors',\n",
       " '000 public',\n",
       " '000 resident',\n",
       " '000 riot',\n",
       " '000 romanian',\n",
       " '000 specially',\n",
       " '000 striking',\n",
       " '000 strong',\n",
       " '000 student',\n",
       " '000 supporter',\n",
       " '000 teacher',\n",
       " '000 took',\n",
       " '000 turned',\n",
       " '000 union',\n",
       " '000 woman',\n",
       " '000 worker',\n",
       " '000 year',\n",
       " '000s',\n",
       " '000s individual',\n",
       " '100',\n",
       " '100 arrested',\n",
       " '100 demonstrator',\n",
       " '100 injured',\n",
       " '100 member',\n",
       " '100 participant',\n",
       " '100 people',\n",
       " '100 police',\n",
       " '100 protester',\n",
       " '100 resident',\n",
       " '100 student',\n",
       " '1000',\n",
       " '1000 people',\n",
       " '100000',\n",
       " '100000 people',\n",
       " '100000 protester',\n",
       " '10th',\n",
       " '110',\n",
       " '11am',\n",
       " '11th',\n",
       " '120',\n",
       " '120000',\n",
       " '125',\n",
       " '12th',\n",
       " '130',\n",
       " '135',\n",
       " '13th',\n",
       " '140',\n",
       " '145',\n",
       " '14th',\n",
       " '150',\n",
       " '150 people',\n",
       " '150 protester',\n",
       " '150000',\n",
       " '150000 people',\n",
       " '15th',\n",
       " '15th month',\n",
       " '160',\n",
       " '16th',\n",
       " '170',\n",
       " '170000',\n",
       " '17th',\n",
       " '180',\n",
       " '18th',\n",
       " '1973',\n",
       " '1980',\n",
       " '1980 ensuing',\n",
       " '1980s',\n",
       " '1980s 90',\n",
       " '1982',\n",
       " '1986',\n",
       " '1987',\n",
       " '1989',\n",
       " '1990',\n",
       " '1990s',\n",
       " '1991',\n",
       " '1992',\n",
       " '1993',\n",
       " '1994',\n",
       " '1995',\n",
       " '1995 occasional',\n",
       " '1995 tortured',\n",
       " '1996',\n",
       " '1997',\n",
       " '1998',\n",
       " '1999',\n",
       " '19th',\n",
       " '1st',\n",
       " '1st 15th',\n",
       " '200',\n",
       " '200 300',\n",
       " '200 day',\n",
       " '200 demonstrator',\n",
       " '200 mile',\n",
       " '200 people',\n",
       " '200 police',\n",
       " '200 protester',\n",
       " '200 student',\n",
       " '2000',\n",
       " '200000',\n",
       " '200000 people',\n",
       " '2001',\n",
       " '2002',\n",
       " '2003',\n",
       " '2003 time',\n",
       " '2004',\n",
       " '2005',\n",
       " '2006',\n",
       " '2007',\n",
       " '2008',\n",
       " '2009',\n",
       " '2010',\n",
       " '2011',\n",
       " '2011 ha',\n",
       " '2012',\n",
       " '2013',\n",
       " '2014',\n",
       " '2014 2016',\n",
       " '2014 information',\n",
       " '2015',\n",
       " '2015 year',\n",
       " '2016',\n",
       " '2016 celebration',\n",
       " '2016 dresden',\n",
       " '2016 want',\n",
       " '2017',\n",
       " '2017 ha',\n",
       " '2017 mass',\n",
       " '2018',\n",
       " '2020',\n",
       " '2021',\n",
       " '2021 currently',\n",
       " '20th',\n",
       " '21st',\n",
       " '230',\n",
       " '240',\n",
       " '24th',\n",
       " '250',\n",
       " '250 mile',\n",
       " '250 people',\n",
       " '250000',\n",
       " '250000 people',\n",
       " '25th',\n",
       " '26th',\n",
       " '27th',\n",
       " '27th consecutive',\n",
       " '27th night',\n",
       " '280',\n",
       " '28th',\n",
       " '29th',\n",
       " '2nd',\n",
       " '2pm',\n",
       " '300',\n",
       " '300 demonstrator',\n",
       " '300 mile',\n",
       " '300 people',\n",
       " '300 protester',\n",
       " '300 student',\n",
       " '3000',\n",
       " '300000',\n",
       " '30am',\n",
       " '30th',\n",
       " '330',\n",
       " '340',\n",
       " '350',\n",
       " '350000',\n",
       " '3pm',\n",
       " '3rd',\n",
       " '400',\n",
       " '400 people',\n",
       " '400 protester',\n",
       " '400000',\n",
       " '406th',\n",
       " '406th protest',\n",
       " '450']"
      ]
     },
     "execution_count": 45,
     "metadata": {},
     "output_type": "execute_result"
    }
   ],
   "source": [
    "tf_vectorizer.get_feature_names()[:200]"
   ]
  },
  {
   "cell_type": "code",
   "execution_count": 46,
   "metadata": {},
   "outputs": [],
   "source": [
    "X_clean_df=pd.DataFrame(X_vc.todense(), \n",
    "                          columns=tf_vectorizer.get_feature_names())"
   ]
  },
  {
   "cell_type": "code",
   "execution_count": 47,
   "metadata": {
    "scrolled": true
   },
   "outputs": [
    {
     "data": {
      "text/plain": [
       "(14474, 12819)"
      ]
     },
     "execution_count": 47,
     "metadata": {},
     "output_type": "execute_result"
    }
   ],
   "source": [
    "X_clean_df.shape"
   ]
  },
  {
   "cell_type": "code",
   "execution_count": 48,
   "metadata": {},
   "outputs": [
    {
     "data": {
      "text/plain": [
       "Index(['000', '000 000', '000 according', '000 activist', '000 angry',\n",
       "       '000 anti', '000 class', '000 demonstrator', '000 doctor', '000 ethnic',\n",
       "       ...\n",
       "       'zero', 'zhytomyr', 'zhytomyr cherkasy', 'zia', 'zimbabwe',\n",
       "       'zimbabwean', 'zone', 'zongo', 'zulu', 'zuma'],\n",
       "      dtype='object', length=12819)"
      ]
     },
     "execution_count": 48,
     "metadata": {},
     "output_type": "execute_result"
    }
   ],
   "source": [
    "X_clean_df.columns"
   ]
  },
  {
   "cell_type": "markdown",
   "metadata": {},
   "source": [
    "# EDA on Text"
   ]
  },
  {
   "cell_type": "code",
   "execution_count": null,
   "metadata": {},
   "outputs": [],
   "source": []
  },
  {
   "cell_type": "markdown",
   "metadata": {},
   "source": [
    "# Vectorize Text"
   ]
  },
  {
   "cell_type": "code",
   "execution_count": 9,
   "metadata": {},
   "outputs": [],
   "source": [
    "# Note that much of this section of code comes from Heather's review 10/19\n",
    "text = df[['notes']]\n"
   ]
  },
  {
   "cell_type": "code",
   "execution_count": 12,
   "metadata": {},
   "outputs": [
    {
     "data": {
      "text/plain": [
       "(14474, 1)"
      ]
     },
     "execution_count": 12,
     "metadata": {},
     "output_type": "execute_result"
    }
   ],
   "source": [
    "text.shape"
   ]
  },
  {
   "cell_type": "code",
   "execution_count": 13,
   "metadata": {},
   "outputs": [],
   "source": [
    "# Instantiate and set params for TFIDF\n",
    "tf = TfidfVectorizer(max_features = 3000, ngram_range = (1,2), stop_words = 'english', max_df = 0.9, min_df = 3)"
   ]
  },
  {
   "cell_type": "code",
   "execution_count": 15,
   "metadata": {},
   "outputs": [],
   "source": [
    "# Fit transform the data\n",
    "test_tf = tf.fit_transform(text['notes'])\n"
   ]
  },
  {
   "cell_type": "code",
   "execution_count": 16,
   "metadata": {},
   "outputs": [],
   "source": [
    "# Create a new data frame vectorized text\n",
    "df_text_tf = pd.DataFrame(test_tf.todense(), columns=tf.get_feature_names())\n"
   ]
  },
  {
   "cell_type": "code",
   "execution_count": 17,
   "metadata": {},
   "outputs": [],
   "source": [
    "# Reset indicies for all dataframes\n",
    "df_text_tf.reset_index(drop=True, inplace=True)"
   ]
  },
  {
   "cell_type": "code",
   "execution_count": 18,
   "metadata": {
    "scrolled": false
   },
   "outputs": [
    {
     "data": {
      "text/html": [
       "<div>\n",
       "<style scoped>\n",
       "    .dataframe tbody tr th:only-of-type {\n",
       "        vertical-align: middle;\n",
       "    }\n",
       "\n",
       "    .dataframe tbody tr th {\n",
       "        vertical-align: top;\n",
       "    }\n",
       "\n",
       "    .dataframe thead th {\n",
       "        text-align: right;\n",
       "    }\n",
       "</style>\n",
       "<table border=\"1\" class=\"dataframe\">\n",
       "  <thead>\n",
       "    <tr style=\"text-align: right;\">\n",
       "      <th></th>\n",
       "      <th>country</th>\n",
       "      <th>year</th>\n",
       "      <th>region</th>\n",
       "      <th>protestnumber</th>\n",
       "      <th>startday</th>\n",
       "      <th>startmonth</th>\n",
       "      <th>startyear</th>\n",
       "      <th>endday</th>\n",
       "      <th>endmonth</th>\n",
       "      <th>endyear</th>\n",
       "      <th>...</th>\n",
       "      <th>yesterday morning</th>\n",
       "      <th>yesterday protest</th>\n",
       "      <th>young</th>\n",
       "      <th>young men</th>\n",
       "      <th>young people</th>\n",
       "      <th>youth</th>\n",
       "      <th>youths</th>\n",
       "      <th>yugoslavia</th>\n",
       "      <th>zimbabwe</th>\n",
       "      <th>zone</th>\n",
       "    </tr>\n",
       "  </thead>\n",
       "  <tbody>\n",
       "    <tr>\n",
       "      <th>0</th>\n",
       "      <td>Canada</td>\n",
       "      <td>1990</td>\n",
       "      <td>North America</td>\n",
       "      <td>1</td>\n",
       "      <td>15.0</td>\n",
       "      <td>1.0</td>\n",
       "      <td>1990.0</td>\n",
       "      <td>15.0</td>\n",
       "      <td>1.0</td>\n",
       "      <td>1990.0</td>\n",
       "      <td>...</td>\n",
       "      <td>0.0</td>\n",
       "      <td>0.0</td>\n",
       "      <td>0.0</td>\n",
       "      <td>0.0</td>\n",
       "      <td>0.0</td>\n",
       "      <td>0.0</td>\n",
       "      <td>0.0</td>\n",
       "      <td>0.0</td>\n",
       "      <td>0.0</td>\n",
       "      <td>0.0</td>\n",
       "    </tr>\n",
       "  </tbody>\n",
       "</table>\n",
       "<p>1 rows × 3024 columns</p>\n",
       "</div>"
      ],
      "text/plain": [
       "  country  year         region  protestnumber  startday  startmonth  \\\n",
       "0  Canada  1990  North America              1      15.0         1.0   \n",
       "\n",
       "   startyear  endday  endmonth  endyear  ...  yesterday morning  \\\n",
       "0     1990.0    15.0       1.0   1990.0  ...                0.0   \n",
       "\n",
       "   yesterday protest young young men  young people  youth  youths  yugoslavia  \\\n",
       "0                0.0   0.0       0.0           0.0    0.0     0.0         0.0   \n",
       "\n",
       "   zimbabwe  zone  \n",
       "0       0.0   0.0  \n",
       "\n",
       "[1 rows x 3024 columns]"
      ]
     },
     "execution_count": 18,
     "metadata": {},
     "output_type": "execute_result"
    }
   ],
   "source": [
    "# Add the vectorized text back to our original data frame\n",
    "combined_df = pd.concat([df, df_text_tf], axis =1)\n",
    "combined_df.head(1)"
   ]
  },
  {
   "cell_type": "code",
   "execution_count": 19,
   "metadata": {},
   "outputs": [],
   "source": [
    "# Drop the original notes column\n",
    "combined_df.drop(columns = 'notes', inplace=True)\n"
   ]
  },
  {
   "cell_type": "code",
   "execution_count": null,
   "metadata": {},
   "outputs": [],
   "source": [
    "# Write to csv\n",
    "combined_df.to_csv('../data/vectorized_text_combined.csv')"
   ]
  }
 ],
 "metadata": {
  "kernelspec": {
   "display_name": "Python 3",
   "language": "python",
   "name": "python3"
  },
  "language_info": {
   "codemirror_mode": {
    "name": "ipython",
    "version": 3
   },
   "file_extension": ".py",
   "mimetype": "text/x-python",
   "name": "python",
   "nbconvert_exporter": "python",
   "pygments_lexer": "ipython3",
   "version": "3.8.3"
  }
 },
 "nbformat": 4,
 "nbformat_minor": 4
}
