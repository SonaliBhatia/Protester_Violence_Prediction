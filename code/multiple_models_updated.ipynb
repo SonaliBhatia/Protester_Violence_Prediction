{
 "cells": [
  {
   "cell_type": "code",
   "execution_count": 35,
   "metadata": {},
   "outputs": [],
   "source": [
    "import pandas as pd\n",
    "import numpy as np\n",
    "import matplotlib.pyplot as plt\n",
    "import seaborn as sns\n",
    "\n",
    "from sklearn.linear_model import LinearRegression, LogisticRegression, LassoCV, RidgeCV, Lasso, Ridge\n",
    "from sklearn import metrics\n",
    "from sklearn.neighbors import KNeighborsClassifier, KNeighborsRegressor\n",
    "from sklearn.preprocessing import StandardScaler\n",
    "from sklearn.model_selection import train_test_split, cross_val_score\n",
    "from sklearn.tree import DecisionTreeClassifier, DecisionTreeRegressor \n",
    "from sklearn.metrics import accuracy_score, confusion_matrix\n",
    "from sklearn.ensemble import BaggingClassifier, BaggingRegressor\n",
    "from sklearn.ensemble import RandomForestClassifier, RandomForestRegressor, ExtraTreesClassifier\n",
    "from sklearn.ensemble import GradientBoostingClassifier, AdaBoostClassifier, AdaBoostRegressor, VotingClassifier\n",
    "from sklearn.preprocessing import StandardScaler\n",
    "from sklearn.model_selection import GridSearchCV, train_test_split, StratifiedKFold\n",
    "\n",
    "from sklearn.svm import LinearSVC, SVC, SVR"
   ]
  },
  {
   "cell_type": "code",
   "execution_count": 2,
   "metadata": {},
   "outputs": [],
   "source": [
    "df = pd.read_csv('../data/numeric_text_combined.csv')"
   ]
  },
  {
   "cell_type": "code",
   "execution_count": 4,
   "metadata": {},
   "outputs": [],
   "source": [
    "df_model = df"
   ]
  },
  {
   "cell_type": "code",
   "execution_count": 5,
   "metadata": {},
   "outputs": [
    {
     "data": {
      "text/html": [
       "<div>\n",
       "<style scoped>\n",
       "    .dataframe tbody tr th:only-of-type {\n",
       "        vertical-align: middle;\n",
       "    }\n",
       "\n",
       "    .dataframe tbody tr th {\n",
       "        vertical-align: top;\n",
       "    }\n",
       "\n",
       "    .dataframe thead th {\n",
       "        text-align: right;\n",
       "    }\n",
       "</style>\n",
       "<table border=\"1\" class=\"dataframe\">\n",
       "  <thead>\n",
       "    <tr style=\"text-align: right;\">\n",
       "      <th></th>\n",
       "      <th>Unnamed: 0</th>\n",
       "      <th>protestnumber</th>\n",
       "      <th>protesterviolence</th>\n",
       "      <th>participants</th>\n",
       "      <th>stateresponse</th>\n",
       "      <th>labor wage dispute</th>\n",
       "      <th>land farm issue</th>\n",
       "      <th>police brutality</th>\n",
       "      <th>political behavior, process</th>\n",
       "      <th>price increases, tax policy</th>\n",
       "      <th>...</th>\n",
       "      <th>yesterday morning</th>\n",
       "      <th>yesterday protest</th>\n",
       "      <th>yesterday thousand</th>\n",
       "      <th>young</th>\n",
       "      <th>young men</th>\n",
       "      <th>young people</th>\n",
       "      <th>youth</th>\n",
       "      <th>yugoslavia</th>\n",
       "      <th>zimbabwe</th>\n",
       "      <th>zone</th>\n",
       "    </tr>\n",
       "  </thead>\n",
       "  <tbody>\n",
       "    <tr>\n",
       "      <th>0</th>\n",
       "      <td>0</td>\n",
       "      <td>1</td>\n",
       "      <td>0.0</td>\n",
       "      <td>3000</td>\n",
       "      <td>ignore</td>\n",
       "      <td>1</td>\n",
       "      <td>0</td>\n",
       "      <td>0</td>\n",
       "      <td>1</td>\n",
       "      <td>0</td>\n",
       "      <td>...</td>\n",
       "      <td>0.0</td>\n",
       "      <td>0.0</td>\n",
       "      <td>0.0</td>\n",
       "      <td>0.00000</td>\n",
       "      <td>0.0</td>\n",
       "      <td>0.00000</td>\n",
       "      <td>0.0</td>\n",
       "      <td>0.0</td>\n",
       "      <td>0.0</td>\n",
       "      <td>0.0</td>\n",
       "    </tr>\n",
       "    <tr>\n",
       "      <th>1</th>\n",
       "      <td>1</td>\n",
       "      <td>2</td>\n",
       "      <td>0.0</td>\n",
       "      <td>1000</td>\n",
       "      <td>ignore</td>\n",
       "      <td>0</td>\n",
       "      <td>0</td>\n",
       "      <td>0</td>\n",
       "      <td>1</td>\n",
       "      <td>0</td>\n",
       "      <td>...</td>\n",
       "      <td>0.0</td>\n",
       "      <td>0.0</td>\n",
       "      <td>0.0</td>\n",
       "      <td>0.36621</td>\n",
       "      <td>0.0</td>\n",
       "      <td>0.47086</td>\n",
       "      <td>0.0</td>\n",
       "      <td>0.0</td>\n",
       "      <td>0.0</td>\n",
       "      <td>0.0</td>\n",
       "    </tr>\n",
       "    <tr>\n",
       "      <th>2</th>\n",
       "      <td>2</td>\n",
       "      <td>3</td>\n",
       "      <td>0.0</td>\n",
       "      <td>500</td>\n",
       "      <td>ignore</td>\n",
       "      <td>0</td>\n",
       "      <td>0</td>\n",
       "      <td>0</td>\n",
       "      <td>1</td>\n",
       "      <td>0</td>\n",
       "      <td>...</td>\n",
       "      <td>0.0</td>\n",
       "      <td>0.0</td>\n",
       "      <td>0.0</td>\n",
       "      <td>0.00000</td>\n",
       "      <td>0.0</td>\n",
       "      <td>0.00000</td>\n",
       "      <td>0.0</td>\n",
       "      <td>0.0</td>\n",
       "      <td>0.0</td>\n",
       "      <td>0.0</td>\n",
       "    </tr>\n",
       "    <tr>\n",
       "      <th>3</th>\n",
       "      <td>3</td>\n",
       "      <td>4</td>\n",
       "      <td>1.0</td>\n",
       "      <td>300</td>\n",
       "      <td>accomodation</td>\n",
       "      <td>0</td>\n",
       "      <td>1</td>\n",
       "      <td>0</td>\n",
       "      <td>0</td>\n",
       "      <td>0</td>\n",
       "      <td>...</td>\n",
       "      <td>0.0</td>\n",
       "      <td>0.0</td>\n",
       "      <td>0.0</td>\n",
       "      <td>0.00000</td>\n",
       "      <td>0.0</td>\n",
       "      <td>0.00000</td>\n",
       "      <td>0.0</td>\n",
       "      <td>0.0</td>\n",
       "      <td>0.0</td>\n",
       "      <td>0.0</td>\n",
       "    </tr>\n",
       "    <tr>\n",
       "      <th>4</th>\n",
       "      <td>4</td>\n",
       "      <td>5</td>\n",
       "      <td>1.0</td>\n",
       "      <td>950</td>\n",
       "      <td>arrests</td>\n",
       "      <td>0</td>\n",
       "      <td>0</td>\n",
       "      <td>0</td>\n",
       "      <td>1</td>\n",
       "      <td>0</td>\n",
       "      <td>...</td>\n",
       "      <td>0.0</td>\n",
       "      <td>0.0</td>\n",
       "      <td>0.0</td>\n",
       "      <td>0.00000</td>\n",
       "      <td>0.0</td>\n",
       "      <td>0.00000</td>\n",
       "      <td>0.0</td>\n",
       "      <td>0.0</td>\n",
       "      <td>0.0</td>\n",
       "      <td>0.0</td>\n",
       "    </tr>\n",
       "  </tbody>\n",
       "</table>\n",
       "<p>5 rows × 3214 columns</p>\n",
       "</div>"
      ],
      "text/plain": [
       "   Unnamed: 0  protestnumber  protesterviolence  participants stateresponse  \\\n",
       "0           0              1                0.0          3000        ignore   \n",
       "1           1              2                0.0          1000        ignore   \n",
       "2           2              3                0.0           500        ignore   \n",
       "3           3              4                1.0           300  accomodation   \n",
       "4           4              5                1.0           950       arrests   \n",
       "\n",
       "   labor wage dispute  land farm issue  police brutality  \\\n",
       "0                   1                0                 0   \n",
       "1                   0                0                 0   \n",
       "2                   0                0                 0   \n",
       "3                   0                1                 0   \n",
       "4                   0                0                 0   \n",
       "\n",
       "   political behavior, process  price increases, tax policy  ...  \\\n",
       "0                            1                            0  ...   \n",
       "1                            1                            0  ...   \n",
       "2                            1                            0  ...   \n",
       "3                            0                            0  ...   \n",
       "4                            1                            0  ...   \n",
       "\n",
       "   yesterday morning  yesterday protest  yesterday thousand    young  \\\n",
       "0                0.0                0.0                 0.0  0.00000   \n",
       "1                0.0                0.0                 0.0  0.36621   \n",
       "2                0.0                0.0                 0.0  0.00000   \n",
       "3                0.0                0.0                 0.0  0.00000   \n",
       "4                0.0                0.0                 0.0  0.00000   \n",
       "\n",
       "   young men  young people  youth  yugoslavia  zimbabwe  zone  \n",
       "0        0.0       0.00000    0.0         0.0       0.0   0.0  \n",
       "1        0.0       0.47086    0.0         0.0       0.0   0.0  \n",
       "2        0.0       0.00000    0.0         0.0       0.0   0.0  \n",
       "3        0.0       0.00000    0.0         0.0       0.0   0.0  \n",
       "4        0.0       0.00000    0.0         0.0       0.0   0.0  \n",
       "\n",
       "[5 rows x 3214 columns]"
      ]
     },
     "execution_count": 5,
     "metadata": {},
     "output_type": "execute_result"
    }
   ],
   "source": [
    "df_model.head()"
   ]
  },
  {
   "cell_type": "code",
   "execution_count": 6,
   "metadata": {},
   "outputs": [],
   "source": [
    "df_model.drop(columns = 'Unnamed: 0', inplace = True)"
   ]
  },
  {
   "cell_type": "code",
   "execution_count": 7,
   "metadata": {},
   "outputs": [
    {
     "data": {
      "text/html": [
       "<div>\n",
       "<style scoped>\n",
       "    .dataframe tbody tr th:only-of-type {\n",
       "        vertical-align: middle;\n",
       "    }\n",
       "\n",
       "    .dataframe tbody tr th {\n",
       "        vertical-align: top;\n",
       "    }\n",
       "\n",
       "    .dataframe thead th {\n",
       "        text-align: right;\n",
       "    }\n",
       "</style>\n",
       "<table border=\"1\" class=\"dataframe\">\n",
       "  <thead>\n",
       "    <tr style=\"text-align: right;\">\n",
       "      <th></th>\n",
       "      <th>protestnumber</th>\n",
       "      <th>protesterviolence</th>\n",
       "      <th>participants</th>\n",
       "      <th>stateresponse</th>\n",
       "      <th>labor wage dispute</th>\n",
       "      <th>land farm issue</th>\n",
       "      <th>police brutality</th>\n",
       "      <th>political behavior, process</th>\n",
       "      <th>price increases, tax policy</th>\n",
       "      <th>removal of politician</th>\n",
       "      <th>...</th>\n",
       "      <th>yesterday morning</th>\n",
       "      <th>yesterday protest</th>\n",
       "      <th>yesterday thousand</th>\n",
       "      <th>young</th>\n",
       "      <th>young men</th>\n",
       "      <th>young people</th>\n",
       "      <th>youth</th>\n",
       "      <th>yugoslavia</th>\n",
       "      <th>zimbabwe</th>\n",
       "      <th>zone</th>\n",
       "    </tr>\n",
       "  </thead>\n",
       "  <tbody>\n",
       "    <tr>\n",
       "      <th>0</th>\n",
       "      <td>1</td>\n",
       "      <td>0.0</td>\n",
       "      <td>3000</td>\n",
       "      <td>ignore</td>\n",
       "      <td>1</td>\n",
       "      <td>0</td>\n",
       "      <td>0</td>\n",
       "      <td>1</td>\n",
       "      <td>0</td>\n",
       "      <td>0</td>\n",
       "      <td>...</td>\n",
       "      <td>0.0</td>\n",
       "      <td>0.0</td>\n",
       "      <td>0.0</td>\n",
       "      <td>0.00000</td>\n",
       "      <td>0.0</td>\n",
       "      <td>0.00000</td>\n",
       "      <td>0.0</td>\n",
       "      <td>0.0</td>\n",
       "      <td>0.0</td>\n",
       "      <td>0.0</td>\n",
       "    </tr>\n",
       "    <tr>\n",
       "      <th>1</th>\n",
       "      <td>2</td>\n",
       "      <td>0.0</td>\n",
       "      <td>1000</td>\n",
       "      <td>ignore</td>\n",
       "      <td>0</td>\n",
       "      <td>0</td>\n",
       "      <td>0</td>\n",
       "      <td>1</td>\n",
       "      <td>0</td>\n",
       "      <td>0</td>\n",
       "      <td>...</td>\n",
       "      <td>0.0</td>\n",
       "      <td>0.0</td>\n",
       "      <td>0.0</td>\n",
       "      <td>0.36621</td>\n",
       "      <td>0.0</td>\n",
       "      <td>0.47086</td>\n",
       "      <td>0.0</td>\n",
       "      <td>0.0</td>\n",
       "      <td>0.0</td>\n",
       "      <td>0.0</td>\n",
       "    </tr>\n",
       "    <tr>\n",
       "      <th>2</th>\n",
       "      <td>3</td>\n",
       "      <td>0.0</td>\n",
       "      <td>500</td>\n",
       "      <td>ignore</td>\n",
       "      <td>0</td>\n",
       "      <td>0</td>\n",
       "      <td>0</td>\n",
       "      <td>1</td>\n",
       "      <td>0</td>\n",
       "      <td>0</td>\n",
       "      <td>...</td>\n",
       "      <td>0.0</td>\n",
       "      <td>0.0</td>\n",
       "      <td>0.0</td>\n",
       "      <td>0.00000</td>\n",
       "      <td>0.0</td>\n",
       "      <td>0.00000</td>\n",
       "      <td>0.0</td>\n",
       "      <td>0.0</td>\n",
       "      <td>0.0</td>\n",
       "      <td>0.0</td>\n",
       "    </tr>\n",
       "    <tr>\n",
       "      <th>3</th>\n",
       "      <td>4</td>\n",
       "      <td>1.0</td>\n",
       "      <td>300</td>\n",
       "      <td>accomodation</td>\n",
       "      <td>0</td>\n",
       "      <td>1</td>\n",
       "      <td>0</td>\n",
       "      <td>0</td>\n",
       "      <td>0</td>\n",
       "      <td>0</td>\n",
       "      <td>...</td>\n",
       "      <td>0.0</td>\n",
       "      <td>0.0</td>\n",
       "      <td>0.0</td>\n",
       "      <td>0.00000</td>\n",
       "      <td>0.0</td>\n",
       "      <td>0.00000</td>\n",
       "      <td>0.0</td>\n",
       "      <td>0.0</td>\n",
       "      <td>0.0</td>\n",
       "      <td>0.0</td>\n",
       "    </tr>\n",
       "    <tr>\n",
       "      <th>4</th>\n",
       "      <td>5</td>\n",
       "      <td>1.0</td>\n",
       "      <td>950</td>\n",
       "      <td>arrests</td>\n",
       "      <td>0</td>\n",
       "      <td>0</td>\n",
       "      <td>0</td>\n",
       "      <td>1</td>\n",
       "      <td>0</td>\n",
       "      <td>0</td>\n",
       "      <td>...</td>\n",
       "      <td>0.0</td>\n",
       "      <td>0.0</td>\n",
       "      <td>0.0</td>\n",
       "      <td>0.00000</td>\n",
       "      <td>0.0</td>\n",
       "      <td>0.00000</td>\n",
       "      <td>0.0</td>\n",
       "      <td>0.0</td>\n",
       "      <td>0.0</td>\n",
       "      <td>0.0</td>\n",
       "    </tr>\n",
       "  </tbody>\n",
       "</table>\n",
       "<p>5 rows × 3213 columns</p>\n",
       "</div>"
      ],
      "text/plain": [
       "   protestnumber  protesterviolence  participants stateresponse  \\\n",
       "0              1                0.0          3000        ignore   \n",
       "1              2                0.0          1000        ignore   \n",
       "2              3                0.0           500        ignore   \n",
       "3              4                1.0           300  accomodation   \n",
       "4              5                1.0           950       arrests   \n",
       "\n",
       "   labor wage dispute  land farm issue  police brutality  \\\n",
       "0                   1                0                 0   \n",
       "1                   0                0                 0   \n",
       "2                   0                0                 0   \n",
       "3                   0                1                 0   \n",
       "4                   0                0                 0   \n",
       "\n",
       "   political behavior, process  price increases, tax policy  \\\n",
       "0                            1                            0   \n",
       "1                            1                            0   \n",
       "2                            1                            0   \n",
       "3                            0                            0   \n",
       "4                            1                            0   \n",
       "\n",
       "   removal of politician  ...  yesterday morning  yesterday protest  \\\n",
       "0                      0  ...                0.0                0.0   \n",
       "1                      0  ...                0.0                0.0   \n",
       "2                      0  ...                0.0                0.0   \n",
       "3                      0  ...                0.0                0.0   \n",
       "4                      0  ...                0.0                0.0   \n",
       "\n",
       "   yesterday thousand    young  young men  young people  youth  yugoslavia  \\\n",
       "0                 0.0  0.00000        0.0       0.00000    0.0         0.0   \n",
       "1                 0.0  0.36621        0.0       0.47086    0.0         0.0   \n",
       "2                 0.0  0.00000        0.0       0.00000    0.0         0.0   \n",
       "3                 0.0  0.00000        0.0       0.00000    0.0         0.0   \n",
       "4                 0.0  0.00000        0.0       0.00000    0.0         0.0   \n",
       "\n",
       "   zimbabwe  zone  \n",
       "0       0.0   0.0  \n",
       "1       0.0   0.0  \n",
       "2       0.0   0.0  \n",
       "3       0.0   0.0  \n",
       "4       0.0   0.0  \n",
       "\n",
       "[5 rows x 3213 columns]"
      ]
     },
     "execution_count": 7,
     "metadata": {},
     "output_type": "execute_result"
    }
   ],
   "source": [
    "df_model.head()"
   ]
  },
  {
   "cell_type": "code",
   "execution_count": 8,
   "metadata": {},
   "outputs": [
    {
     "data": {
      "text/plain": [
       "protestnumber         0\n",
       "protesterviolence     0\n",
       "participants          0\n",
       "stateresponse         0\n",
       "labor wage dispute    0\n",
       "                     ..\n",
       "young people          0\n",
       "youth                 0\n",
       "yugoslavia            0\n",
       "zimbabwe              0\n",
       "zone                  0\n",
       "Length: 3213, dtype: int64"
      ]
     },
     "execution_count": 8,
     "metadata": {},
     "output_type": "execute_result"
    }
   ],
   "source": [
    "df_model.isnull().sum()"
   ]
  },
  {
   "cell_type": "code",
   "execution_count": 9,
   "metadata": {},
   "outputs": [
    {
     "data": {
      "text/plain": [
       "0"
      ]
     },
     "execution_count": 9,
     "metadata": {},
     "output_type": "execute_result"
    }
   ],
   "source": [
    "df_model.isnull().sum().sum()"
   ]
  },
  {
   "cell_type": "markdown",
   "metadata": {},
   "source": [
    "No Nulls"
   ]
  },
  {
   "cell_type": "code",
   "execution_count": 10,
   "metadata": {},
   "outputs": [
    {
     "data": {
      "text/plain": [
       "(14474, 3213)"
      ]
     },
     "execution_count": 10,
     "metadata": {},
     "output_type": "execute_result"
    }
   ],
   "source": [
    "df_model.shape"
   ]
  },
  {
   "cell_type": "markdown",
   "metadata": {},
   "source": [
    "### State Response Basic "
   ]
  },
  {
   "cell_type": "code",
   "execution_count": 12,
   "metadata": {},
   "outputs": [
    {
     "data": {
      "text/plain": [
       "ignore             0.530883\n",
       "crowd dispersal    0.174036\n",
       "arrests            0.101285\n",
       "accomodation       0.069918\n",
       "killings           0.052992\n",
       "beatings           0.042490\n",
       "shootings          0.028396\n",
       "Name: stateresponse, dtype: float64"
      ]
     },
     "execution_count": 12,
     "metadata": {},
     "output_type": "execute_result"
    }
   ],
   "source": [
    "df_model['stateresponse'].value_counts(normalize = True)\n",
    "# need to beat 53%"
   ]
  },
  {
   "cell_type": "code",
   "execution_count": 13,
   "metadata": {},
   "outputs": [],
   "source": [
    "X = df_model._get_numeric_data()"
   ]
  },
  {
   "cell_type": "code",
   "execution_count": 14,
   "metadata": {},
   "outputs": [],
   "source": [
    "y = df_model['stateresponse']"
   ]
  },
  {
   "cell_type": "code",
   "execution_count": 15,
   "metadata": {},
   "outputs": [
    {
     "data": {
      "text/plain": [
       "Index(['protestnumber', 'protesterviolence', 'participants',\n",
       "       'labor wage dispute', 'land farm issue', 'police brutality',\n",
       "       'political behavior, process', 'price increases, tax policy',\n",
       "       'removal of politician', 'social restrictions',\n",
       "       ...\n",
       "       'yesterday morning', 'yesterday protest', 'yesterday thousand', 'young',\n",
       "       'young men', 'young people', 'youth', 'yugoslavia', 'zimbabwe', 'zone'],\n",
       "      dtype='object', length=3212)"
      ]
     },
     "execution_count": 15,
     "metadata": {},
     "output_type": "execute_result"
    }
   ],
   "source": [
    "X.columns"
   ]
  },
  {
   "cell_type": "markdown",
   "metadata": {},
   "source": [
    "#### Train Test Split Then StandardScaler"
   ]
  },
  {
   "cell_type": "code",
   "execution_count": 16,
   "metadata": {},
   "outputs": [],
   "source": [
    "X_train, X_test, y_train, y_test = train_test_split(X, y)"
   ]
  },
  {
   "cell_type": "code",
   "execution_count": 17,
   "metadata": {},
   "outputs": [],
   "source": [
    "ss = StandardScaler()\n",
    "X_train_sc = ss.fit_transform(X_train)\n",
    "X_test_sc = ss.transform(X_test)"
   ]
  },
  {
   "cell_type": "markdown",
   "metadata": {},
   "source": [
    "### Basic Models"
   ]
  },
  {
   "cell_type": "code",
   "execution_count": 18,
   "metadata": {},
   "outputs": [
    {
     "name": "stdout",
     "output_type": "stream",
     "text": [
      "AdaBoostClassifier()\n",
      "0.6548134500230308\n",
      "0.6413373860182371\n",
      "BaggingClassifier()\n",
      "0.9836020267157992\n",
      "0.6637192594639403\n",
      "RandomForestClassifier()\n",
      "1.0\n",
      "0.6736667587731417\n",
      "LogisticRegression()\n"
     ]
    },
    {
     "name": "stderr",
     "output_type": "stream",
     "text": [
      "/Library/Frameworks/Python.framework/Versions/3.7/lib/python3.7/site-packages/sklearn/linear_model/_logistic.py:764: ConvergenceWarning: lbfgs failed to converge (status=1):\n",
      "STOP: TOTAL NO. of ITERATIONS REACHED LIMIT.\n",
      "\n",
      "Increase the number of iterations (max_iter) or scale the data as shown in:\n",
      "    https://scikit-learn.org/stable/modules/preprocessing.html\n",
      "Please also refer to the documentation for alternative solver options:\n",
      "    https://scikit-learn.org/stable/modules/linear_model.html#logistic-regression\n",
      "  extra_warning_msg=_LOGISTIC_SOLVER_CONVERGENCE_MSG)\n"
     ]
    },
    {
     "name": "stdout",
     "output_type": "stream",
     "text": [
      "0.9893136803316444\n",
      "0.5355070461453441\n",
      "KNeighborsClassifier()\n",
      "0.46439428834638413\n",
      "0.28847747996684164\n",
      "SVC()\n",
      "0.871672040534316\n",
      "0.6402321083172147\n",
      "DecisionTreeClassifier()\n",
      "1.0\n",
      "0.5844155844155844\n"
     ]
    }
   ],
   "source": [
    "abc = AdaBoostClassifier()\n",
    "bc = BaggingClassifier()\n",
    "rfc = RandomForestClassifier()\n",
    "lr = LogisticRegression()\n",
    "knc = KNeighborsClassifier()\n",
    "svc = SVC()\n",
    "dtc = DecisionTreeClassifier()\n",
    "classification_models = [abc, bc, rfc, lr, knc, svc, dtc]\n",
    "for model in classification_models:\n",
    "    print(model)\n",
    "    model.fit(X_train_sc, y_train)\n",
    "    print(model.score(X_train_sc, y_train))\n",
    "    print(model.score(X_test_sc, y_test))"
   ]
  },
  {
   "cell_type": "markdown",
   "metadata": {},
   "source": [
    "### Comparing Pre_Clean vs Post_Clean\n",
    "- AdaBoostClassifier()\n",
    "      - Training: 0.5879318286503915 vs 0.6548134500230308\n",
    "      - Test: 0.5816523901630285 vs 0.6413373860182371\n",
    "- BaggingClassifier()\n",
    "      - Training: 0.9831414094887149 vs 0.9836020267157992\n",
    "      - Test: 0.5451782260292899 vs 0.6637192594639403\n",
    "- RandomForestClassifier()\n",
    "      - Training: 0.9997236296637494 vs 1.0\n",
    "      - Test: 0.5852445426913512 vs 0.6736667587731417\n",
    "- LogisticRegression()\n",
    "      - Training: 0.5912482726853985 vs 0.9893136803316444\n",
    "      - Test: 0.581928709588284  vs 0.5355070461453441\n",
    "- KNeighborsClassifier()\n",
    "      - Training: 0.6465223399355136 vs 0.46439428834638413\n",
    "      - Test: 0.5078751036197845 vs 0.28847747996684164\n",
    "- SVC()\n",
    "      - Training: 0.5977890373099954 vs 0.871672040534316\n",
    "      - Test: 0.5835866261398176 vs 0.6402321083172147\n",
    "- DecisionTreeClassifier()\n",
    "      - Training: 0.9998157531091663 vs 1.0\n",
    "      - Test: 0.4340978170765405 vs 0.5844155844155844"
   ]
  },
  {
   "cell_type": "markdown",
   "metadata": {},
   "source": [
    "## Remap State Response To Numeric Values, Check Scores\n",
    "- Also will have to remap so gridsearching works"
   ]
  },
  {
   "cell_type": "code",
   "execution_count": 19,
   "metadata": {},
   "outputs": [],
   "source": [
    "df_model['stateresponseweight'] = df_model['stateresponse'].map({'accomodation': 2, 'ignore': 1, 'crowd dispersal': 3,\n",
    "                                                       'arrests': 4, 'beatings': 5, 'shootings': 6, 'killings': 7})"
   ]
  },
  {
   "cell_type": "code",
   "execution_count": 24,
   "metadata": {},
   "outputs": [],
   "source": [
    "X = df_model._get_numeric_data().drop(columns = 'stateresponseweight')\n",
    "y = df_model['stateresponseweight']"
   ]
  },
  {
   "cell_type": "code",
   "execution_count": 25,
   "metadata": {},
   "outputs": [
    {
     "data": {
      "text/plain": [
       "Index(['protestnumber', 'protesterviolence', 'participants',\n",
       "       'labor wage dispute', 'land farm issue', 'police brutality',\n",
       "       'political behavior, process', 'price increases, tax policy',\n",
       "       'removal of politician', 'social restrictions',\n",
       "       ...\n",
       "       'yesterday morning', 'yesterday protest', 'yesterday thousand', 'young',\n",
       "       'young men', 'young people', 'youth', 'yugoslavia', 'zimbabwe', 'zone'],\n",
       "      dtype='object', length=3212)"
      ]
     },
     "execution_count": 25,
     "metadata": {},
     "output_type": "execute_result"
    }
   ],
   "source": [
    "X.columns"
   ]
  },
  {
   "cell_type": "code",
   "execution_count": 26,
   "metadata": {},
   "outputs": [],
   "source": [
    "X_train, X_test, y_train, y_test = train_test_split(X, y)"
   ]
  },
  {
   "cell_type": "code",
   "execution_count": 27,
   "metadata": {},
   "outputs": [],
   "source": [
    "ss = StandardScaler()\n",
    "X_train_sc = ss.fit_transform(X_train)\n",
    "X_test_sc = ss.transform(X_test)"
   ]
  },
  {
   "cell_type": "code",
   "execution_count": 29,
   "metadata": {},
   "outputs": [
    {
     "name": "stdout",
     "output_type": "stream",
     "text": [
      "AdaBoostClassifier()\n",
      "0.6536158452326117\n",
      "0.649626968775905\n",
      "BaggingClassifier()\n",
      "0.9736526946107784\n",
      "0.6681403702680299\n",
      "RandomForestClassifier()\n",
      "1.0\n",
      "0.6769825918762089\n",
      "LogisticRegression()\n"
     ]
    },
    {
     "name": "stderr",
     "output_type": "stream",
     "text": [
      "/Library/Frameworks/Python.framework/Versions/3.7/lib/python3.7/site-packages/sklearn/linear_model/_logistic.py:764: ConvergenceWarning: lbfgs failed to converge (status=1):\n",
      "STOP: TOTAL NO. of ITERATIONS REACHED LIMIT.\n",
      "\n",
      "Increase the number of iterations (max_iter) or scale the data as shown in:\n",
      "    https://scikit-learn.org/stable/modules/preprocessing.html\n",
      "Please also refer to the documentation for alternative solver options:\n",
      "    https://scikit-learn.org/stable/modules/linear_model.html#logistic-regression\n",
      "  extra_warning_msg=_LOGISTIC_SOLVER_CONVERGENCE_MSG)\n"
     ]
    },
    {
     "name": "stdout",
     "output_type": "stream",
     "text": [
      "0.9891294334408107\n",
      "0.547112462006079\n",
      "KNeighborsClassifier()\n",
      "0.5995393827729157\n",
      "0.46200607902735563\n",
      "SVC()\n",
      "0.8699216950713957\n",
      "0.642718983144515\n",
      "DecisionTreeClassifier()\n",
      "1.0\n",
      "0.5822050290135397\n"
     ]
    }
   ],
   "source": [
    "abc = AdaBoostClassifier()\n",
    "bc = BaggingClassifier()\n",
    "rfc = RandomForestClassifier()\n",
    "lr = LogisticRegression()\n",
    "knc = KNeighborsClassifier()\n",
    "svc = SVC()\n",
    "dtc = DecisionTreeClassifier()\n",
    "classification_models = [abc, bc, rfc, lr, knc, svc, dtc]\n",
    "for model in classification_models:\n",
    "    print(model)\n",
    "    model.fit(X_train_sc, y_train)\n",
    "    print(model.score(X_train_sc, y_train))\n",
    "    print(model.score(X_test_sc, y_test))"
   ]
  },
  {
   "cell_type": "markdown",
   "metadata": {},
   "source": [
    "### Comparing Weighted vs Post_Clean\n",
    "- AdaBoostClassifier()\n",
    "      - Training: 0.6536158452326117 vs 0.6548134500230308\n",
    "      - Test: 0.649626968775905 vs 0.6413373860182371\n",
    "- BaggingClassifier()\n",
    "      - Training: 0.9736526946107784 vs 0.9836020267157992\n",
    "      - Test: 0.6747720364741642 vs 0.6681403702680299\n",
    "- RandomForestClassifier()\n",
    "      - Training: 1.0 vs 1.0\n",
    "      - Test: 0.6769825918762089 vs 0.6736667587731417\n",
    "- LogisticRegression()\n",
    "      - Training: 0.9891294334408107 vs 0.9893136803316444\n",
    "      - Test: 0.547112462006079  vs 0.5355070461453441\n",
    "- KNeighborsClassifier()\n",
    "      - Training: 0.5995393827729157 vs 0.46439428834638413\n",
    "      - Test: 0.46200607902735563 vs 0.28847747996684164\n",
    "- SVC()\n",
    "      - Training: 0.8699216950713957 vs 0.871672040534316\n",
    "      - Test: 0.642718983144515 vs 0.6402321083172147\n",
    "- DecisionTreeClassifier()\n",
    "      - Training: 1.0 vs 1.0\n",
    "      - Test: 0.5822050290135397 vs 0.5844155844155844"
   ]
  },
  {
   "cell_type": "markdown",
   "metadata": {},
   "source": [
    "## GridSearch / HyperParameters"
   ]
  },
  {
   "cell_type": "markdown",
   "metadata": {},
   "source": [
    "### Random Forest "
   ]
  },
  {
   "cell_type": "code",
   "execution_count": 31,
   "metadata": {},
   "outputs": [
    {
     "name": "stdout",
     "output_type": "stream",
     "text": [
      "0.6687240902809766\n"
     ]
    },
    {
     "data": {
      "text/plain": [
       "{'max_depth': None, 'min_samples_leaf': 1, 'n_estimators': 200}"
      ]
     },
     "execution_count": 31,
     "metadata": {},
     "output_type": "execute_result"
    }
   ],
   "source": [
    "rfc = RandomForestClassifier()\n",
    "rf_params = {\n",
    "    'n_estimators': [100, 150, 200],\n",
    "    'min_samples_leaf': [1, 5, 10],\n",
    "    'max_depth': [None, 1, 3, 5],\n",
    "}\n",
    "gs = GridSearchCV(rfc, param_grid=rf_params, cv=5)\n",
    "gs.fit(X_train_sc, y_train)\n",
    "print(gs.best_score_)\n",
    "gs.best_params_"
   ]
  },
  {
   "cell_type": "code",
   "execution_count": 32,
   "metadata": {},
   "outputs": [
    {
     "data": {
      "text/plain": [
       "(0.9555043758636573, 0.6758773141751865)"
      ]
     },
     "execution_count": 32,
     "metadata": {},
     "output_type": "execute_result"
    }
   ],
   "source": [
    "gs.score(X_train_sc, y_train), gs.score(X_test_sc, y_test)"
   ]
  },
  {
   "cell_type": "markdown",
   "metadata": {},
   "source": [
    "### Want to Try out Extra Tree"
   ]
  },
  {
   "cell_type": "code",
   "execution_count": 36,
   "metadata": {},
   "outputs": [
    {
     "data": {
      "text/plain": [
       "0.6654076462459696"
      ]
     },
     "execution_count": 36,
     "metadata": {},
     "output_type": "execute_result"
    }
   ],
   "source": [
    "et = ExtraTreesClassifier()\n",
    "et.fit(X_train_sc, y_train)\n",
    "cross_val_score(et, X_train, y_train, cv=5).mean()"
   ]
  },
  {
   "cell_type": "code",
   "execution_count": 37,
   "metadata": {},
   "outputs": [
    {
     "data": {
      "text/plain": [
       "(1.0, 0.6717325227963525)"
      ]
     },
     "execution_count": 37,
     "metadata": {},
     "output_type": "execute_result"
    }
   ],
   "source": [
    "et.score(X_train_sc, y_train), et.score(X_test_sc, y_test)"
   ]
  },
  {
   "cell_type": "markdown",
   "metadata": {},
   "source": [
    "### SVM"
   ]
  },
  {
   "cell_type": "code",
   "execution_count": 41,
   "metadata": {},
   "outputs": [
    {
     "data": {
      "text/plain": [
       "0.6479043638459325"
      ]
     },
     "execution_count": 41,
     "metadata": {},
     "output_type": "execute_result"
    }
   ],
   "source": [
    "svc = SVC()\n",
    "pgrid = {'kernel': ['rbf', 'sigmoid']}\n",
    "cv = StratifiedKFold(n_splits=3, shuffle=True)\n",
    "\n",
    "gcv = GridSearchCV(svc, pgrid, cv=cv)\n",
    "gcv.fit(X_train_sc, y_train)\n",
    "gcv.best_params_\n",
    "gcv.best_score_"
   ]
  },
  {
   "cell_type": "code",
   "execution_count": 42,
   "metadata": {},
   "outputs": [
    {
     "data": {
      "text/plain": [
       "(0.7174573929064947, 0.6634429400386848)"
      ]
     },
     "execution_count": 42,
     "metadata": {},
     "output_type": "execute_result"
    }
   ],
   "source": [
    "gcv.score(X_train_sc, y_train), gcv.score(X_test_sc, y_test)"
   ]
  },
  {
   "cell_type": "markdown",
   "metadata": {},
   "source": [
    "### Regularization"
   ]
  },
  {
   "cell_type": "code",
   "execution_count": 38,
   "metadata": {},
   "outputs": [
    {
     "name": "stdout",
     "output_type": "stream",
     "text": [
      "0.6842535106917533\n",
      "0.3710010993078108\n"
     ]
    }
   ],
   "source": [
    "ridge_model = Ridge(alpha=10)\n",
    "ridge_model.fit(X_train_sc, y_train)\n",
    "print(ridge_model.score(X_train_sc, y_train))\n",
    "print(ridge_model.score(X_test_sc, y_test))"
   ]
  },
  {
   "cell_type": "code",
   "execution_count": 39,
   "metadata": {},
   "outputs": [
    {
     "name": "stdout",
     "output_type": "stream",
     "text": [
      "0.0\n",
      "-7.251163992139098e-06\n"
     ]
    }
   ],
   "source": [
    "lasso = Lasso()\n",
    "lasso.fit(X_train_sc, y_train)\n",
    "print(lasso.score(X_train_sc, y_train))\n",
    "print(lasso.score(X_test_sc, y_test))"
   ]
  },
  {
   "cell_type": "code",
   "execution_count": null,
   "metadata": {},
   "outputs": [],
   "source": []
  },
  {
   "cell_type": "code",
   "execution_count": null,
   "metadata": {},
   "outputs": [],
   "source": []
  }
 ],
 "metadata": {
  "kernelspec": {
   "display_name": "Python 3",
   "language": "python",
   "name": "python3"
  },
  "language_info": {
   "codemirror_mode": {
    "name": "ipython",
    "version": 3
   },
   "file_extension": ".py",
   "mimetype": "text/x-python",
   "name": "python",
   "nbconvert_exporter": "python",
   "pygments_lexer": "ipython3",
   "version": "3.7.4"
  }
 },
 "nbformat": 4,
 "nbformat_minor": 4
}
