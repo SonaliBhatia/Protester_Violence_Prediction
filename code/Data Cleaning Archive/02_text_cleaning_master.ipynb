{
 "cells": [
  {
   "cell_type": "code",
   "execution_count": 41,
   "metadata": {},
   "outputs": [],
   "source": [
    "import pandas as pd\n",
    "from sklearn.feature_extraction.text import CountVectorizer, TfidfVectorizer\n",
    "from sklearn.model_selection import train_test_split\n",
    "import time\n"
   ]
  },
  {
   "cell_type": "code",
   "execution_count": 42,
   "metadata": {},
   "outputs": [],
   "source": [
    "df = pd.read_csv('../data/clean_data_state_response.csv')"
   ]
  },
  {
   "cell_type": "code",
   "execution_count": 43,
   "metadata": {},
   "outputs": [
    {
     "data": {
      "text/html": [
       "<div>\n",
       "<style scoped>\n",
       "    .dataframe tbody tr th:only-of-type {\n",
       "        vertical-align: middle;\n",
       "    }\n",
       "\n",
       "    .dataframe tbody tr th {\n",
       "        vertical-align: top;\n",
       "    }\n",
       "\n",
       "    .dataframe thead th {\n",
       "        text-align: right;\n",
       "    }\n",
       "</style>\n",
       "<table border=\"1\" class=\"dataframe\">\n",
       "  <thead>\n",
       "    <tr style=\"text-align: right;\">\n",
       "      <th></th>\n",
       "      <th>protestnumber</th>\n",
       "      <th>protesterviolence</th>\n",
       "      <th>participants</th>\n",
       "      <th>notes</th>\n",
       "      <th>accomodation</th>\n",
       "      <th>arrests</th>\n",
       "      <th>beatings</th>\n",
       "      <th>crowd dispersal</th>\n",
       "      <th>ignore</th>\n",
       "      <th>killings</th>\n",
       "      <th>...</th>\n",
       "      <th>year_2017</th>\n",
       "      <th>year_2018</th>\n",
       "      <th>year_2019</th>\n",
       "      <th>region_Asia</th>\n",
       "      <th>region_Central America</th>\n",
       "      <th>region_Europe</th>\n",
       "      <th>region_MENA</th>\n",
       "      <th>region_North America</th>\n",
       "      <th>region_Oceania</th>\n",
       "      <th>region_South America</th>\n",
       "    </tr>\n",
       "  </thead>\n",
       "  <tbody>\n",
       "    <tr>\n",
       "      <th>0</th>\n",
       "      <td>1</td>\n",
       "      <td>0.0</td>\n",
       "      <td>3000</td>\n",
       "      <td>Canada s railway passenger system was finally...</td>\n",
       "      <td>0</td>\n",
       "      <td>0</td>\n",
       "      <td>0</td>\n",
       "      <td>0</td>\n",
       "      <td>1</td>\n",
       "      <td>0</td>\n",
       "      <td>...</td>\n",
       "      <td>0</td>\n",
       "      <td>0</td>\n",
       "      <td>0</td>\n",
       "      <td>0</td>\n",
       "      <td>0</td>\n",
       "      <td>0</td>\n",
       "      <td>0</td>\n",
       "      <td>1</td>\n",
       "      <td>0</td>\n",
       "      <td>0</td>\n",
       "    </tr>\n",
       "    <tr>\n",
       "      <th>1</th>\n",
       "      <td>2</td>\n",
       "      <td>0.0</td>\n",
       "      <td>1000</td>\n",
       "      <td>protestors were only identified as  young peop...</td>\n",
       "      <td>0</td>\n",
       "      <td>0</td>\n",
       "      <td>0</td>\n",
       "      <td>0</td>\n",
       "      <td>1</td>\n",
       "      <td>0</td>\n",
       "      <td>...</td>\n",
       "      <td>0</td>\n",
       "      <td>0</td>\n",
       "      <td>0</td>\n",
       "      <td>0</td>\n",
       "      <td>0</td>\n",
       "      <td>0</td>\n",
       "      <td>0</td>\n",
       "      <td>1</td>\n",
       "      <td>0</td>\n",
       "      <td>0</td>\n",
       "    </tr>\n",
       "    <tr>\n",
       "      <th>2</th>\n",
       "      <td>3</td>\n",
       "      <td>0.0</td>\n",
       "      <td>500</td>\n",
       "      <td>THE Queen, after calling on Canadians to rema...</td>\n",
       "      <td>0</td>\n",
       "      <td>0</td>\n",
       "      <td>0</td>\n",
       "      <td>0</td>\n",
       "      <td>1</td>\n",
       "      <td>0</td>\n",
       "      <td>...</td>\n",
       "      <td>0</td>\n",
       "      <td>0</td>\n",
       "      <td>0</td>\n",
       "      <td>0</td>\n",
       "      <td>0</td>\n",
       "      <td>0</td>\n",
       "      <td>0</td>\n",
       "      <td>1</td>\n",
       "      <td>0</td>\n",
       "      <td>0</td>\n",
       "    </tr>\n",
       "    <tr>\n",
       "      <th>3</th>\n",
       "      <td>4</td>\n",
       "      <td>1.0</td>\n",
       "      <td>300</td>\n",
       "      <td>Canada s federal government has agreed to acq...</td>\n",
       "      <td>1</td>\n",
       "      <td>0</td>\n",
       "      <td>0</td>\n",
       "      <td>0</td>\n",
       "      <td>0</td>\n",
       "      <td>0</td>\n",
       "      <td>...</td>\n",
       "      <td>0</td>\n",
       "      <td>0</td>\n",
       "      <td>0</td>\n",
       "      <td>0</td>\n",
       "      <td>0</td>\n",
       "      <td>0</td>\n",
       "      <td>0</td>\n",
       "      <td>1</td>\n",
       "      <td>0</td>\n",
       "      <td>0</td>\n",
       "    </tr>\n",
       "    <tr>\n",
       "      <th>4</th>\n",
       "      <td>5</td>\n",
       "      <td>1.0</td>\n",
       "      <td>950</td>\n",
       "      <td>Protests were directed against the state due t...</td>\n",
       "      <td>1</td>\n",
       "      <td>1</td>\n",
       "      <td>0</td>\n",
       "      <td>1</td>\n",
       "      <td>0</td>\n",
       "      <td>0</td>\n",
       "      <td>...</td>\n",
       "      <td>0</td>\n",
       "      <td>0</td>\n",
       "      <td>0</td>\n",
       "      <td>0</td>\n",
       "      <td>0</td>\n",
       "      <td>0</td>\n",
       "      <td>0</td>\n",
       "      <td>1</td>\n",
       "      <td>0</td>\n",
       "      <td>0</td>\n",
       "    </tr>\n",
       "  </tbody>\n",
       "</table>\n",
       "<p>5 rows × 222 columns</p>\n",
       "</div>"
      ],
      "text/plain": [
       "   protestnumber  protesterviolence  participants  \\\n",
       "0              1                0.0          3000   \n",
       "1              2                0.0          1000   \n",
       "2              3                0.0           500   \n",
       "3              4                1.0           300   \n",
       "4              5                1.0           950   \n",
       "\n",
       "                                               notes  accomodation  arrests  \\\n",
       "0   Canada s railway passenger system was finally...             0        0   \n",
       "1  protestors were only identified as  young peop...             0        0   \n",
       "2   THE Queen, after calling on Canadians to rema...             0        0   \n",
       "3   Canada s federal government has agreed to acq...             1        0   \n",
       "4  Protests were directed against the state due t...             1        1   \n",
       "\n",
       "   beatings  crowd dispersal  ignore  killings  ...  year_2017 year_2018  \\\n",
       "0         0                0       1         0  ...          0         0   \n",
       "1         0                0       1         0  ...          0         0   \n",
       "2         0                0       1         0  ...          0         0   \n",
       "3         0                0       0         0  ...          0         0   \n",
       "4         0                1       0         0  ...          0         0   \n",
       "\n",
       "   year_2019  region_Asia  region_Central America  region_Europe  region_MENA  \\\n",
       "0          0            0                       0              0            0   \n",
       "1          0            0                       0              0            0   \n",
       "2          0            0                       0              0            0   \n",
       "3          0            0                       0              0            0   \n",
       "4          0            0                       0              0            0   \n",
       "\n",
       "   region_North America  region_Oceania  region_South America  \n",
       "0                     1               0                     0  \n",
       "1                     1               0                     0  \n",
       "2                     1               0                     0  \n",
       "3                     1               0                     0  \n",
       "4                     1               0                     0  \n",
       "\n",
       "[5 rows x 222 columns]"
      ]
     },
     "execution_count": 43,
     "metadata": {},
     "output_type": "execute_result"
    }
   ],
   "source": [
    "df.head()"
   ]
  },
  {
   "cell_type": "code",
   "execution_count": 44,
   "metadata": {},
   "outputs": [],
   "source": [
    "import time\n",
    "import datetime\n",
    "def datetime_to_int(dt):\n",
    "    return int(dt.strftime(\"%Y%m%d%H%M%S\"))"
   ]
  },
  {
   "cell_type": "code",
   "execution_count": 45,
   "metadata": {},
   "outputs": [
    {
     "name": "stdout",
     "output_type": "stream",
     "text": [
      "<class 'pandas.core.frame.DataFrame'>\n",
      "RangeIndex: 14474 entries, 0 to 14473\n",
      "Columns: 222 entries, protestnumber to region_South America\n",
      "dtypes: float64(1), int64(219), object(2)\n",
      "memory usage: 24.5+ MB\n"
     ]
    }
   ],
   "source": [
    "df.info()"
   ]
  },
  {
   "cell_type": "markdown",
   "metadata": {},
   "source": [
    "# Text Cleaning"
   ]
  },
  {
   "cell_type": "code",
   "execution_count": 46,
   "metadata": {},
   "outputs": [],
   "source": [
    "import nltk\n",
    "from nltk.stem import WordNetLemmatizer\n",
    "import string\n",
    "\n",
    "def tokenize(text):\n",
    "    text = ''.join([ch for ch in text if ch not in string.punctuation])\n",
    "    tokens = nltk.word_tokenize(text)\n",
    "    lemmatizer = WordNetLemmatizer()\n",
    "    return [lemmatizer.lemmatize(token) for token in tokens]\n",
    "                                "
   ]
  },
  {
   "cell_type": "code",
   "execution_count": 47,
   "metadata": {},
   "outputs": [],
   "source": [
    "tf_vectorizer = TfidfVectorizer(tokenizer=tokenize,\n",
    "                                stop_words = 'english', \n",
    "                                lowercase = True,\n",
    "                                ngram_range = (1,2),\n",
    "                                max_df = 0.5, \n",
    "                                min_df = 10,\n",
    "                                max_features = 3000) \n",
    "\n"
   ]
  },
  {
   "cell_type": "code",
   "execution_count": 48,
   "metadata": {},
   "outputs": [],
   "source": [
    "df['notes'] = df['notes'].str.replace(r'(\\b\\w{1,2}\\b)', '') # for words removing 1 or 2 letter words\n",
    " \n"
   ]
  },
  {
   "cell_type": "code",
   "execution_count": 49,
   "metadata": {},
   "outputs": [],
   "source": [
    "notes=df['notes']\n"
   ]
  },
  {
   "cell_type": "code",
   "execution_count": 50,
   "metadata": {},
   "outputs": [
    {
     "name": "stderr",
     "output_type": "stream",
     "text": [
      "/Users/adrianchapman/Dev/virtualenvs/py3/lib/python3.8/site-packages/sklearn/feature_extraction/text.py:484: UserWarning: The parameter 'token_pattern' will not be used since 'tokenizer' is not None'\n",
      "  warnings.warn(\"The parameter 'token_pattern' will not be used\"\n",
      "/Users/adrianchapman/Dev/virtualenvs/py3/lib/python3.8/site-packages/sklearn/feature_extraction/text.py:383: UserWarning: Your stop_words may be inconsistent with your preprocessing. Tokenizing the stop words generated tokens ['ha', 'le', 'u', 'wa'] not in stop_words.\n",
      "  warnings.warn('Your stop_words may be inconsistent with '\n"
     ]
    },
    {
     "data": {
      "text/plain": [
       "TfidfVectorizer(max_df=0.5, max_features=3000, min_df=10, ngram_range=(1, 2),\n",
       "                stop_words='english',\n",
       "                tokenizer=<function tokenize at 0x13917d430>)"
      ]
     },
     "execution_count": 50,
     "metadata": {},
     "output_type": "execute_result"
    }
   ],
   "source": [
    "tf_vectorizer.fit(notes)"
   ]
  },
  {
   "cell_type": "code",
   "execution_count": 51,
   "metadata": {},
   "outputs": [],
   "source": [
    "notes_vc=tf_vectorizer.transform(notes)"
   ]
  },
  {
   "cell_type": "code",
   "execution_count": 52,
   "metadata": {},
   "outputs": [
    {
     "data": {
      "text/plain": [
       "['000',\n",
       " '000 000',\n",
       " '000 demonstrator',\n",
       " '000 people',\n",
       " '000 police',\n",
       " '000 protester',\n",
       " '000 student',\n",
       " '000 supporter',\n",
       " '000 worker',\n",
       " '000s',\n",
       " '100',\n",
       " '100 people',\n",
       " '1000',\n",
       " '100000',\n",
       " '100000 people',\n",
       " '120',\n",
       " '150',\n",
       " '15th',\n",
       " '1989',\n",
       " '1995',\n",
       " '1st',\n",
       " '200',\n",
       " '200 people',\n",
       " '200000',\n",
       " '2003',\n",
       " '2009',\n",
       " '2011',\n",
       " '2011 ha',\n",
       " '2012',\n",
       " '2013',\n",
       " '2014',\n",
       " '2015',\n",
       " '2016',\n",
       " '2017',\n",
       " '250',\n",
       " '300',\n",
       " '300 people',\n",
       " '350',\n",
       " '400',\n",
       " '406th',\n",
       " '406th protest',\n",
       " '500',\n",
       " '500 people',\n",
       " '5th',\n",
       " '600',\n",
       " '700',\n",
       " '800',\n",
       " 'abandoned',\n",
       " 'abdullah',\n",
       " 'ablaze',\n",
       " 'able',\n",
       " 'abortion',\n",
       " 'abuja',\n",
       " 'abuse',\n",
       " 'academic',\n",
       " 'accept',\n",
       " 'access',\n",
       " 'accident',\n",
       " 'accommodation',\n",
       " 'accord',\n",
       " 'according',\n",
       " 'according local',\n",
       " 'according police',\n",
       " 'account',\n",
       " 'accusation',\n",
       " 'accuse',\n",
       " 'accused',\n",
       " 'accusing',\n",
       " 'acronym',\n",
       " 'act',\n",
       " 'acting',\n",
       " 'action',\n",
       " 'activist',\n",
       " 'activity',\n",
       " 'actual',\n",
       " 'actual number',\n",
       " 'added',\n",
       " 'adding',\n",
       " 'additional',\n",
       " 'address',\n",
       " 'addressed',\n",
       " 'addressing',\n",
       " 'administration',\n",
       " 'administrative',\n",
       " 'adopted',\n",
       " 'affair',\n",
       " 'affected',\n",
       " 'affiliated',\n",
       " 'afp',\n",
       " 'afp correspondent',\n",
       " 'afp journalist',\n",
       " 'africa',\n",
       " 'african',\n",
       " 'african country',\n",
       " 'african nation',\n",
       " 'african national',\n",
       " 'afternoon',\n",
       " 'age',\n",
       " 'aged',\n",
       " 'agency',\n",
       " 'agency reported',\n",
       " 'agency said',\n",
       " 'agent',\n",
       " 'ago',\n",
       " 'agreed',\n",
       " 'agreement',\n",
       " 'agricultural',\n",
       " 'agriculture',\n",
       " 'ahead',\n",
       " 'ahmed',\n",
       " 'aid',\n",
       " 'aim',\n",
       " 'aimed',\n",
       " 'air',\n",
       " 'air pollution',\n",
       " 'airport',\n",
       " 'albania',\n",
       " 'albanian',\n",
       " 'algeria',\n",
       " 'algerian',\n",
       " 'algiers',\n",
       " 'ali',\n",
       " 'alight',\n",
       " 'allegation',\n",
       " 'alleged',\n",
       " 'allegedly',\n",
       " 'alliance',\n",
       " 'allow',\n",
       " 'allowance',\n",
       " 'allowed',\n",
       " 'allowing',\n",
       " 'ally',\n",
       " 'alongside',\n",
       " 'alternative',\n",
       " 'amendment',\n",
       " 'america',\n",
       " 'american',\n",
       " 'amid',\n",
       " 'ammunition',\n",
       " 'amnesty',\n",
       " 'anarchist',\n",
       " 'anc',\n",
       " 'angela',\n",
       " 'angela merkel',\n",
       " 'anger',\n",
       " 'angered',\n",
       " 'angry',\n",
       " 'angry protester',\n",
       " 'animal',\n",
       " 'ankara',\n",
       " 'anniversary',\n",
       " 'announced',\n",
       " 'announcement',\n",
       " 'annual',\n",
       " 'answer',\n",
       " 'antananarivo',\n",
       " 'anti',\n",
       " 'anti communist',\n",
       " 'anti corruption',\n",
       " 'anti government',\n",
       " 'anti islam',\n",
       " 'anti migrant',\n",
       " 'anti riot',\n",
       " 'antigovernment',\n",
       " 'apartheid',\n",
       " 'apparent',\n",
       " 'apparently',\n",
       " 'appeal',\n",
       " 'appealed',\n",
       " 'appear',\n",
       " 'appeared',\n",
       " 'appears',\n",
       " 'application',\n",
       " 'appointed',\n",
       " 'appointment',\n",
       " 'approval',\n",
       " 'approved',\n",
       " 'april',\n",
       " 'arab',\n",
       " 'archipelago',\n",
       " 'area',\n",
       " 'argentina',\n",
       " 'aristide',\n",
       " 'arm',\n",
       " 'armed',\n",
       " 'armed police',\n",
       " 'armenia',\n",
       " 'armenian',\n",
       " 'armored',\n",
       " 'army',\n",
       " 'arrears',\n",
       " 'arrest',\n",
       " 'arrest injury',\n",
       " 'arrested',\n",
       " 'arrested people',\n",
       " 'arrested police',\n",
       " 'arresting',\n",
       " 'arrival',\n",
       " 'arrived',\n",
       " 'art']"
      ]
     },
     "execution_count": 52,
     "metadata": {},
     "output_type": "execute_result"
    }
   ],
   "source": [
    "tf_vectorizer.get_feature_names()[:200]"
   ]
  },
  {
   "cell_type": "code",
   "execution_count": 53,
   "metadata": {},
   "outputs": [],
   "source": [
    "notes_clean_df=pd.DataFrame(notes_vc.todense(), \n",
    "                          columns=tf_vectorizer.get_feature_names())"
   ]
  },
  {
   "cell_type": "code",
   "execution_count": 54,
   "metadata": {
    "scrolled": true
   },
   "outputs": [
    {
     "data": {
      "text/plain": [
       "(14474, 3000)"
      ]
     },
     "execution_count": 54,
     "metadata": {},
     "output_type": "execute_result"
    }
   ],
   "source": [
    "notes_clean_df.shape"
   ]
  },
  {
   "cell_type": "code",
   "execution_count": 55,
   "metadata": {},
   "outputs": [
    {
     "data": {
      "text/plain": [
       "Index(['000', '000 000', '000 demonstrator', '000 people', '000 police',\n",
       "       '000 protester', '000 student', '000 supporter', '000 worker', '000s',\n",
       "       ...\n",
       "       'yesterday morning', 'yesterday protest', 'yesterday thousand', 'young',\n",
       "       'young men', 'young people', 'youth', 'yugoslavia', 'zimbabwe', 'zone'],\n",
       "      dtype='object', length=3000)"
      ]
     },
     "execution_count": 55,
     "metadata": {},
     "output_type": "execute_result"
    }
   ],
   "source": [
    "notes_clean_df.columns"
   ]
  },
  {
   "cell_type": "code",
   "execution_count": 56,
   "metadata": {
    "scrolled": false
   },
   "outputs": [
    {
     "data": {
      "text/html": [
       "<div>\n",
       "<style scoped>\n",
       "    .dataframe tbody tr th:only-of-type {\n",
       "        vertical-align: middle;\n",
       "    }\n",
       "\n",
       "    .dataframe tbody tr th {\n",
       "        vertical-align: top;\n",
       "    }\n",
       "\n",
       "    .dataframe thead th {\n",
       "        text-align: right;\n",
       "    }\n",
       "</style>\n",
       "<table border=\"1\" class=\"dataframe\">\n",
       "  <thead>\n",
       "    <tr style=\"text-align: right;\">\n",
       "      <th></th>\n",
       "      <th>protestnumber</th>\n",
       "      <th>protesterviolence</th>\n",
       "      <th>participants</th>\n",
       "      <th>notes</th>\n",
       "      <th>accomodation</th>\n",
       "      <th>arrests</th>\n",
       "      <th>beatings</th>\n",
       "      <th>crowd dispersal</th>\n",
       "      <th>ignore</th>\n",
       "      <th>killings</th>\n",
       "      <th>...</th>\n",
       "      <th>yesterday morning</th>\n",
       "      <th>yesterday protest</th>\n",
       "      <th>yesterday thousand</th>\n",
       "      <th>young</th>\n",
       "      <th>young men</th>\n",
       "      <th>young people</th>\n",
       "      <th>youth</th>\n",
       "      <th>yugoslavia</th>\n",
       "      <th>zimbabwe</th>\n",
       "      <th>zone</th>\n",
       "    </tr>\n",
       "  </thead>\n",
       "  <tbody>\n",
       "    <tr>\n",
       "      <th>0</th>\n",
       "      <td>1</td>\n",
       "      <td>0.0</td>\n",
       "      <td>3000</td>\n",
       "      <td>Canada  railway passenger system was finally ...</td>\n",
       "      <td>0</td>\n",
       "      <td>0</td>\n",
       "      <td>0</td>\n",
       "      <td>0</td>\n",
       "      <td>1</td>\n",
       "      <td>0</td>\n",
       "      <td>...</td>\n",
       "      <td>0.0</td>\n",
       "      <td>0.0</td>\n",
       "      <td>0.0</td>\n",
       "      <td>0.0</td>\n",
       "      <td>0.0</td>\n",
       "      <td>0.0</td>\n",
       "      <td>0.0</td>\n",
       "      <td>0.0</td>\n",
       "      <td>0.0</td>\n",
       "      <td>0.0</td>\n",
       "    </tr>\n",
       "  </tbody>\n",
       "</table>\n",
       "<p>1 rows × 3222 columns</p>\n",
       "</div>"
      ],
      "text/plain": [
       "   protestnumber  protesterviolence  participants  \\\n",
       "0              1                0.0          3000   \n",
       "\n",
       "                                               notes  accomodation  arrests  \\\n",
       "0   Canada  railway passenger system was finally ...             0        0   \n",
       "\n",
       "   beatings  crowd dispersal  ignore  killings  ...  yesterday morning  \\\n",
       "0         0                0       1         0  ...                0.0   \n",
       "\n",
       "  yesterday protest  yesterday thousand  young  young men  young people  \\\n",
       "0               0.0                 0.0    0.0        0.0           0.0   \n",
       "\n",
       "   youth  yugoslavia  zimbabwe  zone  \n",
       "0    0.0         0.0       0.0   0.0  \n",
       "\n",
       "[1 rows x 3222 columns]"
      ]
     },
     "execution_count": 56,
     "metadata": {},
     "output_type": "execute_result"
    }
   ],
   "source": [
    "# Add the vectorized text back to our original data frame\n",
    "combined_df = pd.concat([df, notes_clean_df], axis =1)\n",
    "combined_df.head(1)"
   ]
  },
  {
   "cell_type": "code",
   "execution_count": 57,
   "metadata": {},
   "outputs": [
    {
     "data": {
      "text/plain": [
       "(14474, 3222)"
      ]
     },
     "execution_count": 57,
     "metadata": {},
     "output_type": "execute_result"
    }
   ],
   "source": [
    "combined_df.shape"
   ]
  },
  {
   "cell_type": "code",
   "execution_count": 58,
   "metadata": {},
   "outputs": [],
   "source": [
    "# Drop the original notes column\n",
    "combined_df.drop(columns = 'notes', inplace=True)\n"
   ]
  },
  {
   "cell_type": "code",
   "execution_count": 59,
   "metadata": {},
   "outputs": [],
   "source": [
    "# Write to csv\n",
    "combined_df.to_csv('../data/numeric_text_combined_state_response.csv', index=False)"
   ]
  },
  {
   "cell_type": "code",
   "execution_count": null,
   "metadata": {},
   "outputs": [],
   "source": []
  },
  {
   "cell_type": "code",
   "execution_count": null,
   "metadata": {},
   "outputs": [],
   "source": []
  },
  {
   "cell_type": "code",
   "execution_count": null,
   "metadata": {},
   "outputs": [],
   "source": []
  },
  {
   "cell_type": "code",
   "execution_count": null,
   "metadata": {},
   "outputs": [],
   "source": []
  },
  {
   "cell_type": "code",
   "execution_count": null,
   "metadata": {},
   "outputs": [],
   "source": []
  }
 ],
 "metadata": {
  "kernelspec": {
   "display_name": "Python 3",
   "language": "python",
   "name": "python3"
  },
  "language_info": {
   "codemirror_mode": {
    "name": "ipython",
    "version": 3
   },
   "file_extension": ".py",
   "mimetype": "text/x-python",
   "name": "python",
   "nbconvert_exporter": "python",
   "pygments_lexer": "ipython3",
   "version": "3.8.5"
  }
 },
 "nbformat": 4,
 "nbformat_minor": 4
}
