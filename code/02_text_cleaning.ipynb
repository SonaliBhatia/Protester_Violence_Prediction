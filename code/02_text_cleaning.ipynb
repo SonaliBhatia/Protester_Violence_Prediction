{
 "cells": [
  {
   "cell_type": "code",
   "execution_count": 5,
   "metadata": {},
   "outputs": [],
   "source": [
    "import pandas as pd\n",
    "from sklearn.feature_extraction.text import CountVectorizer, TfidfVectorizer\n"
   ]
  },
  {
   "cell_type": "code",
   "execution_count": 6,
   "metadata": {},
   "outputs": [],
   "source": [
    "df = pd.read_csv('../data/clean_data.csv')"
   ]
  },
  {
   "cell_type": "code",
   "execution_count": 7,
   "metadata": {},
   "outputs": [
    {
     "data": {
      "text/html": [
       "<div>\n",
       "<style scoped>\n",
       "    .dataframe tbody tr th:only-of-type {\n",
       "        vertical-align: middle;\n",
       "    }\n",
       "\n",
       "    .dataframe tbody tr th {\n",
       "        vertical-align: top;\n",
       "    }\n",
       "\n",
       "    .dataframe thead th {\n",
       "        text-align: right;\n",
       "    }\n",
       "</style>\n",
       "<table border=\"1\" class=\"dataframe\">\n",
       "  <thead>\n",
       "    <tr style=\"text-align: right;\">\n",
       "      <th></th>\n",
       "      <th>country</th>\n",
       "      <th>year</th>\n",
       "      <th>region</th>\n",
       "      <th>protestnumber</th>\n",
       "      <th>startday</th>\n",
       "      <th>startmonth</th>\n",
       "      <th>startyear</th>\n",
       "      <th>endday</th>\n",
       "      <th>endmonth</th>\n",
       "      <th>endyear</th>\n",
       "      <th>...</th>\n",
       "      <th>labor wage dispute</th>\n",
       "      <th>land farm issue</th>\n",
       "      <th>police brutality</th>\n",
       "      <th>political behavior, process</th>\n",
       "      <th>price increases, tax policy</th>\n",
       "      <th>removal of politician</th>\n",
       "      <th>social restrictions</th>\n",
       "      <th>startdate</th>\n",
       "      <th>enddate</th>\n",
       "      <th>duration</th>\n",
       "    </tr>\n",
       "  </thead>\n",
       "  <tbody>\n",
       "    <tr>\n",
       "      <th>0</th>\n",
       "      <td>Canada</td>\n",
       "      <td>1990</td>\n",
       "      <td>North America</td>\n",
       "      <td>1</td>\n",
       "      <td>15.0</td>\n",
       "      <td>1.0</td>\n",
       "      <td>1990.0</td>\n",
       "      <td>15.0</td>\n",
       "      <td>1.0</td>\n",
       "      <td>1990.0</td>\n",
       "      <td>...</td>\n",
       "      <td>1</td>\n",
       "      <td>0</td>\n",
       "      <td>0</td>\n",
       "      <td>1</td>\n",
       "      <td>0</td>\n",
       "      <td>0</td>\n",
       "      <td>0</td>\n",
       "      <td>1990-01-15</td>\n",
       "      <td>1990-01-15</td>\n",
       "      <td>0 days 00:00:00.000000000</td>\n",
       "    </tr>\n",
       "    <tr>\n",
       "      <th>1</th>\n",
       "      <td>Canada</td>\n",
       "      <td>1990</td>\n",
       "      <td>North America</td>\n",
       "      <td>2</td>\n",
       "      <td>25.0</td>\n",
       "      <td>6.0</td>\n",
       "      <td>1990.0</td>\n",
       "      <td>25.0</td>\n",
       "      <td>6.0</td>\n",
       "      <td>1990.0</td>\n",
       "      <td>...</td>\n",
       "      <td>0</td>\n",
       "      <td>0</td>\n",
       "      <td>0</td>\n",
       "      <td>1</td>\n",
       "      <td>0</td>\n",
       "      <td>0</td>\n",
       "      <td>0</td>\n",
       "      <td>1990-06-25</td>\n",
       "      <td>1990-06-25</td>\n",
       "      <td>0 days 00:00:00.000000000</td>\n",
       "    </tr>\n",
       "    <tr>\n",
       "      <th>2</th>\n",
       "      <td>Canada</td>\n",
       "      <td>1990</td>\n",
       "      <td>North America</td>\n",
       "      <td>3</td>\n",
       "      <td>1.0</td>\n",
       "      <td>7.0</td>\n",
       "      <td>1990.0</td>\n",
       "      <td>1.0</td>\n",
       "      <td>7.0</td>\n",
       "      <td>1990.0</td>\n",
       "      <td>...</td>\n",
       "      <td>0</td>\n",
       "      <td>0</td>\n",
       "      <td>0</td>\n",
       "      <td>1</td>\n",
       "      <td>0</td>\n",
       "      <td>0</td>\n",
       "      <td>0</td>\n",
       "      <td>1990-07-01</td>\n",
       "      <td>1990-07-01</td>\n",
       "      <td>0 days 00:00:00.000000000</td>\n",
       "    </tr>\n",
       "    <tr>\n",
       "      <th>3</th>\n",
       "      <td>Canada</td>\n",
       "      <td>1990</td>\n",
       "      <td>North America</td>\n",
       "      <td>4</td>\n",
       "      <td>12.0</td>\n",
       "      <td>7.0</td>\n",
       "      <td>1990.0</td>\n",
       "      <td>6.0</td>\n",
       "      <td>9.0</td>\n",
       "      <td>1990.0</td>\n",
       "      <td>...</td>\n",
       "      <td>0</td>\n",
       "      <td>1</td>\n",
       "      <td>0</td>\n",
       "      <td>0</td>\n",
       "      <td>0</td>\n",
       "      <td>0</td>\n",
       "      <td>0</td>\n",
       "      <td>1990-07-12</td>\n",
       "      <td>1990-09-06</td>\n",
       "      <td>56 days 00:00:00.000000000</td>\n",
       "    </tr>\n",
       "    <tr>\n",
       "      <th>4</th>\n",
       "      <td>Canada</td>\n",
       "      <td>1990</td>\n",
       "      <td>North America</td>\n",
       "      <td>5</td>\n",
       "      <td>14.0</td>\n",
       "      <td>8.0</td>\n",
       "      <td>1990.0</td>\n",
       "      <td>15.0</td>\n",
       "      <td>8.0</td>\n",
       "      <td>1990.0</td>\n",
       "      <td>...</td>\n",
       "      <td>0</td>\n",
       "      <td>0</td>\n",
       "      <td>0</td>\n",
       "      <td>1</td>\n",
       "      <td>0</td>\n",
       "      <td>0</td>\n",
       "      <td>0</td>\n",
       "      <td>1990-08-14</td>\n",
       "      <td>1990-08-15</td>\n",
       "      <td>1 days 00:00:00.000000000</td>\n",
       "    </tr>\n",
       "  </tbody>\n",
       "</table>\n",
       "<p>5 rows × 24 columns</p>\n",
       "</div>"
      ],
      "text/plain": [
       "  country  year         region  protestnumber  startday  startmonth  \\\n",
       "0  Canada  1990  North America              1      15.0         1.0   \n",
       "1  Canada  1990  North America              2      25.0         6.0   \n",
       "2  Canada  1990  North America              3       1.0         7.0   \n",
       "3  Canada  1990  North America              4      12.0         7.0   \n",
       "4  Canada  1990  North America              5      14.0         8.0   \n",
       "\n",
       "   startyear  endday  endmonth  endyear  ...  labor wage dispute  \\\n",
       "0     1990.0    15.0       1.0   1990.0  ...                   1   \n",
       "1     1990.0    25.0       6.0   1990.0  ...                   0   \n",
       "2     1990.0     1.0       7.0   1990.0  ...                   0   \n",
       "3     1990.0     6.0       9.0   1990.0  ...                   0   \n",
       "4     1990.0    15.0       8.0   1990.0  ...                   0   \n",
       "\n",
       "   land farm issue police brutality political behavior, process  \\\n",
       "0                0                0                           1   \n",
       "1                0                0                           1   \n",
       "2                0                0                           1   \n",
       "3                1                0                           0   \n",
       "4                0                0                           1   \n",
       "\n",
       "   price increases, tax policy  removal of politician  social restrictions  \\\n",
       "0                            0                      0                    0   \n",
       "1                            0                      0                    0   \n",
       "2                            0                      0                    0   \n",
       "3                            0                      0                    0   \n",
       "4                            0                      0                    0   \n",
       "\n",
       "    startdate     enddate                    duration  \n",
       "0  1990-01-15  1990-01-15   0 days 00:00:00.000000000  \n",
       "1  1990-06-25  1990-06-25   0 days 00:00:00.000000000  \n",
       "2  1990-07-01  1990-07-01   0 days 00:00:00.000000000  \n",
       "3  1990-07-12  1990-09-06  56 days 00:00:00.000000000  \n",
       "4  1990-08-14  1990-08-15   1 days 00:00:00.000000000  \n",
       "\n",
       "[5 rows x 24 columns]"
      ]
     },
     "execution_count": 7,
     "metadata": {},
     "output_type": "execute_result"
    }
   ],
   "source": [
    "df.head()"
   ]
  },
  {
   "cell_type": "code",
   "execution_count": 8,
   "metadata": {},
   "outputs": [
    {
     "name": "stdout",
     "output_type": "stream",
     "text": [
      "<class 'pandas.core.frame.DataFrame'>\n",
      "RangeIndex: 14474 entries, 0 to 14473\n",
      "Data columns (total 24 columns):\n",
      " #   Column                       Non-Null Count  Dtype  \n",
      "---  ------                       --------------  -----  \n",
      " 0   country                      14474 non-null  object \n",
      " 1   year                         14474 non-null  int64  \n",
      " 2   region                       14474 non-null  object \n",
      " 3   protestnumber                14474 non-null  int64  \n",
      " 4   startday                     14474 non-null  float64\n",
      " 5   startmonth                   14474 non-null  float64\n",
      " 6   startyear                    14474 non-null  float64\n",
      " 7   endday                       14474 non-null  float64\n",
      " 8   endmonth                     14474 non-null  float64\n",
      " 9   endyear                      14474 non-null  float64\n",
      " 10  protesterviolence            14474 non-null  float64\n",
      " 11  participants                 14474 non-null  int64  \n",
      " 12  notes                        14474 non-null  object \n",
      " 13  stateresponse                14474 non-null  object \n",
      " 14  labor wage dispute           14474 non-null  int64  \n",
      " 15  land farm issue              14474 non-null  int64  \n",
      " 16  police brutality             14474 non-null  int64  \n",
      " 17  political behavior, process  14474 non-null  int64  \n",
      " 18  price increases, tax policy  14474 non-null  int64  \n",
      " 19  removal of politician        14474 non-null  int64  \n",
      " 20  social restrictions          14474 non-null  int64  \n",
      " 21  startdate                    14474 non-null  object \n",
      " 22  enddate                      14474 non-null  object \n",
      " 23  duration                     14474 non-null  object \n",
      "dtypes: float64(7), int64(10), object(7)\n",
      "memory usage: 2.7+ MB\n"
     ]
    }
   ],
   "source": [
    "df.info()"
   ]
  },
  {
   "cell_type": "markdown",
   "metadata": {},
   "source": [
    "# Text Cleaning"
   ]
  },
  {
   "cell_type": "code",
   "execution_count": null,
   "metadata": {},
   "outputs": [],
   "source": []
  },
  {
   "cell_type": "markdown",
   "metadata": {},
   "source": [
    "# EDA on Text"
   ]
  },
  {
   "cell_type": "code",
   "execution_count": null,
   "metadata": {},
   "outputs": [],
   "source": []
  },
  {
   "cell_type": "markdown",
   "metadata": {},
   "source": [
    "# Vectorize Text"
   ]
  },
  {
   "cell_type": "code",
   "execution_count": 9,
   "metadata": {},
   "outputs": [],
   "source": [
    "# Note that much of this section of code comes from Heather's review 10/19\n",
    "text = df[['notes']]\n"
   ]
  },
  {
   "cell_type": "code",
   "execution_count": 12,
   "metadata": {},
   "outputs": [
    {
     "data": {
      "text/plain": [
       "(14474, 1)"
      ]
     },
     "execution_count": 12,
     "metadata": {},
     "output_type": "execute_result"
    }
   ],
   "source": [
    "text.shape"
   ]
  },
  {
   "cell_type": "code",
   "execution_count": 13,
   "metadata": {},
   "outputs": [],
   "source": [
    "# Instantiate and set params for TFIDF\n",
    "tf = TfidfVectorizer(max_features = 3000, ngram_range = (1,2), stop_words = 'english', max_df = 0.9, min_df = 3)"
   ]
  },
  {
   "cell_type": "code",
   "execution_count": 15,
   "metadata": {},
   "outputs": [],
   "source": [
    "# Fit transform the data\n",
    "test_tf = tf.fit_transform(text['notes'])\n"
   ]
  },
  {
   "cell_type": "code",
   "execution_count": 16,
   "metadata": {},
   "outputs": [],
   "source": [
    "# Create a new data frame vectorized text\n",
    "df_text_tf = pd.DataFrame(test_tf.todense(), columns=tf.get_feature_names())\n"
   ]
  },
  {
   "cell_type": "code",
   "execution_count": 17,
   "metadata": {},
   "outputs": [],
   "source": [
    "# Reset indicies for all dataframes\n",
    "df_text_tf.reset_index(drop=True, inplace=True)"
   ]
  },
  {
   "cell_type": "code",
   "execution_count": 18,
   "metadata": {
    "scrolled": false
   },
   "outputs": [
    {
     "data": {
      "text/html": [
       "<div>\n",
       "<style scoped>\n",
       "    .dataframe tbody tr th:only-of-type {\n",
       "        vertical-align: middle;\n",
       "    }\n",
       "\n",
       "    .dataframe tbody tr th {\n",
       "        vertical-align: top;\n",
       "    }\n",
       "\n",
       "    .dataframe thead th {\n",
       "        text-align: right;\n",
       "    }\n",
       "</style>\n",
       "<table border=\"1\" class=\"dataframe\">\n",
       "  <thead>\n",
       "    <tr style=\"text-align: right;\">\n",
       "      <th></th>\n",
       "      <th>country</th>\n",
       "      <th>year</th>\n",
       "      <th>region</th>\n",
       "      <th>protestnumber</th>\n",
       "      <th>startday</th>\n",
       "      <th>startmonth</th>\n",
       "      <th>startyear</th>\n",
       "      <th>endday</th>\n",
       "      <th>endmonth</th>\n",
       "      <th>endyear</th>\n",
       "      <th>...</th>\n",
       "      <th>yesterday morning</th>\n",
       "      <th>yesterday protest</th>\n",
       "      <th>young</th>\n",
       "      <th>young men</th>\n",
       "      <th>young people</th>\n",
       "      <th>youth</th>\n",
       "      <th>youths</th>\n",
       "      <th>yugoslavia</th>\n",
       "      <th>zimbabwe</th>\n",
       "      <th>zone</th>\n",
       "    </tr>\n",
       "  </thead>\n",
       "  <tbody>\n",
       "    <tr>\n",
       "      <th>0</th>\n",
       "      <td>Canada</td>\n",
       "      <td>1990</td>\n",
       "      <td>North America</td>\n",
       "      <td>1</td>\n",
       "      <td>15.0</td>\n",
       "      <td>1.0</td>\n",
       "      <td>1990.0</td>\n",
       "      <td>15.0</td>\n",
       "      <td>1.0</td>\n",
       "      <td>1990.0</td>\n",
       "      <td>...</td>\n",
       "      <td>0.0</td>\n",
       "      <td>0.0</td>\n",
       "      <td>0.0</td>\n",
       "      <td>0.0</td>\n",
       "      <td>0.0</td>\n",
       "      <td>0.0</td>\n",
       "      <td>0.0</td>\n",
       "      <td>0.0</td>\n",
       "      <td>0.0</td>\n",
       "      <td>0.0</td>\n",
       "    </tr>\n",
       "  </tbody>\n",
       "</table>\n",
       "<p>1 rows × 3024 columns</p>\n",
       "</div>"
      ],
      "text/plain": [
       "  country  year         region  protestnumber  startday  startmonth  \\\n",
       "0  Canada  1990  North America              1      15.0         1.0   \n",
       "\n",
       "   startyear  endday  endmonth  endyear  ...  yesterday morning  \\\n",
       "0     1990.0    15.0       1.0   1990.0  ...                0.0   \n",
       "\n",
       "   yesterday protest young young men  young people  youth  youths  yugoslavia  \\\n",
       "0                0.0   0.0       0.0           0.0    0.0     0.0         0.0   \n",
       "\n",
       "   zimbabwe  zone  \n",
       "0       0.0   0.0  \n",
       "\n",
       "[1 rows x 3024 columns]"
      ]
     },
     "execution_count": 18,
     "metadata": {},
     "output_type": "execute_result"
    }
   ],
   "source": [
    "# Add the vectorized text back to our original data frame\n",
    "combined_df = pd.concat([df, df_text_tf], axis =1)\n",
    "combined_df.head(1)"
   ]
  },
  {
   "cell_type": "code",
   "execution_count": 19,
   "metadata": {},
   "outputs": [],
   "source": [
    "# Drop the original notes column\n",
    "combined_df.drop(columns = 'notes', inplace=True)\n"
   ]
  },
  {
   "cell_type": "code",
   "execution_count": null,
   "metadata": {},
   "outputs": [],
   "source": [
    "# Write to csv\n",
    "combined_df.to_csv('../data/vectorized_text_combined.csv')"
   ]
  }
 ],
 "metadata": {
  "kernelspec": {
   "display_name": "Python 3",
   "language": "python",
   "name": "python3"
  },
  "language_info": {
   "codemirror_mode": {
    "name": "ipython",
    "version": 3
   },
   "file_extension": ".py",
   "mimetype": "text/x-python",
   "name": "python",
   "nbconvert_exporter": "python",
   "pygments_lexer": "ipython3",
   "version": "3.8.5"
  }
 },
 "nbformat": 4,
 "nbformat_minor": 4
}
