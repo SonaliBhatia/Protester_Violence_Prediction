{
 "cells": [
  {
   "cell_type": "code",
   "execution_count": 1,
   "metadata": {},
   "outputs": [],
   "source": [
    "import pandas as pd\n",
    "import numpy as np\n",
    "import matplotlib.pyplot as plt\n",
    "import seaborn as sns\n",
    "\n",
    "from sklearn.linear_model import LinearRegression, LogisticRegression, LassoCV, RidgeCV, Lasso, Ridge\n",
    "from sklearn import metrics\n",
    "from sklearn.neighbors import KNeighborsClassifier, KNeighborsRegressor\n",
    "from sklearn.preprocessing import StandardScaler\n",
    "from sklearn.model_selection import train_test_split, cross_val_score\n",
    "from sklearn.tree import DecisionTreeClassifier, DecisionTreeRegressor \n",
    "from sklearn.metrics import accuracy_score, confusion_matrix\n",
    "from sklearn.ensemble import BaggingClassifier, BaggingRegressor\n",
    "from sklearn.ensemble import RandomForestClassifier, RandomForestRegressor\n",
    "from sklearn.ensemble import GradientBoostingClassifier, AdaBoostClassifier, AdaBoostRegressor, VotingClassifier\n",
    "from sklearn.preprocessing import StandardScaler\n",
    "from sklearn.model_selection import GridSearchCV, train_test_split, StratifiedKFold\n",
    "\n",
    "from sklearn.svm import LinearSVC, SVC, SVR\n",
    "\n",
    "pd.options.display.max_columns = 150\n"
   ]
  },
  {
   "cell_type": "code",
   "execution_count": 2,
   "metadata": {},
   "outputs": [],
   "source": [
    "df = pd.read_csv('../data/clean_data_dates_dummies.csv')"
   ]
  },
  {
   "cell_type": "code",
   "execution_count": 3,
   "metadata": {
    "scrolled": true
   },
   "outputs": [
    {
     "data": {
      "text/html": [
       "<div>\n",
       "<style scoped>\n",
       "    .dataframe tbody tr th:only-of-type {\n",
       "        vertical-align: middle;\n",
       "    }\n",
       "\n",
       "    .dataframe tbody tr th {\n",
       "        vertical-align: top;\n",
       "    }\n",
       "\n",
       "    .dataframe thead th {\n",
       "        text-align: right;\n",
       "    }\n",
       "</style>\n",
       "<table border=\"1\" class=\"dataframe\">\n",
       "  <thead>\n",
       "    <tr style=\"text-align: right;\">\n",
       "      <th></th>\n",
       "      <th>protestnumber</th>\n",
       "      <th>startday</th>\n",
       "      <th>startmonth</th>\n",
       "      <th>startyear</th>\n",
       "      <th>endday</th>\n",
       "      <th>endmonth</th>\n",
       "      <th>endyear</th>\n",
       "      <th>protesterviolence</th>\n",
       "      <th>participants</th>\n",
       "      <th>notes</th>\n",
       "      <th>stateresponse</th>\n",
       "      <th>labor wage dispute</th>\n",
       "      <th>land farm issue</th>\n",
       "      <th>police brutality</th>\n",
       "      <th>political behavior, process</th>\n",
       "      <th>price increases, tax policy</th>\n",
       "      <th>removal of politician</th>\n",
       "      <th>social restrictions</th>\n",
       "      <th>startdate</th>\n",
       "      <th>enddate</th>\n",
       "      <th>duration</th>\n",
       "      <th>country_Albania</th>\n",
       "      <th>country_Algeria</th>\n",
       "      <th>country_Angola</th>\n",
       "      <th>country_Argentina</th>\n",
       "      <th>country_Armenia</th>\n",
       "      <th>country_Austria</th>\n",
       "      <th>country_Azerbaijan</th>\n",
       "      <th>country_Bahrain</th>\n",
       "      <th>country_Bangladesh</th>\n",
       "      <th>country_Belarus</th>\n",
       "      <th>country_Belgium</th>\n",
       "      <th>country_Benin</th>\n",
       "      <th>country_Bhutan</th>\n",
       "      <th>country_Bolivia</th>\n",
       "      <th>country_Bosnia</th>\n",
       "      <th>country_Botswana</th>\n",
       "      <th>country_Brazil</th>\n",
       "      <th>country_Bulgaria</th>\n",
       "      <th>country_Burkina Faso</th>\n",
       "      <th>country_Burundi</th>\n",
       "      <th>country_Cambodia</th>\n",
       "      <th>country_Cameroon</th>\n",
       "      <th>country_Canada</th>\n",
       "      <th>country_Cape Verde</th>\n",
       "      <th>country_Central African Republic</th>\n",
       "      <th>country_Chad</th>\n",
       "      <th>country_Chile</th>\n",
       "      <th>country_China</th>\n",
       "      <th>country_Colombia</th>\n",
       "      <th>country_Comoros</th>\n",
       "      <th>country_Congo Brazzaville</th>\n",
       "      <th>country_Congo Kinshasa</th>\n",
       "      <th>country_Costa Rica</th>\n",
       "      <th>country_Croatia</th>\n",
       "      <th>country_Cuba</th>\n",
       "      <th>country_Cyprus</th>\n",
       "      <th>country_Czech Republic</th>\n",
       "      <th>country_Czechoslovakia</th>\n",
       "      <th>country_Denmark</th>\n",
       "      <th>country_Djibouti</th>\n",
       "      <th>country_Dominican Republic</th>\n",
       "      <th>country_Ecuador</th>\n",
       "      <th>country_Egypt</th>\n",
       "      <th>country_El Salvador</th>\n",
       "      <th>country_Equatorial Guinea</th>\n",
       "      <th>country_Eritrea</th>\n",
       "      <th>country_Estonia</th>\n",
       "      <th>country_Ethiopia</th>\n",
       "      <th>country_Finland</th>\n",
       "      <th>country_France</th>\n",
       "      <th>country_Gabon</th>\n",
       "      <th>country_Gambia</th>\n",
       "      <th>country_Georgia</th>\n",
       "      <th>country_Germany</th>\n",
       "      <th>...</th>\n",
       "      <th>country_Serbia and Montenegro</th>\n",
       "      <th>country_Sierra Leone</th>\n",
       "      <th>country_Singapore</th>\n",
       "      <th>country_Slovak Republic</th>\n",
       "      <th>country_Slovenia</th>\n",
       "      <th>country_Somalia</th>\n",
       "      <th>country_South Africa</th>\n",
       "      <th>country_South Korea</th>\n",
       "      <th>country_South Sudan</th>\n",
       "      <th>country_Spain</th>\n",
       "      <th>country_Sri Lanka</th>\n",
       "      <th>country_Sudan</th>\n",
       "      <th>country_Suriname</th>\n",
       "      <th>country_Swaziland</th>\n",
       "      <th>country_Sweden</th>\n",
       "      <th>country_Switzerland</th>\n",
       "      <th>country_Syria</th>\n",
       "      <th>country_Taiwan</th>\n",
       "      <th>country_Tajikistan</th>\n",
       "      <th>country_Tanzania</th>\n",
       "      <th>country_Thailand</th>\n",
       "      <th>country_Timor Leste</th>\n",
       "      <th>country_Togo</th>\n",
       "      <th>country_Tunisia</th>\n",
       "      <th>country_Turkey</th>\n",
       "      <th>country_Turkmenistan</th>\n",
       "      <th>country_USSR</th>\n",
       "      <th>country_Uganda</th>\n",
       "      <th>country_Ukraine</th>\n",
       "      <th>country_United Arab Emirate</th>\n",
       "      <th>country_United Kingdom</th>\n",
       "      <th>country_Uruguay</th>\n",
       "      <th>country_Uzbekistan</th>\n",
       "      <th>country_Venezuela</th>\n",
       "      <th>country_Vietnam</th>\n",
       "      <th>country_Yemen</th>\n",
       "      <th>country_Yugoslavia</th>\n",
       "      <th>country_Zambia</th>\n",
       "      <th>country_Zimbabwe</th>\n",
       "      <th>year_1991</th>\n",
       "      <th>year_1992</th>\n",
       "      <th>year_1993</th>\n",
       "      <th>year_1994</th>\n",
       "      <th>year_1995</th>\n",
       "      <th>year_1996</th>\n",
       "      <th>year_1997</th>\n",
       "      <th>year_1998</th>\n",
       "      <th>year_1999</th>\n",
       "      <th>year_2000</th>\n",
       "      <th>year_2001</th>\n",
       "      <th>year_2002</th>\n",
       "      <th>year_2003</th>\n",
       "      <th>year_2004</th>\n",
       "      <th>year_2005</th>\n",
       "      <th>year_2006</th>\n",
       "      <th>year_2007</th>\n",
       "      <th>year_2008</th>\n",
       "      <th>year_2009</th>\n",
       "      <th>year_2010</th>\n",
       "      <th>year_2011</th>\n",
       "      <th>year_2012</th>\n",
       "      <th>year_2013</th>\n",
       "      <th>year_2014</th>\n",
       "      <th>year_2015</th>\n",
       "      <th>year_2016</th>\n",
       "      <th>year_2017</th>\n",
       "      <th>year_2018</th>\n",
       "      <th>year_2019</th>\n",
       "      <th>region_Asia</th>\n",
       "      <th>region_Central America</th>\n",
       "      <th>region_Europe</th>\n",
       "      <th>region_MENA</th>\n",
       "      <th>region_North America</th>\n",
       "      <th>region_Oceania</th>\n",
       "      <th>region_South America</th>\n",
       "    </tr>\n",
       "  </thead>\n",
       "  <tbody>\n",
       "    <tr>\n",
       "      <th>0</th>\n",
       "      <td>1</td>\n",
       "      <td>15.0</td>\n",
       "      <td>1.0</td>\n",
       "      <td>1990.0</td>\n",
       "      <td>15.0</td>\n",
       "      <td>1.0</td>\n",
       "      <td>1990.0</td>\n",
       "      <td>0.0</td>\n",
       "      <td>3000</td>\n",
       "      <td>Canada s railway passenger system was finally...</td>\n",
       "      <td>ignore</td>\n",
       "      <td>1</td>\n",
       "      <td>0</td>\n",
       "      <td>0</td>\n",
       "      <td>1</td>\n",
       "      <td>0</td>\n",
       "      <td>0</td>\n",
       "      <td>0</td>\n",
       "      <td>19900115000000</td>\n",
       "      <td>19900115000000</td>\n",
       "      <td>0</td>\n",
       "      <td>0</td>\n",
       "      <td>0</td>\n",
       "      <td>0</td>\n",
       "      <td>0</td>\n",
       "      <td>0</td>\n",
       "      <td>0</td>\n",
       "      <td>0</td>\n",
       "      <td>0</td>\n",
       "      <td>0</td>\n",
       "      <td>0</td>\n",
       "      <td>0</td>\n",
       "      <td>0</td>\n",
       "      <td>0</td>\n",
       "      <td>0</td>\n",
       "      <td>0</td>\n",
       "      <td>0</td>\n",
       "      <td>0</td>\n",
       "      <td>0</td>\n",
       "      <td>0</td>\n",
       "      <td>0</td>\n",
       "      <td>0</td>\n",
       "      <td>0</td>\n",
       "      <td>1</td>\n",
       "      <td>0</td>\n",
       "      <td>0</td>\n",
       "      <td>0</td>\n",
       "      <td>0</td>\n",
       "      <td>0</td>\n",
       "      <td>0</td>\n",
       "      <td>0</td>\n",
       "      <td>0</td>\n",
       "      <td>0</td>\n",
       "      <td>0</td>\n",
       "      <td>0</td>\n",
       "      <td>0</td>\n",
       "      <td>0</td>\n",
       "      <td>0</td>\n",
       "      <td>0</td>\n",
       "      <td>0</td>\n",
       "      <td>0</td>\n",
       "      <td>0</td>\n",
       "      <td>0</td>\n",
       "      <td>0</td>\n",
       "      <td>0</td>\n",
       "      <td>0</td>\n",
       "      <td>0</td>\n",
       "      <td>0</td>\n",
       "      <td>0</td>\n",
       "      <td>0</td>\n",
       "      <td>0</td>\n",
       "      <td>0</td>\n",
       "      <td>0</td>\n",
       "      <td>0</td>\n",
       "      <td>0</td>\n",
       "      <td>...</td>\n",
       "      <td>0</td>\n",
       "      <td>0</td>\n",
       "      <td>0</td>\n",
       "      <td>0</td>\n",
       "      <td>0</td>\n",
       "      <td>0</td>\n",
       "      <td>0</td>\n",
       "      <td>0</td>\n",
       "      <td>0</td>\n",
       "      <td>0</td>\n",
       "      <td>0</td>\n",
       "      <td>0</td>\n",
       "      <td>0</td>\n",
       "      <td>0</td>\n",
       "      <td>0</td>\n",
       "      <td>0</td>\n",
       "      <td>0</td>\n",
       "      <td>0</td>\n",
       "      <td>0</td>\n",
       "      <td>0</td>\n",
       "      <td>0</td>\n",
       "      <td>0</td>\n",
       "      <td>0</td>\n",
       "      <td>0</td>\n",
       "      <td>0</td>\n",
       "      <td>0</td>\n",
       "      <td>0</td>\n",
       "      <td>0</td>\n",
       "      <td>0</td>\n",
       "      <td>0</td>\n",
       "      <td>0</td>\n",
       "      <td>0</td>\n",
       "      <td>0</td>\n",
       "      <td>0</td>\n",
       "      <td>0</td>\n",
       "      <td>0</td>\n",
       "      <td>0</td>\n",
       "      <td>0</td>\n",
       "      <td>0</td>\n",
       "      <td>0</td>\n",
       "      <td>0</td>\n",
       "      <td>0</td>\n",
       "      <td>0</td>\n",
       "      <td>0</td>\n",
       "      <td>0</td>\n",
       "      <td>0</td>\n",
       "      <td>0</td>\n",
       "      <td>0</td>\n",
       "      <td>0</td>\n",
       "      <td>0</td>\n",
       "      <td>0</td>\n",
       "      <td>0</td>\n",
       "      <td>0</td>\n",
       "      <td>0</td>\n",
       "      <td>0</td>\n",
       "      <td>0</td>\n",
       "      <td>0</td>\n",
       "      <td>0</td>\n",
       "      <td>0</td>\n",
       "      <td>0</td>\n",
       "      <td>0</td>\n",
       "      <td>0</td>\n",
       "      <td>0</td>\n",
       "      <td>0</td>\n",
       "      <td>0</td>\n",
       "      <td>0</td>\n",
       "      <td>0</td>\n",
       "      <td>0</td>\n",
       "      <td>0</td>\n",
       "      <td>0</td>\n",
       "      <td>0</td>\n",
       "      <td>0</td>\n",
       "      <td>1</td>\n",
       "      <td>0</td>\n",
       "      <td>0</td>\n",
       "    </tr>\n",
       "    <tr>\n",
       "      <th>1</th>\n",
       "      <td>2</td>\n",
       "      <td>25.0</td>\n",
       "      <td>6.0</td>\n",
       "      <td>1990.0</td>\n",
       "      <td>25.0</td>\n",
       "      <td>6.0</td>\n",
       "      <td>1990.0</td>\n",
       "      <td>0.0</td>\n",
       "      <td>1000</td>\n",
       "      <td>protestors were only identified as  young peop...</td>\n",
       "      <td>ignore</td>\n",
       "      <td>0</td>\n",
       "      <td>0</td>\n",
       "      <td>0</td>\n",
       "      <td>1</td>\n",
       "      <td>0</td>\n",
       "      <td>0</td>\n",
       "      <td>0</td>\n",
       "      <td>19900625000000</td>\n",
       "      <td>19900625000000</td>\n",
       "      <td>0</td>\n",
       "      <td>0</td>\n",
       "      <td>0</td>\n",
       "      <td>0</td>\n",
       "      <td>0</td>\n",
       "      <td>0</td>\n",
       "      <td>0</td>\n",
       "      <td>0</td>\n",
       "      <td>0</td>\n",
       "      <td>0</td>\n",
       "      <td>0</td>\n",
       "      <td>0</td>\n",
       "      <td>0</td>\n",
       "      <td>0</td>\n",
       "      <td>0</td>\n",
       "      <td>0</td>\n",
       "      <td>0</td>\n",
       "      <td>0</td>\n",
       "      <td>0</td>\n",
       "      <td>0</td>\n",
       "      <td>0</td>\n",
       "      <td>0</td>\n",
       "      <td>0</td>\n",
       "      <td>1</td>\n",
       "      <td>0</td>\n",
       "      <td>0</td>\n",
       "      <td>0</td>\n",
       "      <td>0</td>\n",
       "      <td>0</td>\n",
       "      <td>0</td>\n",
       "      <td>0</td>\n",
       "      <td>0</td>\n",
       "      <td>0</td>\n",
       "      <td>0</td>\n",
       "      <td>0</td>\n",
       "      <td>0</td>\n",
       "      <td>0</td>\n",
       "      <td>0</td>\n",
       "      <td>0</td>\n",
       "      <td>0</td>\n",
       "      <td>0</td>\n",
       "      <td>0</td>\n",
       "      <td>0</td>\n",
       "      <td>0</td>\n",
       "      <td>0</td>\n",
       "      <td>0</td>\n",
       "      <td>0</td>\n",
       "      <td>0</td>\n",
       "      <td>0</td>\n",
       "      <td>0</td>\n",
       "      <td>0</td>\n",
       "      <td>0</td>\n",
       "      <td>0</td>\n",
       "      <td>0</td>\n",
       "      <td>0</td>\n",
       "      <td>...</td>\n",
       "      <td>0</td>\n",
       "      <td>0</td>\n",
       "      <td>0</td>\n",
       "      <td>0</td>\n",
       "      <td>0</td>\n",
       "      <td>0</td>\n",
       "      <td>0</td>\n",
       "      <td>0</td>\n",
       "      <td>0</td>\n",
       "      <td>0</td>\n",
       "      <td>0</td>\n",
       "      <td>0</td>\n",
       "      <td>0</td>\n",
       "      <td>0</td>\n",
       "      <td>0</td>\n",
       "      <td>0</td>\n",
       "      <td>0</td>\n",
       "      <td>0</td>\n",
       "      <td>0</td>\n",
       "      <td>0</td>\n",
       "      <td>0</td>\n",
       "      <td>0</td>\n",
       "      <td>0</td>\n",
       "      <td>0</td>\n",
       "      <td>0</td>\n",
       "      <td>0</td>\n",
       "      <td>0</td>\n",
       "      <td>0</td>\n",
       "      <td>0</td>\n",
       "      <td>0</td>\n",
       "      <td>0</td>\n",
       "      <td>0</td>\n",
       "      <td>0</td>\n",
       "      <td>0</td>\n",
       "      <td>0</td>\n",
       "      <td>0</td>\n",
       "      <td>0</td>\n",
       "      <td>0</td>\n",
       "      <td>0</td>\n",
       "      <td>0</td>\n",
       "      <td>0</td>\n",
       "      <td>0</td>\n",
       "      <td>0</td>\n",
       "      <td>0</td>\n",
       "      <td>0</td>\n",
       "      <td>0</td>\n",
       "      <td>0</td>\n",
       "      <td>0</td>\n",
       "      <td>0</td>\n",
       "      <td>0</td>\n",
       "      <td>0</td>\n",
       "      <td>0</td>\n",
       "      <td>0</td>\n",
       "      <td>0</td>\n",
       "      <td>0</td>\n",
       "      <td>0</td>\n",
       "      <td>0</td>\n",
       "      <td>0</td>\n",
       "      <td>0</td>\n",
       "      <td>0</td>\n",
       "      <td>0</td>\n",
       "      <td>0</td>\n",
       "      <td>0</td>\n",
       "      <td>0</td>\n",
       "      <td>0</td>\n",
       "      <td>0</td>\n",
       "      <td>0</td>\n",
       "      <td>0</td>\n",
       "      <td>0</td>\n",
       "      <td>0</td>\n",
       "      <td>0</td>\n",
       "      <td>0</td>\n",
       "      <td>1</td>\n",
       "      <td>0</td>\n",
       "      <td>0</td>\n",
       "    </tr>\n",
       "    <tr>\n",
       "      <th>2</th>\n",
       "      <td>3</td>\n",
       "      <td>1.0</td>\n",
       "      <td>7.0</td>\n",
       "      <td>1990.0</td>\n",
       "      <td>1.0</td>\n",
       "      <td>7.0</td>\n",
       "      <td>1990.0</td>\n",
       "      <td>0.0</td>\n",
       "      <td>500</td>\n",
       "      <td>THE Queen, after calling on Canadians to rema...</td>\n",
       "      <td>ignore</td>\n",
       "      <td>0</td>\n",
       "      <td>0</td>\n",
       "      <td>0</td>\n",
       "      <td>1</td>\n",
       "      <td>0</td>\n",
       "      <td>0</td>\n",
       "      <td>0</td>\n",
       "      <td>19900701000000</td>\n",
       "      <td>19900701000000</td>\n",
       "      <td>0</td>\n",
       "      <td>0</td>\n",
       "      <td>0</td>\n",
       "      <td>0</td>\n",
       "      <td>0</td>\n",
       "      <td>0</td>\n",
       "      <td>0</td>\n",
       "      <td>0</td>\n",
       "      <td>0</td>\n",
       "      <td>0</td>\n",
       "      <td>0</td>\n",
       "      <td>0</td>\n",
       "      <td>0</td>\n",
       "      <td>0</td>\n",
       "      <td>0</td>\n",
       "      <td>0</td>\n",
       "      <td>0</td>\n",
       "      <td>0</td>\n",
       "      <td>0</td>\n",
       "      <td>0</td>\n",
       "      <td>0</td>\n",
       "      <td>0</td>\n",
       "      <td>0</td>\n",
       "      <td>1</td>\n",
       "      <td>0</td>\n",
       "      <td>0</td>\n",
       "      <td>0</td>\n",
       "      <td>0</td>\n",
       "      <td>0</td>\n",
       "      <td>0</td>\n",
       "      <td>0</td>\n",
       "      <td>0</td>\n",
       "      <td>0</td>\n",
       "      <td>0</td>\n",
       "      <td>0</td>\n",
       "      <td>0</td>\n",
       "      <td>0</td>\n",
       "      <td>0</td>\n",
       "      <td>0</td>\n",
       "      <td>0</td>\n",
       "      <td>0</td>\n",
       "      <td>0</td>\n",
       "      <td>0</td>\n",
       "      <td>0</td>\n",
       "      <td>0</td>\n",
       "      <td>0</td>\n",
       "      <td>0</td>\n",
       "      <td>0</td>\n",
       "      <td>0</td>\n",
       "      <td>0</td>\n",
       "      <td>0</td>\n",
       "      <td>0</td>\n",
       "      <td>0</td>\n",
       "      <td>0</td>\n",
       "      <td>0</td>\n",
       "      <td>...</td>\n",
       "      <td>0</td>\n",
       "      <td>0</td>\n",
       "      <td>0</td>\n",
       "      <td>0</td>\n",
       "      <td>0</td>\n",
       "      <td>0</td>\n",
       "      <td>0</td>\n",
       "      <td>0</td>\n",
       "      <td>0</td>\n",
       "      <td>0</td>\n",
       "      <td>0</td>\n",
       "      <td>0</td>\n",
       "      <td>0</td>\n",
       "      <td>0</td>\n",
       "      <td>0</td>\n",
       "      <td>0</td>\n",
       "      <td>0</td>\n",
       "      <td>0</td>\n",
       "      <td>0</td>\n",
       "      <td>0</td>\n",
       "      <td>0</td>\n",
       "      <td>0</td>\n",
       "      <td>0</td>\n",
       "      <td>0</td>\n",
       "      <td>0</td>\n",
       "      <td>0</td>\n",
       "      <td>0</td>\n",
       "      <td>0</td>\n",
       "      <td>0</td>\n",
       "      <td>0</td>\n",
       "      <td>0</td>\n",
       "      <td>0</td>\n",
       "      <td>0</td>\n",
       "      <td>0</td>\n",
       "      <td>0</td>\n",
       "      <td>0</td>\n",
       "      <td>0</td>\n",
       "      <td>0</td>\n",
       "      <td>0</td>\n",
       "      <td>0</td>\n",
       "      <td>0</td>\n",
       "      <td>0</td>\n",
       "      <td>0</td>\n",
       "      <td>0</td>\n",
       "      <td>0</td>\n",
       "      <td>0</td>\n",
       "      <td>0</td>\n",
       "      <td>0</td>\n",
       "      <td>0</td>\n",
       "      <td>0</td>\n",
       "      <td>0</td>\n",
       "      <td>0</td>\n",
       "      <td>0</td>\n",
       "      <td>0</td>\n",
       "      <td>0</td>\n",
       "      <td>0</td>\n",
       "      <td>0</td>\n",
       "      <td>0</td>\n",
       "      <td>0</td>\n",
       "      <td>0</td>\n",
       "      <td>0</td>\n",
       "      <td>0</td>\n",
       "      <td>0</td>\n",
       "      <td>0</td>\n",
       "      <td>0</td>\n",
       "      <td>0</td>\n",
       "      <td>0</td>\n",
       "      <td>0</td>\n",
       "      <td>0</td>\n",
       "      <td>0</td>\n",
       "      <td>0</td>\n",
       "      <td>0</td>\n",
       "      <td>1</td>\n",
       "      <td>0</td>\n",
       "      <td>0</td>\n",
       "    </tr>\n",
       "    <tr>\n",
       "      <th>3</th>\n",
       "      <td>4</td>\n",
       "      <td>12.0</td>\n",
       "      <td>7.0</td>\n",
       "      <td>1990.0</td>\n",
       "      <td>6.0</td>\n",
       "      <td>9.0</td>\n",
       "      <td>1990.0</td>\n",
       "      <td>1.0</td>\n",
       "      <td>300</td>\n",
       "      <td>Canada s federal government has agreed to acq...</td>\n",
       "      <td>accomodation</td>\n",
       "      <td>0</td>\n",
       "      <td>1</td>\n",
       "      <td>0</td>\n",
       "      <td>0</td>\n",
       "      <td>0</td>\n",
       "      <td>0</td>\n",
       "      <td>0</td>\n",
       "      <td>19900712000000</td>\n",
       "      <td>19900906000000</td>\n",
       "      <td>56</td>\n",
       "      <td>0</td>\n",
       "      <td>0</td>\n",
       "      <td>0</td>\n",
       "      <td>0</td>\n",
       "      <td>0</td>\n",
       "      <td>0</td>\n",
       "      <td>0</td>\n",
       "      <td>0</td>\n",
       "      <td>0</td>\n",
       "      <td>0</td>\n",
       "      <td>0</td>\n",
       "      <td>0</td>\n",
       "      <td>0</td>\n",
       "      <td>0</td>\n",
       "      <td>0</td>\n",
       "      <td>0</td>\n",
       "      <td>0</td>\n",
       "      <td>0</td>\n",
       "      <td>0</td>\n",
       "      <td>0</td>\n",
       "      <td>0</td>\n",
       "      <td>0</td>\n",
       "      <td>1</td>\n",
       "      <td>0</td>\n",
       "      <td>0</td>\n",
       "      <td>0</td>\n",
       "      <td>0</td>\n",
       "      <td>0</td>\n",
       "      <td>0</td>\n",
       "      <td>0</td>\n",
       "      <td>0</td>\n",
       "      <td>0</td>\n",
       "      <td>0</td>\n",
       "      <td>0</td>\n",
       "      <td>0</td>\n",
       "      <td>0</td>\n",
       "      <td>0</td>\n",
       "      <td>0</td>\n",
       "      <td>0</td>\n",
       "      <td>0</td>\n",
       "      <td>0</td>\n",
       "      <td>0</td>\n",
       "      <td>0</td>\n",
       "      <td>0</td>\n",
       "      <td>0</td>\n",
       "      <td>0</td>\n",
       "      <td>0</td>\n",
       "      <td>0</td>\n",
       "      <td>0</td>\n",
       "      <td>0</td>\n",
       "      <td>0</td>\n",
       "      <td>0</td>\n",
       "      <td>0</td>\n",
       "      <td>0</td>\n",
       "      <td>...</td>\n",
       "      <td>0</td>\n",
       "      <td>0</td>\n",
       "      <td>0</td>\n",
       "      <td>0</td>\n",
       "      <td>0</td>\n",
       "      <td>0</td>\n",
       "      <td>0</td>\n",
       "      <td>0</td>\n",
       "      <td>0</td>\n",
       "      <td>0</td>\n",
       "      <td>0</td>\n",
       "      <td>0</td>\n",
       "      <td>0</td>\n",
       "      <td>0</td>\n",
       "      <td>0</td>\n",
       "      <td>0</td>\n",
       "      <td>0</td>\n",
       "      <td>0</td>\n",
       "      <td>0</td>\n",
       "      <td>0</td>\n",
       "      <td>0</td>\n",
       "      <td>0</td>\n",
       "      <td>0</td>\n",
       "      <td>0</td>\n",
       "      <td>0</td>\n",
       "      <td>0</td>\n",
       "      <td>0</td>\n",
       "      <td>0</td>\n",
       "      <td>0</td>\n",
       "      <td>0</td>\n",
       "      <td>0</td>\n",
       "      <td>0</td>\n",
       "      <td>0</td>\n",
       "      <td>0</td>\n",
       "      <td>0</td>\n",
       "      <td>0</td>\n",
       "      <td>0</td>\n",
       "      <td>0</td>\n",
       "      <td>0</td>\n",
       "      <td>0</td>\n",
       "      <td>0</td>\n",
       "      <td>0</td>\n",
       "      <td>0</td>\n",
       "      <td>0</td>\n",
       "      <td>0</td>\n",
       "      <td>0</td>\n",
       "      <td>0</td>\n",
       "      <td>0</td>\n",
       "      <td>0</td>\n",
       "      <td>0</td>\n",
       "      <td>0</td>\n",
       "      <td>0</td>\n",
       "      <td>0</td>\n",
       "      <td>0</td>\n",
       "      <td>0</td>\n",
       "      <td>0</td>\n",
       "      <td>0</td>\n",
       "      <td>0</td>\n",
       "      <td>0</td>\n",
       "      <td>0</td>\n",
       "      <td>0</td>\n",
       "      <td>0</td>\n",
       "      <td>0</td>\n",
       "      <td>0</td>\n",
       "      <td>0</td>\n",
       "      <td>0</td>\n",
       "      <td>0</td>\n",
       "      <td>0</td>\n",
       "      <td>0</td>\n",
       "      <td>0</td>\n",
       "      <td>0</td>\n",
       "      <td>0</td>\n",
       "      <td>1</td>\n",
       "      <td>0</td>\n",
       "      <td>0</td>\n",
       "    </tr>\n",
       "    <tr>\n",
       "      <th>4</th>\n",
       "      <td>5</td>\n",
       "      <td>14.0</td>\n",
       "      <td>8.0</td>\n",
       "      <td>1990.0</td>\n",
       "      <td>15.0</td>\n",
       "      <td>8.0</td>\n",
       "      <td>1990.0</td>\n",
       "      <td>1.0</td>\n",
       "      <td>950</td>\n",
       "      <td>Protests were directed against the state due t...</td>\n",
       "      <td>arrests</td>\n",
       "      <td>0</td>\n",
       "      <td>0</td>\n",
       "      <td>0</td>\n",
       "      <td>1</td>\n",
       "      <td>0</td>\n",
       "      <td>0</td>\n",
       "      <td>0</td>\n",
       "      <td>19900814000000</td>\n",
       "      <td>19900815000000</td>\n",
       "      <td>1</td>\n",
       "      <td>0</td>\n",
       "      <td>0</td>\n",
       "      <td>0</td>\n",
       "      <td>0</td>\n",
       "      <td>0</td>\n",
       "      <td>0</td>\n",
       "      <td>0</td>\n",
       "      <td>0</td>\n",
       "      <td>0</td>\n",
       "      <td>0</td>\n",
       "      <td>0</td>\n",
       "      <td>0</td>\n",
       "      <td>0</td>\n",
       "      <td>0</td>\n",
       "      <td>0</td>\n",
       "      <td>0</td>\n",
       "      <td>0</td>\n",
       "      <td>0</td>\n",
       "      <td>0</td>\n",
       "      <td>0</td>\n",
       "      <td>0</td>\n",
       "      <td>0</td>\n",
       "      <td>1</td>\n",
       "      <td>0</td>\n",
       "      <td>0</td>\n",
       "      <td>0</td>\n",
       "      <td>0</td>\n",
       "      <td>0</td>\n",
       "      <td>0</td>\n",
       "      <td>0</td>\n",
       "      <td>0</td>\n",
       "      <td>0</td>\n",
       "      <td>0</td>\n",
       "      <td>0</td>\n",
       "      <td>0</td>\n",
       "      <td>0</td>\n",
       "      <td>0</td>\n",
       "      <td>0</td>\n",
       "      <td>0</td>\n",
       "      <td>0</td>\n",
       "      <td>0</td>\n",
       "      <td>0</td>\n",
       "      <td>0</td>\n",
       "      <td>0</td>\n",
       "      <td>0</td>\n",
       "      <td>0</td>\n",
       "      <td>0</td>\n",
       "      <td>0</td>\n",
       "      <td>0</td>\n",
       "      <td>0</td>\n",
       "      <td>0</td>\n",
       "      <td>0</td>\n",
       "      <td>0</td>\n",
       "      <td>0</td>\n",
       "      <td>...</td>\n",
       "      <td>0</td>\n",
       "      <td>0</td>\n",
       "      <td>0</td>\n",
       "      <td>0</td>\n",
       "      <td>0</td>\n",
       "      <td>0</td>\n",
       "      <td>0</td>\n",
       "      <td>0</td>\n",
       "      <td>0</td>\n",
       "      <td>0</td>\n",
       "      <td>0</td>\n",
       "      <td>0</td>\n",
       "      <td>0</td>\n",
       "      <td>0</td>\n",
       "      <td>0</td>\n",
       "      <td>0</td>\n",
       "      <td>0</td>\n",
       "      <td>0</td>\n",
       "      <td>0</td>\n",
       "      <td>0</td>\n",
       "      <td>0</td>\n",
       "      <td>0</td>\n",
       "      <td>0</td>\n",
       "      <td>0</td>\n",
       "      <td>0</td>\n",
       "      <td>0</td>\n",
       "      <td>0</td>\n",
       "      <td>0</td>\n",
       "      <td>0</td>\n",
       "      <td>0</td>\n",
       "      <td>0</td>\n",
       "      <td>0</td>\n",
       "      <td>0</td>\n",
       "      <td>0</td>\n",
       "      <td>0</td>\n",
       "      <td>0</td>\n",
       "      <td>0</td>\n",
       "      <td>0</td>\n",
       "      <td>0</td>\n",
       "      <td>0</td>\n",
       "      <td>0</td>\n",
       "      <td>0</td>\n",
       "      <td>0</td>\n",
       "      <td>0</td>\n",
       "      <td>0</td>\n",
       "      <td>0</td>\n",
       "      <td>0</td>\n",
       "      <td>0</td>\n",
       "      <td>0</td>\n",
       "      <td>0</td>\n",
       "      <td>0</td>\n",
       "      <td>0</td>\n",
       "      <td>0</td>\n",
       "      <td>0</td>\n",
       "      <td>0</td>\n",
       "      <td>0</td>\n",
       "      <td>0</td>\n",
       "      <td>0</td>\n",
       "      <td>0</td>\n",
       "      <td>0</td>\n",
       "      <td>0</td>\n",
       "      <td>0</td>\n",
       "      <td>0</td>\n",
       "      <td>0</td>\n",
       "      <td>0</td>\n",
       "      <td>0</td>\n",
       "      <td>0</td>\n",
       "      <td>0</td>\n",
       "      <td>0</td>\n",
       "      <td>0</td>\n",
       "      <td>0</td>\n",
       "      <td>0</td>\n",
       "      <td>1</td>\n",
       "      <td>0</td>\n",
       "      <td>0</td>\n",
       "    </tr>\n",
       "  </tbody>\n",
       "</table>\n",
       "<p>5 rows × 222 columns</p>\n",
       "</div>"
      ],
      "text/plain": [
       "   protestnumber  startday  startmonth  startyear  endday  endmonth  endyear  \\\n",
       "0              1      15.0         1.0     1990.0    15.0       1.0   1990.0   \n",
       "1              2      25.0         6.0     1990.0    25.0       6.0   1990.0   \n",
       "2              3       1.0         7.0     1990.0     1.0       7.0   1990.0   \n",
       "3              4      12.0         7.0     1990.0     6.0       9.0   1990.0   \n",
       "4              5      14.0         8.0     1990.0    15.0       8.0   1990.0   \n",
       "\n",
       "   protesterviolence  participants  \\\n",
       "0                0.0          3000   \n",
       "1                0.0          1000   \n",
       "2                0.0           500   \n",
       "3                1.0           300   \n",
       "4                1.0           950   \n",
       "\n",
       "                                               notes stateresponse  \\\n",
       "0   Canada s railway passenger system was finally...        ignore   \n",
       "1  protestors were only identified as  young peop...        ignore   \n",
       "2   THE Queen, after calling on Canadians to rema...        ignore   \n",
       "3   Canada s federal government has agreed to acq...  accomodation   \n",
       "4  Protests were directed against the state due t...       arrests   \n",
       "\n",
       "   labor wage dispute  land farm issue  police brutality  \\\n",
       "0                   1                0                 0   \n",
       "1                   0                0                 0   \n",
       "2                   0                0                 0   \n",
       "3                   0                1                 0   \n",
       "4                   0                0                 0   \n",
       "\n",
       "   political behavior, process  price increases, tax policy  \\\n",
       "0                            1                            0   \n",
       "1                            1                            0   \n",
       "2                            1                            0   \n",
       "3                            0                            0   \n",
       "4                            1                            0   \n",
       "\n",
       "   removal of politician  social restrictions       startdate         enddate  \\\n",
       "0                      0                    0  19900115000000  19900115000000   \n",
       "1                      0                    0  19900625000000  19900625000000   \n",
       "2                      0                    0  19900701000000  19900701000000   \n",
       "3                      0                    0  19900712000000  19900906000000   \n",
       "4                      0                    0  19900814000000  19900815000000   \n",
       "\n",
       "   duration  country_Albania  country_Algeria  country_Angola  \\\n",
       "0         0                0                0               0   \n",
       "1         0                0                0               0   \n",
       "2         0                0                0               0   \n",
       "3        56                0                0               0   \n",
       "4         1                0                0               0   \n",
       "\n",
       "   country_Argentina  country_Armenia  country_Austria  country_Azerbaijan  \\\n",
       "0                  0                0                0                   0   \n",
       "1                  0                0                0                   0   \n",
       "2                  0                0                0                   0   \n",
       "3                  0                0                0                   0   \n",
       "4                  0                0                0                   0   \n",
       "\n",
       "   country_Bahrain  country_Bangladesh  country_Belarus  country_Belgium  \\\n",
       "0                0                   0                0                0   \n",
       "1                0                   0                0                0   \n",
       "2                0                   0                0                0   \n",
       "3                0                   0                0                0   \n",
       "4                0                   0                0                0   \n",
       "\n",
       "   country_Benin  country_Bhutan  country_Bolivia  country_Bosnia  \\\n",
       "0              0               0                0               0   \n",
       "1              0               0                0               0   \n",
       "2              0               0                0               0   \n",
       "3              0               0                0               0   \n",
       "4              0               0                0               0   \n",
       "\n",
       "   country_Botswana  country_Brazil  country_Bulgaria  country_Burkina Faso  \\\n",
       "0                 0               0                 0                     0   \n",
       "1                 0               0                 0                     0   \n",
       "2                 0               0                 0                     0   \n",
       "3                 0               0                 0                     0   \n",
       "4                 0               0                 0                     0   \n",
       "\n",
       "   country_Burundi  country_Cambodia  country_Cameroon  country_Canada  \\\n",
       "0                0                 0                 0               1   \n",
       "1                0                 0                 0               1   \n",
       "2                0                 0                 0               1   \n",
       "3                0                 0                 0               1   \n",
       "4                0                 0                 0               1   \n",
       "\n",
       "   country_Cape Verde  country_Central African Republic  country_Chad  \\\n",
       "0                   0                                 0             0   \n",
       "1                   0                                 0             0   \n",
       "2                   0                                 0             0   \n",
       "3                   0                                 0             0   \n",
       "4                   0                                 0             0   \n",
       "\n",
       "   country_Chile  country_China  country_Colombia  country_Comoros  \\\n",
       "0              0              0                 0                0   \n",
       "1              0              0                 0                0   \n",
       "2              0              0                 0                0   \n",
       "3              0              0                 0                0   \n",
       "4              0              0                 0                0   \n",
       "\n",
       "   country_Congo Brazzaville  country_Congo Kinshasa  country_Costa Rica  \\\n",
       "0                          0                       0                   0   \n",
       "1                          0                       0                   0   \n",
       "2                          0                       0                   0   \n",
       "3                          0                       0                   0   \n",
       "4                          0                       0                   0   \n",
       "\n",
       "   country_Croatia  country_Cuba  country_Cyprus  country_Czech Republic  \\\n",
       "0                0             0               0                       0   \n",
       "1                0             0               0                       0   \n",
       "2                0             0               0                       0   \n",
       "3                0             0               0                       0   \n",
       "4                0             0               0                       0   \n",
       "\n",
       "   country_Czechoslovakia  country_Denmark  country_Djibouti  \\\n",
       "0                       0                0                 0   \n",
       "1                       0                0                 0   \n",
       "2                       0                0                 0   \n",
       "3                       0                0                 0   \n",
       "4                       0                0                 0   \n",
       "\n",
       "   country_Dominican Republic  country_Ecuador  country_Egypt  \\\n",
       "0                           0                0              0   \n",
       "1                           0                0              0   \n",
       "2                           0                0              0   \n",
       "3                           0                0              0   \n",
       "4                           0                0              0   \n",
       "\n",
       "   country_El Salvador  country_Equatorial Guinea  country_Eritrea  \\\n",
       "0                    0                          0                0   \n",
       "1                    0                          0                0   \n",
       "2                    0                          0                0   \n",
       "3                    0                          0                0   \n",
       "4                    0                          0                0   \n",
       "\n",
       "   country_Estonia  country_Ethiopia  country_Finland  country_France  \\\n",
       "0                0                 0                0               0   \n",
       "1                0                 0                0               0   \n",
       "2                0                 0                0               0   \n",
       "3                0                 0                0               0   \n",
       "4                0                 0                0               0   \n",
       "\n",
       "   country_Gabon  country_Gambia  country_Georgia  country_Germany  ...  \\\n",
       "0              0               0                0                0  ...   \n",
       "1              0               0                0                0  ...   \n",
       "2              0               0                0                0  ...   \n",
       "3              0               0                0                0  ...   \n",
       "4              0               0                0                0  ...   \n",
       "\n",
       "   country_Serbia and Montenegro  country_Sierra Leone  country_Singapore  \\\n",
       "0                              0                     0                  0   \n",
       "1                              0                     0                  0   \n",
       "2                              0                     0                  0   \n",
       "3                              0                     0                  0   \n",
       "4                              0                     0                  0   \n",
       "\n",
       "   country_Slovak Republic  country_Slovenia  country_Somalia  \\\n",
       "0                        0                 0                0   \n",
       "1                        0                 0                0   \n",
       "2                        0                 0                0   \n",
       "3                        0                 0                0   \n",
       "4                        0                 0                0   \n",
       "\n",
       "   country_South Africa  country_South Korea  country_South Sudan  \\\n",
       "0                     0                    0                    0   \n",
       "1                     0                    0                    0   \n",
       "2                     0                    0                    0   \n",
       "3                     0                    0                    0   \n",
       "4                     0                    0                    0   \n",
       "\n",
       "   country_Spain  country_Sri Lanka  country_Sudan  country_Suriname  \\\n",
       "0              0                  0              0                 0   \n",
       "1              0                  0              0                 0   \n",
       "2              0                  0              0                 0   \n",
       "3              0                  0              0                 0   \n",
       "4              0                  0              0                 0   \n",
       "\n",
       "   country_Swaziland  country_Sweden  country_Switzerland  country_Syria  \\\n",
       "0                  0               0                    0              0   \n",
       "1                  0               0                    0              0   \n",
       "2                  0               0                    0              0   \n",
       "3                  0               0                    0              0   \n",
       "4                  0               0                    0              0   \n",
       "\n",
       "   country_Taiwan  country_Tajikistan  country_Tanzania  country_Thailand  \\\n",
       "0               0                   0                 0                 0   \n",
       "1               0                   0                 0                 0   \n",
       "2               0                   0                 0                 0   \n",
       "3               0                   0                 0                 0   \n",
       "4               0                   0                 0                 0   \n",
       "\n",
       "   country_Timor Leste  country_Togo  country_Tunisia  country_Turkey  \\\n",
       "0                    0             0                0               0   \n",
       "1                    0             0                0               0   \n",
       "2                    0             0                0               0   \n",
       "3                    0             0                0               0   \n",
       "4                    0             0                0               0   \n",
       "\n",
       "   country_Turkmenistan  country_USSR  country_Uganda  country_Ukraine  \\\n",
       "0                     0             0               0                0   \n",
       "1                     0             0               0                0   \n",
       "2                     0             0               0                0   \n",
       "3                     0             0               0                0   \n",
       "4                     0             0               0                0   \n",
       "\n",
       "   country_United Arab Emirate  country_United Kingdom  country_Uruguay  \\\n",
       "0                            0                       0                0   \n",
       "1                            0                       0                0   \n",
       "2                            0                       0                0   \n",
       "3                            0                       0                0   \n",
       "4                            0                       0                0   \n",
       "\n",
       "   country_Uzbekistan  country_Venezuela  country_Vietnam  country_Yemen  \\\n",
       "0                   0                  0                0              0   \n",
       "1                   0                  0                0              0   \n",
       "2                   0                  0                0              0   \n",
       "3                   0                  0                0              0   \n",
       "4                   0                  0                0              0   \n",
       "\n",
       "   country_Yugoslavia  country_Zambia  country_Zimbabwe  year_1991  year_1992  \\\n",
       "0                   0               0                 0          0          0   \n",
       "1                   0               0                 0          0          0   \n",
       "2                   0               0                 0          0          0   \n",
       "3                   0               0                 0          0          0   \n",
       "4                   0               0                 0          0          0   \n",
       "\n",
       "   year_1993  year_1994  year_1995  year_1996  year_1997  year_1998  \\\n",
       "0          0          0          0          0          0          0   \n",
       "1          0          0          0          0          0          0   \n",
       "2          0          0          0          0          0          0   \n",
       "3          0          0          0          0          0          0   \n",
       "4          0          0          0          0          0          0   \n",
       "\n",
       "   year_1999  year_2000  year_2001  year_2002  year_2003  year_2004  \\\n",
       "0          0          0          0          0          0          0   \n",
       "1          0          0          0          0          0          0   \n",
       "2          0          0          0          0          0          0   \n",
       "3          0          0          0          0          0          0   \n",
       "4          0          0          0          0          0          0   \n",
       "\n",
       "   year_2005  year_2006  year_2007  year_2008  year_2009  year_2010  \\\n",
       "0          0          0          0          0          0          0   \n",
       "1          0          0          0          0          0          0   \n",
       "2          0          0          0          0          0          0   \n",
       "3          0          0          0          0          0          0   \n",
       "4          0          0          0          0          0          0   \n",
       "\n",
       "   year_2011  year_2012  year_2013  year_2014  year_2015  year_2016  \\\n",
       "0          0          0          0          0          0          0   \n",
       "1          0          0          0          0          0          0   \n",
       "2          0          0          0          0          0          0   \n",
       "3          0          0          0          0          0          0   \n",
       "4          0          0          0          0          0          0   \n",
       "\n",
       "   year_2017  year_2018  year_2019  region_Asia  region_Central America  \\\n",
       "0          0          0          0            0                       0   \n",
       "1          0          0          0            0                       0   \n",
       "2          0          0          0            0                       0   \n",
       "3          0          0          0            0                       0   \n",
       "4          0          0          0            0                       0   \n",
       "\n",
       "   region_Europe  region_MENA  region_North America  region_Oceania  \\\n",
       "0              0            0                     1               0   \n",
       "1              0            0                     1               0   \n",
       "2              0            0                     1               0   \n",
       "3              0            0                     1               0   \n",
       "4              0            0                     1               0   \n",
       "\n",
       "   region_South America  \n",
       "0                     0  \n",
       "1                     0  \n",
       "2                     0  \n",
       "3                     0  \n",
       "4                     0  \n",
       "\n",
       "[5 rows x 222 columns]"
      ]
     },
     "execution_count": 3,
     "metadata": {},
     "output_type": "execute_result"
    }
   ],
   "source": [
    "df.head()"
   ]
  },
  {
   "cell_type": "markdown",
   "metadata": {},
   "source": [
    "## All features numerical"
   ]
  },
  {
   "cell_type": "code",
   "execution_count": 4,
   "metadata": {},
   "outputs": [],
   "source": [
    "df['stateresponse_violence'] = df['stateresponse'].map({'accomodation': 0, 'ignore': 0, 'crowd dispersal': 0,\n",
    "                                                       'arrests': 1, 'beatings': 1, 'shootings': 1, 'killings': 1})"
   ]
  },
  {
   "cell_type": "code",
   "execution_count": 5,
   "metadata": {},
   "outputs": [],
   "source": [
    "# drop text data\n",
    "df.drop(columns = 'notes', inplace = True)"
   ]
  },
  {
   "cell_type": "code",
   "execution_count": 7,
   "metadata": {
    "scrolled": true
   },
   "outputs": [
    {
     "data": {
      "text/plain": [
       "protestnumber               int64\n",
       "startday                  float64\n",
       "startmonth                float64\n",
       "startyear                 float64\n",
       "endday                    float64\n",
       "                           ...   \n",
       "region_MENA                 int64\n",
       "region_North America        int64\n",
       "region_Oceania              int64\n",
       "region_South America        int64\n",
       "stateresponse_violence      int64\n",
       "Length: 222, dtype: object"
      ]
     },
     "execution_count": 7,
     "metadata": {},
     "output_type": "execute_result"
    }
   ],
   "source": [
    "df.dtypes"
   ]
  },
  {
   "cell_type": "code",
   "execution_count": 6,
   "metadata": {},
   "outputs": [],
   "source": [
    "#Feature engineering\n",
    "df['state_protester_violence'] = df['stateresponse_violence'] * df['protesterviolence']"
   ]
  },
  {
   "cell_type": "code",
   "execution_count": 7,
   "metadata": {
    "scrolled": true
   },
   "outputs": [
    {
     "data": {
      "text/plain": [
       "0.0    12566\n",
       "1.0     1908\n",
       "Name: state_protester_violence, dtype: int64"
      ]
     },
     "execution_count": 7,
     "metadata": {},
     "output_type": "execute_result"
    }
   ],
   "source": [
    "#How many events with violence have it on both sides?\n",
    "df['state_protester_violence'].value_counts()"
   ]
  },
  {
   "cell_type": "code",
   "execution_count": 8,
   "metadata": {},
   "outputs": [
    {
     "data": {
      "text/plain": [
       "0    11215\n",
       "1     3259\n",
       "Name: stateresponse_violence, dtype: int64"
      ]
     },
     "execution_count": 8,
     "metadata": {},
     "output_type": "execute_result"
    }
   ],
   "source": [
    "df['stateresponse_violence'].value_counts()"
   ]
  },
  {
   "cell_type": "code",
   "execution_count": 9,
   "metadata": {},
   "outputs": [
    {
     "data": {
      "text/plain": [
       "0.0    10668\n",
       "1.0     3806\n",
       "Name: protesterviolence, dtype: int64"
      ]
     },
     "execution_count": 9,
     "metadata": {},
     "output_type": "execute_result"
    }
   ],
   "source": [
    "df['protesterviolence'].value_counts()"
   ]
  },
  {
   "cell_type": "code",
   "execution_count": 10,
   "metadata": {},
   "outputs": [
    {
     "data": {
      "text/plain": [
       "5157"
      ]
     },
     "execution_count": 10,
     "metadata": {},
     "output_type": "execute_result"
    }
   ],
   "source": [
    "violent_events = 3806 + 3259 - 1908\n",
    "violent_events"
   ]
  },
  {
   "cell_type": "code",
   "execution_count": 11,
   "metadata": {},
   "outputs": [
    {
     "data": {
      "text/plain": [
       "0.3699825479930192"
      ]
     },
     "execution_count": 11,
     "metadata": {},
     "output_type": "execute_result"
    }
   ],
   "source": [
    "both_violent = 1908 / 5157\n",
    "both_violent"
   ]
  },
  {
   "cell_type": "markdown",
   "metadata": {},
   "source": [
    "### Unique events\n",
    "Protester violence: 1898\n",
    "\n",
    "State Violence: 1351\n",
    "\n",
    "Both violence: 1908\n",
    "\n",
    "no violence: 9317"
   ]
  },
  {
   "cell_type": "markdown",
   "metadata": {},
   "source": [
    "## EDA"
   ]
  },
  {
   "cell_type": "code",
   "execution_count": 12,
   "metadata": {},
   "outputs": [],
   "source": [
    "clean = pd.read_csv('../data/clean_data.csv')"
   ]
  },
  {
   "cell_type": "code",
   "execution_count": 13,
   "metadata": {},
   "outputs": [],
   "source": [
    "clean['stateresponse_violence'] = clean['stateresponse'].map({'accomodation': 0, 'ignore': 0, 'crowd dispersal': 0,\n",
    "                                                       'arrests': 1, 'beatings': 1, 'shootings': 1, 'killings': 1})"
   ]
  },
  {
   "cell_type": "code",
   "execution_count": 14,
   "metadata": {},
   "outputs": [],
   "source": [
    "clean['state_protester_violence'] = clean['stateresponse_violence'] * clean['protesterviolence']"
   ]
  },
  {
   "cell_type": "code",
   "execution_count": 15,
   "metadata": {},
   "outputs": [],
   "source": [
    "both = clean[clean['state_protester_violence'] == 1]"
   ]
  },
  {
   "cell_type": "code",
   "execution_count": 16,
   "metadata": {},
   "outputs": [],
   "source": [
    "protester = clean[clean['protesterviolence'] == 1]"
   ]
  },
  {
   "cell_type": "code",
   "execution_count": 17,
   "metadata": {},
   "outputs": [],
   "source": [
    "state = clean[clean['stateresponse_violence'] == 1]"
   ]
  },
  {
   "cell_type": "code",
   "execution_count": 22,
   "metadata": {},
   "outputs": [],
   "source": [
    "bangladesh = clean[clean['country'] == 'Bangladesh']"
   ]
  },
  {
   "cell_type": "code",
   "execution_count": 18,
   "metadata": {
    "scrolled": true
   },
   "outputs": [
    {
     "data": {
      "text/html": [
       "<div>\n",
       "<style scoped>\n",
       "    .dataframe tbody tr th:only-of-type {\n",
       "        vertical-align: middle;\n",
       "    }\n",
       "\n",
       "    .dataframe tbody tr th {\n",
       "        vertical-align: top;\n",
       "    }\n",
       "\n",
       "    .dataframe thead th {\n",
       "        text-align: right;\n",
       "    }\n",
       "</style>\n",
       "<table border=\"1\" class=\"dataframe\">\n",
       "  <thead>\n",
       "    <tr style=\"text-align: right;\">\n",
       "      <th></th>\n",
       "      <th>country</th>\n",
       "      <th>year</th>\n",
       "      <th>region</th>\n",
       "      <th>protestnumber</th>\n",
       "      <th>startday</th>\n",
       "      <th>startmonth</th>\n",
       "      <th>startyear</th>\n",
       "      <th>endday</th>\n",
       "      <th>endmonth</th>\n",
       "      <th>endyear</th>\n",
       "      <th>protesterviolence</th>\n",
       "      <th>participants</th>\n",
       "      <th>notes</th>\n",
       "      <th>stateresponse</th>\n",
       "      <th>labor wage dispute</th>\n",
       "      <th>land farm issue</th>\n",
       "      <th>police brutality</th>\n",
       "      <th>political behavior, process</th>\n",
       "      <th>price increases, tax policy</th>\n",
       "      <th>removal of politician</th>\n",
       "      <th>social restrictions</th>\n",
       "      <th>startdate</th>\n",
       "      <th>enddate</th>\n",
       "      <th>duration</th>\n",
       "      <th>stateresponse_violence</th>\n",
       "      <th>state_protester_violence</th>\n",
       "    </tr>\n",
       "  </thead>\n",
       "  <tbody>\n",
       "    <tr>\n",
       "      <th>4</th>\n",
       "      <td>Canada</td>\n",
       "      <td>1990</td>\n",
       "      <td>North America</td>\n",
       "      <td>5</td>\n",
       "      <td>14.0</td>\n",
       "      <td>8.0</td>\n",
       "      <td>1990.0</td>\n",
       "      <td>15.0</td>\n",
       "      <td>8.0</td>\n",
       "      <td>1990.0</td>\n",
       "      <td>1.0</td>\n",
       "      <td>950</td>\n",
       "      <td>Protests were directed against the state due t...</td>\n",
       "      <td>arrests</td>\n",
       "      <td>0</td>\n",
       "      <td>0</td>\n",
       "      <td>0</td>\n",
       "      <td>1</td>\n",
       "      <td>0</td>\n",
       "      <td>0</td>\n",
       "      <td>0</td>\n",
       "      <td>1990-08-14</td>\n",
       "      <td>1990-08-15</td>\n",
       "      <td>1 days 00:00:00.000000000</td>\n",
       "      <td>1</td>\n",
       "      <td>1.0</td>\n",
       "    </tr>\n",
       "    <tr>\n",
       "      <th>8</th>\n",
       "      <td>Canada</td>\n",
       "      <td>1992</td>\n",
       "      <td>North America</td>\n",
       "      <td>1</td>\n",
       "      <td>4.0</td>\n",
       "      <td>5.0</td>\n",
       "      <td>1992.0</td>\n",
       "      <td>5.0</td>\n",
       "      <td>5.0</td>\n",
       "      <td>1992.0</td>\n",
       "      <td>1.0</td>\n",
       "      <td>1000</td>\n",
       "      <td>Rioting was in response to the killing of a bl...</td>\n",
       "      <td>arrests</td>\n",
       "      <td>0</td>\n",
       "      <td>0</td>\n",
       "      <td>1</td>\n",
       "      <td>0</td>\n",
       "      <td>0</td>\n",
       "      <td>0</td>\n",
       "      <td>0</td>\n",
       "      <td>1992-05-04</td>\n",
       "      <td>1992-05-05</td>\n",
       "      <td>1 days 00:00:00.000000000</td>\n",
       "      <td>1</td>\n",
       "      <td>1.0</td>\n",
       "    </tr>\n",
       "    <tr>\n",
       "      <th>14</th>\n",
       "      <td>Canada</td>\n",
       "      <td>1995</td>\n",
       "      <td>North America</td>\n",
       "      <td>2</td>\n",
       "      <td>8.0</td>\n",
       "      <td>9.0</td>\n",
       "      <td>1995.0</td>\n",
       "      <td>8.0</td>\n",
       "      <td>9.0</td>\n",
       "      <td>1995.0</td>\n",
       "      <td>1.0</td>\n",
       "      <td>300</td>\n",
       "      <td>Ontario provincial police fatally shot an Ind...</td>\n",
       "      <td>killings</td>\n",
       "      <td>0</td>\n",
       "      <td>1</td>\n",
       "      <td>0</td>\n",
       "      <td>0</td>\n",
       "      <td>0</td>\n",
       "      <td>0</td>\n",
       "      <td>0</td>\n",
       "      <td>1995-09-08</td>\n",
       "      <td>1995-09-08</td>\n",
       "      <td>0 days 00:00:00.000000000</td>\n",
       "      <td>1</td>\n",
       "      <td>1.0</td>\n",
       "    </tr>\n",
       "    <tr>\n",
       "      <th>21</th>\n",
       "      <td>Canada</td>\n",
       "      <td>2000</td>\n",
       "      <td>North America</td>\n",
       "      <td>4</td>\n",
       "      <td>16.0</td>\n",
       "      <td>6.0</td>\n",
       "      <td>2000.0</td>\n",
       "      <td>16.0</td>\n",
       "      <td>6.0</td>\n",
       "      <td>2000.0</td>\n",
       "      <td>1.0</td>\n",
       "      <td>50</td>\n",
       "      <td>Anti poverty protesters fought with the polic...</td>\n",
       "      <td>arrests</td>\n",
       "      <td>0</td>\n",
       "      <td>0</td>\n",
       "      <td>0</td>\n",
       "      <td>1</td>\n",
       "      <td>0</td>\n",
       "      <td>0</td>\n",
       "      <td>0</td>\n",
       "      <td>2000-06-16</td>\n",
       "      <td>2000-06-16</td>\n",
       "      <td>0 days 00:00:00.000000000</td>\n",
       "      <td>1</td>\n",
       "      <td>1.0</td>\n",
       "    </tr>\n",
       "    <tr>\n",
       "      <th>23</th>\n",
       "      <td>Canada</td>\n",
       "      <td>2005</td>\n",
       "      <td>North America</td>\n",
       "      <td>1</td>\n",
       "      <td>3.0</td>\n",
       "      <td>3.0</td>\n",
       "      <td>2005.0</td>\n",
       "      <td>3.0</td>\n",
       "      <td>4.0</td>\n",
       "      <td>2005.0</td>\n",
       "      <td>1.0</td>\n",
       "      <td>170000</td>\n",
       "      <td>The scene on fashionable Rue St. Denis looked...</td>\n",
       "      <td>arrests</td>\n",
       "      <td>0</td>\n",
       "      <td>0</td>\n",
       "      <td>0</td>\n",
       "      <td>1</td>\n",
       "      <td>0</td>\n",
       "      <td>0</td>\n",
       "      <td>0</td>\n",
       "      <td>2005-03-03</td>\n",
       "      <td>2005-04-03</td>\n",
       "      <td>31 days 00:00:00.000000000</td>\n",
       "      <td>1</td>\n",
       "      <td>1.0</td>\n",
       "    </tr>\n",
       "  </tbody>\n",
       "</table>\n",
       "</div>"
      ],
      "text/plain": [
       "   country  year         region  protestnumber  startday  startmonth  \\\n",
       "4   Canada  1990  North America              5      14.0         8.0   \n",
       "8   Canada  1992  North America              1       4.0         5.0   \n",
       "14  Canada  1995  North America              2       8.0         9.0   \n",
       "21  Canada  2000  North America              4      16.0         6.0   \n",
       "23  Canada  2005  North America              1       3.0         3.0   \n",
       "\n",
       "    startyear  endday  endmonth  endyear  protesterviolence  participants  \\\n",
       "4      1990.0    15.0       8.0   1990.0                1.0           950   \n",
       "8      1992.0     5.0       5.0   1992.0                1.0          1000   \n",
       "14     1995.0     8.0       9.0   1995.0                1.0           300   \n",
       "21     2000.0    16.0       6.0   2000.0                1.0            50   \n",
       "23     2005.0     3.0       4.0   2005.0                1.0        170000   \n",
       "\n",
       "                                                notes stateresponse  \\\n",
       "4   Protests were directed against the state due t...       arrests   \n",
       "8   Rioting was in response to the killing of a bl...       arrests   \n",
       "14   Ontario provincial police fatally shot an Ind...      killings   \n",
       "21   Anti poverty protesters fought with the polic...       arrests   \n",
       "23   The scene on fashionable Rue St. Denis looked...       arrests   \n",
       "\n",
       "    labor wage dispute  land farm issue  police brutality  \\\n",
       "4                    0                0                 0   \n",
       "8                    0                0                 1   \n",
       "14                   0                1                 0   \n",
       "21                   0                0                 0   \n",
       "23                   0                0                 0   \n",
       "\n",
       "    political behavior, process  price increases, tax policy  \\\n",
       "4                             1                            0   \n",
       "8                             0                            0   \n",
       "14                            0                            0   \n",
       "21                            1                            0   \n",
       "23                            1                            0   \n",
       "\n",
       "    removal of politician  social restrictions   startdate     enddate  \\\n",
       "4                       0                    0  1990-08-14  1990-08-15   \n",
       "8                       0                    0  1992-05-04  1992-05-05   \n",
       "14                      0                    0  1995-09-08  1995-09-08   \n",
       "21                      0                    0  2000-06-16  2000-06-16   \n",
       "23                      0                    0  2005-03-03  2005-04-03   \n",
       "\n",
       "                      duration  stateresponse_violence  \\\n",
       "4    1 days 00:00:00.000000000                       1   \n",
       "8    1 days 00:00:00.000000000                       1   \n",
       "14   0 days 00:00:00.000000000                       1   \n",
       "21   0 days 00:00:00.000000000                       1   \n",
       "23  31 days 00:00:00.000000000                       1   \n",
       "\n",
       "    state_protester_violence  \n",
       "4                        1.0  \n",
       "8                        1.0  \n",
       "14                       1.0  \n",
       "21                       1.0  \n",
       "23                       1.0  "
      ]
     },
     "execution_count": 18,
     "metadata": {},
     "output_type": "execute_result"
    }
   ],
   "source": [
    "both.head()"
   ]
  },
  {
   "cell_type": "code",
   "execution_count": 21,
   "metadata": {
    "scrolled": true
   },
   "outputs": [
    {
     "data": {
      "image/png": "[encoded data removed]",
      "text/plain": [
       "<Figure size 360x576 with 1 Axes>"
      ]
     },
     "metadata": {
      "needs_background": "light"
     },
     "output_type": "display_data"
    }
   ],
   "source": [
    "both['country'].value_counts().head(10).plot(kind='bar',figsize=(5 , 8),\n",
    "                                           title='Top 10 countries with violence on both sides', \n",
    "                                            color='orangered')\n",
    "plt.xticks(rotation=60);\n",
    "\n",
    "#Bangladesh is 7th in protest amount, but 1st in violence on both sides"
   ]
  },
  {
   "cell_type": "code",
   "execution_count": 25,
   "metadata": {},
   "outputs": [
    {
     "data": {
      "text/plain": [
       "0    0.580357\n",
       "1    0.419643\n",
       "Name: stateresponse_violence, dtype: float64"
      ]
     },
     "execution_count": 25,
     "metadata": {},
     "output_type": "execute_result"
    }
   ],
   "source": [
    "bangladesh['stateresponse_violence'].value_counts(normalize=True)"
   ]
  },
  {
   "cell_type": "code",
   "execution_count": 30,
   "metadata": {},
   "outputs": [
    {
     "data": {
      "image/png": "[encoded data removed]",
      "text/plain": [
       "<Figure size 2160x360 with 1 Axes>"
      ]
     },
     "metadata": {
      "needs_background": "light"
     },
     "output_type": "display_data"
    }
   ],
   "source": [
    "protester['country'].value_counts().head(-5).plot(kind='bar',figsize=(30 , 5),\n",
    "                                           title='Top 10 countries with protester violence');"
   ]
  },
  {
   "cell_type": "code",
   "execution_count": 23,
   "metadata": {},
   "outputs": [
    {
     "data": {
      "image/png": "[encoded data removed]",
      "text/plain": [
       "<Figure size 720x360 with 1 Axes>"
      ]
     },
     "metadata": {
      "needs_background": "light"
     },
     "output_type": "display_data"
    }
   ],
   "source": [
    "state['country'].value_counts().head(10).plot(kind='bar',figsize=(10 , 5),\n",
    "                                           title='Top 10 countries with state violence');"
   ]
  },
  {
   "cell_type": "code",
   "execution_count": 24,
   "metadata": {
    "scrolled": true
   },
   "outputs": [
    {
     "data": {
      "text/plain": [
       "Bangladesh             0.053459\n",
       "South Korea            0.046122\n",
       "France                 0.037736\n",
       "United Kingdom         0.031971\n",
       "India                  0.029874\n",
       "                         ...   \n",
       "Rwanda                 0.000524\n",
       "Slovenia               0.000524\n",
       "Germany West           0.000524\n",
       "Slovak Republic        0.000524\n",
       "United Arab Emirate    0.000524\n",
       "Name: country, Length: 151, dtype: float64"
      ]
     },
     "execution_count": 24,
     "metadata": {},
     "output_type": "execute_result"
    }
   ],
   "source": [
    "both['country'].value_counts(normalize = True)"
   ]
  },
  {
   "cell_type": "code",
   "execution_count": 25,
   "metadata": {
    "scrolled": false
   },
   "outputs": [
    {
     "data": {
      "image/png": "[encoded data removed]",
      "text/plain": [
       "<Figure size 720x360 with 1 Axes>"
      ]
     },
     "metadata": {
      "needs_background": "light"
     },
     "output_type": "display_data"
    }
   ],
   "source": [
    "both['region'].value_counts().head(10).plot(kind='bar',figsize=(10 , 5),\n",
    "                                           title='Regions with violence on both sides');"
   ]
  },
  {
   "cell_type": "code",
   "execution_count": 26,
   "metadata": {},
   "outputs": [
    {
     "data": {
      "image/png": "[encoded data removed]",
      "text/plain": [
       "<Figure size 720x360 with 1 Axes>"
      ]
     },
     "metadata": {
      "needs_background": "light"
     },
     "output_type": "display_data"
    }
   ],
   "source": [
    "protester['region'].value_counts().head(10).plot(kind='bar',figsize=(10 , 5),\n",
    "                                           title='Regions with protester violence');"
   ]
  },
  {
   "cell_type": "code",
   "execution_count": 27,
   "metadata": {},
   "outputs": [
    {
     "data": {
      "text/plain": [
       "<matplotlib.axes._subplots.AxesSubplot at 0x7fb6d36fa1c0>"
      ]
     },
     "execution_count": 27,
     "metadata": {},
     "output_type": "execute_result"
    },
    {
     "data": {
      "image/png": "[encoded data removed]",
      "text/plain": [
       "<Figure size 720x360 with 1 Axes>"
      ]
     },
     "metadata": {
      "needs_background": "light"
     },
     "output_type": "display_data"
    }
   ],
   "source": [
    "state['region'].value_counts().head(10).plot(kind='bar',figsize=(10 , 5),\n",
    "                                           title='Regions with state violence')"
   ]
  },
  {
   "cell_type": "code",
   "execution_count": 43,
   "metadata": {
    "scrolled": true
   },
   "outputs": [
    {
     "data": {
      "text/plain": [
       "Africa             0.300839\n",
       "Asia               0.246855\n",
       "Europe             0.203878\n",
       "MENA               0.103774\n",
       "South America      0.073899\n",
       "Central America    0.035639\n",
       "North America      0.033019\n",
       "Oceania            0.002096\n",
       "Name: region, dtype: float64"
      ]
     },
     "execution_count": 43,
     "metadata": {},
     "output_type": "execute_result"
    }
   ],
   "source": [
    "both['region'].value_counts(normalize = True)"
   ]
  },
  {
   "cell_type": "code",
   "execution_count": 66,
   "metadata": {},
   "outputs": [
    {
     "data": {
      "text/plain": [
       "(336, 26)"
      ]
     },
     "execution_count": 66,
     "metadata": {},
     "output_type": "execute_result"
    }
   ],
   "source": [
    "bangladesh.shape"
   ]
  },
  {
   "cell_type": "code",
   "execution_count": 67,
   "metadata": {},
   "outputs": [
    {
     "data": {
      "text/plain": [
       "0.0    0.696429\n",
       "1.0    0.303571\n",
       "Name: state_protester_violence, dtype: float64"
      ]
     },
     "execution_count": 67,
     "metadata": {},
     "output_type": "execute_result"
    }
   ],
   "source": [
    "bangladesh['state_protester_violence'].value_counts(normalize=True)"
   ]
  },
  {
   "cell_type": "code",
   "execution_count": 68,
   "metadata": {},
   "outputs": [
    {
     "data": {
      "text/plain": [
       "0.0    0.502976\n",
       "1.0    0.497024\n",
       "Name: protesterviolence, dtype: float64"
      ]
     },
     "execution_count": 68,
     "metadata": {},
     "output_type": "execute_result"
    }
   ],
   "source": [
    "bangladesh['protesterviolence'].value_counts(normalize=True)"
   ]
  },
  {
   "cell_type": "code",
   "execution_count": 69,
   "metadata": {
    "scrolled": true
   },
   "outputs": [
    {
     "data": {
      "text/plain": [
       "0    0.580357\n",
       "1    0.419643\n",
       "Name: stateresponse_violence, dtype: float64"
      ]
     },
     "execution_count": 69,
     "metadata": {},
     "output_type": "execute_result"
    }
   ],
   "source": [
    "bangladesh['stateresponse_violence'].value_counts(normalize=True)"
   ]
  },
  {
   "cell_type": "code",
   "execution_count": 70,
   "metadata": {},
   "outputs": [],
   "source": [
    "africa = clean[clean['region'] == 'Africa']"
   ]
  },
  {
   "cell_type": "code",
   "execution_count": 71,
   "metadata": {},
   "outputs": [
    {
     "data": {
      "image/png": "[encoded data removed]",
      "text/plain": [
       "<Figure size 1080x360 with 1 Axes>"
      ]
     },
     "metadata": {
      "needs_background": "light"
     },
     "output_type": "display_data"
    }
   ],
   "source": [
    "africa['country'].value_counts().head(10).plot(kind='bar',figsize=(15 , 5),\n",
    "                                           title='protests in africa by country');"
   ]
  },
  {
   "cell_type": "markdown",
   "metadata": {},
   "source": [
    "### Correlation"
   ]
  },
  {
   "cell_type": "code",
   "execution_count": 8,
   "metadata": {},
   "outputs": [
    {
     "data": {
      "text/plain": [
       "0.39489971130397167"
      ]
     },
     "execution_count": 8,
     "metadata": {},
     "output_type": "execute_result"
    }
   ],
   "source": [
    "df['protesterviolence'].corr(df['stateresponse_violence'])"
   ]
  },
  {
   "cell_type": "code",
   "execution_count": 9,
   "metadata": {},
   "outputs": [
    {
     "data": {
      "text/plain": [
       "0.04893968495489126"
      ]
     },
     "execution_count": 9,
     "metadata": {},
     "output_type": "execute_result"
    }
   ],
   "source": [
    "df['duration'].corr(df['stateresponse_violence'])"
   ]
  },
  {
   "cell_type": "code",
   "execution_count": 10,
   "metadata": {},
   "outputs": [
    {
     "data": {
      "text/plain": [
       "0.0343713593442654"
      ]
     },
     "execution_count": 10,
     "metadata": {},
     "output_type": "execute_result"
    }
   ],
   "source": [
    "df['protesterviolence'].corr(df['duration'])"
   ]
  },
  {
   "cell_type": "code",
   "execution_count": 11,
   "metadata": {},
   "outputs": [
    {
     "data": {
      "text/plain": [
       "-0.016404154625459192"
      ]
     },
     "execution_count": 11,
     "metadata": {},
     "output_type": "execute_result"
    }
   ],
   "source": [
    "df['participants'].corr(df['stateresponse_violence'])"
   ]
  },
  {
   "cell_type": "code",
   "execution_count": 12,
   "metadata": {},
   "outputs": [
    {
     "data": {
      "text/plain": [
       "-0.02129688948425648"
      ]
     },
     "execution_count": 12,
     "metadata": {},
     "output_type": "execute_result"
    }
   ],
   "source": [
    "df['participants'].corr(df['protesterviolence'])"
   ]
  },
  {
   "cell_type": "markdown",
   "metadata": {},
   "source": [
    "## State Response as target"
   ]
  },
  {
   "cell_type": "code",
   "execution_count": 24,
   "metadata": {},
   "outputs": [
    {
     "data": {
      "text/plain": [
       "0    0.774838\n",
       "1    0.225162\n",
       "Name: stateresponse_violence, dtype: float64"
      ]
     },
     "execution_count": 24,
     "metadata": {},
     "output_type": "execute_result"
    }
   ],
   "source": [
    "#baseline accuracy\n",
    "df['stateresponse_violence'].value_counts(normalize = True)"
   ]
  },
  {
   "cell_type": "code",
   "execution_count": 25,
   "metadata": {},
   "outputs": [],
   "source": [
    "# Define X and y variables\n",
    "sr_X = df._get_numeric_data().drop(columns = 'stateresponse_violence')\n",
    "sr_y = df['stateresponse_violence']"
   ]
  },
  {
   "cell_type": "code",
   "execution_count": 26,
   "metadata": {},
   "outputs": [],
   "source": [
    "#Train Test Split\n",
    "X_train, X_test, y_train, y_test = train_test_split(sr_X, sr_y,\n",
    "                                                   random_state=42)"
   ]
  },
  {
   "cell_type": "code",
   "execution_count": 27,
   "metadata": {},
   "outputs": [],
   "source": [
    "# Scale\n",
    "ss = StandardScaler()\n",
    "X_train_sc = ss.fit_transform(X_train)\n",
    "X_test_sc = ss.transform(X_test)"
   ]
  },
  {
   "cell_type": "markdown",
   "metadata": {},
   "source": [
    "### Ada Boost"
   ]
  },
  {
   "cell_type": "code",
   "execution_count": 19,
   "metadata": {
    "scrolled": true
   },
   "outputs": [
    {
     "data": {
      "text/plain": [
       "AdaBoostClassifier()"
      ]
     },
     "execution_count": 19,
     "metadata": {},
     "output_type": "execute_result"
    }
   ],
   "source": [
    "ada = AdaBoostClassifier()\n",
    "ada.fit(X_train_sc, y_train)"
   ]
  },
  {
   "cell_type": "code",
   "execution_count": 20,
   "metadata": {},
   "outputs": [
    {
     "name": "stdout",
     "output_type": "stream",
     "text": [
      "Train score:  0.804606172270843\n",
      "Test score:  0.7952473058856038\n"
     ]
    }
   ],
   "source": [
    "print('Train score: ', ada.score(X_train_sc, y_train))\n",
    "print('Test score: ', ada.score(X_test_sc, y_test))"
   ]
  },
  {
   "cell_type": "code",
   "execution_count": 23,
   "metadata": {},
   "outputs": [
    {
     "name": "stdout",
     "output_type": "stream",
     "text": [
      "GridSearchCV score  0.805803398631171\n"
     ]
    },
    {
     "data": {
      "text/plain": [
       "{'base_estimator__max_depth': 2, 'learning_rate': 0.8, 'n_estimators': 65}"
      ]
     },
     "execution_count": 23,
     "metadata": {},
     "output_type": "execute_result"
    }
   ],
   "source": [
    "#Grid search\n",
    "ada = AdaBoostClassifier(base_estimator = DecisionTreeClassifier())\n",
    "\n",
    "ada_params = {\n",
    "    'n_estimators': [60, 65, 75,\n",
    "    'learning_rate': [.9, .8],\n",
    "    'base_estimator__max_depth': [2, 3, 4]\n",
    "}\n",
    "\n",
    "gs = GridSearchCV(ada, param_grid=ada_params, cv=4)\n",
    "gs.fit(X_train_sc, y_train)\n",
    "print('GridSearchCV score ', gs.best_score_)\n",
    "gs.best_params_"
   ]
  },
  {
   "cell_type": "code",
   "execution_count": null,
   "metadata": {},
   "outputs": [],
   "source": [
    "#{'base_estimator__max_depth': 2, 'learning_rate': 0.9, 'n_estimators': 50}\n",
    "#.804\n",
    "\n",
    "#{'base_estimator__max_depth': 2, 'learning_rate': 0.8, 'n_estimators': 65} CV=4\n",
    "#.806\n"
   ]
  },
  {
   "cell_type": "code",
   "execution_count": 24,
   "metadata": {},
   "outputs": [
    {
     "name": "stdout",
     "output_type": "stream",
     "text": [
      "Train score:  0.8268079226163059\n",
      "Test score:  0.804642166344294\n"
     ]
    }
   ],
   "source": [
    "print('Train score: ', gs.score(X_train_sc, y_train))\n",
    "print('Test score: ', gs.score(X_test_sc, y_test))"
   ]
  },
  {
   "cell_type": "markdown",
   "metadata": {},
   "source": [
    "## Protester Violence as target"
   ]
  },
  {
   "cell_type": "markdown",
   "metadata": {},
   "source": [
    "### Ada Boost"
   ]
  },
  {
   "cell_type": "code",
   "execution_count": 8,
   "metadata": {},
   "outputs": [
    {
     "data": {
      "text/plain": [
       "0.0    0.737046\n",
       "1.0    0.262954\n",
       "Name: protesterviolence, dtype: float64"
      ]
     },
     "execution_count": 8,
     "metadata": {},
     "output_type": "execute_result"
    }
   ],
   "source": [
    "#Base accuracy\n",
    "df['protesterviolence'].value_counts(normalize = True)"
   ]
  },
  {
   "cell_type": "code",
   "execution_count": 9,
   "metadata": {},
   "outputs": [],
   "source": [
    "pv_X = df._get_numeric_data().drop(columns = 'protesterviolence')\n",
    "pv_y = df['protesterviolence']"
   ]
  },
  {
   "cell_type": "code",
   "execution_count": 10,
   "metadata": {},
   "outputs": [],
   "source": [
    "#Train Test Split\n",
    "X_train, X_test, y_train, y_test = train_test_split(pv_X, pv_y,\n",
    "                                                   random_state=42)"
   ]
  },
  {
   "cell_type": "code",
   "execution_count": 11,
   "metadata": {},
   "outputs": [],
   "source": [
    "ss = StandardScaler()\n",
    "X_train_sc = ss.fit_transform(X_train)\n",
    "X_test_sc = ss.transform(X_test)"
   ]
  },
  {
   "cell_type": "code",
   "execution_count": 12,
   "metadata": {},
   "outputs": [
    {
     "data": {
      "text/plain": [
       "AdaBoostClassifier()"
      ]
     },
     "execution_count": 12,
     "metadata": {},
     "output_type": "execute_result"
    }
   ],
   "source": [
    "ada = AdaBoostClassifier()\n",
    "ada.fit(X_train_sc, y_train)"
   ]
  },
  {
   "cell_type": "code",
   "execution_count": 13,
   "metadata": {},
   "outputs": [
    {
     "name": "stdout",
     "output_type": "stream",
     "text": [
      "Train score:  0.8736066328880701\n",
      "Test score:  0.8632218844984803\n"
     ]
    }
   ],
   "source": [
    "print('Train score: ', ada.score(X_train_sc, y_train))\n",
    "print('Test score: ', ada.score(X_test_sc, y_test))"
   ]
  },
  {
   "cell_type": "code",
   "execution_count": 14,
   "metadata": {},
   "outputs": [
    {
     "name": "stdout",
     "output_type": "stream",
     "text": [
      "GridSearchCV score  0.8716715704103255\n"
     ]
    },
    {
     "data": {
      "text/plain": [
       "{'base_estimator__max_depth': 1, 'learning_rate': 0.7, 'n_estimators': 100}"
      ]
     },
     "execution_count": 14,
     "metadata": {},
     "output_type": "execute_result"
    }
   ],
   "source": [
    "#Grid search\n",
    "ada = AdaBoostClassifier(base_estimator = DecisionTreeClassifier())\n",
    "\n",
    "ada_params = {\n",
    "    'n_estimators': [120 , 90, 100],\n",
    "    'learning_rate': [.7, .6, .5],\n",
    "    'base_estimator__max_depth': [1, 2, 3]\n",
    "}\n",
    "\n",
    "gs = GridSearchCV(ada, param_grid=ada_params, cv=4)\n",
    "gs.fit(X_train_sc, y_train)\n",
    "print('GridSearchCV score ', gs.best_score_)\n",
    "gs.best_params_"
   ]
  },
  {
   "cell_type": "code",
   "execution_count": 15,
   "metadata": {},
   "outputs": [
    {
     "name": "stdout",
     "output_type": "stream",
     "text": [
      "Train score:  0.8737908797789037\n",
      "Test score:  0.8651561204752695\n"
     ]
    }
   ],
   "source": [
    "print('Train score: ', gs.score(X_train_sc, y_train))\n",
    "print('Test score: ', gs.score(X_test_sc, y_test))"
   ]
  },
  {
   "cell_type": "code",
   "execution_count": null,
   "metadata": {},
   "outputs": [],
   "source": []
  }
 ],
 "metadata": {
  "kernelspec": {
   "display_name": "Python 3",
   "language": "python",
   "name": "python3"
  },
  "language_info": {
   "codemirror_mode": {
    "name": "ipython",
    "version": 3
   },
   "file_extension": ".py",
   "mimetype": "text/x-python",
   "name": "python",
   "nbconvert_exporter": "python",
   "pygments_lexer": "ipython3",
   "version": "3.8.3"
  }
 },
 "nbformat": 4,
 "nbformat_minor": 4
}
